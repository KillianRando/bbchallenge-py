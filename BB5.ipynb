{
 "cells": [
  {
   "cell_type": "code",
   "execution_count": 4,
   "id": "known-national",
   "metadata": {},
   "outputs": [],
   "source": [
    "import os\n",
    "import random\n",
    "from PIL import Image\n",
    "from tabulate import tabulate"
   ]
  },
  {
   "cell_type": "code",
   "execution_count": 5,
   "id": "pursuant-possibility",
   "metadata": {},
   "outputs": [],
   "source": [
    "import tqdm"
   ]
  },
  {
   "cell_type": "markdown",
   "id": "preliminary-silence",
   "metadata": {},
   "source": [
    "# Reading the database\n",
    "\n",
    "You can download the database here:\n",
    "\n",
    "- [https://dna.hamilton.ie/tsterin/all_5_states_undecided_machines_with_global_header.zip](https://dna.hamilton.ie/tsterin/all_5_states_undecided_machines_with_global_header.zip)\n",
    "- [ipfs://QmcgucgLRjAQAjU41w6HR7GJbcte3F14gv9oXcf8uZ8aFM](ipfs://QmcgucgLRjAQAjU41w6HR7GJbcte3F14gv9oXcf8uZ8aFM)\n",
    "- [https://ipfs.prgm.dev/ipfs/QmcgucgLRjAQAjU41w6HR7GJbcte3F14gv9oXcf8uZ8aFM](https://ipfs.prgm.dev/ipfs/QmcgucgLRjAQAjU41w6HR7GJbcte3F14gv9oXcf8uZ8aFM)\n",
    "\n",
    "Shasum (.zip): `2576b647185063db2aa3dc2f5622908e99f3cd40` "
   ]
  },
  {
   "cell_type": "code",
   "execution_count": 6,
   "id": "intellectual-daisy",
   "metadata": {},
   "outputs": [],
   "source": [
    "DB_PATH = \"all_5_states_undecided_machines_with_global_header\""
   ]
  },
  {
   "cell_type": "markdown",
   "id": "fatty-billy",
   "metadata": {},
   "source": [
    "## Database header\n",
    "The first 30 bytes of the database are reserved for a header which currently contains **three** 4-byte int: \n",
    "1. The number of machines that are undecided because they went beyond the time limit (`47,176,870` steps)\n",
    "2. The number of machines that are undecided because they went beyond the space limit (`12,289` memory cells)\n",
    "3. The total number of undecided machines (sum of above)"
   ]
  },
  {
   "cell_type": "code",
   "execution_count": 7,
   "id": "agreed-toronto",
   "metadata": {},
   "outputs": [],
   "source": [
    "def get_header(machine_db_path):\n",
    "    with open(machine_db_path, \"rb\") as f:\n",
    "        return f.read(30)"
   ]
  },
  {
   "cell_type": "code",
   "execution_count": 8,
   "id": "married-vietnam",
   "metadata": {},
   "outputs": [
    {
     "name": "stdout",
     "output_type": "stream",
     "text": [
      "14322029 74342035 88664064 1\n"
     ]
    }
   ],
   "source": [
    "header = get_header(DB_PATH)\n",
    "undecided_time, undecided_space, undecided_total = int.from_bytes(header[:4],byteorder='big'),int.from_bytes(header[4:8],byteorder='big'),int.from_bytes(header[8:12],byteorder='big')\n",
    "print(undecided_time, undecided_space, undecided_total, header[12])"
   ]
  },
  {
   "cell_type": "markdown",
   "id": "considered-schema",
   "metadata": {},
   "source": [
    "## Database core\n",
    "\n",
    "The core of the database is `88,664,064` machines descriptions which are each written on 30 bytes."
   ]
  },
  {
   "cell_type": "code",
   "execution_count": 9,
   "id": "former-guinea",
   "metadata": {},
   "outputs": [
    {
     "name": "stdout",
     "output_type": "stream",
     "text": [
      "88664064.0\n"
     ]
    }
   ],
   "source": [
    "n = os.path.getsize(DB_PATH)\n",
    "print((n)/30-1)"
   ]
  },
  {
   "cell_type": "code",
   "execution_count": 10,
   "id": "promotional-lucas",
   "metadata": {},
   "outputs": [],
   "source": [
    "def get_machine_i(machine_db_path, i, db_has_header=True):\n",
    "    with open(machine_db_path, \"rb\") as f:\n",
    "        c = 1 if db_has_header else 0\n",
    "        f.seek(30*(i+c))\n",
    "        return f.read(30)"
   ]
  },
  {
   "cell_type": "code",
   "execution_count": 11,
   "id": "statutory-london",
   "metadata": {},
   "outputs": [],
   "source": [
    "def ithl(i):\n",
    "    return chr(ord(\"A\")+i)\n",
    "\n",
    "def g(move):\n",
    "    if move == 0:\n",
    "        return \"R\"\n",
    "    return \"L\"\n",
    "\n",
    "def pptm(machine, return_repr=False):\n",
    "    headers = [\"s\",\"0\",\"1\"]\n",
    "    table = []\n",
    "    \n",
    "    for i in range(5):\n",
    "        row = [ithl(i)]\n",
    "        for j in range(2):\n",
    "            write = machine[6*i+3*j] \n",
    "            move = machine[6*i+3*j+1] \n",
    "            goto = machine[6*i+3*j+2]-1\n",
    "            \n",
    "            if goto == -1:\n",
    "                row.append(\"???\")\n",
    "                continue\n",
    "                \n",
    "            row.append(f\"{write}{g(move)}{ithl(goto)}\")\n",
    "        table.append(row)\n",
    "    \n",
    "    if not return_repr:\n",
    "        print(tabulate(table,headers=headers))\n",
    "    else:\n",
    "        return tabulate(table,headers=headers)"
   ]
  },
  {
   "cell_type": "code",
   "execution_count": 12,
   "id": "headed-custom",
   "metadata": {},
   "outputs": [
    {
     "name": "stdout",
     "output_type": "stream",
     "text": [
      "s    0    1\n",
      "---  ---  ---\n",
      "A    1RB  ???\n",
      "B    0RC  ???\n",
      "C    0RD  ???\n",
      "D    0RE  ???\n",
      "E    0LD  ???\n"
     ]
    }
   ],
   "source": [
    "pptm(get_machine_i(DB_PATH,0,db_has_header=True))"
   ]
  },
  {
   "cell_type": "code",
   "execution_count": 13,
   "id": "acknowledged-council",
   "metadata": {},
   "outputs": [
    {
     "name": "stdout",
     "output_type": "stream",
     "text": [
      "s    0    1\n",
      "---  ---  ---\n",
      "A    1RB  ???\n",
      "B    0RC  ???\n",
      "C    0RD  ???\n",
      "D    0RE  0LD\n",
      "E    1LC  ???\n"
     ]
    }
   ],
   "source": [
    "pptm(get_machine_i(DB_PATH,10,db_has_header=True))"
   ]
  },
  {
   "cell_type": "code",
   "execution_count": 11,
   "id": "invalid-planning",
   "metadata": {},
   "outputs": [
    {
     "name": "stdout",
     "output_type": "stream",
     "text": [
      "s    0    1\n",
      "---  ---  ---\n",
      "A    1RB  0RD\n",
      "B    0RC  0LE\n",
      "C    1RD  1RA\n",
      "D    1LA  1LC\n",
      "E    ???  1LD\n"
     ]
    }
   ],
   "source": [
    "pptm(get_machine_i(DB_PATH,4888230,db_has_header=True))"
   ]
  },
  {
   "cell_type": "markdown",
   "id": "whole-budget",
   "metadata": {},
   "source": [
    "# Simulating and visualising machines"
   ]
  },
  {
   "cell_type": "code",
   "execution_count": 14,
   "id": "israeli-ratio",
   "metadata": {},
   "outputs": [],
   "source": [
    "def step(machine, curr_state, curr_pos, tape):\n",
    "    if not curr_pos in tape:\n",
    "        tape[curr_pos] = 0\n",
    "    \n",
    "    write = machine[curr_state*6 + 3*tape[curr_pos]] \n",
    "    move = machine[curr_state*6 + 3*tape[curr_pos] + 1] \n",
    "    goto = machine[curr_state*6 + 3*tape[curr_pos] + 2] - 1\n",
    "\n",
    "    if goto == -1:\n",
    "        return None, None\n",
    "    \n",
    "    tape[curr_pos] = write\n",
    "    next_pos = curr_pos  + (-1 if move else 1)\n",
    "    return goto, next_pos"
   ]
  },
  {
   "cell_type": "code",
   "execution_count": 15,
   "id": "coastal-filing",
   "metadata": {},
   "outputs": [],
   "source": [
    "def simulate(machine, time_limit = 1000, mini =-10, maxi=-10):\n",
    "    curr_time = 0\n",
    "    curr_state = 0\n",
    "    curr_pos = 0\n",
    "    tape = {}\n",
    "    \n",
    "    while curr_state != None and curr_time < time_limit:\n",
    "        curr_state, curr_pos = step(machine, curr_state, curr_pos, tape)\n",
    "        if curr_state is not None:\n",
    "            pprinttape(tape, curr_state, curr_pos, mini=mini, maxi=maxi)\n",
    "        else:\n",
    "            print(\"HALT\")\n",
    "        curr_time += 1\n",
    "        "
   ]
  },
  {
   "cell_type": "code",
   "execution_count": 16,
   "id": "statutory-exchange",
   "metadata": {},
   "outputs": [],
   "source": [
    "def tm_trace_to_image(machine, width=900, height=1000, origin=0.5, show_head_direction=False):\n",
    "    img = Image.new('RGB', (width, height), color = 'black')\n",
    "    pixels = img.load()\n",
    "    \n",
    "    \n",
    "    tape = {}\n",
    "    curr_time = 0\n",
    "    curr_state = 0\n",
    "    curr_pos = 0\n",
    "    tape = {}\n",
    "    \n",
    "    \n",
    "    for row in range(1,height):\n",
    "        last_pos = curr_pos\n",
    "        curr_state, curr_pos = step(machine, curr_state, curr_pos, tape)\n",
    "        \n",
    "        if curr_state is None: #halt\n",
    "            return img\n",
    "        \n",
    "        for col in range(width):\n",
    "            pos = col-width*(origin)\n",
    "            \n",
    "            if pos in tape:\n",
    "                pixels[col,row] = (255,255,255) if tape[pos] == 1 else (0,0,0)\n",
    "                #pixels[col,row-1] = colors[curr_state-1]\n",
    "                \n",
    "            if pos == curr_pos and show_head_direction:\n",
    "                pixels[col,row] = (255,0,0) if curr_pos > last_pos else (0,255,0) \n",
    "                \n",
    "                \n",
    "    #img = zoom_at(img,*zoom)\n",
    "    return img"
   ]
  },
  {
   "cell_type": "code",
   "execution_count": 17,
   "id": "handed-chain",
   "metadata": {},
   "outputs": [],
   "source": [
    "def zoom_at(img, x, y, zoom):\n",
    "    w, h = img.size\n",
    "    zoom2 = zoom * 2\n",
    "    img = img.crop((x - w / zoom2, y - h / zoom2, \n",
    "                    x + w / zoom2, y + h / zoom2))\n",
    "    return img.resize((w, h), Image.LANCZOS)"
   ]
  },
  {
   "cell_type": "markdown",
   "id": "european-there",
   "metadata": {},
   "source": [
    "## BB(5) champion\n",
    "\n",
    "Described in [http://turbotm.de/~heiner/BB/mabu90.html](http://turbotm.de/~heiner/BB/mabu90.html)."
   ]
  },
  {
   "cell_type": "code",
   "execution_count": 16,
   "id": "alleged-breathing",
   "metadata": {},
   "outputs": [
    {
     "name": "stdout",
     "output_type": "stream",
     "text": [
      "s    0    1\n",
      "---  ---  ---\n",
      "A    1RB  1LC\n",
      "B    1RC  1RB\n",
      "C    1RD  0LE\n",
      "D    1LA  1LD\n",
      "E    1RF  0LA\n"
     ]
    }
   ],
   "source": [
    "def repr_to_bytes(rep):\n",
    "    to_rep = bytearray()\n",
    "    for a in rep:\n",
    "        to_rep.append(a)\n",
    "    return to_rep\n",
    "\n",
    "R, L = 0, 1\n",
    "bb5_champion_repr = [1, R, 2, 1, L, 3,\n",
    "\t\t1, R, 3, 1, R, 2,\n",
    "\t\t1, R, 4, 0, L, 5,\n",
    "\t\t1, L, 1, 1, L, 4,\n",
    "\t\t1, R, 6, 0, L, 1]\n",
    "bb5_champion = repr_to_bytes(bb5_champion_repr)\n",
    "pptm(bb5_champion)"
   ]
  },
  {
   "cell_type": "code",
   "execution_count": 17,
   "id": "informational-median",
   "metadata": {},
   "outputs": [
    {
     "data": {
      "image/png": "[encoded data removed]",
      "text/plain": [
       "<PIL.Image.Image image mode=RGB size=900x1000 at 0x7FCB6C0D2040>"
      ]
     },
     "execution_count": 17,
     "metadata": {},
     "output_type": "execute_result"
    }
   ],
   "source": [
    "img = tm_trace_to_image(bb5_champion, origin=0.9, width=500, height=40000, show_head_direction=True).resize((900,1000), Image.NEAREST)\n",
    "img"
   ]
  },
  {
   "cell_type": "markdown",
   "id": "passive-projector",
   "metadata": {},
   "source": [
    "## Other Halting machines\n",
    "\n",
    "These were find while running [https://github.com/bbchallenge/bbchallenge-seed](https://github.com/bbchallenge/bbchallenge-seed)."
   ]
  },
  {
   "cell_type": "markdown",
   "id": "gorgeous-daisy",
   "metadata": {},
   "source": [
    "### 40899 steps"
   ]
  },
  {
   "cell_type": "code",
   "execution_count": 18,
   "id": "intensive-registration",
   "metadata": {},
   "outputs": [
    {
     "name": "stdout",
     "output_type": "stream",
     "text": [
      "s    0    1\n",
      "---  ---  ---\n",
      "A    1RB  0LC\n",
      "B    0RC  ???\n",
      "C    1RD  0RE\n",
      "D    1LE  0RA\n",
      "E    0LA  0LE\n",
      "Halts after 40899 steps.\n"
     ]
    }
   ],
   "source": [
    "R, L = 0, 1\n",
    "A,B,C,D,E = 1,2,3,4,5\n",
    "m_rep = [1, R, B, 0, L, C,\n",
    "\t\t0, R, C, 0, 0, 0,\n",
    "\t\t1, R, D, 0, R, E,\n",
    "\t\t1, L, E, 0, R, A,\n",
    "\t\t0, L, A, 0, L, E]\n",
    "m = repr_to_bytes(m_rep)\n",
    "pptm(m_rep)\n",
    "print(\"Halts after 40899 steps.\")"
   ]
  },
  {
   "cell_type": "code",
   "execution_count": 19,
   "id": "honey-harvest",
   "metadata": {},
   "outputs": [
    {
     "data": {
      "image/png": "[encoded data removed]",
      "text/plain": [
       "<PIL.Image.Image image mode=RGB size=900x1000 at 0x7FCB6C06FB50>"
      ]
     },
     "execution_count": 19,
     "metadata": {},
     "output_type": "execute_result"
    }
   ],
   "source": [
    "img = tm_trace_to_image(m, origin=0.9, width=500, height=40899).resize((900,1000), Image.NEAREST)\n",
    "img"
   ]
  },
  {
   "cell_type": "markdown",
   "id": "visible-fetish",
   "metadata": {},
   "source": [
    "### 20739 Steps"
   ]
  },
  {
   "cell_type": "code",
   "execution_count": 20,
   "id": "composed-scratch",
   "metadata": {},
   "outputs": [
    {
     "name": "stdout",
     "output_type": "stream",
     "text": [
      "s    0    1\n",
      "---  ---  ---\n",
      "A    1RB  0LA\n",
      "B    0RC  1RD\n",
      "C    1LC  1LA\n",
      "D    1RA  1RE\n",
      "E    ???  0RB\n",
      "Halts after 20739 steps.\n"
     ]
    }
   ],
   "source": [
    "R, L = 0, 1\n",
    "A,B,C,D,E = 1,2,3,4,5\n",
    "m_rep = [1, R, B, 0, L, A,\n",
    "\t\t0, R, C, 1, R, D,\n",
    "\t\t1, L, C, 1, L, A,\n",
    "\t\t1, R, A, 1, R, E,\n",
    "\t\t0, 0, 0, 0, R, B]\n",
    "m = repr_to_bytes(m_rep)\n",
    "pptm(m_rep)\n",
    "print(\"Halts after 20739 steps.\")"
   ]
  },
  {
   "cell_type": "code",
   "execution_count": 21,
   "id": "terminal-demographic",
   "metadata": {},
   "outputs": [
    {
     "data": {
      "image/png": "[encoded data removed]",
      "text/plain": [
       "<PIL.Image.Image image mode=RGB size=900x1000 at 0x7FCB5CDB5B20>"
      ]
     },
     "execution_count": 21,
     "metadata": {},
     "output_type": "execute_result"
    }
   ],
   "source": [
    "img = tm_trace_to_image(m, origin=0.8, width=300, height=20739).resize((900,1000), Image.NEAREST)\n",
    "img"
   ]
  },
  {
   "cell_type": "markdown",
   "id": "inappropriate-visibility",
   "metadata": {},
   "source": [
    "### 5309 Steps"
   ]
  },
  {
   "cell_type": "code",
   "execution_count": 22,
   "id": "angry-brake",
   "metadata": {},
   "outputs": [
    {
     "name": "stdout",
     "output_type": "stream",
     "text": [
      "s    0    1\n",
      "---  ---  ---\n",
      "A    1RB  1LD\n",
      "B    0RC  1LE\n",
      "C    1LB  1RD\n",
      "D    1RC  0LA\n",
      "E    ???  1LB\n",
      "Halts after 5309 steps.\n"
     ]
    }
   ],
   "source": [
    "R, L = 0, 1\n",
    "A,B,C,D,E = 1,2,3,4,5\n",
    "m_rep = [1, R, B, 1, L, D,\n",
    "\t\t0, R, C, 1, L, E,\n",
    "\t\t1, L, B, 1, R, D,\n",
    "\t\t1, R, C, 0, L, A,\n",
    "\t\t0, 0, 0, 1, L, B]\n",
    "m = repr_to_bytes(m_rep)\n",
    "pptm(m_rep)\n",
    "print(\"Halts after 5309 steps.\")"
   ]
  },
  {
   "cell_type": "code",
   "execution_count": 23,
   "id": "referenced-mount",
   "metadata": {},
   "outputs": [
    {
     "data": {
      "image/png": "[encoded data removed]",
      "text/plain": [
       "<PIL.Image.Image image mode=RGB size=900x1000 at 0x7FCB6C0D2820>"
      ]
     },
     "execution_count": 23,
     "metadata": {},
     "output_type": "execute_result"
    }
   ],
   "source": [
    "img = tm_trace_to_image(m, origin=0.5, width=200, height=5309).resize((900,1000), Image.NEAREST)\n",
    "img"
   ]
  },
  {
   "cell_type": "markdown",
   "id": "detected-cemetery",
   "metadata": {},
   "source": [
    "### 6987 steps"
   ]
  },
  {
   "cell_type": "code",
   "execution_count": 24,
   "id": "sacred-verse",
   "metadata": {},
   "outputs": [
    {
     "name": "stdout",
     "output_type": "stream",
     "text": [
      "s    0    1\n",
      "---  ---  ---\n",
      "A    1RB  1RD\n",
      "B    0RC  1RC\n",
      "C    1LA  0LA\n",
      "D    1LC  1LE\n",
      "E    ???  0LD\n",
      "Halts after 6987 steps.\n"
     ]
    }
   ],
   "source": [
    "R, L = 0, 1\n",
    "A,B,C,D,E = 1,2,3,4,5\n",
    "m_rep = [1, R, B, 1, R, D,\n",
    "\t\t0, R, C, 1, R, C,\n",
    "\t\t1, L, A, 0, L, A,\n",
    "\t\t1, L, C, A, L, E,\n",
    "\t\t0, 0, 0, 0, L, D]\n",
    "m = repr_to_bytes(m_rep)\n",
    "pptm(m_rep)\n",
    "print(\"Halts after 6987 steps.\")"
   ]
  },
  {
   "cell_type": "code",
   "execution_count": 25,
   "id": "greenhouse-citation",
   "metadata": {},
   "outputs": [
    {
     "data": {
      "image/png": "[encoded data removed]",
      "text/plain": [
       "<PIL.Image.Image image mode=RGB size=900x1000 at 0x7FCB5CDB5C10>"
      ]
     },
     "execution_count": 25,
     "metadata": {},
     "output_type": "execute_result"
    }
   ],
   "source": [
    "img = tm_trace_to_image(m, origin=0.5, width=200, height=6987).resize((900,1000), Image.NEAREST)\n",
    "img"
   ]
  },
  {
   "cell_type": "markdown",
   "id": "green-wallpaper",
   "metadata": {},
   "source": [
    "### 22335 steps"
   ]
  },
  {
   "cell_type": "code",
   "execution_count": 26,
   "id": "aging-place",
   "metadata": {},
   "outputs": [
    {
     "name": "stdout",
     "output_type": "stream",
     "text": [
      "s    0    1\n",
      "---  ---  ---\n",
      "A    1RB  1LD\n",
      "B    0LB  1RC\n",
      "C    1LD  0LE\n",
      "D    1RE  1LC\n",
      "E    ???  0RA\n",
      "Halts after 22335 steps.\n"
     ]
    }
   ],
   "source": [
    "R, L = 0, 1\n",
    "A,B,C,D,E = 1,2,3,4,5\n",
    "m_rep = [1, R, B, 1, L, D,\n",
    "\t\t0, L, B, 1, R, C,\n",
    "\t\t1, L, D, 0, L, E,\n",
    "\t\t1, R, E, 1, L, C,\n",
    "\t\t0, 0, 0, 0, R, A]\n",
    "m = repr_to_bytes(m_rep)\n",
    "pptm(m_rep)\n",
    "print(\"Halts after 22335 steps.\")"
   ]
  },
  {
   "cell_type": "code",
   "execution_count": 27,
   "id": "virgin-starter",
   "metadata": {},
   "outputs": [
    {
     "data": {
      "image/png": "[encoded data removed]",
      "text/plain": [
       "<PIL.Image.Image image mode=RGB size=900x1000 at 0x7FCB5CDC4790>"
      ]
     },
     "execution_count": 27,
     "metadata": {},
     "output_type": "execute_result"
    }
   ],
   "source": [
    "img = tm_trace_to_image(m, origin=0.2, width=300, height=22335).resize((900,1000), Image.NEAREST)\n",
    "img"
   ]
  },
  {
   "cell_type": "markdown",
   "id": "dramatic-airline",
   "metadata": {},
   "source": [
    "### 2133492 steps"
   ]
  },
  {
   "cell_type": "code",
   "execution_count": 28,
   "id": "false-allah",
   "metadata": {},
   "outputs": [
    {
     "name": "stdout",
     "output_type": "stream",
     "text": [
      "s    0    1\n",
      "---  ---  ---\n",
      "A    1RB  1LC\n",
      "B    0LA  0LD\n",
      "C    1LA  ???\n",
      "D    1LB  1RE\n",
      "E    0RD  0RB\n",
      "Halts after 2133492 steps.\n"
     ]
    }
   ],
   "source": [
    "R, L = 0, 1\n",
    "A,B,C,D,E = 1,2,3,4,5\n",
    "m_rep = [1, R, B, 1, L, C,\n",
    "\t\t0, L, A, 0, L, D,\n",
    "\t\t1, L, A, 0, 0, 0,\n",
    "\t\t1, L, B, 1, R, E,\n",
    "\t\t0, R, D, 0, R, B]\n",
    "m = repr_to_bytes(m_rep)\n",
    "pptm(m_rep)\n",
    "print(\"Halts after 2133492 steps.\")"
   ]
  },
  {
   "cell_type": "code",
   "execution_count": 29,
   "id": "prospective-rescue",
   "metadata": {},
   "outputs": [
    {
     "data": {
      "image/png": "[encoded data removed]",
      "text/plain": [
       "<PIL.Image.Image image mode=RGB size=900x1000 at 0x7FCB6C06F820>"
      ]
     },
     "execution_count": 29,
     "metadata": {},
     "output_type": "execute_result"
    }
   ],
   "source": [
    "img = tm_trace_to_image(m, origin=0.9, width=500, height=22335).resize((900,1000), Image.NEAREST)\n",
    "img"
   ]
  },
  {
   "cell_type": "markdown",
   "id": "acting-mexican",
   "metadata": {},
   "source": [
    "## \"Chaotic\" machine\n",
    "\n",
    "Described in [http://turbotm.de/~heiner/BB/mabu90.html](http://turbotm.de/~heiner/BB/mabu90.html)."
   ]
  },
  {
   "cell_type": "code",
   "execution_count": 30,
   "id": "private-reality",
   "metadata": {},
   "outputs": [
    {
     "name": "stdout",
     "output_type": "stream",
     "text": [
      "s    0    1\n",
      "---  ---  ---\n",
      "A    1LB  1RB\n",
      "B    1RC  0LE\n",
      "C    0RD  0LA\n",
      "D    1LA  0RD\n",
      "E    ???  0LC\n"
     ]
    }
   ],
   "source": [
    "R, L = 0, 1\n",
    "chaotic_machine_rep = [1, L, 2, 1, R, 2,\n",
    "\t\t1, R, 3, 0, L, 5,\n",
    "\t\t0, R, 4, 0, L, 1,\n",
    "\t\t1, L, 1, 0, R, 4,\n",
    "\t\t1, L, 0, 0, L, 3]\n",
    "chaotic_machine = repr_to_bytes(chaotic_machine_rep)\n",
    "pptm(chaotic_machine)"
   ]
  },
  {
   "cell_type": "code",
   "execution_count": 31,
   "id": "forty-nutrition",
   "metadata": {},
   "outputs": [
    {
     "name": "stdout",
     "output_type": "stream",
     "text": [
      "s    0    1\n",
      "---  ---  ---\n",
      "A    1RB  1LB\n",
      "B    1LC  0RE\n",
      "C    0LD  0RA\n",
      "D    1RA  0LD\n",
      "E    ???  0RC\n",
      "This is machine n = 76708232\n"
     ]
    }
   ],
   "source": [
    "R, L = 1, 0\n",
    "sym_chaotic_machine_rep = [1, L, 2, 1, R, 2,\n",
    "\t\t1, R, 3, 0, L, 5,\n",
    "\t\t0, R, 4, 0, L, 1,\n",
    "\t\t1, L, 1, 0, R, 4,\n",
    "\t\t0, 0, 0, 0, L, 3]\n",
    "sym_chaotic_machine = repr_to_bytes(sym_chaotic_machine_rep)\n",
    "pptm(sym_chaotic_machine) \n",
    "print(\"This is machine n = 76708232\")"
   ]
  },
  {
   "cell_type": "code",
   "execution_count": 32,
   "id": "tired-incidence",
   "metadata": {},
   "outputs": [
    {
     "ename": "KeyboardInterrupt",
     "evalue": "",
     "output_type": "error",
     "traceback": [
      "\u001b[0;31m---------------------------------------------------------------------------\u001b[0m",
      "\u001b[0;31mKeyboardInterrupt\u001b[0m                         Traceback (most recent call last)",
      "Input \u001b[0;32mIn [32]\u001b[0m, in \u001b[0;36m<module>\u001b[0;34m\u001b[0m\n\u001b[0;32m----> 1\u001b[0m img \u001b[38;5;241m=\u001b[39m \u001b[43mtm_trace_to_image\u001b[49m\u001b[43m(\u001b[49m\u001b[43msym_chaotic_machine\u001b[49m\u001b[43m,\u001b[49m\u001b[43m \u001b[49m\u001b[43morigin\u001b[49m\u001b[38;5;241;43m=\u001b[39;49m\u001b[38;5;241;43m0.1\u001b[39;49m\u001b[43m,\u001b[49m\u001b[43m \u001b[49m\u001b[43mwidth\u001b[49m\u001b[38;5;241;43m=\u001b[39;49m\u001b[38;5;241;43m1000\u001b[39;49m\u001b[43m,\u001b[49m\u001b[43m \u001b[49m\u001b[43mheight\u001b[49m\u001b[38;5;241;43m=\u001b[39;49m\u001b[38;5;241;43m100000\u001b[39;49m\u001b[43m,\u001b[49m\u001b[43m \u001b[49m\u001b[43mshow_head_direction\u001b[49m\u001b[38;5;241;43m=\u001b[39;49m\u001b[38;5;28;43;01mTrue\u001b[39;49;00m\u001b[43m)\u001b[49m\u001b[38;5;241m.\u001b[39mresize((\u001b[38;5;241m900\u001b[39m,\u001b[38;5;241m1000\u001b[39m), Image\u001b[38;5;241m.\u001b[39mNEAREST)\n\u001b[1;32m      2\u001b[0m img\n",
      "Input \u001b[0;32mIn [14]\u001b[0m, in \u001b[0;36mtm_trace_to_image\u001b[0;34m(machine, width, height, origin, show_head_direction)\u001b[0m\n\u001b[1;32m     18\u001b[0m     \u001b[38;5;28;01mreturn\u001b[39;00m img\n\u001b[1;32m     20\u001b[0m \u001b[38;5;28;01mfor\u001b[39;00m col \u001b[38;5;129;01min\u001b[39;00m \u001b[38;5;28mrange\u001b[39m(width):\n\u001b[0;32m---> 21\u001b[0m     pos \u001b[38;5;241m=\u001b[39m \u001b[43mcol\u001b[49m\u001b[38;5;241;43m-\u001b[39;49m\u001b[43mwidth\u001b[49m\u001b[38;5;241;43m*\u001b[39;49m\u001b[43m(\u001b[49m\u001b[43morigin\u001b[49m\u001b[43m)\u001b[49m\n\u001b[1;32m     23\u001b[0m     \u001b[38;5;28;01mif\u001b[39;00m pos \u001b[38;5;129;01min\u001b[39;00m tape:\n\u001b[1;32m     24\u001b[0m         pixels[col,row] \u001b[38;5;241m=\u001b[39m (\u001b[38;5;241m255\u001b[39m,\u001b[38;5;241m255\u001b[39m,\u001b[38;5;241m255\u001b[39m) \u001b[38;5;28;01mif\u001b[39;00m tape[pos] \u001b[38;5;241m==\u001b[39m \u001b[38;5;241m1\u001b[39m \u001b[38;5;28;01melse\u001b[39;00m (\u001b[38;5;241m0\u001b[39m,\u001b[38;5;241m0\u001b[39m,\u001b[38;5;241m0\u001b[39m)\n",
      "\u001b[0;31mKeyboardInterrupt\u001b[0m: "
     ]
    }
   ],
   "source": [
    "img = tm_trace_to_image(sym_chaotic_machine, origin=0.1, width=1000, height=100000, show_head_direction=True).resize((900,1000), Image.NEAREST)\n",
    "img"
   ]
  },
  {
   "cell_type": "markdown",
   "id": "seventh-uncle",
   "metadata": {
    "tags": []
   },
   "source": [
    "## \"Complex counter\"\n",
    "\n",
    "Described in [http://turbotm.de/~heiner/BB/mabu90.html](http://turbotm.de/~heiner/BB/mabu90.html)."
   ]
  },
  {
   "cell_type": "code",
   "execution_count": 33,
   "id": "induced-ozone",
   "metadata": {},
   "outputs": [
    {
     "name": "stdout",
     "output_type": "stream",
     "text": [
      "s    0    1\n",
      "---  ---  ---\n",
      "A    1LB  1RA\n",
      "B    0RA  0LC\n",
      "C    0RC  1LD\n",
      "D    1LE  0RA\n",
      "E    0LB  ???\n"
     ]
    }
   ],
   "source": [
    "R, L = 0, 1\n",
    "complex_counter_rep = [1, L, 2, 1, R, 1,\n",
    "\t\t0, R, 1, 0, L, 3,\n",
    "\t\t0, R, 3, 1, L, 4,\n",
    "\t\t1, L, 5, 0, R, 1,\n",
    "\t\t0, L, 2, 0, 0, 0]\n",
    "complex_counter = repr_to_bytes(complex_counter_rep)\n",
    "pptm(complex_counter)"
   ]
  },
  {
   "cell_type": "code",
   "execution_count": 34,
   "id": "known-knife",
   "metadata": {},
   "outputs": [
    {
     "name": "stdout",
     "output_type": "stream",
     "text": [
      "s    0    1\n",
      "---  ---  ---\n",
      "A    1RB  1LA\n",
      "B    0LA  0RC\n",
      "C    0LC  1RD\n",
      "D    1RE  0LA\n",
      "E    0RB  ???\n"
     ]
    }
   ],
   "source": [
    "L, R = 0, 1\n",
    "complex_counter_rep_sym = [1, L, 2, 1, R, 1,\n",
    "\t\t0, R, 1, 0, L, 3,\n",
    "\t\t0, R, 3, 1, L, 4,\n",
    "\t\t1, L, 5, 0, R, 1,\n",
    "\t\t0, L, 2, 0, 0, 0]\n",
    "complex_counter_sym = repr_to_bytes(complex_counter_rep_sym)\n",
    "pptm(complex_counter_sym)\n",
    "R, L = 0, 1"
   ]
  },
  {
   "cell_type": "code",
   "execution_count": 35,
   "id": "dirty-battlefield",
   "metadata": {},
   "outputs": [
    {
     "data": {
      "image/png": "[encoded data removed]",
      "text/plain": [
       "<PIL.Image.Image image mode=RGB size=900x1000 at 0x7FCB6C06FE20>"
      ]
     },
     "execution_count": 35,
     "metadata": {},
     "output_type": "execute_result"
    }
   ],
   "source": [
    "img = tm_trace_to_image(complex_counter, origin=0.5, width=100, height=1000, show_head_direction=False).resize((900,1000), Image.NEAREST)\n",
    "img"
   ]
  },
  {
   "cell_type": "markdown",
   "id": "expected-treaty",
   "metadata": {
    "tags": []
   },
   "source": [
    "## Random machine"
   ]
  },
  {
   "cell_type": "code",
   "execution_count": 36,
   "id": "tough-forth",
   "metadata": {},
   "outputs": [],
   "source": [
    "n_history = []"
   ]
  },
  {
   "cell_type": "code",
   "execution_count": 32,
   "id": "thrown-travel",
   "metadata": {},
   "outputs": [
    {
     "name": "stdout",
     "output_type": "stream",
     "text": [
      "12534990\n",
      "s    0    1\n",
      "---  ---  ---\n",
      "A    1RB  1LC\n",
      "B    1LA  1RA\n",
      "C    0LD  0RE\n",
      "D    1LA  0LA\n",
      "E    ???  0RD\n"
     ]
    },
    {
     "data": {
      "image/png": "[encoded data removed]",
      "text/plain": [
       "<PIL.Image.Image image mode=RGB size=900x1000 at 0x7F2D4DE59430>"
      ]
     },
     "execution_count": 32,
     "metadata": {},
     "output_type": "execute_result"
    }
   ],
   "source": [
    "n = 12534990#random.randint(0,undecided_total-1)\n",
    "#n_history.append(n)\n",
    "\n",
    "print(n)\n",
    "pptm(get_machine_i(DB_PATH,n))\n",
    "img = tm_trace_to_image(get_machine_i(DB_PATH,n), origin=0.5, width=100, height=400, show_head_direction=True).resize((900,1000), Image.NEAREST)\n",
    "img"
   ]
  },
  {
   "cell_type": "markdown",
   "id": "developing-hostel",
   "metadata": {},
   "source": [
    "# Undecided Index\n",
    "\n",
    "Available for download: https://github.com/bbchallenge/bbchallenge-undecided-index/"
   ]
  },
  {
   "cell_type": "code",
   "execution_count": 39,
   "id": "global-baseline",
   "metadata": {},
   "outputs": [
    {
     "data": {
      "text/plain": [
       "6154448"
      ]
     },
     "execution_count": 39,
     "metadata": {},
     "output_type": "execute_result"
    }
   ],
   "source": [
    "UNDECIDED_INDEX_PATH= \"bb5_undecided_index\"#_with_heuristics\"\n",
    "UNDECIDED_FILE_SIZE = os.path.getsize(UNDECIDED_INDEX_PATH)\n",
    "UNDECIDED_FILE_SIZE"
   ]
  },
  {
   "cell_type": "code",
   "execution_count": 40,
   "id": "stable-bread",
   "metadata": {},
   "outputs": [],
   "source": [
    "undecided_index = []\n",
    "with open(UNDECIDED_INDEX_PATH, \"rb\") as f:\n",
    "    for i in range(UNDECIDED_FILE_SIZE//4):\n",
    "        chunk = f.read(4)\n",
    "        undecided_index.append(int.from_bytes(chunk, byteorder=\"big\"))"
   ]
  },
  {
   "cell_type": "code",
   "execution_count": 41,
   "id": "finnish-tours",
   "metadata": {},
   "outputs": [
    {
     "name": "stdout",
     "output_type": "stream",
     "text": [
      "1234353 304259\n"
     ]
    }
   ],
   "source": [
    "undecided_time_index = []\n",
    "undecided_space_index = []\n",
    "for i in undecided_index:\n",
    "    if i < undecided_time:\n",
    "        undecided_time_index.append(i)\n",
    "    else:\n",
    "        undecided_space_index.append(i)\n",
    "print(len(undecided_time_index), len(undecided_space_index))"
   ]
  },
  {
   "cell_type": "code",
   "execution_count": 42,
   "id": "young-connection",
   "metadata": {},
   "outputs": [],
   "source": [
    "def is_sub_machine(m,m1):\n",
    "    \"\"\" m sub machine of m1\"\"\"\n",
    "    for i in range(len(m)//3):\n",
    "        if m[3*i+2] == 0:\n",
    "            continue\n",
    "        for j in range(3):\n",
    "            if m[3*i+j] != m1[3*i+j]:\n",
    "                return False\n",
    "    return True"
   ]
  },
  {
   "cell_type": "code",
   "execution_count": 43,
   "id": "legal-technique",
   "metadata": {},
   "outputs": [],
   "source": [
    "def count_undef_trans(m):\n",
    "    undef_trans = 0 \n",
    "    for i in range(len(m)//3):\n",
    "        if m[3*i+2] == 0:\n",
    "            undef_trans += 1\n",
    "    return undef_trans"
   ]
  },
  {
   "cell_type": "code",
   "execution_count": 44,
   "id": "typical-liechtenstein",
   "metadata": {},
   "outputs": [],
   "source": [
    "c = 0\n",
    "det_count = {}\n",
    "for undecided_id in undecided_index:\n",
    "    m = get_machine_i(DB_PATH,undecided_id)\n",
    "    ut = count_undef_trans(m)\n",
    "    if ut > 1:\n",
    "        if ut not in det_count:\n",
    "            det_count[ut] = []\n",
    "        det_count[ut].append(undecided_id)\n",
    "        c += 1"
   ]
  },
  {
   "cell_type": "code",
   "execution_count": 45,
   "id": "genetic-surveillance",
   "metadata": {},
   "outputs": [
    {
     "name": "stdout",
     "output_type": "stream",
     "text": [
      "96554\n"
     ]
    }
   ],
   "source": [
    "print(c)"
   ]
  },
  {
   "cell_type": "code",
   "execution_count": 46,
   "id": "front-planner",
   "metadata": {},
   "outputs": [
    {
     "name": "stdout",
     "output_type": "stream",
     "text": [
      "3 2444\n",
      "2 94110\n"
     ]
    }
   ],
   "source": [
    "for a in det_count:\n",
    "    print(a, len(det_count[a]))"
   ]
  },
  {
   "cell_type": "markdown",
   "id": "changing-optimization",
   "metadata": {},
   "source": [
    "# Looking for 2 machines of Marxen and Buntrock\n",
    "\n",
    "The following code checks if a given machine description is in the index. We are interesting in finding the ID of the \"chaotic machine\" and the \"complex counter\" described in Marxen and Buntrock, 1990. We find IDs `76708232` for the chaotic machine and `10936909` for the complex counter."
   ]
  },
  {
   "cell_type": "code",
   "execution_count": 48,
   "id": "timely-retreat",
   "metadata": {},
   "outputs": [],
   "source": [
    "def getMachineID(m, indexToLookOutFrom, printSubMachines=False):\n",
    "    for i in tqdm.tqdm(indexToLookOutFrom):\n",
    "        m2 = get_machine_i(DB_PATH,i)\n",
    "        if m2 == m:\n",
    "            return i\n",
    "        if is_sub_machine(m2,m) and printSubMachines:\n",
    "            print(i)\n",
    "            pptm(m2)\n",
    "    print(\"Not found\")\n",
    "    return None"
   ]
  },
  {
   "cell_type": "code",
   "execution_count": 49,
   "id": "identical-pride",
   "metadata": {},
   "outputs": [
    {
     "name": "stdout",
     "output_type": "stream",
     "text": [
      "s    0    1\n",
      "---  ---  ---\n",
      "A    1RB  1LB\n",
      "B    1LC  0RE\n",
      "C    0LD  0RA\n",
      "D    1RA  0LD\n",
      "E    ???  0RC\n"
     ]
    }
   ],
   "source": [
    "pptm(sym_chaotic_machine)"
   ]
  },
  {
   "cell_type": "code",
   "execution_count": 50,
   "id": "particular-symbol",
   "metadata": {},
   "outputs": [
    {
     "name": "stderr",
     "output_type": "stream",
     "text": [
      " 84%|████████▍ | 255959/304259 [00:03<00:00, 73457.59it/s]\n"
     ]
    },
    {
     "data": {
      "text/plain": [
       "76708232"
      ]
     },
     "execution_count": 50,
     "metadata": {},
     "output_type": "execute_result"
    }
   ],
   "source": [
    "getMachineID(sym_chaotic_machine,undecided_space_index)"
   ]
  },
  {
   "cell_type": "code",
   "execution_count": 51,
   "id": "postal-shield",
   "metadata": {},
   "outputs": [
    {
     "name": "stderr",
     "output_type": "stream",
     "text": [
      " 71%|███████   | 879193/1234353 [00:11<00:04, 76812.21it/s]\n"
     ]
    },
    {
     "data": {
      "text/plain": [
       "10936909"
      ]
     },
     "execution_count": 51,
     "metadata": {},
     "output_type": "execute_result"
    }
   ],
   "source": [
    "getMachineID(complex_counter_sym,undecided_time_index)"
   ]
  },
  {
   "cell_type": "markdown",
   "id": "alike-coverage",
   "metadata": {},
   "source": [
    "# Random Undecided Machine"
   ]
  },
  {
   "cell_type": "code",
   "execution_count": 52,
   "id": "caroline-shoot",
   "metadata": {},
   "outputs": [],
   "source": [
    "n_history = []"
   ]
  },
  {
   "cell_type": "code",
   "execution_count": null,
   "id": "oriented-venice",
   "metadata": {},
   "outputs": [
    {
     "ename": "NameError",
     "evalue": "name 'n_history' is not defined",
     "output_type": "error",
     "traceback": [
      "\u001b[0;31m---------------------------------------------------------------------------\u001b[0m",
      "\u001b[0;31mNameError\u001b[0m                                 Traceback (most recent call last)",
      "Input \u001b[0;32mIn [27]\u001b[0m, in \u001b[0;36m<module>\u001b[0;34m\u001b[0m\n\u001b[1;32m      1\u001b[0m n \u001b[38;5;241m=\u001b[39m \u001b[38;5;241m430259\u001b[39m\u001b[38;5;66;03m#random.choice(undecided_index)\u001b[39;00m\n\u001b[0;32m----> 2\u001b[0m \u001b[43mn_history\u001b[49m\u001b[38;5;241m.\u001b[39mappend(n)\n\u001b[1;32m      3\u001b[0m \u001b[38;5;28mprint\u001b[39m(n)\n\u001b[1;32m      4\u001b[0m \u001b[38;5;66;03m#pptm(get_machine_i(DB_PATH,n))\u001b[39;00m\n",
      "\u001b[0;31mNameError\u001b[0m: name 'n_history' is not defined"
     ]
    }
   ],
   "source": [
    "n = random.choice(undecided_index)\n",
    "n_history.append(n)\n",
    "print(n)\n",
    "#pptm(get_machine_i(DB_PATH,n))\n",
    "img = tm_trace_to_image(get_machine_i(DB_PATH,n), origin=0.5, width=100, height=400, show_head_direction=True).resize((900,1000), Image.NEAREST)\n",
    "img"
   ]
  },
  {
   "cell_type": "markdown",
   "id": "rising-gibraltar",
   "metadata": {},
   "source": [
    "## List of random undecided machines for speedy lookin"
   ]
  },
  {
   "cell_type": "code",
   "execution_count": 54,
   "id": "cross-difficulty",
   "metadata": {
    "tags": []
   },
   "outputs": [
    {
     "name": "stdout",
     "output_type": "stream",
     "text": [
      "7039177\n"
     ]
    },
    {
     "data": {
      "image/png": "[encoded data removed]",
      "text/plain": [
       "<PIL.Image.Image image mode=RGB size=90x100 at 0x7F05195DB0A0>"
      ]
     },
     "metadata": {},
     "output_type": "display_data"
    },
    {
     "name": "stdout",
     "output_type": "stream",
     "text": [
      "3279752\n"
     ]
    },
    {
     "data": {
      "image/png": "[encoded data removed]",
      "text/plain": [
       "<PIL.Image.Image image mode=RGB size=90x100 at 0x7F05195DB1F0>"
      ]
     },
     "metadata": {},
     "output_type": "display_data"
    },
    {
     "name": "stdout",
     "output_type": "stream",
     "text": [
      "50393547\n"
     ]
    },
    {
     "data": {
      "image/png": "[encoded data removed]",
      "text/plain": [
       "<PIL.Image.Image image mode=RGB size=90x100 at 0x7F05195DB0A0>"
      ]
     },
     "metadata": {},
     "output_type": "display_data"
    },
    {
     "name": "stdout",
     "output_type": "stream",
     "text": [
      "44791988\n"
     ]
    },
    {
     "data": {
      "image/png": "[encoded data removed]",
      "text/plain": [
       "<PIL.Image.Image image mode=RGB size=90x100 at 0x7F05195DB1F0>"
      ]
     },
     "metadata": {},
     "output_type": "display_data"
    },
    {
     "name": "stdout",
     "output_type": "stream",
     "text": [
      "38179675\n"
     ]
    },
    {
     "data": {
      "image/png": "[encoded data removed]",
      "text/plain": [
       "<PIL.Image.Image image mode=RGB size=90x100 at 0x7F05195DB2B0>"
      ]
     },
     "metadata": {},
     "output_type": "display_data"
    },
    {
     "name": "stdout",
     "output_type": "stream",
     "text": [
      "9696937\n"
     ]
    },
    {
     "data": {
      "image/png": "[encoded data removed]",
      "text/plain": [
       "<PIL.Image.Image image mode=RGB size=90x100 at 0x7F05195DB460>"
      ]
     },
     "metadata": {},
     "output_type": "display_data"
    },
    {
     "name": "stdout",
     "output_type": "stream",
     "text": [
      "58082868\n"
     ]
    },
    {
     "data": {
      "image/png": "[encoded data removed]",
      "text/plain": [
       "<PIL.Image.Image image mode=RGB size=90x100 at 0x7F05195DBD60>"
      ]
     },
     "metadata": {},
     "output_type": "display_data"
    },
    {
     "name": "stdout",
     "output_type": "stream",
     "text": [
      "13204392\n"
     ]
    },
    {
     "data": {
      "image/png": "[encoded data removed]",
      "text/plain": [
       "<PIL.Image.Image image mode=RGB size=90x100 at 0x7F05195DB4F0>"
      ]
     },
     "metadata": {},
     "output_type": "display_data"
    },
    {
     "name": "stdout",
     "output_type": "stream",
     "text": [
      "5225797\n"
     ]
    },
    {
     "data": {
      "image/png": "[encoded data removed]",
      "text/plain": [
       "<PIL.Image.Image image mode=RGB size=90x100 at 0x7F05195DB460>"
      ]
     },
     "metadata": {},
     "output_type": "display_data"
    },
    {
     "name": "stdout",
     "output_type": "stream",
     "text": [
      "14266644\n"
     ]
    },
    {
     "data": {
      "image/png": "[encoded data removed]",
      "text/plain": [
       "<PIL.Image.Image image mode=RGB size=90x100 at 0x7F05195DBD60>"
      ]
     },
     "metadata": {},
     "output_type": "display_data"
    },
    {
     "name": "stdout",
     "output_type": "stream",
     "text": [
      "11383671\n"
     ]
    },
    {
     "data": {
      "image/png": "[encoded data removed]",
      "text/plain": [
       "<PIL.Image.Image image mode=RGB size=90x100 at 0x7F05195DB1F0>"
      ]
     },
     "metadata": {},
     "output_type": "display_data"
    },
    {
     "name": "stdout",
     "output_type": "stream",
     "text": [
      "6593417\n"
     ]
    },
    {
     "data": {
      "image/png": "[encoded data removed]",
      "text/plain": [
       "<PIL.Image.Image image mode=RGB size=90x100 at 0x7F05195DB0A0>"
      ]
     },
     "metadata": {},
     "output_type": "display_data"
    },
    {
     "name": "stdout",
     "output_type": "stream",
     "text": [
      "6270882\n"
     ]
    },
    {
     "data": {
      "image/png": "[encoded data removed]",
      "text/plain": [
       "<PIL.Image.Image image mode=RGB size=90x100 at 0x7F05195DB4F0>"
      ]
     },
     "metadata": {},
     "output_type": "display_data"
    },
    {
     "name": "stdout",
     "output_type": "stream",
     "text": [
      "24358371\n"
     ]
    },
    {
     "data": {
      "image/png": "[encoded data removed]",
      "text/plain": [
       "<PIL.Image.Image image mode=RGB size=90x100 at 0x7F05195DB2B0>"
      ]
     },
     "metadata": {},
     "output_type": "display_data"
    },
    {
     "name": "stdout",
     "output_type": "stream",
     "text": [
      "13473940\n"
     ]
    },
    {
     "data": {
      "image/png": "[encoded data removed]",
      "text/plain": [
       "<PIL.Image.Image image mode=RGB size=90x100 at 0x7F05195DB4F0>"
      ]
     },
     "metadata": {},
     "output_type": "display_data"
    },
    {
     "name": "stdout",
     "output_type": "stream",
     "text": [
      "60250386\n"
     ]
    },
    {
     "data": {
      "image/png": "[encoded data removed]",
      "text/plain": [
       "<PIL.Image.Image image mode=RGB size=90x100 at 0x7F05195DB460>"
      ]
     },
     "metadata": {},
     "output_type": "display_data"
    },
    {
     "name": "stdout",
     "output_type": "stream",
     "text": [
      "64995697\n"
     ]
    },
    {
     "data": {
      "image/png": "[encoded data removed]",
      "text/plain": [
       "<PIL.Image.Image image mode=RGB size=90x100 at 0x7F05195DB2B0>"
      ]
     },
     "metadata": {},
     "output_type": "display_data"
    },
    {
     "name": "stdout",
     "output_type": "stream",
     "text": [
      "7230779\n"
     ]
    },
    {
     "data": {
      "image/png": "[encoded data removed]",
      "text/plain": [
       "<PIL.Image.Image image mode=RGB size=90x100 at 0x7F05195DB4F0>"
      ]
     },
     "metadata": {},
     "output_type": "display_data"
    },
    {
     "name": "stdout",
     "output_type": "stream",
     "text": [
      "1265115\n"
     ]
    },
    {
     "data": {
      "image/png": "[encoded data removed]",
      "text/plain": [
       "<PIL.Image.Image image mode=RGB size=90x100 at 0x7F05195DB1F0>"
      ]
     },
     "metadata": {},
     "output_type": "display_data"
    },
    {
     "name": "stdout",
     "output_type": "stream",
     "text": [
      "4469191\n"
     ]
    },
    {
     "data": {
      "image/png": "[encoded data removed]",
      "text/plain": [
       "<PIL.Image.Image image mode=RGB size=90x100 at 0x7F05195DB4F0>"
      ]
     },
     "metadata": {},
     "output_type": "display_data"
    },
    {
     "name": "stdout",
     "output_type": "stream",
     "text": [
      "4892557\n"
     ]
    },
    {
     "data": {
      "image/png": "[encoded data removed]",
      "text/plain": [
       "<PIL.Image.Image image mode=RGB size=90x100 at 0x7F05195DB460>"
      ]
     },
     "metadata": {},
     "output_type": "display_data"
    },
    {
     "name": "stdout",
     "output_type": "stream",
     "text": [
      "1918127\n"
     ]
    },
    {
     "data": {
      "image/png": "[encoded data removed]",
      "text/plain": [
       "<PIL.Image.Image image mode=RGB size=90x100 at 0x7F05195DB0A0>"
      ]
     },
     "metadata": {},
     "output_type": "display_data"
    },
    {
     "name": "stdout",
     "output_type": "stream",
     "text": [
      "8429644\n"
     ]
    },
    {
     "data": {
      "image/png": "[encoded data removed]",
      "text/plain": [
       "<PIL.Image.Image image mode=RGB size=90x100 at 0x7F05195E7070>"
      ]
     },
     "metadata": {},
     "output_type": "display_data"
    },
    {
     "name": "stdout",
     "output_type": "stream",
     "text": [
      "60318162\n"
     ]
    },
    {
     "data": {
      "image/png": "[encoded data removed]",
      "text/plain": [
       "<PIL.Image.Image image mode=RGB size=90x100 at 0x7F05195E73D0>"
      ]
     },
     "metadata": {},
     "output_type": "display_data"
    },
    {
     "name": "stdout",
     "output_type": "stream",
     "text": [
      "13096305\n"
     ]
    },
    {
     "data": {
      "image/png": "[encoded data removed]",
      "text/plain": [
       "<PIL.Image.Image image mode=RGB size=90x100 at 0x7F05195DB2B0>"
      ]
     },
     "metadata": {},
     "output_type": "display_data"
    },
    {
     "name": "stdout",
     "output_type": "stream",
     "text": [
      "2205145\n"
     ]
    },
    {
     "data": {
      "image/png": "[encoded data removed]",
      "text/plain": [
       "<PIL.Image.Image image mode=RGB size=90x100 at 0x7F05195DB1F0>"
      ]
     },
     "metadata": {},
     "output_type": "display_data"
    },
    {
     "name": "stdout",
     "output_type": "stream",
     "text": [
      "14168931\n"
     ]
    },
    {
     "data": {
      "image/png": "[encoded data removed]",
      "text/plain": [
       "<PIL.Image.Image image mode=RGB size=90x100 at 0x7F05195DB2B0>"
      ]
     },
     "metadata": {},
     "output_type": "display_data"
    },
    {
     "name": "stdout",
     "output_type": "stream",
     "text": [
      "34249695\n"
     ]
    },
    {
     "data": {
      "image/png": "[encoded data removed]",
      "text/plain": [
       "<PIL.Image.Image image mode=RGB size=90x100 at 0x7F05195DB460>"
      ]
     },
     "metadata": {},
     "output_type": "display_data"
    },
    {
     "name": "stdout",
     "output_type": "stream",
     "text": [
      "10069074\n"
     ]
    },
    {
     "data": {
      "image/png": "[encoded data removed]",
      "text/plain": [
       "<PIL.Image.Image image mode=RGB size=90x100 at 0x7F05195DB4F0>"
      ]
     },
     "metadata": {},
     "output_type": "display_data"
    },
    {
     "name": "stdout",
     "output_type": "stream",
     "text": [
      "6423513\n"
     ]
    },
    {
     "data": {
      "image/png": "[encoded data removed]",
      "text/plain": [
       "<PIL.Image.Image image mode=RGB size=90x100 at 0x7F05195DB460>"
      ]
     },
     "metadata": {},
     "output_type": "display_data"
    },
    {
     "name": "stdout",
     "output_type": "stream",
     "text": [
      "12060606\n"
     ]
    },
    {
     "data": {
      "image/png": "[encoded data removed]",
      "text/plain": [
       "<PIL.Image.Image image mode=RGB size=90x100 at 0x7F05195DB2B0>"
      ]
     },
     "metadata": {},
     "output_type": "display_data"
    },
    {
     "name": "stdout",
     "output_type": "stream",
     "text": [
      "13015037\n"
     ]
    },
    {
     "data": {
      "image/png": "[encoded data removed]",
      "text/plain": [
       "<PIL.Image.Image image mode=RGB size=90x100 at 0x7F05195DBD60>"
      ]
     },
     "metadata": {},
     "output_type": "display_data"
    },
    {
     "name": "stdout",
     "output_type": "stream",
     "text": [
      "6835908\n"
     ]
    },
    {
     "data": {
      "image/png": "[encoded data removed]",
      "text/plain": [
       "<PIL.Image.Image image mode=RGB size=90x100 at 0x7F05195DB4F0>"
      ]
     },
     "metadata": {},
     "output_type": "display_data"
    },
    {
     "name": "stdout",
     "output_type": "stream",
     "text": [
      "13242095\n"
     ]
    },
    {
     "data": {
      "image/png": "[encoded data removed]",
      "text/plain": [
       "<PIL.Image.Image image mode=RGB size=90x100 at 0x7F05195DB2B0>"
      ]
     },
     "metadata": {},
     "output_type": "display_data"
    },
    {
     "name": "stdout",
     "output_type": "stream",
     "text": [
      "4539248\n"
     ]
    },
    {
     "data": {
      "image/png": "[encoded data removed]",
      "text/plain": [
       "<PIL.Image.Image image mode=RGB size=90x100 at 0x7F05195E7340>"
      ]
     },
     "metadata": {},
     "output_type": "display_data"
    },
    {
     "name": "stdout",
     "output_type": "stream",
     "text": [
      "5295526\n"
     ]
    },
    {
     "data": {
      "image/png": "[encoded data removed]",
      "text/plain": [
       "<PIL.Image.Image image mode=RGB size=90x100 at 0x7F05195DB1F0>"
      ]
     },
     "metadata": {},
     "output_type": "display_data"
    },
    {
     "name": "stdout",
     "output_type": "stream",
     "text": [
      "3184179\n"
     ]
    },
    {
     "data": {
      "image/png": "[encoded data removed]",
      "text/plain": [
       "<PIL.Image.Image image mode=RGB size=90x100 at 0x7F05195DBD60>"
      ]
     },
     "metadata": {},
     "output_type": "display_data"
    },
    {
     "name": "stdout",
     "output_type": "stream",
     "text": [
      "676811\n"
     ]
    },
    {
     "data": {
      "image/png": "[encoded data removed]",
      "text/plain": [
       "<PIL.Image.Image image mode=RGB size=90x100 at 0x7F05195DB2B0>"
      ]
     },
     "metadata": {},
     "output_type": "display_data"
    },
    {
     "name": "stdout",
     "output_type": "stream",
     "text": [
      "9352739\n"
     ]
    },
    {
     "data": {
      "image/png": "[encoded data removed]",
      "text/plain": [
       "<PIL.Image.Image image mode=RGB size=90x100 at 0x7F05195C9D90>"
      ]
     },
     "metadata": {},
     "output_type": "display_data"
    },
    {
     "name": "stdout",
     "output_type": "stream",
     "text": [
      "3245873\n"
     ]
    },
    {
     "data": {
      "image/png": "[encoded data removed]",
      "text/plain": [
       "<PIL.Image.Image image mode=RGB size=90x100 at 0x7F05195DB460>"
      ]
     },
     "metadata": {},
     "output_type": "display_data"
    },
    {
     "name": "stdout",
     "output_type": "stream",
     "text": [
      "8110301\n"
     ]
    },
    {
     "data": {
      "image/png": "[encoded data removed]",
      "text/plain": [
       "<PIL.Image.Image image mode=RGB size=90x100 at 0x7F05195DBD60>"
      ]
     },
     "metadata": {},
     "output_type": "display_data"
    },
    {
     "name": "stdout",
     "output_type": "stream",
     "text": [
      "7246495\n"
     ]
    },
    {
     "data": {
      "image/png": "[encoded data removed]",
      "text/plain": [
       "<PIL.Image.Image image mode=RGB size=90x100 at 0x7F05195DB460>"
      ]
     },
     "metadata": {},
     "output_type": "display_data"
    },
    {
     "name": "stdout",
     "output_type": "stream",
     "text": [
      "1027958\n"
     ]
    },
    {
     "data": {
      "image/png": "[encoded data removed]",
      "text/plain": [
       "<PIL.Image.Image image mode=RGB size=90x100 at 0x7F05195E7340>"
      ]
     },
     "metadata": {},
     "output_type": "display_data"
    },
    {
     "name": "stdout",
     "output_type": "stream",
     "text": [
      "41934512\n"
     ]
    },
    {
     "data": {
      "image/png": "[encoded data removed]",
      "text/plain": [
       "<PIL.Image.Image image mode=RGB size=90x100 at 0x7F05195DB460>"
      ]
     },
     "metadata": {},
     "output_type": "display_data"
    },
    {
     "name": "stdout",
     "output_type": "stream",
     "text": [
      "7989896\n"
     ]
    },
    {
     "data": {
      "image/png": "[encoded data removed]",
      "text/plain": [
       "<PIL.Image.Image image mode=RGB size=90x100 at 0x7F05195DB2B0>"
      ]
     },
     "metadata": {},
     "output_type": "display_data"
    },
    {
     "name": "stdout",
     "output_type": "stream",
     "text": [
      "9468284\n"
     ]
    },
    {
     "data": {
      "image/png": "[encoded data removed]",
      "text/plain": [
       "<PIL.Image.Image image mode=RGB size=90x100 at 0x7F05195DB0A0>"
      ]
     },
     "metadata": {},
     "output_type": "display_data"
    },
    {
     "name": "stdout",
     "output_type": "stream",
     "text": [
      "9773518\n"
     ]
    },
    {
     "data": {
      "image/png": "[encoded data removed]",
      "text/plain": [
       "<PIL.Image.Image image mode=RGB size=90x100 at 0x7F05195DB1F0>"
      ]
     },
     "metadata": {},
     "output_type": "display_data"
    },
    {
     "name": "stdout",
     "output_type": "stream",
     "text": [
      "10966396\n"
     ]
    },
    {
     "data": {
      "image/png": "[encoded data removed]",
      "text/plain": [
       "<PIL.Image.Image image mode=RGB size=90x100 at 0x7F05195DB0A0>"
      ]
     },
     "metadata": {},
     "output_type": "display_data"
    },
    {
     "name": "stdout",
     "output_type": "stream",
     "text": [
      "67554320\n"
     ]
    },
    {
     "data": {
      "image/png": "[encoded data removed]",
      "text/plain": [
       "<PIL.Image.Image image mode=RGB size=90x100 at 0x7F05195DB2B0>"
      ]
     },
     "metadata": {},
     "output_type": "display_data"
    },
    {
     "name": "stdout",
     "output_type": "stream",
     "text": [
      "12852944\n"
     ]
    },
    {
     "data": {
      "image/png": "[encoded data removed]",
      "text/plain": [
       "<PIL.Image.Image image mode=RGB size=90x100 at 0x7F05195DB0A0>"
      ]
     },
     "metadata": {},
     "output_type": "display_data"
    },
    {
     "name": "stdout",
     "output_type": "stream",
     "text": [
      "11734185\n"
     ]
    },
    {
     "data": {
      "image/png": "[encoded data removed]",
      "text/plain": [
       "<PIL.Image.Image image mode=RGB size=90x100 at 0x7F05195DB1F0>"
      ]
     },
     "metadata": {},
     "output_type": "display_data"
    },
    {
     "name": "stdout",
     "output_type": "stream",
     "text": [
      "44743222\n"
     ]
    },
    {
     "data": {
      "image/png": "[encoded data removed]",
      "text/plain": [
       "<PIL.Image.Image image mode=RGB size=90x100 at 0x7F05195DB4F0>"
      ]
     },
     "metadata": {},
     "output_type": "display_data"
    },
    {
     "name": "stdout",
     "output_type": "stream",
     "text": [
      "9162769\n"
     ]
    },
    {
     "data": {
      "image/png": "[encoded data removed]",
      "text/plain": [
       "<PIL.Image.Image image mode=RGB size=90x100 at 0x7F05195DB2B0>"
      ]
     },
     "metadata": {},
     "output_type": "display_data"
    },
    {
     "name": "stdout",
     "output_type": "stream",
     "text": [
      "8209058\n"
     ]
    },
    {
     "data": {
      "image/png": "[encoded data removed]",
      "text/plain": [
       "<PIL.Image.Image image mode=RGB size=90x100 at 0x7F05195DB460>"
      ]
     },
     "metadata": {},
     "output_type": "display_data"
    },
    {
     "name": "stdout",
     "output_type": "stream",
     "text": [
      "5282491\n"
     ]
    },
    {
     "data": {
      "image/png": "[encoded data removed]",
      "text/plain": [
       "<PIL.Image.Image image mode=RGB size=90x100 at 0x7F05195DB4F0>"
      ]
     },
     "metadata": {},
     "output_type": "display_data"
    },
    {
     "name": "stdout",
     "output_type": "stream",
     "text": [
      "776153\n"
     ]
    },
    {
     "data": {
      "image/png": "[encoded data removed]",
      "text/plain": [
       "<PIL.Image.Image image mode=RGB size=90x100 at 0x7F05195DB1F0>"
      ]
     },
     "metadata": {},
     "output_type": "display_data"
    },
    {
     "name": "stdout",
     "output_type": "stream",
     "text": [
      "752467\n"
     ]
    },
    {
     "data": {
      "image/png": "[encoded data removed]",
      "text/plain": [
       "<PIL.Image.Image image mode=RGB size=90x100 at 0x7F05195DB2B0>"
      ]
     },
     "metadata": {},
     "output_type": "display_data"
    },
    {
     "name": "stdout",
     "output_type": "stream",
     "text": [
      "11414172\n"
     ]
    },
    {
     "data": {
      "image/png": "[encoded data removed]",
      "text/plain": [
       "<PIL.Image.Image image mode=RGB size=90x100 at 0x7F05195E74F0>"
      ]
     },
     "metadata": {},
     "output_type": "display_data"
    },
    {
     "name": "stdout",
     "output_type": "stream",
     "text": [
      "11591363\n"
     ]
    },
    {
     "data": {
      "image/png": "[encoded data removed]",
      "text/plain": [
       "<PIL.Image.Image image mode=RGB size=90x100 at 0x7F05195E7310>"
      ]
     },
     "metadata": {},
     "output_type": "display_data"
    },
    {
     "name": "stdout",
     "output_type": "stream",
     "text": [
      "6546855\n"
     ]
    },
    {
     "data": {
      "image/png": "[encoded data removed]",
      "text/plain": [
       "<PIL.Image.Image image mode=RGB size=90x100 at 0x7F05195DB1F0>"
      ]
     },
     "metadata": {},
     "output_type": "display_data"
    },
    {
     "name": "stdout",
     "output_type": "stream",
     "text": [
      "12145758\n"
     ]
    },
    {
     "data": {
      "image/png": "[encoded data removed]",
      "text/plain": [
       "<PIL.Image.Image image mode=RGB size=90x100 at 0x7F05195DB460>"
      ]
     },
     "metadata": {},
     "output_type": "display_data"
    },
    {
     "name": "stdout",
     "output_type": "stream",
     "text": [
      "13561072\n"
     ]
    },
    {
     "data": {
      "image/png": "[encoded data removed]",
      "text/plain": [
       "<PIL.Image.Image image mode=RGB size=90x100 at 0x7F05195DB4F0>"
      ]
     },
     "metadata": {},
     "output_type": "display_data"
    },
    {
     "name": "stdout",
     "output_type": "stream",
     "text": [
      "10470762\n"
     ]
    },
    {
     "data": {
      "image/png": "[encoded data removed]",
      "text/plain": [
       "<PIL.Image.Image image mode=RGB size=90x100 at 0x7F05195E7430>"
      ]
     },
     "metadata": {},
     "output_type": "display_data"
    },
    {
     "name": "stdout",
     "output_type": "stream",
     "text": [
      "3473300\n"
     ]
    },
    {
     "data": {
      "image/png": "[encoded data removed]",
      "text/plain": [
       "<PIL.Image.Image image mode=RGB size=90x100 at 0x7F05195DB460>"
      ]
     },
     "metadata": {},
     "output_type": "display_data"
    },
    {
     "name": "stdout",
     "output_type": "stream",
     "text": [
      "3523564\n"
     ]
    },
    {
     "data": {
      "image/png": "[encoded data removed]",
      "text/plain": [
       "<PIL.Image.Image image mode=RGB size=90x100 at 0x7F05195DB4F0>"
      ]
     },
     "metadata": {},
     "output_type": "display_data"
    },
    {
     "name": "stdout",
     "output_type": "stream",
     "text": [
      "8777993\n"
     ]
    },
    {
     "data": {
      "image/png": "[encoded data removed]",
      "text/plain": [
       "<PIL.Image.Image image mode=RGB size=90x100 at 0x7F05195E7340>"
      ]
     },
     "metadata": {},
     "output_type": "display_data"
    },
    {
     "name": "stdout",
     "output_type": "stream",
     "text": [
      "11749966\n"
     ]
    },
    {
     "data": {
      "image/png": "[encoded data removed]",
      "text/plain": [
       "<PIL.Image.Image image mode=RGB size=90x100 at 0x7F05195DB2B0>"
      ]
     },
     "metadata": {},
     "output_type": "display_data"
    },
    {
     "name": "stdout",
     "output_type": "stream",
     "text": [
      "12917230\n"
     ]
    },
    {
     "data": {
      "image/png": "[encoded data removed]",
      "text/plain": [
       "<PIL.Image.Image image mode=RGB size=90x100 at 0x7F05195DB1F0>"
      ]
     },
     "metadata": {},
     "output_type": "display_data"
    },
    {
     "name": "stdout",
     "output_type": "stream",
     "text": [
      "2265266\n"
     ]
    },
    {
     "data": {
      "image/png": "[encoded data removed]",
      "text/plain": [
       "<PIL.Image.Image image mode=RGB size=90x100 at 0x7F05195DB2B0>"
      ]
     },
     "metadata": {},
     "output_type": "display_data"
    },
    {
     "name": "stdout",
     "output_type": "stream",
     "text": [
      "7240215\n"
     ]
    },
    {
     "data": {
      "image/png": "[encoded data removed]",
      "text/plain": [
       "<PIL.Image.Image image mode=RGB size=90x100 at 0x7F05195DB4F0>"
      ]
     },
     "metadata": {},
     "output_type": "display_data"
    },
    {
     "name": "stdout",
     "output_type": "stream",
     "text": [
      "86317446\n"
     ]
    },
    {
     "data": {
      "image/png": "[encoded data removed]",
      "text/plain": [
       "<PIL.Image.Image image mode=RGB size=90x100 at 0x7F05195DB1F0>"
      ]
     },
     "metadata": {},
     "output_type": "display_data"
    },
    {
     "name": "stdout",
     "output_type": "stream",
     "text": [
      "59818277\n"
     ]
    },
    {
     "data": {
      "image/png": "[encoded data removed]",
      "text/plain": [
       "<PIL.Image.Image image mode=RGB size=90x100 at 0x7F05195DB0A0>"
      ]
     },
     "metadata": {},
     "output_type": "display_data"
    },
    {
     "name": "stdout",
     "output_type": "stream",
     "text": [
      "13600749\n"
     ]
    },
    {
     "data": {
      "image/png": "[encoded data removed]",
      "text/plain": [
       "<PIL.Image.Image image mode=RGB size=90x100 at 0x7F05195DB1F0>"
      ]
     },
     "metadata": {},
     "output_type": "display_data"
    },
    {
     "name": "stdout",
     "output_type": "stream",
     "text": [
      "80846113\n"
     ]
    },
    {
     "data": {
      "image/png": "[encoded data removed]",
      "text/plain": [
       "<PIL.Image.Image image mode=RGB size=90x100 at 0x7F05195DB2B0>"
      ]
     },
     "metadata": {},
     "output_type": "display_data"
    },
    {
     "name": "stdout",
     "output_type": "stream",
     "text": [
      "7342625\n"
     ]
    },
    {
     "data": {
      "image/png": "[encoded data removed]",
      "text/plain": [
       "<PIL.Image.Image image mode=RGB size=90x100 at 0x7F05195DB0A0>"
      ]
     },
     "metadata": {},
     "output_type": "display_data"
    },
    {
     "name": "stdout",
     "output_type": "stream",
     "text": [
      "7610735\n"
     ]
    },
    {
     "data": {
      "image/png": "[encoded data removed]",
      "text/plain": [
       "<PIL.Image.Image image mode=RGB size=90x100 at 0x7F05195DBD60>"
      ]
     },
     "metadata": {},
     "output_type": "display_data"
    },
    {
     "name": "stdout",
     "output_type": "stream",
     "text": [
      "9652764\n"
     ]
    },
    {
     "data": {
      "image/png": "[encoded data removed]",
      "text/plain": [
       "<PIL.Image.Image image mode=RGB size=90x100 at 0x7F05195DB460>"
      ]
     },
     "metadata": {},
     "output_type": "display_data"
    },
    {
     "name": "stdout",
     "output_type": "stream",
     "text": [
      "9994026\n"
     ]
    },
    {
     "data": {
      "image/png": "[encoded data removed]",
      "text/plain": [
       "<PIL.Image.Image image mode=RGB size=90x100 at 0x7F05195DB2B0>"
      ]
     },
     "metadata": {},
     "output_type": "display_data"
    },
    {
     "name": "stdout",
     "output_type": "stream",
     "text": [
      "3473009\n"
     ]
    },
    {
     "data": {
      "image/png": "[encoded data removed]",
      "text/plain": [
       "<PIL.Image.Image image mode=RGB size=90x100 at 0x7F05195C9D90>"
      ]
     },
     "metadata": {},
     "output_type": "display_data"
    },
    {
     "name": "stdout",
     "output_type": "stream",
     "text": [
      "74532412\n"
     ]
    },
    {
     "data": {
      "image/png": "[encoded data removed]",
      "text/plain": [
       "<PIL.Image.Image image mode=RGB size=90x100 at 0x7F05195DB460>"
      ]
     },
     "metadata": {},
     "output_type": "display_data"
    },
    {
     "name": "stdout",
     "output_type": "stream",
     "text": [
      "11159896\n"
     ]
    },
    {
     "data": {
      "image/png": "[encoded data removed]",
      "text/plain": [
       "<PIL.Image.Image image mode=RGB size=90x100 at 0x7F05195DB4F0>"
      ]
     },
     "metadata": {},
     "output_type": "display_data"
    },
    {
     "name": "stdout",
     "output_type": "stream",
     "text": [
      "11739843\n"
     ]
    },
    {
     "data": {
      "image/png": "[encoded data removed]",
      "text/plain": [
       "<PIL.Image.Image image mode=RGB size=90x100 at 0x7F05195C9D90>"
      ]
     },
     "metadata": {},
     "output_type": "display_data"
    },
    {
     "name": "stdout",
     "output_type": "stream",
     "text": [
      "5231259\n"
     ]
    },
    {
     "data": {
      "image/png": "[encoded data removed]",
      "text/plain": [
       "<PIL.Image.Image image mode=RGB size=90x100 at 0x7F05195DB4F0>"
      ]
     },
     "metadata": {},
     "output_type": "display_data"
    },
    {
     "name": "stdout",
     "output_type": "stream",
     "text": [
      "51060647\n"
     ]
    },
    {
     "data": {
      "image/png": "[encoded data removed]",
      "text/plain": [
       "<PIL.Image.Image image mode=RGB size=90x100 at 0x7F05195E7070>"
      ]
     },
     "metadata": {},
     "output_type": "display_data"
    },
    {
     "name": "stdout",
     "output_type": "stream",
     "text": [
      "8073089\n"
     ]
    },
    {
     "data": {
      "image/png": "[encoded data removed]",
      "text/plain": [
       "<PIL.Image.Image image mode=RGB size=90x100 at 0x7F05195DB4F0>"
      ]
     },
     "metadata": {},
     "output_type": "display_data"
    },
    {
     "name": "stdout",
     "output_type": "stream",
     "text": [
      "13265209\n"
     ]
    },
    {
     "data": {
      "image/png": "[encoded data removed]",
      "text/plain": [
       "<PIL.Image.Image image mode=RGB size=90x100 at 0x7F05195DB1F0>"
      ]
     },
     "metadata": {},
     "output_type": "display_data"
    },
    {
     "name": "stdout",
     "output_type": "stream",
     "text": [
      "710786\n"
     ]
    },
    {
     "data": {
      "image/png": "[encoded data removed]",
      "text/plain": [
       "<PIL.Image.Image image mode=RGB size=90x100 at 0x7F05195DB0A0>"
      ]
     },
     "metadata": {},
     "output_type": "display_data"
    },
    {
     "name": "stdout",
     "output_type": "stream",
     "text": [
      "11071895\n"
     ]
    },
    {
     "data": {
      "image/png": "[encoded data removed]",
      "text/plain": [
       "<PIL.Image.Image image mode=RGB size=90x100 at 0x7F05195DB1F0>"
      ]
     },
     "metadata": {},
     "output_type": "display_data"
    },
    {
     "name": "stdout",
     "output_type": "stream",
     "text": [
      "5357648\n"
     ]
    },
    {
     "data": {
      "image/png": "[encoded data removed]",
      "text/plain": [
       "<PIL.Image.Image image mode=RGB size=90x100 at 0x7F05195DBD60>"
      ]
     },
     "metadata": {},
     "output_type": "display_data"
    },
    {
     "name": "stdout",
     "output_type": "stream",
     "text": [
      "12127628\n"
     ]
    },
    {
     "data": {
      "image/png": "[encoded data removed]",
      "text/plain": [
       "<PIL.Image.Image image mode=RGB size=90x100 at 0x7F05195DB0A0>"
      ]
     },
     "metadata": {},
     "output_type": "display_data"
    },
    {
     "name": "stdout",
     "output_type": "stream",
     "text": [
      "7679462\n"
     ]
    },
    {
     "data": {
      "image/png": "[encoded data removed]",
      "text/plain": [
       "<PIL.Image.Image image mode=RGB size=90x100 at 0x7F05195DBD60>"
      ]
     },
     "metadata": {},
     "output_type": "display_data"
    },
    {
     "name": "stdout",
     "output_type": "stream",
     "text": [
      "5824353\n"
     ]
    },
    {
     "data": {
      "image/png": "[encoded data removed]",
      "text/plain": [
       "<PIL.Image.Image image mode=RGB size=90x100 at 0x7F05195DB460>"
      ]
     },
     "metadata": {},
     "output_type": "display_data"
    },
    {
     "name": "stdout",
     "output_type": "stream",
     "text": [
      "2677648\n"
     ]
    },
    {
     "data": {
      "image/png": "[encoded data removed]",
      "text/plain": [
       "<PIL.Image.Image image mode=RGB size=90x100 at 0x7F05195DB4F0>"
      ]
     },
     "metadata": {},
     "output_type": "display_data"
    },
    {
     "name": "stdout",
     "output_type": "stream",
     "text": [
      "4946561\n"
     ]
    },
    {
     "data": {
      "image/png": "[encoded data removed]",
      "text/plain": [
       "<PIL.Image.Image image mode=RGB size=90x100 at 0x7F05195DB0A0>"
      ]
     },
     "metadata": {},
     "output_type": "display_data"
    },
    {
     "name": "stdout",
     "output_type": "stream",
     "text": [
      "6288860\n"
     ]
    },
    {
     "data": {
      "image/png": "[encoded data removed]",
      "text/plain": [
       "<PIL.Image.Image image mode=RGB size=90x100 at 0x7F05195DBD60>"
      ]
     },
     "metadata": {},
     "output_type": "display_data"
    },
    {
     "name": "stdout",
     "output_type": "stream",
     "text": [
      "11819674\n"
     ]
    },
    {
     "data": {
      "image/png": "[encoded data removed]",
      "text/plain": [
       "<PIL.Image.Image image mode=RGB size=90x100 at 0x7F05195E7070>"
      ]
     },
     "metadata": {},
     "output_type": "display_data"
    },
    {
     "name": "stdout",
     "output_type": "stream",
     "text": [
      "7267112\n"
     ]
    },
    {
     "data": {
      "image/png": "[encoded data removed]",
      "text/plain": [
       "<PIL.Image.Image image mode=RGB size=90x100 at 0x7F05195DB0A0>"
      ]
     },
     "metadata": {},
     "output_type": "display_data"
    },
    {
     "name": "stdout",
     "output_type": "stream",
     "text": [
      "10752414\n"
     ]
    },
    {
     "data": {
      "image/png": "[encoded data removed]",
      "text/plain": [
       "<PIL.Image.Image image mode=RGB size=90x100 at 0x7F05195DB1F0>"
      ]
     },
     "metadata": {},
     "output_type": "display_data"
    },
    {
     "name": "stdout",
     "output_type": "stream",
     "text": [
      "13389206\n"
     ]
    },
    {
     "data": {
      "image/png": "[encoded data removed]",
      "text/plain": [
       "<PIL.Image.Image image mode=RGB size=90x100 at 0x7F05195DB4F0>"
      ]
     },
     "metadata": {},
     "output_type": "display_data"
    },
    {
     "name": "stdout",
     "output_type": "stream",
     "text": [
      "7943851\n"
     ]
    },
    {
     "data": {
      "image/png": "[encoded data removed]",
      "text/plain": [
       "<PIL.Image.Image image mode=RGB size=90x100 at 0x7F05195DB460>"
      ]
     },
     "metadata": {},
     "output_type": "display_data"
    },
    {
     "name": "stdout",
     "output_type": "stream",
     "text": [
      "11496054\n"
     ]
    },
    {
     "data": {
      "image/png": "[encoded data removed]",
      "text/plain": [
       "<PIL.Image.Image image mode=RGB size=90x100 at 0x7F05195E7070>"
      ]
     },
     "metadata": {},
     "output_type": "display_data"
    },
    {
     "name": "stdout",
     "output_type": "stream",
     "text": [
      "8781995\n"
     ]
    },
    {
     "data": {
      "image/png": "[encoded data removed]",
      "text/plain": [
       "<PIL.Image.Image image mode=RGB size=90x100 at 0x7F05195DB460>"
      ]
     },
     "metadata": {},
     "output_type": "display_data"
    },
    {
     "name": "stdout",
     "output_type": "stream",
     "text": [
      "7578950\n"
     ]
    },
    {
     "data": {
      "image/png": "[encoded data removed]",
      "text/plain": [
       "<PIL.Image.Image image mode=RGB size=90x100 at 0x7F05195C9D90>"
      ]
     },
     "metadata": {},
     "output_type": "display_data"
    },
    {
     "name": "stdout",
     "output_type": "stream",
     "text": [
      "9949793\n"
     ]
    },
    {
     "data": {
      "image/png": "[encoded data removed]",
      "text/plain": [
       "<PIL.Image.Image image mode=RGB size=90x100 at 0x7F05195DB1F0>"
      ]
     },
     "metadata": {},
     "output_type": "display_data"
    },
    {
     "name": "stdout",
     "output_type": "stream",
     "text": [
      "10513847\n"
     ]
    },
    {
     "data": {
      "image/png": "[encoded data removed]",
      "text/plain": [
       "<PIL.Image.Image image mode=RGB size=90x100 at 0x7F05195DB460>"
      ]
     },
     "metadata": {},
     "output_type": "display_data"
    },
    {
     "name": "stdout",
     "output_type": "stream",
     "text": [
      "43959247\n"
     ]
    },
    {
     "data": {
      "image/png": "[encoded data removed]",
      "text/plain": [
       "<PIL.Image.Image image mode=RGB size=90x100 at 0x7F05195C9D90>"
      ]
     },
     "metadata": {},
     "output_type": "display_data"
    },
    {
     "name": "stdout",
     "output_type": "stream",
     "text": [
      "8161828\n"
     ]
    },
    {
     "data": {
      "image/png": "[encoded data removed]",
      "text/plain": [
       "<PIL.Image.Image image mode=RGB size=90x100 at 0x7F05195DB0A0>"
      ]
     },
     "metadata": {},
     "output_type": "display_data"
    },
    {
     "name": "stdout",
     "output_type": "stream",
     "text": [
      "63592498\n"
     ]
    },
    {
     "data": {
      "image/png": "[encoded data removed]",
      "text/plain": [
       "<PIL.Image.Image image mode=RGB size=90x100 at 0x7F05195DB4F0>"
      ]
     },
     "metadata": {},
     "output_type": "display_data"
    },
    {
     "name": "stdout",
     "output_type": "stream",
     "text": [
      "20769070\n"
     ]
    },
    {
     "data": {
      "image/png": "[encoded data removed]",
      "text/plain": [
       "<PIL.Image.Image image mode=RGB size=90x100 at 0x7F05195DB460>"
      ]
     },
     "metadata": {},
     "output_type": "display_data"
    },
    {
     "name": "stdout",
     "output_type": "stream",
     "text": [
      "3180558\n"
     ]
    },
    {
     "data": {
      "image/png": "[encoded data removed]",
      "text/plain": [
       "<PIL.Image.Image image mode=RGB size=90x100 at 0x7F05195C9D90>"
      ]
     },
     "metadata": {},
     "output_type": "display_data"
    },
    {
     "name": "stdout",
     "output_type": "stream",
     "text": [
      "28652840\n"
     ]
    },
    {
     "data": {
      "image/png": "[encoded data removed]",
      "text/plain": [
       "<PIL.Image.Image image mode=RGB size=90x100 at 0x7F05195DB0A0>"
      ]
     },
     "metadata": {},
     "output_type": "display_data"
    },
    {
     "name": "stdout",
     "output_type": "stream",
     "text": [
      "2773869\n"
     ]
    },
    {
     "data": {
      "image/png": "[encoded data removed]",
      "text/plain": [
       "<PIL.Image.Image image mode=RGB size=90x100 at 0x7F05195DB1F0>"
      ]
     },
     "metadata": {},
     "output_type": "display_data"
    },
    {
     "name": "stdout",
     "output_type": "stream",
     "text": [
      "7180475\n"
     ]
    },
    {
     "data": {
      "image/png": "[encoded data removed]",
      "text/plain": [
       "<PIL.Image.Image image mode=RGB size=90x100 at 0x7F05195DB4F0>"
      ]
     },
     "metadata": {},
     "output_type": "display_data"
    },
    {
     "name": "stdout",
     "output_type": "stream",
     "text": [
      "12913468\n"
     ]
    },
    {
     "data": {
      "image/png": "[encoded data removed]",
      "text/plain": [
       "<PIL.Image.Image image mode=RGB size=90x100 at 0x7F05195DB0A0>"
      ]
     },
     "metadata": {},
     "output_type": "display_data"
    },
    {
     "name": "stdout",
     "output_type": "stream",
     "text": [
      "3475096\n"
     ]
    },
    {
     "data": {
      "image/png": "[encoded data removed]",
      "text/plain": [
       "<PIL.Image.Image image mode=RGB size=90x100 at 0x7F05195C9D90>"
      ]
     },
     "metadata": {},
     "output_type": "display_data"
    },
    {
     "name": "stdout",
     "output_type": "stream",
     "text": [
      "1625442\n"
     ]
    },
    {
     "data": {
      "image/png": "[encoded data removed]",
      "text/plain": [
       "<PIL.Image.Image image mode=RGB size=90x100 at 0x7F05195DB1F0>"
      ]
     },
     "metadata": {},
     "output_type": "display_data"
    },
    {
     "name": "stdout",
     "output_type": "stream",
     "text": [
      "21966605\n"
     ]
    },
    {
     "data": {
      "image/png": "[encoded data removed]",
      "text/plain": [
       "<PIL.Image.Image image mode=RGB size=90x100 at 0x7F05195DB0A0>"
      ]
     },
     "metadata": {},
     "output_type": "display_data"
    },
    {
     "name": "stdout",
     "output_type": "stream",
     "text": [
      "11941029\n"
     ]
    },
    {
     "data": {
      "image/png": "[encoded data removed]",
      "text/plain": [
       "<PIL.Image.Image image mode=RGB size=90x100 at 0x7F05195DB460>"
      ]
     },
     "metadata": {},
     "output_type": "display_data"
    },
    {
     "name": "stdout",
     "output_type": "stream",
     "text": [
      "66480139\n"
     ]
    },
    {
     "data": {
      "image/png": "[encoded data removed]",
      "text/plain": [
       "<PIL.Image.Image image mode=RGB size=90x100 at 0x7F05195E70A0>"
      ]
     },
     "metadata": {},
     "output_type": "display_data"
    },
    {
     "name": "stdout",
     "output_type": "stream",
     "text": [
      "79313091\n"
     ]
    },
    {
     "data": {
      "image/png": "[encoded data removed]",
      "text/plain": [
       "<PIL.Image.Image image mode=RGB size=90x100 at 0x7F05195DB1F0>"
      ]
     },
     "metadata": {},
     "output_type": "display_data"
    },
    {
     "name": "stdout",
     "output_type": "stream",
     "text": [
      "672221\n"
     ]
    },
    {
     "data": {
      "image/png": "[encoded data removed]",
      "text/plain": [
       "<PIL.Image.Image image mode=RGB size=90x100 at 0x7F05195DB460>"
      ]
     },
     "metadata": {},
     "output_type": "display_data"
    },
    {
     "name": "stdout",
     "output_type": "stream",
     "text": [
      "7876514\n"
     ]
    },
    {
     "data": {
      "image/png": "[encoded data removed]",
      "text/plain": [
       "<PIL.Image.Image image mode=RGB size=90x100 at 0x7F05195C9D90>"
      ]
     },
     "metadata": {},
     "output_type": "display_data"
    },
    {
     "name": "stdout",
     "output_type": "stream",
     "text": [
      "10726576\n"
     ]
    },
    {
     "data": {
      "image/png": "[encoded data removed]",
      "text/plain": [
       "<PIL.Image.Image image mode=RGB size=90x100 at 0x7F05195DB0A0>"
      ]
     },
     "metadata": {},
     "output_type": "display_data"
    },
    {
     "name": "stdout",
     "output_type": "stream",
     "text": [
      "12448798\n"
     ]
    },
    {
     "data": {
      "image/png": "[encoded data removed]",
      "text/plain": [
       "<PIL.Image.Image image mode=RGB size=90x100 at 0x7F05195DB1F0>"
      ]
     },
     "metadata": {},
     "output_type": "display_data"
    },
    {
     "name": "stdout",
     "output_type": "stream",
     "text": [
      "1173000\n"
     ]
    },
    {
     "data": {
      "image/png": "[encoded data removed]",
      "text/plain": [
       "<PIL.Image.Image image mode=RGB size=90x100 at 0x7F05195DB0A0>"
      ]
     },
     "metadata": {},
     "output_type": "display_data"
    },
    {
     "name": "stdout",
     "output_type": "stream",
     "text": [
      "78651867\n"
     ]
    },
    {
     "data": {
      "image/png": "[encoded data removed]",
      "text/plain": [
       "<PIL.Image.Image image mode=RGB size=90x100 at 0x7F05195DB460>"
      ]
     },
     "metadata": {},
     "output_type": "display_data"
    },
    {
     "name": "stdout",
     "output_type": "stream",
     "text": [
      "13407010\n"
     ]
    },
    {
     "data": {
      "image/png": "[encoded data removed]",
      "text/plain": [
       "<PIL.Image.Image image mode=RGB size=90x100 at 0x7F05195C9D90>"
      ]
     },
     "metadata": {},
     "output_type": "display_data"
    },
    {
     "name": "stdout",
     "output_type": "stream",
     "text": [
      "11922301\n"
     ]
    },
    {
     "data": {
      "image/png": "[encoded data removed]",
      "text/plain": [
       "<PIL.Image.Image image mode=RGB size=90x100 at 0x7F05195DB4F0>"
      ]
     },
     "metadata": {},
     "output_type": "display_data"
    },
    {
     "name": "stdout",
     "output_type": "stream",
     "text": [
      "2258142\n"
     ]
    },
    {
     "data": {
      "image/png": "[encoded data removed]",
      "text/plain": [
       "<PIL.Image.Image image mode=RGB size=90x100 at 0x7F05195DB1F0>"
      ]
     },
     "metadata": {},
     "output_type": "display_data"
    },
    {
     "name": "stdout",
     "output_type": "stream",
     "text": [
      "13930236\n"
     ]
    },
    {
     "data": {
      "image/png": "[encoded data removed]",
      "text/plain": [
       "<PIL.Image.Image image mode=RGB size=90x100 at 0x7F05195DB460>"
      ]
     },
     "metadata": {},
     "output_type": "display_data"
    },
    {
     "name": "stdout",
     "output_type": "stream",
     "text": [
      "7871766\n"
     ]
    },
    {
     "data": {
      "image/png": "[encoded data removed]",
      "text/plain": [
       "<PIL.Image.Image image mode=RGB size=90x100 at 0x7F05195C9D90>"
      ]
     },
     "metadata": {},
     "output_type": "display_data"
    },
    {
     "name": "stdout",
     "output_type": "stream",
     "text": [
      "10159833\n"
     ]
    },
    {
     "data": {
      "image/png": "[encoded data removed]",
      "text/plain": [
       "<PIL.Image.Image image mode=RGB size=90x100 at 0x7F05195DB0A0>"
      ]
     },
     "metadata": {},
     "output_type": "display_data"
    },
    {
     "name": "stdout",
     "output_type": "stream",
     "text": [
      "13024630\n"
     ]
    },
    {
     "data": {
      "image/png": "[encoded data removed]",
      "text/plain": [
       "<PIL.Image.Image image mode=RGB size=90x100 at 0x7F05195DB460>"
      ]
     },
     "metadata": {},
     "output_type": "display_data"
    },
    {
     "name": "stdout",
     "output_type": "stream",
     "text": [
      "305193\n"
     ]
    },
    {
     "data": {
      "image/png": "[encoded data removed]",
      "text/plain": [
       "<PIL.Image.Image image mode=RGB size=90x100 at 0x7F05195DB1F0>"
      ]
     },
     "metadata": {},
     "output_type": "display_data"
    },
    {
     "name": "stdout",
     "output_type": "stream",
     "text": [
      "6720619\n"
     ]
    },
    {
     "data": {
      "image/png": "[encoded data removed]",
      "text/plain": [
       "<PIL.Image.Image image mode=RGB size=90x100 at 0x7F05195E73D0>"
      ]
     },
     "metadata": {},
     "output_type": "display_data"
    },
    {
     "name": "stdout",
     "output_type": "stream",
     "text": [
      "12734897\n"
     ]
    },
    {
     "data": {
      "image/png": "[encoded data removed]",
      "text/plain": [
       "<PIL.Image.Image image mode=RGB size=90x100 at 0x7F05195C9D90>"
      ]
     },
     "metadata": {},
     "output_type": "display_data"
    },
    {
     "name": "stdout",
     "output_type": "stream",
     "text": [
      "31485375\n"
     ]
    },
    {
     "data": {
      "image/png": "[encoded data removed]",
      "text/plain": [
       "<PIL.Image.Image image mode=RGB size=90x100 at 0x7F05195E70A0>"
      ]
     },
     "metadata": {},
     "output_type": "display_data"
    },
    {
     "name": "stdout",
     "output_type": "stream",
     "text": [
      "7026325\n"
     ]
    },
    {
     "data": {
      "image/png": "[encoded data removed]",
      "text/plain": [
       "<PIL.Image.Image image mode=RGB size=90x100 at 0x7F05195E7340>"
      ]
     },
     "metadata": {},
     "output_type": "display_data"
    },
    {
     "name": "stdout",
     "output_type": "stream",
     "text": [
      "11015179\n"
     ]
    },
    {
     "data": {
      "image/png": "[encoded data removed]",
      "text/plain": [
       "<PIL.Image.Image image mode=RGB size=90x100 at 0x7F05195E7400>"
      ]
     },
     "metadata": {},
     "output_type": "display_data"
    },
    {
     "name": "stdout",
     "output_type": "stream",
     "text": [
      "2174770\n"
     ]
    },
    {
     "data": {
      "image/png": "[encoded data removed]",
      "text/plain": [
       "<PIL.Image.Image image mode=RGB size=90x100 at 0x7F05195DB1F0>"
      ]
     },
     "metadata": {},
     "output_type": "display_data"
    },
    {
     "name": "stdout",
     "output_type": "stream",
     "text": [
      "6927630\n"
     ]
    },
    {
     "data": {
      "image/png": "[encoded data removed]",
      "text/plain": [
       "<PIL.Image.Image image mode=RGB size=90x100 at 0x7F05195DB4F0>"
      ]
     },
     "metadata": {},
     "output_type": "display_data"
    },
    {
     "name": "stdout",
     "output_type": "stream",
     "text": [
      "6634109\n"
     ]
    },
    {
     "data": {
      "image/png": "[encoded data removed]",
      "text/plain": [
       "<PIL.Image.Image image mode=RGB size=90x100 at 0x7F05195E70A0>"
      ]
     },
     "metadata": {},
     "output_type": "display_data"
    },
    {
     "name": "stdout",
     "output_type": "stream",
     "text": [
      "6312546\n"
     ]
    },
    {
     "data": {
      "image/png": "[encoded data removed]",
      "text/plain": [
       "<PIL.Image.Image image mode=RGB size=90x100 at 0x7F05195E7460>"
      ]
     },
     "metadata": {},
     "output_type": "display_data"
    },
    {
     "name": "stdout",
     "output_type": "stream",
     "text": [
      "52918949\n"
     ]
    },
    {
     "data": {
      "image/png": "[encoded data removed]",
      "text/plain": [
       "<PIL.Image.Image image mode=RGB size=90x100 at 0x7F05195E7490>"
      ]
     },
     "metadata": {},
     "output_type": "display_data"
    },
    {
     "name": "stdout",
     "output_type": "stream",
     "text": [
      "6333970\n"
     ]
    },
    {
     "data": {
      "image/png": "[encoded data removed]",
      "text/plain": [
       "<PIL.Image.Image image mode=RGB size=90x100 at 0x7F05195E72E0>"
      ]
     },
     "metadata": {},
     "output_type": "display_data"
    },
    {
     "name": "stdout",
     "output_type": "stream",
     "text": [
      "10476926\n"
     ]
    },
    {
     "data": {
      "image/png": "[encoded data removed]",
      "text/plain": [
       "<PIL.Image.Image image mode=RGB size=90x100 at 0x7F05195E7400>"
      ]
     },
     "metadata": {},
     "output_type": "display_data"
    },
    {
     "name": "stdout",
     "output_type": "stream",
     "text": [
      "7503132\n"
     ]
    },
    {
     "data": {
      "image/png": "[encoded data removed]",
      "text/plain": [
       "<PIL.Image.Image image mode=RGB size=90x100 at 0x7F05195DB4F0>"
      ]
     },
     "metadata": {},
     "output_type": "display_data"
    },
    {
     "name": "stdout",
     "output_type": "stream",
     "text": [
      "13159330\n"
     ]
    },
    {
     "data": {
      "image/png": "[encoded data removed]",
      "text/plain": [
       "<PIL.Image.Image image mode=RGB size=90x100 at 0x7F05195E7460>"
      ]
     },
     "metadata": {},
     "output_type": "display_data"
    },
    {
     "name": "stdout",
     "output_type": "stream",
     "text": [
      "33178982\n"
     ]
    },
    {
     "data": {
      "image/png": "[encoded data removed]",
      "text/plain": [
       "<PIL.Image.Image image mode=RGB size=90x100 at 0x7F05195C9D90>"
      ]
     },
     "metadata": {},
     "output_type": "display_data"
    },
    {
     "name": "stdout",
     "output_type": "stream",
     "text": [
      "10171347\n"
     ]
    },
    {
     "data": {
      "image/png": "[encoded data removed]",
      "text/plain": [
       "<PIL.Image.Image image mode=RGB size=90x100 at 0x7F05195DB460>"
      ]
     },
     "metadata": {},
     "output_type": "display_data"
    },
    {
     "name": "stdout",
     "output_type": "stream",
     "text": [
      "12340397\n"
     ]
    },
    {
     "data": {
      "image/png": "[encoded data removed]",
      "text/plain": [
       "<PIL.Image.Image image mode=RGB size=90x100 at 0x7F05195E7580>"
      ]
     },
     "metadata": {},
     "output_type": "display_data"
    },
    {
     "name": "stdout",
     "output_type": "stream",
     "text": [
      "5491071\n"
     ]
    },
    {
     "data": {
      "image/png": "[encoded data removed]",
      "text/plain": [
       "<PIL.Image.Image image mode=RGB size=90x100 at 0x7F05195E7130>"
      ]
     },
     "metadata": {},
     "output_type": "display_data"
    },
    {
     "name": "stdout",
     "output_type": "stream",
     "text": [
      "8383841\n"
     ]
    },
    {
     "data": {
      "image/png": "[encoded data removed]",
      "text/plain": [
       "<PIL.Image.Image image mode=RGB size=90x100 at 0x7F05195DB460>"
      ]
     },
     "metadata": {},
     "output_type": "display_data"
    },
    {
     "name": "stdout",
     "output_type": "stream",
     "text": [
      "40588371\n"
     ]
    },
    {
     "data": {
      "image/png": "[encoded data removed]",
      "text/plain": [
       "<PIL.Image.Image image mode=RGB size=90x100 at 0x7F05195DB4F0>"
      ]
     },
     "metadata": {},
     "output_type": "display_data"
    },
    {
     "name": "stdout",
     "output_type": "stream",
     "text": [
      "78743776\n"
     ]
    },
    {
     "data": {
      "image/png": "[encoded data removed]",
      "text/plain": [
       "<PIL.Image.Image image mode=RGB size=90x100 at 0x7F05195DB0A0>"
      ]
     },
     "metadata": {},
     "output_type": "display_data"
    },
    {
     "name": "stdout",
     "output_type": "stream",
     "text": [
      "55180546\n"
     ]
    },
    {
     "data": {
      "image/png": "[encoded data removed]",
      "text/plain": [
       "<PIL.Image.Image image mode=RGB size=90x100 at 0x7F05195DB460>"
      ]
     },
     "metadata": {},
     "output_type": "display_data"
    },
    {
     "name": "stdout",
     "output_type": "stream",
     "text": [
      "11599557\n"
     ]
    },
    {
     "data": {
      "image/png": "[encoded data removed]",
      "text/plain": [
       "<PIL.Image.Image image mode=RGB size=90x100 at 0x7F05195C9D90>"
      ]
     },
     "metadata": {},
     "output_type": "display_data"
    },
    {
     "name": "stdout",
     "output_type": "stream",
     "text": [
      "5918623\n"
     ]
    },
    {
     "data": {
      "image/png": "[encoded data removed]",
      "text/plain": [
       "<PIL.Image.Image image mode=RGB size=90x100 at 0x7F05195DB1F0>"
      ]
     },
     "metadata": {},
     "output_type": "display_data"
    },
    {
     "name": "stdout",
     "output_type": "stream",
     "text": [
      "8144150\n"
     ]
    },
    {
     "data": {
      "image/png": "[encoded data removed]",
      "text/plain": [
       "<PIL.Image.Image image mode=RGB size=90x100 at 0x7F05195DB4F0>"
      ]
     },
     "metadata": {},
     "output_type": "display_data"
    },
    {
     "name": "stdout",
     "output_type": "stream",
     "text": [
      "18599280\n"
     ]
    },
    {
     "data": {
      "image/png": "[encoded data removed]",
      "text/plain": [
       "<PIL.Image.Image image mode=RGB size=90x100 at 0x7F05195C9D90>"
      ]
     },
     "metadata": {},
     "output_type": "display_data"
    },
    {
     "name": "stdout",
     "output_type": "stream",
     "text": [
      "8286857\n"
     ]
    },
    {
     "data": {
      "image/png": "[encoded data removed]",
      "text/plain": [
       "<PIL.Image.Image image mode=RGB size=90x100 at 0x7F05195DB0A0>"
      ]
     },
     "metadata": {},
     "output_type": "display_data"
    },
    {
     "name": "stdout",
     "output_type": "stream",
     "text": [
      "9212271\n"
     ]
    },
    {
     "data": {
      "image/png": "[encoded data removed]",
      "text/plain": [
       "<PIL.Image.Image image mode=RGB size=90x100 at 0x7F05195DB460>"
      ]
     },
     "metadata": {},
     "output_type": "display_data"
    },
    {
     "name": "stdout",
     "output_type": "stream",
     "text": [
      "957394\n"
     ]
    },
    {
     "data": {
      "image/png": "[encoded data removed]",
      "text/plain": [
       "<PIL.Image.Image image mode=RGB size=90x100 at 0x7F05195C9D90>"
      ]
     },
     "metadata": {},
     "output_type": "display_data"
    },
    {
     "name": "stdout",
     "output_type": "stream",
     "text": [
      "72614289\n"
     ]
    },
    {
     "data": {
      "image/png": "[encoded data removed]",
      "text/plain": [
       "<PIL.Image.Image image mode=RGB size=90x100 at 0x7F05195DB4F0>"
      ]
     },
     "metadata": {},
     "output_type": "display_data"
    },
    {
     "name": "stdout",
     "output_type": "stream",
     "text": [
      "11160808\n"
     ]
    },
    {
     "data": {
      "image/png": "[encoded data removed]",
      "text/plain": [
       "<PIL.Image.Image image mode=RGB size=90x100 at 0x7F05195DB0A0>"
      ]
     },
     "metadata": {},
     "output_type": "display_data"
    },
    {
     "name": "stdout",
     "output_type": "stream",
     "text": [
      "13121174\n"
     ]
    },
    {
     "data": {
      "image/png": "[encoded data removed]",
      "text/plain": [
       "<PIL.Image.Image image mode=RGB size=90x100 at 0x7F05195DB460>"
      ]
     },
     "metadata": {},
     "output_type": "display_data"
    },
    {
     "name": "stdout",
     "output_type": "stream",
     "text": [
      "7885375\n"
     ]
    },
    {
     "data": {
      "image/png": "[encoded data removed]",
      "text/plain": [
       "<PIL.Image.Image image mode=RGB size=90x100 at 0x7F05195DB4F0>"
      ]
     },
     "metadata": {},
     "output_type": "display_data"
    },
    {
     "name": "stdout",
     "output_type": "stream",
     "text": [
      "7920737\n"
     ]
    },
    {
     "data": {
      "image/png": "[encoded data removed]",
      "text/plain": [
       "<PIL.Image.Image image mode=RGB size=90x100 at 0x7F05195DB1F0>"
      ]
     },
     "metadata": {},
     "output_type": "display_data"
    },
    {
     "name": "stdout",
     "output_type": "stream",
     "text": [
      "6041763\n"
     ]
    },
    {
     "data": {
      "image/png": "[encoded data removed]",
      "text/plain": [
       "<PIL.Image.Image image mode=RGB size=90x100 at 0x7F05195DB4F0>"
      ]
     },
     "metadata": {},
     "output_type": "display_data"
    },
    {
     "name": "stdout",
     "output_type": "stream",
     "text": [
      "11911559\n"
     ]
    },
    {
     "data": {
      "image/png": "[encoded data removed]",
      "text/plain": [
       "<PIL.Image.Image image mode=RGB size=90x100 at 0x7F05195C9D90>"
      ]
     },
     "metadata": {},
     "output_type": "display_data"
    },
    {
     "name": "stdout",
     "output_type": "stream",
     "text": [
      "10718856\n"
     ]
    },
    {
     "data": {
      "image/png": "[encoded data removed]",
      "text/plain": [
       "<PIL.Image.Image image mode=RGB size=90x100 at 0x7F05195E7280>"
      ]
     },
     "metadata": {},
     "output_type": "display_data"
    },
    {
     "name": "stdout",
     "output_type": "stream",
     "text": [
      "10904135\n"
     ]
    },
    {
     "data": {
      "image/png": "[encoded data removed]",
      "text/plain": [
       "<PIL.Image.Image image mode=RGB size=90x100 at 0x7F05195E70A0>"
      ]
     },
     "metadata": {},
     "output_type": "display_data"
    },
    {
     "name": "stdout",
     "output_type": "stream",
     "text": [
      "12068889\n"
     ]
    },
    {
     "data": {
      "image/png": "[encoded data removed]",
      "text/plain": [
       "<PIL.Image.Image image mode=RGB size=90x100 at 0x7F05195C9D90>"
      ]
     },
     "metadata": {},
     "output_type": "display_data"
    },
    {
     "name": "stdout",
     "output_type": "stream",
     "text": [
      "38149576\n"
     ]
    },
    {
     "data": {
      "image/png": "[encoded data removed]",
      "text/plain": [
       "<PIL.Image.Image image mode=RGB size=90x100 at 0x7F05195DB460>"
      ]
     },
     "metadata": {},
     "output_type": "display_data"
    },
    {
     "name": "stdout",
     "output_type": "stream",
     "text": [
      "13374701\n"
     ]
    },
    {
     "data": {
      "image/png": "[encoded data removed]",
      "text/plain": [
       "<PIL.Image.Image image mode=RGB size=90x100 at 0x7F05195DB0A0>"
      ]
     },
     "metadata": {},
     "output_type": "display_data"
    },
    {
     "name": "stdout",
     "output_type": "stream",
     "text": [
      "8514481\n"
     ]
    },
    {
     "data": {
      "image/png": "[encoded data removed]",
      "text/plain": [
       "<PIL.Image.Image image mode=RGB size=90x100 at 0x7F05195DB1F0>"
      ]
     },
     "metadata": {},
     "output_type": "display_data"
    },
    {
     "name": "stdout",
     "output_type": "stream",
     "text": [
      "65659239\n"
     ]
    },
    {
     "data": {
      "image/png": "[encoded data removed]",
      "text/plain": [
       "<PIL.Image.Image image mode=RGB size=90x100 at 0x7F05195DB460>"
      ]
     },
     "metadata": {},
     "output_type": "display_data"
    },
    {
     "name": "stdout",
     "output_type": "stream",
     "text": [
      "6068227\n"
     ]
    },
    {
     "data": {
      "image/png": "[encoded data removed]",
      "text/plain": [
       "<PIL.Image.Image image mode=RGB size=90x100 at 0x7F05195C9D90>"
      ]
     },
     "metadata": {},
     "output_type": "display_data"
    },
    {
     "name": "stdout",
     "output_type": "stream",
     "text": [
      "3327887\n"
     ]
    },
    {
     "data": {
      "image/png": "[encoded data removed]",
      "text/plain": [
       "<PIL.Image.Image image mode=RGB size=90x100 at 0x7F05195E7280>"
      ]
     },
     "metadata": {},
     "output_type": "display_data"
    },
    {
     "name": "stdout",
     "output_type": "stream",
     "text": [
      "6529133\n"
     ]
    },
    {
     "data": {
      "image/png": "[encoded data removed]",
      "text/plain": [
       "<PIL.Image.Image image mode=RGB size=90x100 at 0x7F05195DB460>"
      ]
     },
     "metadata": {},
     "output_type": "display_data"
    },
    {
     "name": "stdout",
     "output_type": "stream",
     "text": [
      "7738590\n"
     ]
    },
    {
     "data": {
      "image/png": "[encoded data removed]",
      "text/plain": [
       "<PIL.Image.Image image mode=RGB size=90x100 at 0x7F05195E70A0>"
      ]
     },
     "metadata": {},
     "output_type": "display_data"
    },
    {
     "name": "stdout",
     "output_type": "stream",
     "text": [
      "5877285\n"
     ]
    },
    {
     "data": {
      "image/png": "[encoded data removed]",
      "text/plain": [
       "<PIL.Image.Image image mode=RGB size=90x100 at 0x7F05195DB460>"
      ]
     },
     "metadata": {},
     "output_type": "display_data"
    },
    {
     "name": "stdout",
     "output_type": "stream",
     "text": [
      "9038997\n"
     ]
    },
    {
     "data": {
      "image/png": "[encoded data removed]",
      "text/plain": [
       "<PIL.Image.Image image mode=RGB size=90x100 at 0x7F05195DB4F0>"
      ]
     },
     "metadata": {},
     "output_type": "display_data"
    },
    {
     "name": "stdout",
     "output_type": "stream",
     "text": [
      "2024195\n"
     ]
    },
    {
     "data": {
      "image/png": "[encoded data removed]",
      "text/plain": [
       "<PIL.Image.Image image mode=RGB size=90x100 at 0x7F05195C9D90>"
      ]
     },
     "metadata": {},
     "output_type": "display_data"
    },
    {
     "name": "stdout",
     "output_type": "stream",
     "text": [
      "12743095\n"
     ]
    },
    {
     "data": {
      "image/png": "[encoded data removed]",
      "text/plain": [
       "<PIL.Image.Image image mode=RGB size=90x100 at 0x7F05195DB1F0>"
      ]
     },
     "metadata": {},
     "output_type": "display_data"
    },
    {
     "name": "stdout",
     "output_type": "stream",
     "text": [
      "1276374\n"
     ]
    },
    {
     "data": {
      "image/png": "[encoded data removed]",
      "text/plain": [
       "<PIL.Image.Image image mode=RGB size=90x100 at 0x7F05195DB460>"
      ]
     },
     "metadata": {},
     "output_type": "display_data"
    },
    {
     "name": "stdout",
     "output_type": "stream",
     "text": [
      "9794412\n"
     ]
    },
    {
     "data": {
      "image/png": "[encoded data removed]",
      "text/plain": [
       "<PIL.Image.Image image mode=RGB size=90x100 at 0x7F05195DB1F0>"
      ]
     },
     "metadata": {},
     "output_type": "display_data"
    },
    {
     "name": "stdout",
     "output_type": "stream",
     "text": [
      "50756231\n"
     ]
    },
    {
     "data": {
      "image/png": "[encoded data removed]",
      "text/plain": [
       "<PIL.Image.Image image mode=RGB size=90x100 at 0x7F05195C9D90>"
      ]
     },
     "metadata": {},
     "output_type": "display_data"
    },
    {
     "name": "stdout",
     "output_type": "stream",
     "text": [
      "60282973\n"
     ]
    },
    {
     "data": {
      "image/png": "[encoded data removed]",
      "text/plain": [
       "<PIL.Image.Image image mode=RGB size=90x100 at 0x7F05195DB0A0>"
      ]
     },
     "metadata": {},
     "output_type": "display_data"
    },
    {
     "name": "stdout",
     "output_type": "stream",
     "text": [
      "13805369\n"
     ]
    },
    {
     "data": {
      "image/png": "[encoded data removed]",
      "text/plain": [
       "<PIL.Image.Image image mode=RGB size=90x100 at 0x7F05195DB1F0>"
      ]
     },
     "metadata": {},
     "output_type": "display_data"
    },
    {
     "name": "stdout",
     "output_type": "stream",
     "text": [
      "13905550\n"
     ]
    },
    {
     "data": {
      "image/png": "[encoded data removed]",
      "text/plain": [
       "<PIL.Image.Image image mode=RGB size=90x100 at 0x7F05195C9D90>"
      ]
     },
     "metadata": {},
     "output_type": "display_data"
    },
    {
     "name": "stdout",
     "output_type": "stream",
     "text": [
      "6289358\n"
     ]
    },
    {
     "data": {
      "image/png": "[encoded data removed]",
      "text/plain": [
       "<PIL.Image.Image image mode=RGB size=90x100 at 0x7F05195E7460>"
      ]
     },
     "metadata": {},
     "output_type": "display_data"
    },
    {
     "name": "stdout",
     "output_type": "stream",
     "text": [
      "9035312\n"
     ]
    },
    {
     "data": {
      "image/png": "[encoded data removed]",
      "text/plain": [
       "<PIL.Image.Image image mode=RGB size=90x100 at 0x7F05195DB0A0>"
      ]
     },
     "metadata": {},
     "output_type": "display_data"
    },
    {
     "name": "stdout",
     "output_type": "stream",
     "text": [
      "7358126\n"
     ]
    },
    {
     "data": {
      "image/png": "[encoded data removed]",
      "text/plain": [
       "<PIL.Image.Image image mode=RGB size=90x100 at 0x7F05195DB1F0>"
      ]
     },
     "metadata": {},
     "output_type": "display_data"
    },
    {
     "name": "stdout",
     "output_type": "stream",
     "text": [
      "237392\n"
     ]
    },
    {
     "data": {
      "image/png": "[encoded data removed]",
      "text/plain": [
       "<PIL.Image.Image image mode=RGB size=90x100 at 0x7F05195E74F0>"
      ]
     },
     "metadata": {},
     "output_type": "display_data"
    },
    {
     "name": "stdout",
     "output_type": "stream",
     "text": [
      "6882444\n"
     ]
    },
    {
     "data": {
      "image/png": "[encoded data removed]",
      "text/plain": [
       "<PIL.Image.Image image mode=RGB size=90x100 at 0x7F05195C9D90>"
      ]
     },
     "metadata": {},
     "output_type": "display_data"
    },
    {
     "name": "stdout",
     "output_type": "stream",
     "text": [
      "10355790\n"
     ]
    },
    {
     "data": {
      "image/png": "[encoded data removed]",
      "text/plain": [
       "<PIL.Image.Image image mode=RGB size=90x100 at 0x7F05195DB4F0>"
      ]
     },
     "metadata": {},
     "output_type": "display_data"
    },
    {
     "name": "stdout",
     "output_type": "stream",
     "text": [
      "7792680\n"
     ]
    },
    {
     "data": {
      "image/png": "[encoded data removed]",
      "text/plain": [
       "<PIL.Image.Image image mode=RGB size=90x100 at 0x7F05195E75E0>"
      ]
     },
     "metadata": {},
     "output_type": "display_data"
    },
    {
     "name": "stdout",
     "output_type": "stream",
     "text": [
      "11087114\n"
     ]
    },
    {
     "data": {
      "image/png": "[encoded data removed]",
      "text/plain": [
       "<PIL.Image.Image image mode=RGB size=90x100 at 0x7F05195DB1F0>"
      ]
     },
     "metadata": {},
     "output_type": "display_data"
    },
    {
     "name": "stdout",
     "output_type": "stream",
     "text": [
      "10366844\n"
     ]
    },
    {
     "data": {
      "image/png": "[encoded data removed]",
      "text/plain": [
       "<PIL.Image.Image image mode=RGB size=90x100 at 0x7F05195DB0A0>"
      ]
     },
     "metadata": {},
     "output_type": "display_data"
    }
   ],
   "source": [
    "for _ in range(200):\n",
    "    n = random.choice(undecided_index)\n",
    "    print(n)\n",
    "    #pptm(get_machine_i(DB_PATH,n))\n",
    "    img = tm_trace_to_image(get_machine_i(DB_PATH,n), origin=0.5, width=100, height=800, show_head_direction=True).resize((90,100), Image.NEAREST)\n",
    "    display(img)"
   ]
  },
  {
   "cell_type": "markdown",
   "id": "cardiovascular-chair",
   "metadata": {},
   "source": [
    "### Temporary machine under scrutiny"
   ]
  },
  {
   "cell_type": "code",
   "execution_count": 55,
   "id": "daily-inspector",
   "metadata": {},
   "outputs": [
    {
     "name": "stdout",
     "output_type": "stream",
     "text": [
      "7410754\n",
      "s    0    1\n",
      "---  ---  ---\n",
      "A    1RB  0LD\n",
      "B    1LC  1RC\n",
      "C    1LA  0RC\n",
      "D    ???  0LE\n",
      "E    0RB  1LD\n"
     ]
    },
    {
     "data": {
      "image/png": "[encoded data removed]",
      "text/plain": [
       "<PIL.Image.Image image mode=RGB size=900x1000 at 0x7F05195DBDF0>"
      ]
     },
     "execution_count": 55,
     "metadata": {},
     "output_type": "execute_result"
    }
   ],
   "source": [
    "n = 7410754\n",
    "print(n)\n",
    "pptm(get_machine_i(DB_PATH,n))\n",
    "img = tm_trace_to_image(get_machine_i(DB_PATH,n), origin=0.5, width=300, height=10000, show_head_direction=True).resize((900,1000), Image.NEAREST)\n",
    "img"
   ]
  },
  {
   "cell_type": "markdown",
   "id": "conservative-dodge",
   "metadata": {
    "tags": []
   },
   "source": [
    "# Zoology"
   ]
  },
  {
   "cell_type": "markdown",
   "id": "tough-boating",
   "metadata": {},
   "source": [
    "## Cyclers\n",
    "\n",
    "**Update 28/01/22**. 11 229 238 cyclers were decided (among machines that exceeded time limit) thanks to this decider: [https://github.com/bbchallenge/bbchallenge-deciders/tree/main/decider-cyclers](https://github.com/bbchallenge/bbchallenge-deciders/tree/main/decider-cyclers)."
   ]
  },
  {
   "cell_type": "code",
   "execution_count": 56,
   "id": "superior-viewer",
   "metadata": {},
   "outputs": [
    {
     "name": "stdout",
     "output_type": "stream",
     "text": [
      "4231819\n",
      "s    0    1\n",
      "---  ---  ---\n",
      "A    1RB  0RB\n",
      "B    1LC  1RC\n",
      "C    0LD  0LD\n",
      "D    1RE  1LA\n",
      "E    1RD  ???\n"
     ]
    },
    {
     "data": {
      "image/png": "[encoded data removed]",
      "text/plain": [
       "<PIL.Image.Image image mode=RGB size=900x1000 at 0x7F05195E7820>"
      ]
     },
     "execution_count": 56,
     "metadata": {},
     "output_type": "execute_result"
    }
   ],
   "source": [
    "n_list = [11636047, 4231819, 279081]\n",
    "n = random.choice(n_list)\n",
    "print(n)\n",
    "pptm(get_machine_i(DB_PATH,n))\n",
    "img = tm_trace_to_image(get_machine_i(DB_PATH,n), origin=0.5, width=100, height=400, show_head_direction=False).resize((900,1000), Image.NEAREST)\n",
    "img"
   ]
  },
  {
   "cell_type": "markdown",
   "id": "extra-catholic",
   "metadata": {},
   "source": [
    "## Translated Cyclers\n",
    "\n",
    "**Update 29/01/22**. 73 857 622 translated-cyclers were decided (among machines that exceeded space limit) thanks to the translated-cyclers decider:\n",
    "[https://github.com/bbchallenge/bbchallenge-deciders/tree/main/decider-translated-cyclers](https://github.com/bbchallenge/bbchallenge-deciders/tree/main/decider-translated-cyclers)."
   ]
  },
  {
   "cell_type": "code",
   "execution_count": 57,
   "id": "occasional-hebrew",
   "metadata": {},
   "outputs": [
    {
     "name": "stdout",
     "output_type": "stream",
     "text": [
      "14427007\n",
      "s    0    1\n",
      "---  ---  ---\n",
      "A    1RB  ???\n",
      "B    0RC  ???\n",
      "C    1LD  ???\n",
      "D    0LD  1RE\n",
      "E    1LE  0RD\n"
     ]
    },
    {
     "data": {
      "image/png": "[encoded data removed]",
      "text/plain": [
       "<PIL.Image.Image image mode=RGB size=900x1000 at 0x7F05195E7FA0>"
      ]
     },
     "execution_count": 57,
     "metadata": {},
     "output_type": "execute_result"
    }
   ],
   "source": [
    "n_list = [32510779, 45010518, 14427007, 14643029, 15167997, 50491158, 59645887, 31141863, 28690248]\n",
    "n = random.choice(n_list)\n",
    "print(n)\n",
    "pptm(get_machine_i(DB_PATH,n))\n",
    "img = tm_trace_to_image(get_machine_i(DB_PATH,n), origin=0.5, width=100, height=400, show_head_direction=True).resize((900,1000), Image.NEAREST)\n",
    "img"
   ]
  },
  {
   "cell_type": "markdown",
   "id": "voluntary-wright",
   "metadata": {},
   "source": [
    "## Complex translated cyclers\n",
    "\n",
    "They are translated cyclers but we discovered them later in a smaller 200k sample remaining of the 88M undecided machines. They were most probably missed by the translated-cyclers decider because they need bigger parameters to be recognised. We will re-run the decider with those higher parameters."
   ]
  },
  {
   "cell_type": "code",
   "execution_count": 58,
   "id": "blind-abortion",
   "metadata": {},
   "outputs": [
    {
     "name": "stdout",
     "output_type": "stream",
     "text": [
      "74980673\n",
      "s    0    1\n",
      "---  ---  ---\n",
      "A    1RB  1LB\n",
      "B    0RC  1LC\n",
      "C    1LD  0LA\n",
      "D    0RE  1RA\n",
      "E    ???  1RC\n"
     ]
    },
    {
     "data": {
      "image/png": "[encoded data removed]",
      "text/plain": [
       "<PIL.Image.Image image mode=RGB size=900x1000 at 0x7F05195DBBE0>"
      ]
     },
     "execution_count": 58,
     "metadata": {},
     "output_type": "execute_result"
    }
   ],
   "source": [
    "complex_translated_cyclers = [46965866, 74980673, 88062418, 59090563, 76989562, 46546554, 36091834, 58966114]\n",
    "n = random.choice(complex_translated_cyclers)\n",
    "print(n)\n",
    "pptm(get_machine_i(DB_PATH,n))\n",
    "img = tm_trace_to_image(get_machine_i(DB_PATH,n), origin=0.5, width=500, height=10000, show_head_direction=True).resize((900,1000), Image.NEAREST)\n",
    "img"
   ]
  },
  {
   "cell_type": "markdown",
   "id": "stretch-sherman",
   "metadata": {
    "tags": []
   },
   "source": [
    "## Unilateral Pongs"
   ]
  },
  {
   "cell_type": "code",
   "execution_count": 59,
   "id": "temporal-course",
   "metadata": {},
   "outputs": [
    {
     "name": "stdout",
     "output_type": "stream",
     "text": [
      "7704208\n",
      "s    0    1\n",
      "---  ---  ---\n",
      "A    1RB  0LE\n",
      "B    1RC  ???\n",
      "C    0LD  1RA\n",
      "D    0RB  0RE\n",
      "E    1LC  0LC\n"
     ]
    },
    {
     "data": {
      "image/png": "[encoded data removed]",
      "text/plain": [
       "<PIL.Image.Image image mode=RGB size=900x1000 at 0x7F05195E7610>"
      ]
     },
     "execution_count": 59,
     "metadata": {},
     "output_type": "execute_result"
    }
   ],
   "source": [
    "unilateral_pongs_list = [1897885, 524224, 9281450, 8512220, 872367, 13021228, 1288796, 376121, \n",
    "                         13781608, 13365152, 3740717, 2683159, 5357965, 12604461, 8541624, 9420847, \n",
    "                         7322529, 4830758, 9240606, 12483700, 6411252, 4685904, 1440807, 2107819, \n",
    "                         2953298, 11660591, 846128, 12315679, 7704208, 8100160, 3437121, 13410247, \n",
    "                         2957273, 11545063, 7865959, 1321388]\n",
    "n = random.choice(unilateral_pongs_list)\n",
    "print(n)\n",
    "pptm(get_machine_i(DB_PATH,n))\n",
    "img = tm_trace_to_image(get_machine_i(DB_PATH,n), origin=0.5, width=100, height=400, show_head_direction=True).resize((900,1000), Image.NEAREST)\n",
    "img"
   ]
  },
  {
   "cell_type": "markdown",
   "id": "nutritional-annual",
   "metadata": {},
   "source": [
    "## Translated Unilateral Pongs"
   ]
  },
  {
   "cell_type": "code",
   "execution_count": 60,
   "id": "fatty-hypothetical",
   "metadata": {},
   "outputs": [
    {
     "name": "stdout",
     "output_type": "stream",
     "text": [
      "6092912\n",
      "s    0    1\n",
      "---  ---  ---\n",
      "A    1RB  0LB\n",
      "B    1RC  0RD\n",
      "C    0RD  1LC\n",
      "D    1LE  0RA\n",
      "E    0LA  ???\n"
     ]
    },
    {
     "data": {
      "image/png": "[encoded data removed]",
      "text/plain": [
       "<PIL.Image.Image image mode=RGB size=900x1000 at 0x7F05195F9310>"
      ]
     },
     "execution_count": 60,
     "metadata": {},
     "output_type": "execute_result"
    }
   ],
   "source": [
    "translated_unilateral_pongs_list = [42255, 83854998, 6164147, 11275965, 20076854, 11263544, 6092912, \n",
    "                                    12027627, 7728246]\n",
    "n = random.choice(translated_unilateral_pongs_list)\n",
    "print(n)\n",
    "pptm(get_machine_i(DB_PATH,n))\n",
    "img = tm_trace_to_image(get_machine_i(DB_PATH,n), origin=0.5, width=100, height=400, show_head_direction=True).resize((900,1000), Image.NEAREST)\n",
    "img"
   ]
  },
  {
   "cell_type": "markdown",
   "id": "prostate-prompt",
   "metadata": {},
   "source": [
    "## Bilateral Pongs"
   ]
  },
  {
   "cell_type": "code",
   "execution_count": 61,
   "id": "precise-string",
   "metadata": {},
   "outputs": [
    {
     "name": "stdout",
     "output_type": "stream",
     "text": [
      "3467845\n",
      "s    0    1\n",
      "---  ---  ---\n",
      "A    1RB  ???\n",
      "B    1LC  1RE\n",
      "C    1RE  0RD\n",
      "D    1LB  1LB\n",
      "E    0LC  1RB\n"
     ]
    },
    {
     "data": {
      "image/png": "[encoded data removed]",
      "text/plain": [
       "<PIL.Image.Image image mode=RGB size=900x1000 at 0x7F05195F9550>"
      ]
     },
     "execution_count": 61,
     "metadata": {},
     "output_type": "execute_result"
    }
   ],
   "source": [
    "bilateral_pongs_list = [12785688, 8929416, 76727755, 8179149, 8680193, 10955739, 58057, 10784014, \n",
    "                        10750857, 82820597, 9627910, 10788462, 2488210, 14155579, 2712075, 5531970, \n",
    "                        9099315, 11323181, 1550671, 8631993, 6686258, 3301037, 9357684, 7260722, \n",
    "                        12604461, 7083973, 11685160, 14076871, 10879705, 15439564, 167872, 12112369,\n",
    "                        2815026, 7762990, 9556263, 9660079, 1828616, 10278087, 2163518, 5747101, \n",
    "                        10436913, 400772, 626088, 6251627, 965550, 8759155, 11223826, 10753312, \n",
    "                        3467845, 4897489, 9003220, 8570030, 11270715, 27293997, 5699889, 9829009, \n",
    "                        59839853, 6170236, 11982212, 7164345, 8189825, 12875376, 12764993, 13199370, \n",
    "                        2272659, 4789124, 9105362, 12846440, 40562752, 3336092, 9124284, 6283269, \n",
    "                        71791981, 8813622, 11319132, 3405717, 7890444, 86152240, 9562099, 11185189, \n",
    "                        153481, 10667540, 69838082, 4139167, 11790195, 6283761, 6040629, 2963361, \n",
    "                        11341640, 3133305, 6223673, 9129536, 10884143, 35695274, 5253373, 12304289, \n",
    "                        3814868, 10866122, 298605, 6345422, 8192282, 4793378]\n",
    "n = random.choice(bilateral_pongs_list)\n",
    "print(n)\n",
    "pptm(get_machine_i(DB_PATH,n))\n",
    "img = tm_trace_to_image(get_machine_i(DB_PATH,n), origin=0.5, width=100, height=400, show_head_direction=True).resize((900,1000), Image.NEAREST)\n",
    "img"
   ]
  },
  {
   "cell_type": "markdown",
   "id": "hundred-diploma",
   "metadata": {},
   "source": [
    "## Exponential Counters"
   ]
  },
  {
   "cell_type": "code",
   "execution_count": 62,
   "id": "handmade-jimmy",
   "metadata": {},
   "outputs": [
    {
     "name": "stdout",
     "output_type": "stream",
     "text": [
      "6486385\n",
      "s    0    1\n",
      "---  ---  ---\n",
      "A    1RB  0LC\n",
      "B    0LC  1RA\n",
      "C    0RA  1LD\n",
      "D    1LE  1LC\n",
      "E    1RC  ???\n"
     ]
    },
    {
     "data": {
      "image/png": "[encoded data removed]",
      "text/plain": [
       "<PIL.Image.Image image mode=RGB size=900x1000 at 0x7F05195DBE20>"
      ]
     },
     "execution_count": 62,
     "metadata": {},
     "output_type": "execute_result"
    }
   ],
   "source": [
    "smart_counters = [14244805, 8413822, 2351048, 903500, 2940201, 437775, 10126234, 12012425, \n",
    "                  14263231, 6245415, 6776164, 3266856, 2940930, 6486385]\n",
    "n = random.choice(smart_counters)\n",
    "print(n)\n",
    "pptm(get_machine_i(DB_PATH,n))\n",
    "img = tm_trace_to_image(get_machine_i(DB_PATH,n), origin=0.5, width=100, height=400, show_head_direction=True).resize((900,1000), Image.NEAREST)\n",
    "img"
   ]
  },
  {
   "cell_type": "markdown",
   "id": "promising-happiness",
   "metadata": {
    "tags": []
   },
   "source": [
    "## Potential Halters"
   ]
  },
  {
   "cell_type": "code",
   "execution_count": 67,
   "id": "similar-alabama",
   "metadata": {},
   "outputs": [
    {
     "name": "stdout",
     "output_type": "stream",
     "text": [
      "28086713\n",
      "s    0    1\n",
      "---  ---  ---\n",
      "A    1RB  ???\n",
      "B    1LC  0RA\n",
      "C    1RD  0LB\n",
      "D    0LE  1RC\n",
      "E    ???  0LC\n"
     ]
    },
    {
     "data": {
      "image/png": "[encoded data removed]",
      "text/plain": [
       "<PIL.Image.Image image mode=RGB size=900x1000 at 0x7F0530A0F5B0>"
      ]
     },
     "execution_count": 67,
     "metadata": {},
     "output_type": "execute_result"
    }
   ],
   "source": [
    "potential_halters_list = [73261028, 58360621, 8527536, 7911681, 28086713, 11059089, 2009846, 11670429, 7865218, 1973992]\n",
    "# ^ they are all looking a lot like BB5 apart from 13754164 that looks like 20739 steps, 7658575 as well\n",
    "n = random.choice(potential_halters_list)\n",
    "print(n)\n",
    "pptm(get_machine_i(DB_PATH,n))\n",
    "img = tm_trace_to_image(get_machine_i(DB_PATH,n), origin=0.5, width=200, height=9000, show_head_direction=True).resize((900,1000), Image.NEAREST)\n",
    "img"
   ]
  },
  {
   "cell_type": "markdown",
   "id": "primary-turkish",
   "metadata": {
    "tags": []
   },
   "source": [
    "## Not classed yet"
   ]
  },
  {
   "cell_type": "code",
   "execution_count": 77,
   "id": "junior-trust",
   "metadata": {},
   "outputs": [
    {
     "name": "stdout",
     "output_type": "stream",
     "text": [
      "27879939\n"
     ]
    },
    {
     "data": {
      "image/png": "[encoded data removed]",
      "text/plain": [
       "<PIL.Image.Image image mode=RGB size=900x1000 at 0x7F05309FFEB0>"
      ]
     },
     "execution_count": 77,
     "metadata": {},
     "output_type": "execute_result"
    }
   ],
   "source": [
    "n_list = [2693691, 6490892, 8161712, 4920918, 73261028, 2364441, 5612126, 11274026, \n",
    "          2713328, 2394179, 27879939, 9390305, 43374927, 7038828, 42736705, \n",
    "          7530230, 7410754, 35201357]\n",
    "n = random.choice(n_list)\n",
    "print(n)\n",
    "img = tm_trace_to_image(get_machine_i(DB_PATH,n), origin=0.5, width=200, height=400, show_head_direction=True).resize((900,1000), Image.NEAREST)\n",
    "img"
   ]
  },
  {
   "cell_type": "markdown",
   "id": "modular-shoulder",
   "metadata": {},
   "source": [
    "## Funny/unrelevant"
   ]
  },
  {
   "cell_type": "code",
   "execution_count": 65,
   "id": "isolated-drunk",
   "metadata": {},
   "outputs": [],
   "source": [
    "n_xmas = [6093803, 13099871]\n",
    "bilateral_binary_counter = 3840180"
   ]
  },
  {
   "cell_type": "markdown",
   "id": "ceramic-burning",
   "metadata": {},
   "source": [
    "## Backward Reasoning\n",
    "\n",
    "Independtly of the behavior of a machine you can sometimes tell that it doesnt halt by simulating it backwards from undefined transitions and realising that it always lead to a contradiction. \n",
    "\n",
    "See https://discuss.bbchallenge.org/t/decider-backward-reasoning/35/2\n",
    "\n",
    "Example:"
   ]
  },
  {
   "cell_type": "code",
   "execution_count": 66,
   "id": "inappropriate-monte",
   "metadata": {},
   "outputs": [
    {
     "name": "stdout",
     "output_type": "stream",
     "text": [
      "1973992\n",
      "s    0    1\n",
      "---  ---  ---\n",
      "A    1RB  ???\n",
      "B    1RC  0LE\n",
      "C    1LD  0RB\n",
      "D    1LB  1LD\n",
      "E    1RB  0LD\n"
     ]
    },
    {
     "data": {
      "image/png": "[encoded data removed]",
      "text/plain": [
       "<PIL.Image.Image image mode=RGB size=900x1000 at 0x7F05195F3DC0>"
      ]
     },
     "execution_count": 66,
     "metadata": {},
     "output_type": "execute_result"
    }
   ],
   "source": [
    "n_backward_reasoning_list = [4843748, 58360621, 2009846, 1973992, 11176971, 4147941, 12071224]\n",
    "n = random.choice(n_backward_reasoning_list)\n",
    "print(n)\n",
    "pptm(get_machine_i(DB_PATH,n))\n",
    "img = tm_trace_to_image(get_machine_i(DB_PATH,n), origin=0.5, width=100, height=2000, show_head_direction=True).resize((900,1000), Image.NEAREST)\n",
    "img"
   ]
  },
  {
   "cell_type": "code",
   "execution_count": null,
   "id": "dominican-contribution",
   "metadata": {},
   "outputs": [],
   "source": []
  }
 ],
 "metadata": {
  "kernelspec": {
   "display_name": "Python 3",
   "language": "python",
   "name": "python3"
  },
  "language_info": {
   "codemirror_mode": {
    "name": "ipython",
    "version": 3
   },
   "file_extension": ".py",
   "mimetype": "text/x-python",
   "name": "python",
   "nbconvert_exporter": "python",
   "pygments_lexer": "ipython3",
   "version": "3.9.5"
  }
 },
 "nbformat": 4,
 "nbformat_minor": 5
}
