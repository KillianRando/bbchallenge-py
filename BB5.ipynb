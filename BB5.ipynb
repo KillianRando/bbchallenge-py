{
 "cells": [
  {
   "cell_type": "code",
   "execution_count": 1,
   "id": "2430d055-ebb5-43ab-aaa1-ae54c7d1919c",
   "metadata": {},
   "outputs": [],
   "source": [
    "import os\n",
    "import random\n",
    "from PIL import Image\n",
    "from tabulate import tabulate"
   ]
  },
  {
   "cell_type": "code",
   "execution_count": 46,
   "id": "3add9224-ff60-4d5f-bc3b-3b9708c4b8bb",
   "metadata": {},
   "outputs": [],
   "source": [
    "import tqdm"
   ]
  },
  {
   "cell_type": "markdown",
   "id": "81becca6-9cab-4656-8723-781bb2948f92",
   "metadata": {},
   "source": [
    "# Reading the database\n",
    "\n",
    "You can download the database here:\n",
    "\n",
    "- [https://dna.hamilton.ie/tsterin/all_5_states_undecided_machines_with_global_header.zip](https://dna.hamilton.ie/tsterin/all_5_states_undecided_machines_with_global_header.zip)\n",
    "- [ipfs://QmcgucgLRjAQAjU41w6HR7GJbcte3F14gv9oXcf8uZ8aFM](ipfs://QmcgucgLRjAQAjU41w6HR7GJbcte3F14gv9oXcf8uZ8aFM)\n",
    "- [https://ipfs.prgm.dev/ipfs/QmcgucgLRjAQAjU41w6HR7GJbcte3F14gv9oXcf8uZ8aFM](https://ipfs.prgm.dev/ipfs/QmcgucgLRjAQAjU41w6HR7GJbcte3F14gv9oXcf8uZ8aFM)\n",
    "\n",
    "Shasum (.zip): `2576b647185063db2aa3dc2f5622908e99f3cd40` "
   ]
  },
  {
   "cell_type": "code",
   "execution_count": 2,
   "id": "0abf288f-c73e-476f-ab82-29f066518b16",
   "metadata": {},
   "outputs": [],
   "source": [
    "DB_PATH = \"all_5_states_undecided_machines_with_global_header\""
   ]
  },
  {
   "cell_type": "markdown",
   "id": "f19c102a-7e06-415f-962d-0f6b02705c14",
   "metadata": {},
   "source": [
    "## Database header\n",
    "The first 30 bytes of the database are reserved for a header which currently contains **three** 4-byte int: \n",
    "1. The number of machines that are undecided because they went beyond the time limit (`47,176,870` steps)\n",
    "2. The number of machines that are undecided because they went beyond the space limit (`12,289` memory cells)\n",
    "3. The total number of undecided machines (sum of above)"
   ]
  },
  {
   "cell_type": "code",
   "execution_count": 3,
   "id": "42bb2d13-a9a3-46d9-9109-17c0cd76067d",
   "metadata": {},
   "outputs": [],
   "source": [
    "def get_header(machine_db_path):\n",
    "    with open(machine_db_path, \"rb\") as f:\n",
    "        return f.read(30)"
   ]
  },
  {
   "cell_type": "code",
   "execution_count": 4,
   "id": "71908bc8-4813-492d-9acf-a1d5d3f66de6",
   "metadata": {},
   "outputs": [
    {
     "name": "stdout",
     "output_type": "stream",
     "text": [
      "14322029 74342035 88664064 1\n"
     ]
    }
   ],
   "source": [
    "header = get_header(DB_PATH)\n",
    "undecided_time, undecided_space, undecided_total = int.from_bytes(header[:4],byteorder='big'),int.from_bytes(header[4:8],byteorder='big'),int.from_bytes(header[8:12],byteorder='big')\n",
    "print(undecided_time, undecided_space, undecided_total, header[12])"
   ]
  },
  {
   "cell_type": "markdown",
   "id": "84613dfc-4439-43cb-b9ca-98953b0f35b2",
   "metadata": {},
   "source": [
    "## Database core\n",
    "\n",
    "The core of the database is `88,664,064` machines descriptions which are each written on 30 bytes."
   ]
  },
  {
   "cell_type": "code",
   "execution_count": 5,
   "id": "e6cc2d1f-cbec-403b-9139-004f577b7fcf",
   "metadata": {},
   "outputs": [
    {
     "name": "stdout",
     "output_type": "stream",
     "text": [
      "88664064.0\n"
     ]
    }
   ],
   "source": [
    "n = os.path.getsize(DB_PATH)\n",
    "print((n)/30-1)"
   ]
  },
  {
   "cell_type": "code",
   "execution_count": 6,
   "id": "ff77b3f0-d9fc-4fb6-9efc-b67ca5305244",
   "metadata": {},
   "outputs": [],
   "source": [
    "def get_machine_i(machine_db_path, i, db_has_header=True):\n",
    "    with open(machine_db_path, \"rb\") as f:\n",
    "        c = 1 if db_has_header else 0\n",
    "        f.seek(30*(i+c))\n",
    "        return f.read(30)"
   ]
  },
  {
   "cell_type": "code",
   "execution_count": 7,
   "id": "dc1905b7-b89c-4825-9f37-3b4560cdbd3a",
   "metadata": {},
   "outputs": [],
   "source": [
    "def ithl(i):\n",
    "    return chr(ord(\"A\")+i)\n",
    "\n",
    "def g(move):\n",
    "    if move == 0:\n",
    "        return \"R\"\n",
    "    return \"L\"\n",
    "\n",
    "def pptm(machine, return_repr=False):\n",
    "    headers = [\"s\",\"0\",\"1\"]\n",
    "    table = []\n",
    "    \n",
    "    for i in range(5):\n",
    "        row = [ithl(i)]\n",
    "        for j in range(2):\n",
    "            write = machine[6*i+3*j] \n",
    "            move = machine[6*i+3*j+1] \n",
    "            goto = machine[6*i+3*j+2]-1\n",
    "            \n",
    "            if goto == -1:\n",
    "                row.append(\"???\")\n",
    "                continue\n",
    "                \n",
    "            row.append(f\"{write}{g(move)}{ithl(goto)}\")\n",
    "        table.append(row)\n",
    "    \n",
    "    if not return_repr:\n",
    "        print(tabulate(table,headers=headers))\n",
    "    else:\n",
    "        return tabulate(table,headers=headers)"
   ]
  },
  {
   "cell_type": "code",
   "execution_count": 8,
   "id": "4a29e02f-34f1-4788-9320-d49ca9338cec",
   "metadata": {},
   "outputs": [
    {
     "name": "stdout",
     "output_type": "stream",
     "text": [
      "s    0    1\n",
      "---  ---  ---\n",
      "A    1RB  ???\n",
      "B    0RC  ???\n",
      "C    0RD  ???\n",
      "D    0RE  ???\n",
      "E    0LD  ???\n"
     ]
    }
   ],
   "source": [
    "pptm(get_machine_i(DB_PATH,0,db_has_header=True))"
   ]
  },
  {
   "cell_type": "code",
   "execution_count": 9,
   "id": "a79ab6b2-d2b8-4b25-943c-bfc09a1a4b1f",
   "metadata": {},
   "outputs": [
    {
     "name": "stdout",
     "output_type": "stream",
     "text": [
      "s    0    1\n",
      "---  ---  ---\n",
      "A    1RB  ???\n",
      "B    0RC  ???\n",
      "C    0RD  ???\n",
      "D    0RE  0LD\n",
      "E    1LC  ???\n"
     ]
    }
   ],
   "source": [
    "pptm(get_machine_i(DB_PATH,10,db_has_header=True))"
   ]
  },
  {
   "cell_type": "code",
   "execution_count": 10,
   "id": "7a0cffc9-3a12-4087-81fe-8ad5fc26f34c",
   "metadata": {},
   "outputs": [
    {
     "name": "stdout",
     "output_type": "stream",
     "text": [
      "s    0    1\n",
      "---  ---  ---\n",
      "A    1RB  0RD\n",
      "B    0RC  0LE\n",
      "C    1RD  1RA\n",
      "D    1LA  1LC\n",
      "E    ???  1LD\n"
     ]
    }
   ],
   "source": [
    "pptm(get_machine_i(DB_PATH,4888230,db_has_header=True))"
   ]
  },
  {
   "cell_type": "markdown",
   "id": "29943c94-2867-413f-9059-a0af80bdc4c9",
   "metadata": {},
   "source": [
    "# Simulating and visualising machines"
   ]
  },
  {
   "cell_type": "code",
   "execution_count": 11,
   "id": "bc26feef-66ca-4eb5-8988-96db0d94d3db",
   "metadata": {},
   "outputs": [],
   "source": [
    "def step(machine, curr_state, curr_pos, tape):\n",
    "    if not curr_pos in tape:\n",
    "        tape[curr_pos] = 0\n",
    "    \n",
    "    write = machine[curr_state*6 + 3*tape[curr_pos]] \n",
    "    move = machine[curr_state*6 + 3*tape[curr_pos] + 1] \n",
    "    goto = machine[curr_state*6 + 3*tape[curr_pos] + 2] - 1\n",
    "\n",
    "    if goto == -1:\n",
    "        return None, None\n",
    "    \n",
    "    tape[curr_pos] = write\n",
    "    next_pos = curr_pos  + (-1 if move else 1)\n",
    "    return goto, next_pos"
   ]
  },
  {
   "cell_type": "code",
   "execution_count": 12,
   "id": "d1ef7ec5-1e4e-4b0d-ad70-443b11ac17cb",
   "metadata": {},
   "outputs": [],
   "source": [
    "def simulate(machine, time_limit = 1000, mini =-10, maxi=-10):\n",
    "    curr_time = 0\n",
    "    curr_state = 0\n",
    "    curr_pos = 0\n",
    "    tape = {}\n",
    "    \n",
    "    while curr_state != None and curr_time < time_limit:\n",
    "        curr_state, curr_pos = step(machine, curr_state, curr_pos, tape)\n",
    "        if curr_state is not None:\n",
    "            pprinttape(tape, curr_state, curr_pos, mini=mini, maxi=maxi)\n",
    "        else:\n",
    "            print(\"HALT\")\n",
    "        curr_time += 1\n",
    "        "
   ]
  },
  {
   "cell_type": "code",
   "execution_count": 13,
   "id": "007ff708-b4e5-4a18-b716-a8df23a7f0a1",
   "metadata": {},
   "outputs": [],
   "source": [
    "def tm_trace_to_image(machine, width=900, height=1000, origin=0.5, show_head_direction=False):\n",
    "    img = Image.new('RGB', (width, height), color = 'black')\n",
    "    pixels = img.load()\n",
    "    \n",
    "    \n",
    "    tape = {}\n",
    "    curr_time = 0\n",
    "    curr_state = 0\n",
    "    curr_pos = 0\n",
    "    tape = {}\n",
    "    \n",
    "    \n",
    "    for row in range(1,height):\n",
    "        last_pos = curr_pos\n",
    "        curr_state, curr_pos = step(machine, curr_state, curr_pos, tape)\n",
    "        \n",
    "        if curr_state is None: #halt\n",
    "            return img\n",
    "        \n",
    "        for col in range(width):\n",
    "            pos = col-width*(origin)\n",
    "            \n",
    "            if pos in tape:\n",
    "                pixels[col,row] = (255,255,255) if tape[pos] == 1 else (0,0,0)\n",
    "                #pixels[col,row-1] = colors[curr_state-1]\n",
    "                \n",
    "            if pos == curr_pos and show_head_direction:\n",
    "                pixels[col,row] = (255,0,0) if curr_pos > last_pos else (0,255,0) \n",
    "                \n",
    "                \n",
    "    #img = zoom_at(img,*zoom)\n",
    "    return img"
   ]
  },
  {
   "cell_type": "code",
   "execution_count": 14,
   "id": "ca1006f6-afd3-461d-9e3d-51ee265cbf65",
   "metadata": {},
   "outputs": [],
   "source": [
    "def zoom_at(img, x, y, zoom):\n",
    "    w, h = img.size\n",
    "    zoom2 = zoom * 2\n",
    "    img = img.crop((x - w / zoom2, y - h / zoom2, \n",
    "                    x + w / zoom2, y + h / zoom2))\n",
    "    return img.resize((w, h), Image.LANCZOS)"
   ]
  },
  {
   "cell_type": "markdown",
   "id": "d14bc31f-0f5d-4d0f-8e9e-bf5d65f083ef",
   "metadata": {},
   "source": [
    "## BB(5) champion\n",
    "\n",
    "Described in [http://turbotm.de/~heiner/BB/mabu90.html](http://turbotm.de/~heiner/BB/mabu90.html)."
   ]
  },
  {
   "cell_type": "code",
   "execution_count": 15,
   "id": "22a3b5a3-d6e0-47cd-a36d-45fd02d7e5a5",
   "metadata": {},
   "outputs": [
    {
     "name": "stdout",
     "output_type": "stream",
     "text": [
      "s    0    1\n",
      "---  ---  ---\n",
      "A    1RB  1LC\n",
      "B    1RC  1RB\n",
      "C    1RD  0LE\n",
      "D    1LA  1LD\n",
      "E    1RF  0LA\n"
     ]
    }
   ],
   "source": [
    "def repr_to_bytes(rep):\n",
    "    to_rep = bytearray()\n",
    "    for a in rep:\n",
    "        to_rep.append(a)\n",
    "    return to_rep\n",
    "\n",
    "R, L = 0, 1\n",
    "bb5_champion_repr = [1, R, 2, 1, L, 3,\n",
    "\t\t1, R, 3, 1, R, 2,\n",
    "\t\t1, R, 4, 0, L, 5,\n",
    "\t\t1, L, 1, 1, L, 4,\n",
    "\t\t1, R, 6, 0, L, 1]\n",
    "bb5_champion = repr_to_bytes(bb5_champion_repr)\n",
    "pptm(bb5_champion)"
   ]
  },
  {
   "cell_type": "code",
   "execution_count": 16,
   "id": "25308ca3-4b24-441f-b311-94e30a52c69c",
   "metadata": {},
   "outputs": [
    {
     "data": {
      "image/png": "[encoded data removed]",
      "text/plain": [
       "<PIL.Image.Image image mode=RGB size=900x1000 at 0x107B1ED90>"
      ]
     },
     "execution_count": 16,
     "metadata": {},
     "output_type": "execute_result"
    }
   ],
   "source": [
    "img = tm_trace_to_image(bb5_champion, origin=0.9, width=500, height=40000, show_head_direction=True).resize((900,1000), Image.NEAREST)\n",
    "img"
   ]
  },
  {
   "cell_type": "markdown",
   "id": "3c8c09a2-e007-470a-aa4c-d13d7f86a028",
   "metadata": {},
   "source": [
    "## Other Halting machines\n",
    "\n",
    "These were find while running [https://github.com/bbchallenge/bbchallenge-seed](https://github.com/bbchallenge/bbchallenge-seed)."
   ]
  },
  {
   "cell_type": "markdown",
   "id": "234b3a9e-b89f-4cfe-b197-0c9181e167ad",
   "metadata": {},
   "source": [
    "### 40899 steps"
   ]
  },
  {
   "cell_type": "code",
   "execution_count": 17,
   "id": "daf426ac-6839-4525-a5d0-eaf319068045",
   "metadata": {},
   "outputs": [
    {
     "name": "stdout",
     "output_type": "stream",
     "text": [
      "s    0    1\n",
      "---  ---  ---\n",
      "A    1RB  0LC\n",
      "B    0RC  ???\n",
      "C    1RD  0RE\n",
      "D    1LE  0RA\n",
      "E    0LA  0LE\n",
      "Halts after 40899 steps.\n"
     ]
    }
   ],
   "source": [
    "R, L = 0, 1\n",
    "A,B,C,D,E = 1,2,3,4,5\n",
    "m_rep = [1, R, B, 0, L, C,\n",
    "\t\t0, R, C, 0, 0, 0,\n",
    "\t\t1, R, D, 0, R, E,\n",
    "\t\t1, L, E, 0, R, A,\n",
    "\t\t0, L, A, 0, L, E]\n",
    "m = repr_to_bytes(m_rep)\n",
    "pptm(m_rep)\n",
    "print(\"Halts after 40899 steps.\")"
   ]
  },
  {
   "cell_type": "code",
   "execution_count": 18,
   "id": "2f0c58dd-ad30-45a5-9d93-fc06bc91f755",
   "metadata": {},
   "outputs": [
    {
     "data": {
      "image/png": "[encoded data removed]",
      "text/plain": [
       "<PIL.Image.Image image mode=RGB size=900x1000 at 0x107B08A00>"
      ]
     },
     "execution_count": 18,
     "metadata": {},
     "output_type": "execute_result"
    }
   ],
   "source": [
    "img = tm_trace_to_image(m, origin=0.9, width=500, height=40899).resize((900,1000), Image.NEAREST)\n",
    "img"
   ]
  },
  {
   "cell_type": "markdown",
   "id": "c9770c1b-f3f1-474a-ab13-c537e810918a",
   "metadata": {},
   "source": [
    "### 20739 Steps"
   ]
  },
  {
   "cell_type": "code",
   "execution_count": 19,
   "id": "ea96f4ad-48ef-4c1f-89a2-7c0768ed4bc5",
   "metadata": {},
   "outputs": [
    {
     "name": "stdout",
     "output_type": "stream",
     "text": [
      "s    0    1\n",
      "---  ---  ---\n",
      "A    1RB  0LA\n",
      "B    0RC  1RD\n",
      "C    1LC  1LA\n",
      "D    1RA  1RE\n",
      "E    ???  0RB\n",
      "Halts after 20739 steps.\n"
     ]
    }
   ],
   "source": [
    "R, L = 0, 1\n",
    "A,B,C,D,E = 1,2,3,4,5\n",
    "m_rep = [1, R, B, 0, L, A,\n",
    "\t\t0, R, C, 1, R, D,\n",
    "\t\t1, L, C, 1, L, A,\n",
    "\t\t1, R, A, 1, R, E,\n",
    "\t\t0, 0, 0, 0, R, B]\n",
    "m = repr_to_bytes(m_rep)\n",
    "pptm(m_rep)\n",
    "print(\"Halts after 20739 steps.\")"
   ]
  },
  {
   "cell_type": "code",
   "execution_count": 20,
   "id": "edb4cefa-1867-4830-8844-73c411c99561",
   "metadata": {},
   "outputs": [
    {
     "data": {
      "image/png": "[encoded data removed]",
      "text/plain": [
       "<PIL.Image.Image image mode=RGB size=900x1000 at 0x107BA4D00>"
      ]
     },
     "execution_count": 20,
     "metadata": {},
     "output_type": "execute_result"
    }
   ],
   "source": [
    "img = tm_trace_to_image(m, origin=0.8, width=300, height=20739).resize((900,1000), Image.NEAREST)\n",
    "img"
   ]
  },
  {
   "cell_type": "markdown",
   "id": "3a00265a-2bf0-4938-bd84-49280b9b8437",
   "metadata": {},
   "source": [
    "### 5309 Steps"
   ]
  },
  {
   "cell_type": "code",
   "execution_count": 21,
   "id": "ce7a11f4-ac8d-462b-b007-0a4e760701d7",
   "metadata": {},
   "outputs": [
    {
     "name": "stdout",
     "output_type": "stream",
     "text": [
      "s    0    1\n",
      "---  ---  ---\n",
      "A    1RB  1LD\n",
      "B    0RC  1LE\n",
      "C    1LB  1RD\n",
      "D    1RC  0LA\n",
      "E    ???  1LB\n",
      "Halts after 5309 steps.\n"
     ]
    }
   ],
   "source": [
    "R, L = 0, 1\n",
    "A,B,C,D,E = 1,2,3,4,5\n",
    "m_rep = [1, R, B, 1, L, D,\n",
    "\t\t0, R, C, 1, L, E,\n",
    "\t\t1, L, B, 1, R, D,\n",
    "\t\t1, R, C, 0, L, A,\n",
    "\t\t0, 0, 0, 1, L, B]\n",
    "m = repr_to_bytes(m_rep)\n",
    "pptm(m_rep)\n",
    "print(\"Halts after 5309 steps.\")"
   ]
  },
  {
   "cell_type": "code",
   "execution_count": 22,
   "id": "72a5d605-5dce-44b2-a050-7f328352b524",
   "metadata": {},
   "outputs": [
    {
     "data": {
      "image/png": "[encoded data removed]",
      "text/plain": [
       "<PIL.Image.Image image mode=RGB size=900x1000 at 0x107B1E100>"
      ]
     },
     "execution_count": 22,
     "metadata": {},
     "output_type": "execute_result"
    }
   ],
   "source": [
    "img = tm_trace_to_image(m, origin=0.5, width=200, height=5309).resize((900,1000), Image.NEAREST)\n",
    "img"
   ]
  },
  {
   "cell_type": "markdown",
   "id": "b907a548-99cd-4ce6-9c81-ed392cd72943",
   "metadata": {},
   "source": [
    "### 6987 steps"
   ]
  },
  {
   "cell_type": "code",
   "execution_count": 25,
   "id": "9ae0dede-f5a3-4477-804b-776d14941dbe",
   "metadata": {},
   "outputs": [
    {
     "name": "stdout",
     "output_type": "stream",
     "text": [
      "s    0    1\n",
      "---  ---  ---\n",
      "A    1RB  1RD\n",
      "B    0RC  1RC\n",
      "C    1LA  0LA\n",
      "D    1LC  1LE\n",
      "E    ???  0LD\n",
      "Halts after 6987 steps.\n"
     ]
    }
   ],
   "source": [
    "R, L = 0, 1\n",
    "A,B,C,D,E = 1,2,3,4,5\n",
    "m_rep = [1, R, B, 1, R, D,\n",
    "\t\t0, R, C, 1, R, C,\n",
    "\t\t1, L, A, 0, L, A,\n",
    "\t\t1, L, C, A, L, E,\n",
    "\t\t0, 0, 0, 0, L, D]\n",
    "m = repr_to_bytes(m_rep)\n",
    "pptm(m_rep)\n",
    "print(\"Halts after 6987 steps.\")"
   ]
  },
  {
   "cell_type": "code",
   "execution_count": 26,
   "id": "2cb5026a-4f92-48b8-9db8-7af184f8a7c6",
   "metadata": {},
   "outputs": [
    {
     "data": {
      "image/png": "[encoded data removed]",
      "text/plain": [
       "<PIL.Image.Image image mode=RGB size=900x1000 at 0x103714340>"
      ]
     },
     "execution_count": 26,
     "metadata": {},
     "output_type": "execute_result"
    }
   ],
   "source": [
    "img = tm_trace_to_image(m, origin=0.5, width=200, height=6987).resize((900,1000), Image.NEAREST)\n",
    "img"
   ]
  },
  {
   "cell_type": "markdown",
   "id": "b4212ee9-fdc0-4199-8ae7-46f1cd844b73",
   "metadata": {},
   "source": [
    "### 22335 steps"
   ]
  },
  {
   "cell_type": "code",
   "execution_count": 27,
   "id": "896443e7-8f2f-4b2c-b608-fce51f7dc307",
   "metadata": {},
   "outputs": [
    {
     "name": "stdout",
     "output_type": "stream",
     "text": [
      "s    0    1\n",
      "---  ---  ---\n",
      "A    1RB  1LD\n",
      "B    0LB  1RC\n",
      "C    1LD  0LE\n",
      "D    1RE  1LC\n",
      "E    ???  0RA\n",
      "Halts after 22335 steps.\n"
     ]
    }
   ],
   "source": [
    "R, L = 0, 1\n",
    "A,B,C,D,E = 1,2,3,4,5\n",
    "m_rep = [1, R, B, 1, L, D,\n",
    "\t\t0, L, B, 1, R, C,\n",
    "\t\t1, L, D, 0, L, E,\n",
    "\t\t1, R, E, 1, L, C,\n",
    "\t\t0, 0, 0, 0, R, A]\n",
    "m = repr_to_bytes(m_rep)\n",
    "pptm(m_rep)\n",
    "print(\"Halts after 22335 steps.\")"
   ]
  },
  {
   "cell_type": "code",
   "execution_count": 28,
   "id": "96e66827-3dc9-4100-968f-e93d93bbf25b",
   "metadata": {},
   "outputs": [
    {
     "data": {
      "image/png": "[encoded data removed]",
      "text/plain": [
       "<PIL.Image.Image image mode=RGB size=900x1000 at 0x103714730>"
      ]
     },
     "execution_count": 28,
     "metadata": {},
     "output_type": "execute_result"
    }
   ],
   "source": [
    "img = tm_trace_to_image(m, origin=0.2, width=300, height=22335).resize((900,1000), Image.NEAREST)\n",
    "img"
   ]
  },
  {
   "cell_type": "markdown",
   "id": "8ac34f27-6048-4eeb-90c4-6a006fc57950",
   "metadata": {},
   "source": [
    "### 2133492 steps"
   ]
  },
  {
   "cell_type": "code",
   "execution_count": 29,
   "id": "f1a7ba79-eb57-4c90-b2bc-f18c87821dcc",
   "metadata": {},
   "outputs": [
    {
     "name": "stdout",
     "output_type": "stream",
     "text": [
      "s    0    1\n",
      "---  ---  ---\n",
      "A    1RB  1LC\n",
      "B    0LA  0LD\n",
      "C    1LA  ???\n",
      "D    1LB  1RE\n",
      "E    0RD  0RB\n",
      "Halts after 2133492 steps.\n"
     ]
    }
   ],
   "source": [
    "R, L = 0, 1\n",
    "A,B,C,D,E = 1,2,3,4,5\n",
    "m_rep = [1, R, B, 1, L, C,\n",
    "\t\t0, L, A, 0, L, D,\n",
    "\t\t1, L, A, 0, 0, 0,\n",
    "\t\t1, L, B, 1, R, E,\n",
    "\t\t0, R, D, 0, R, B]\n",
    "m = repr_to_bytes(m_rep)\n",
    "pptm(m_rep)\n",
    "print(\"Halts after 2133492 steps.\")"
   ]
  },
  {
   "cell_type": "code",
   "execution_count": 30,
   "id": "c7fcece9-cd5a-4c87-a530-f6273e90beaf",
   "metadata": {},
   "outputs": [
    {
     "data": {
      "image/png": "[encoded data removed]",
      "text/plain": [
       "<PIL.Image.Image image mode=RGB size=900x1000 at 0x107B1E850>"
      ]
     },
     "execution_count": 30,
     "metadata": {},
     "output_type": "execute_result"
    }
   ],
   "source": [
    "img = tm_trace_to_image(m, origin=0.9, width=500, height=22335).resize((900,1000), Image.NEAREST)\n",
    "img"
   ]
  },
  {
   "cell_type": "markdown",
   "id": "7130d858-5b2e-418f-a9c1-d6454b99c663",
   "metadata": {},
   "source": [
    "## \"Chaotic\" machine\n",
    "\n",
    "Described in [http://turbotm.de/~heiner/BB/mabu90.html](http://turbotm.de/~heiner/BB/mabu90.html)."
   ]
  },
  {
   "cell_type": "code",
   "execution_count": 31,
   "id": "d969331d-38eb-45a0-9ebe-4edaff7b9d7b",
   "metadata": {},
   "outputs": [
    {
     "name": "stdout",
     "output_type": "stream",
     "text": [
      "s    0    1\n",
      "---  ---  ---\n",
      "A    1LB  1RB\n",
      "B    1RC  0LE\n",
      "C    0RD  0LA\n",
      "D    1LA  0RD\n",
      "E    ???  0LC\n"
     ]
    }
   ],
   "source": [
    "R, L = 0, 1\n",
    "chaotic_machine_rep = [1, L, 2, 1, R, 2,\n",
    "\t\t1, R, 3, 0, L, 5,\n",
    "\t\t0, R, 4, 0, L, 1,\n",
    "\t\t1, L, 1, 0, R, 4,\n",
    "\t\t1, L, 0, 0, L, 3]\n",
    "chaotic_machine = repr_to_bytes(chaotic_machine_rep)\n",
    "pptm(chaotic_machine)"
   ]
  },
  {
   "cell_type": "code",
   "execution_count": 32,
   "id": "fcc816da-5a47-417f-b634-e918e75ba7df",
   "metadata": {},
   "outputs": [
    {
     "name": "stdout",
     "output_type": "stream",
     "text": [
      "s    0    1\n",
      "---  ---  ---\n",
      "A    1RB  1LB\n",
      "B    1LC  0RE\n",
      "C    0LD  0RA\n",
      "D    1RA  0LD\n",
      "E    ???  0RC\n",
      "This is machine n = 76708232\n"
     ]
    }
   ],
   "source": [
    "R, L = 1, 0\n",
    "sym_chaotic_machine_rep = [1, L, 2, 1, R, 2,\n",
    "\t\t1, R, 3, 0, L, 5,\n",
    "\t\t0, R, 4, 0, L, 1,\n",
    "\t\t1, L, 1, 0, R, 4,\n",
    "\t\t0, 0, 0, 0, L, 3]\n",
    "sym_chaotic_machine = repr_to_bytes(sym_chaotic_machine_rep)\n",
    "pptm(sym_chaotic_machine) \n",
    "print(\"This is machine n = 76708232\")"
   ]
  },
  {
   "cell_type": "code",
   "execution_count": 33,
   "id": "427ef61d-b36a-4d6d-b10c-f23bc87509fd",
   "metadata": {},
   "outputs": [
    {
     "data": {
      "image/png": "[encoded data removed]",
      "text/plain": [
       "<PIL.Image.Image image mode=RGB size=900x1000 at 0x103730F70>"
      ]
     },
     "execution_count": 33,
     "metadata": {},
     "output_type": "execute_result"
    }
   ],
   "source": [
    "img = tm_trace_to_image(sym_chaotic_machine, origin=0.1, width=1000, height=100000, show_head_direction=False).resize((900,1000), Image.NEAREST)\n",
    "img"
   ]
  },
  {
   "cell_type": "markdown",
   "id": "f8eef51e-27c8-4baa-8bea-03d62f9b09ad",
   "metadata": {
    "tags": []
   },
   "source": [
    "## \"Complex counter\"\n",
    "\n",
    "Described in [http://turbotm.de/~heiner/BB/mabu90.html](http://turbotm.de/~heiner/BB/mabu90.html)."
   ]
  },
  {
   "cell_type": "code",
   "execution_count": 34,
   "id": "ca7351d0-c749-4383-82e3-ed28462d5bc3",
   "metadata": {},
   "outputs": [
    {
     "name": "stdout",
     "output_type": "stream",
     "text": [
      "s    0    1\n",
      "---  ---  ---\n",
      "A    1LB  1RA\n",
      "B    0RA  0LC\n",
      "C    0RC  1LD\n",
      "D    1LE  0RA\n",
      "E    0LB  ???\n"
     ]
    }
   ],
   "source": [
    "R, L = 0, 1\n",
    "complex_counter_rep = [1, L, 2, 1, R, 1,\n",
    "\t\t0, R, 1, 0, L, 3,\n",
    "\t\t0, R, 3, 1, L, 4,\n",
    "\t\t1, L, 5, 0, R, 1,\n",
    "\t\t0, L, 2, 0, 0, 0]\n",
    "complex_counter = repr_to_bytes(complex_counter_rep)\n",
    "pptm(complex_counter)"
   ]
  },
  {
   "cell_type": "code",
   "execution_count": 35,
   "id": "34c8c852-53f4-46b3-8a3a-a42cc826a834",
   "metadata": {},
   "outputs": [
    {
     "name": "stdout",
     "output_type": "stream",
     "text": [
      "s    0    1\n",
      "---  ---  ---\n",
      "A    1RB  1LA\n",
      "B    0LA  0RC\n",
      "C    0LC  1RD\n",
      "D    1RE  0LA\n",
      "E    0RB  ???\n"
     ]
    }
   ],
   "source": [
    "L, R = 0, 1\n",
    "complex_counter_rep_sym = [1, L, 2, 1, R, 1,\n",
    "\t\t0, R, 1, 0, L, 3,\n",
    "\t\t0, R, 3, 1, L, 4,\n",
    "\t\t1, L, 5, 0, R, 1,\n",
    "\t\t0, L, 2, 0, 0, 0]\n",
    "complex_counter_sym = repr_to_bytes(complex_counter_rep_sym)\n",
    "pptm(complex_counter_sym)\n",
    "R, L = 0, 1"
   ]
  },
  {
   "cell_type": "code",
   "execution_count": 36,
   "id": "f6df38b7-deb0-4ec0-8746-2130aaa99954",
   "metadata": {},
   "outputs": [
    {
     "data": {
      "image/png": "[encoded data removed]",
      "text/plain": [
       "<PIL.Image.Image image mode=RGB size=900x1000 at 0x103730AF0>"
      ]
     },
     "execution_count": 36,
     "metadata": {},
     "output_type": "execute_result"
    }
   ],
   "source": [
    "img = tm_trace_to_image(complex_counter, origin=0.5, width=100, height=1000, show_head_direction=False).resize((900,1000), Image.NEAREST)\n",
    "img"
   ]
  },
  {
   "cell_type": "markdown",
   "id": "b85711f9-429d-4184-9f4b-903760dce209",
   "metadata": {
    "tags": []
   },
   "source": [
    "## Random machine"
   ]
  },
  {
   "cell_type": "code",
   "execution_count": 37,
   "id": "ec28b650-dc5f-4287-862f-9b88e48d0a72",
   "metadata": {},
   "outputs": [],
   "source": [
    "n_history = []"
   ]
  },
  {
   "cell_type": "code",
   "execution_count": 38,
   "id": "8cb3fb7b-b413-4e3a-9960-cb28a8886396",
   "metadata": {},
   "outputs": [
    {
     "name": "stdout",
     "output_type": "stream",
     "text": [
      "7181541\n",
      "s    0    1\n",
      "---  ---  ---\n",
      "A    1RB  0LD\n",
      "B    1RC  0LD\n",
      "C    0LB  ???\n",
      "D    1RE  1LD\n",
      "E    0RA  1LE\n"
     ]
    },
    {
     "data": {
      "image/png": "[encoded data removed]",
      "text/plain": [
       "<PIL.Image.Image image mode=RGB size=900x1000 at 0x107B1E4C0>"
      ]
     },
     "execution_count": 38,
     "metadata": {},
     "output_type": "execute_result"
    }
   ],
   "source": [
    "n = random.randint(0,undecided_total-1)\n",
    "n_history.append(n)\n",
    "\n",
    "print(n)\n",
    "pptm(get_machine_i(DB_PATH,n))\n",
    "img = tm_trace_to_image(get_machine_i(DB_PATH,n), origin=0.5, width=100, height=400, show_head_direction=True).resize((900,1000), Image.NEAREST)\n",
    "img"
   ]
  },
  {
   "cell_type": "markdown",
   "id": "f422988c-5c02-49bc-88e3-78deec1f23eb",
   "metadata": {},
   "source": [
    "# Undecided Index\n",
    "\n",
    "Available for download: [https://dna.hamilton.ie/tsterin/bb5_undecided_index](https://dna.hamilton.ie/tsterin/bb5_undecided_index)   \n",
    "Shasum: `f9e7f731532259691cf917ff35fd5051c00f1636`"
   ]
  },
  {
   "cell_type": "code",
   "execution_count": 39,
   "id": "13669c40-76ed-4364-994e-04727fea7ffc",
   "metadata": {},
   "outputs": [
    {
     "data": {
      "text/plain": [
       "9288488"
      ]
     },
     "execution_count": 39,
     "metadata": {},
     "output_type": "execute_result"
    }
   ],
   "source": [
    "UNDECIDED_INDEX_PATH= \"bb5_undecided_index\"#_with_heuristics\"\n",
    "UNDECIDED_FILE_SIZE = os.path.getsize(UNDECIDED_INDEX_PATH)\n",
    "UNDECIDED_FILE_SIZE"
   ]
  },
  {
   "cell_type": "code",
   "execution_count": 40,
   "id": "4fc67e8c-8b23-44da-8fc5-9366c4fd3038",
   "metadata": {},
   "outputs": [],
   "source": [
    "undecided_index = []\n",
    "with open(UNDECIDED_INDEX_PATH, \"rb\") as f:\n",
    "    for i in range(UNDECIDED_FILE_SIZE//4):\n",
    "        chunk = f.read(4)\n",
    "        undecided_index.append(int.from_bytes(chunk, byteorder=\"big\"))"
   ]
  },
  {
   "cell_type": "code",
   "execution_count": 42,
   "id": "7937c4ad-aaa0-4f96-bdb2-6505ca22c214",
   "metadata": {},
   "outputs": [
    {
     "data": {
      "text/plain": [
       "14322029"
      ]
     },
     "execution_count": 42,
     "metadata": {},
     "output_type": "execute_result"
    }
   ],
   "source": [
    "undecided_time"
   ]
  },
  {
   "cell_type": "code",
   "execution_count": 43,
   "id": "43cf56a1-21c9-4568-bc42-b150e15a9f72",
   "metadata": {},
   "outputs": [
    {
     "name": "stdout",
     "output_type": "stream",
     "text": [
      "1954418 367704\n"
     ]
    }
   ],
   "source": [
    "undecided_time_index = []\n",
    "undecided_space_index = []\n",
    "for i in undecided_index:\n",
    "    if i < undecided_time:\n",
    "        undecided_time_index.append(i)\n",
    "    else:\n",
    "        undecided_space_index.append(i)\n",
    "print(len(undecided_time_index), len(undecided_space_index))"
   ]
  },
  {
   "cell_type": "code",
   "execution_count": 50,
   "id": "d3eb6174-7635-4bc0-8903-561c85636adc",
   "metadata": {},
   "outputs": [],
   "source": [
    "def is_sub_machine(m,m1):\n",
    "    \"\"\" m sub machine of m1\"\"\"\n",
    "    for i in range(len(m)//3):\n",
    "        if m[3*i+2] == 0:\n",
    "            continue\n",
    "        for j in range(3):\n",
    "            if m[3*i+j] != m1[3*i+j]:\n",
    "                return False\n",
    "    return True"
   ]
  },
  {
   "cell_type": "markdown",
   "id": "2fc6cedd-77e3-44b9-8feb-1042dad94395",
   "metadata": {},
   "source": [
    "# Looking for 2 machines of Marxen and Buntrock\n",
    "\n",
    "The following code checks if a given machine description is in the index. We are interesting in finding the ID of the \"chaotic machine\" and the \"complex counter\" described in Marxen and Buntrock, 1990. We find IDs `76708232` for the chaotic machine and `10936909` for the complex counter."
   ]
  },
  {
   "cell_type": "code",
   "execution_count": 51,
   "id": "af8a1817-3eb6-46bd-afd0-37b12ea97478",
   "metadata": {},
   "outputs": [],
   "source": [
    "def getMachineID(m, indexToLookOutFrom, printSubMachines=False):\n",
    "    for i in tqdm.tqdm(indexToLookOutFrom):\n",
    "        m2 = get_machine_i(DB_PATH,i)\n",
    "        if m2 == m:\n",
    "            return i\n",
    "        if is_sub_machine(m2,m) and printSubMachines:\n",
    "            print(i)\n",
    "            pptm(m2)\n",
    "    print(\"Not found\")\n",
    "    return None"
   ]
  },
  {
   "cell_type": "code",
   "execution_count": 52,
   "id": "c0bc76d9-29be-427e-a6b3-bb39c25655b0",
   "metadata": {},
   "outputs": [
    {
     "name": "stdout",
     "output_type": "stream",
     "text": [
      "s    0    1\n",
      "---  ---  ---\n",
      "A    1RB  1LB\n",
      "B    1LC  0RE\n",
      "C    0LD  0RA\n",
      "D    1RA  0LD\n",
      "E    ???  0RC\n"
     ]
    }
   ],
   "source": [
    "pptm(sym_chaotic_machine)"
   ]
  },
  {
   "cell_type": "code",
   "execution_count": 53,
   "id": "67e8af63-da8d-44cc-b13f-2ddf725b6aac",
   "metadata": {},
   "outputs": [
    {
     "name": "stderr",
     "output_type": "stream",
     "text": [
      " 84%|███████████████████████████████████████████████████████████████████████████████████████▋                 | 307152/367704 [00:07<00:01, 38510.28it/s]\n"
     ]
    },
    {
     "data": {
      "text/plain": [
       "76708232"
      ]
     },
     "execution_count": 53,
     "metadata": {},
     "output_type": "execute_result"
    }
   ],
   "source": [
    "getMachineID(sym_chaotic_machine,undecided_space_index)"
   ]
  },
  {
   "cell_type": "code",
   "execution_count": 54,
   "id": "8906a70c-4595-4cd9-8079-45322100349d",
   "metadata": {},
   "outputs": [
    {
     "name": "stderr",
     "output_type": "stream",
     "text": [
      " 70%|████████████████████████████████████████████████████████████████████████▌                              | 1375998/1954418 [00:16<00:06, 83276.04it/s]\n"
     ]
    },
    {
     "data": {
      "text/plain": [
       "10936909"
      ]
     },
     "execution_count": 54,
     "metadata": {},
     "output_type": "execute_result"
    }
   ],
   "source": [
    "getMachineID(complex_counter_sym,undecided_time_index)"
   ]
  },
  {
   "cell_type": "markdown",
   "id": "936a728d-a247-4690-9d82-554efa8fffa5",
   "metadata": {},
   "source": [
    "# Random Undecided Machine"
   ]
  },
  {
   "cell_type": "code",
   "execution_count": 55,
   "id": "bd0f8337-35a8-4671-9474-10e285b37824",
   "metadata": {},
   "outputs": [],
   "source": [
    "n_history = []"
   ]
  },
  {
   "cell_type": "code",
   "execution_count": 56,
   "id": "8f6ea736-dcac-495e-8c1a-b82657255dbe",
   "metadata": {},
   "outputs": [
    {
     "name": "stdout",
     "output_type": "stream",
     "text": [
      "83671138\n"
     ]
    },
    {
     "data": {
      "image/png": "[encoded data removed]",
      "text/plain": [
       "<PIL.Image.Image image mode=RGB size=900x1000 at 0x11E9573D0>"
      ]
     },
     "execution_count": 56,
     "metadata": {},
     "output_type": "execute_result"
    }
   ],
   "source": [
    "n = random.choice(undecided_index)\n",
    "n_history.append(n)\n",
    "print(n)\n",
    "#pptm(get_machine_i(DB_PATH,n))\n",
    "img = tm_trace_to_image(get_machine_i(DB_PATH,n), origin=0.5, width=100, height=400, show_head_direction=True).resize((900,1000), Image.NEAREST)\n",
    "img"
   ]
  },
  {
   "cell_type": "markdown",
   "id": "218abcee-ebe4-4010-b172-99ea69a95dd9",
   "metadata": {},
   "source": [
    "## List of random undecided machines for speedy lookin"
   ]
  },
  {
   "cell_type": "code",
   "execution_count": 57,
   "id": "28439d43-c861-4319-97c6-8666d57325f7",
   "metadata": {
    "tags": []
   },
   "outputs": [
    {
     "name": "stdout",
     "output_type": "stream",
     "text": [
      "4688079\n"
     ]
    },
    {
     "data": {
      "image/png": "[encoded data removed]",
      "text/plain": [
       "<PIL.Image.Image image mode=RGB size=90x100 at 0x11D0A2040>"
      ]
     },
     "metadata": {},
     "output_type": "display_data"
    },
    {
     "name": "stdout",
     "output_type": "stream",
     "text": [
      "3573571\n"
     ]
    },
    {
     "data": {
      "image/png": "[encoded data removed]",
      "text/plain": [
       "<PIL.Image.Image image mode=RGB size=90x100 at 0x11CF100A0>"
      ]
     },
     "metadata": {},
     "output_type": "display_data"
    },
    {
     "name": "stdout",
     "output_type": "stream",
     "text": [
      "745897\n"
     ]
    },
    {
     "data": {
      "image/png": "[encoded data removed]",
      "text/plain": [
       "<PIL.Image.Image image mode=RGB size=90x100 at 0x11E957B50>"
      ]
     },
     "metadata": {},
     "output_type": "display_data"
    },
    {
     "name": "stdout",
     "output_type": "stream",
     "text": [
      "12393401\n"
     ]
    },
    {
     "data": {
      "image/png": "[encoded data removed]",
      "text/plain": [
       "<PIL.Image.Image image mode=RGB size=90x100 at 0x11CF100A0>"
      ]
     },
     "metadata": {},
     "output_type": "display_data"
    },
    {
     "name": "stdout",
     "output_type": "stream",
     "text": [
      "4340064\n"
     ]
    },
    {
     "data": {
      "image/png": "[encoded data removed]",
      "text/plain": [
       "<PIL.Image.Image image mode=RGB size=90x100 at 0x11E957B50>"
      ]
     },
     "metadata": {},
     "output_type": "display_data"
    },
    {
     "name": "stdout",
     "output_type": "stream",
     "text": [
      "4940014\n"
     ]
    },
    {
     "data": {
      "image/png": "[encoded data removed]",
      "text/plain": [
       "<PIL.Image.Image image mode=RGB size=90x100 at 0x11CF100A0>"
      ]
     },
     "metadata": {},
     "output_type": "display_data"
    },
    {
     "name": "stdout",
     "output_type": "stream",
     "text": [
      "85571353\n"
     ]
    },
    {
     "data": {
      "image/png": "[encoded data removed]",
      "text/plain": [
       "<PIL.Image.Image image mode=RGB size=90x100 at 0x11E957B50>"
      ]
     },
     "metadata": {},
     "output_type": "display_data"
    },
    {
     "name": "stdout",
     "output_type": "stream",
     "text": [
      "7375780\n"
     ]
    },
    {
     "data": {
      "image/png": "[encoded data removed]",
      "text/plain": [
       "<PIL.Image.Image image mode=RGB size=90x100 at 0x11CF100A0>"
      ]
     },
     "metadata": {},
     "output_type": "display_data"
    },
    {
     "name": "stdout",
     "output_type": "stream",
     "text": [
      "13267757\n"
     ]
    },
    {
     "data": {
      "image/png": "[encoded data removed]",
      "text/plain": [
       "<PIL.Image.Image image mode=RGB size=90x100 at 0x11E9427F0>"
      ]
     },
     "metadata": {},
     "output_type": "display_data"
    },
    {
     "name": "stdout",
     "output_type": "stream",
     "text": [
      "5211122\n"
     ]
    },
    {
     "data": {
      "image/png": "[encoded data removed]",
      "text/plain": [
       "<PIL.Image.Image image mode=RGB size=90x100 at 0x11CF8ADC0>"
      ]
     },
     "metadata": {},
     "output_type": "display_data"
    },
    {
     "name": "stdout",
     "output_type": "stream",
     "text": [
      "5937392\n"
     ]
    },
    {
     "data": {
      "image/png": "[encoded data removed]",
      "text/plain": [
       "<PIL.Image.Image image mode=RGB size=90x100 at 0x11CF100A0>"
      ]
     },
     "metadata": {},
     "output_type": "display_data"
    },
    {
     "name": "stdout",
     "output_type": "stream",
     "text": [
      "9964282\n"
     ]
    },
    {
     "data": {
      "image/png": "[encoded data removed]",
      "text/plain": [
       "<PIL.Image.Image image mode=RGB size=90x100 at 0x11E972A60>"
      ]
     },
     "metadata": {},
     "output_type": "display_data"
    },
    {
     "name": "stdout",
     "output_type": "stream",
     "text": [
      "10944573\n"
     ]
    },
    {
     "data": {
      "image/png": "[encoded data removed]",
      "text/plain": [
       "<PIL.Image.Image image mode=RGB size=90x100 at 0x11CF8ADC0>"
      ]
     },
     "metadata": {},
     "output_type": "display_data"
    },
    {
     "name": "stdout",
     "output_type": "stream",
     "text": [
      "13470942\n"
     ]
    },
    {
     "data": {
      "image/png": "[encoded data removed]",
      "text/plain": [
       "<PIL.Image.Image image mode=RGB size=90x100 at 0x11CF100A0>"
      ]
     },
     "metadata": {},
     "output_type": "display_data"
    },
    {
     "name": "stdout",
     "output_type": "stream",
     "text": [
      "71890250\n"
     ]
    },
    {
     "data": {
      "image/png": "[encoded data removed]",
      "text/plain": [
       "<PIL.Image.Image image mode=RGB size=90x100 at 0x11CF8ADC0>"
      ]
     },
     "metadata": {},
     "output_type": "display_data"
    },
    {
     "name": "stdout",
     "output_type": "stream",
     "text": [
      "13636457\n"
     ]
    },
    {
     "data": {
      "image/png": "[encoded data removed]",
      "text/plain": [
       "<PIL.Image.Image image mode=RGB size=90x100 at 0x11D0A2880>"
      ]
     },
     "metadata": {},
     "output_type": "display_data"
    },
    {
     "name": "stdout",
     "output_type": "stream",
     "text": [
      "61915295\n"
     ]
    },
    {
     "data": {
      "image/png": "[encoded data removed]",
      "text/plain": [
       "<PIL.Image.Image image mode=RGB size=90x100 at 0x11E972A60>"
      ]
     },
     "metadata": {},
     "output_type": "display_data"
    },
    {
     "name": "stdout",
     "output_type": "stream",
     "text": [
      "10521663\n"
     ]
    },
    {
     "data": {
      "image/png": "[encoded data removed]",
      "text/plain": [
       "<PIL.Image.Image image mode=RGB size=90x100 at 0x11CF8ADC0>"
      ]
     },
     "metadata": {},
     "output_type": "display_data"
    },
    {
     "name": "stdout",
     "output_type": "stream",
     "text": [
      "44474079\n"
     ]
    },
    {
     "data": {
      "image/png": "[encoded data removed]",
      "text/plain": [
       "<PIL.Image.Image image mode=RGB size=90x100 at 0x11E957B50>"
      ]
     },
     "metadata": {},
     "output_type": "display_data"
    },
    {
     "name": "stdout",
     "output_type": "stream",
     "text": [
      "6264029\n"
     ]
    },
    {
     "data": {
      "image/png": "[encoded data removed]",
      "text/plain": [
       "<PIL.Image.Image image mode=RGB size=90x100 at 0x11D0A2B80>"
      ]
     },
     "metadata": {},
     "output_type": "display_data"
    },
    {
     "name": "stdout",
     "output_type": "stream",
     "text": [
      "6223133\n"
     ]
    },
    {
     "data": {
      "image/png": "[encoded data removed]",
      "text/plain": [
       "<PIL.Image.Image image mode=RGB size=90x100 at 0x11D0A2400>"
      ]
     },
     "metadata": {},
     "output_type": "display_data"
    },
    {
     "name": "stdout",
     "output_type": "stream",
     "text": [
      "8151692\n"
     ]
    },
    {
     "data": {
      "image/png": "[encoded data removed]",
      "text/plain": [
       "<PIL.Image.Image image mode=RGB size=90x100 at 0x11E972A60>"
      ]
     },
     "metadata": {},
     "output_type": "display_data"
    },
    {
     "name": "stdout",
     "output_type": "stream",
     "text": [
      "8207471\n"
     ]
    },
    {
     "data": {
      "image/png": "[encoded data removed]",
      "text/plain": [
       "<PIL.Image.Image image mode=RGB size=90x100 at 0x11E79ADC0>"
      ]
     },
     "metadata": {},
     "output_type": "display_data"
    },
    {
     "name": "stdout",
     "output_type": "stream",
     "text": [
      "6195275\n"
     ]
    },
    {
     "data": {
      "image/png": "[encoded data removed]",
      "text/plain": [
       "<PIL.Image.Image image mode=RGB size=90x100 at 0x11E972BB0>"
      ]
     },
     "metadata": {},
     "output_type": "display_data"
    },
    {
     "name": "stdout",
     "output_type": "stream",
     "text": [
      "62816752\n"
     ]
    },
    {
     "data": {
      "image/png": "[encoded data removed]",
      "text/plain": [
       "<PIL.Image.Image image mode=RGB size=90x100 at 0x11D0A2B80>"
      ]
     },
     "metadata": {},
     "output_type": "display_data"
    },
    {
     "name": "stdout",
     "output_type": "stream",
     "text": [
      "52574880\n"
     ]
    },
    {
     "data": {
      "image/png": "[encoded data removed]",
      "text/plain": [
       "<PIL.Image.Image image mode=RGB size=90x100 at 0x11E79ADC0>"
      ]
     },
     "metadata": {},
     "output_type": "display_data"
    },
    {
     "name": "stdout",
     "output_type": "stream",
     "text": [
      "10989783\n"
     ]
    },
    {
     "data": {
      "image/png": "[encoded data removed]",
      "text/plain": [
       "<PIL.Image.Image image mode=RGB size=90x100 at 0x11E79A130>"
      ]
     },
     "metadata": {},
     "output_type": "display_data"
    },
    {
     "name": "stdout",
     "output_type": "stream",
     "text": [
      "8609531\n"
     ]
    },
    {
     "data": {
      "image/png": "[encoded data removed]",
      "text/plain": [
       "<PIL.Image.Image image mode=RGB size=90x100 at 0x11E972A60>"
      ]
     },
     "metadata": {},
     "output_type": "display_data"
    },
    {
     "name": "stdout",
     "output_type": "stream",
     "text": [
      "7389357\n"
     ]
    },
    {
     "data": {
      "image/png": "[encoded data removed]",
      "text/plain": [
       "<PIL.Image.Image image mode=RGB size=90x100 at 0x11CF8ADC0>"
      ]
     },
     "metadata": {},
     "output_type": "display_data"
    },
    {
     "name": "stdout",
     "output_type": "stream",
     "text": [
      "14145436\n"
     ]
    },
    {
     "data": {
      "image/png": "[encoded data removed]",
      "text/plain": [
       "<PIL.Image.Image image mode=RGB size=90x100 at 0x11E957B50>"
      ]
     },
     "metadata": {},
     "output_type": "display_data"
    },
    {
     "name": "stdout",
     "output_type": "stream",
     "text": [
      "81915414\n"
     ]
    },
    {
     "data": {
      "image/png": "[encoded data removed]",
      "text/plain": [
       "<PIL.Image.Image image mode=RGB size=90x100 at 0x11CF100A0>"
      ]
     },
     "metadata": {},
     "output_type": "display_data"
    },
    {
     "name": "stdout",
     "output_type": "stream",
     "text": [
      "64824169\n"
     ]
    },
    {
     "data": {
      "image/png": "[encoded data removed]",
      "text/plain": [
       "<PIL.Image.Image image mode=RGB size=90x100 at 0x11E942C10>"
      ]
     },
     "metadata": {},
     "output_type": "display_data"
    },
    {
     "name": "stdout",
     "output_type": "stream",
     "text": [
      "11387785\n"
     ]
    },
    {
     "data": {
      "image/png": "[encoded data removed]",
      "text/plain": [
       "<PIL.Image.Image image mode=RGB size=90x100 at 0x11CF8ADC0>"
      ]
     },
     "metadata": {},
     "output_type": "display_data"
    },
    {
     "name": "stdout",
     "output_type": "stream",
     "text": [
      "9168775\n"
     ]
    },
    {
     "data": {
      "image/png": "[encoded data removed]",
      "text/plain": [
       "<PIL.Image.Image image mode=RGB size=90x100 at 0x11E972A60>"
      ]
     },
     "metadata": {},
     "output_type": "display_data"
    },
    {
     "name": "stdout",
     "output_type": "stream",
     "text": [
      "73470145\n"
     ]
    },
    {
     "data": {
      "image/png": "[encoded data removed]",
      "text/plain": [
       "<PIL.Image.Image image mode=RGB size=90x100 at 0x11E79ADC0>"
      ]
     },
     "metadata": {},
     "output_type": "display_data"
    },
    {
     "name": "stdout",
     "output_type": "stream",
     "text": [
      "5945731\n"
     ]
    },
    {
     "data": {
      "image/png": "[encoded data removed]",
      "text/plain": [
       "<PIL.Image.Image image mode=RGB size=90x100 at 0x11CF8ADC0>"
      ]
     },
     "metadata": {},
     "output_type": "display_data"
    },
    {
     "name": "stdout",
     "output_type": "stream",
     "text": [
      "10460074\n"
     ]
    },
    {
     "data": {
      "image/png": "[encoded data removed]",
      "text/plain": [
       "<PIL.Image.Image image mode=RGB size=90x100 at 0x11E972BB0>"
      ]
     },
     "metadata": {},
     "output_type": "display_data"
    },
    {
     "name": "stdout",
     "output_type": "stream",
     "text": [
      "13094748\n"
     ]
    },
    {
     "data": {
      "image/png": "[encoded data removed]",
      "text/plain": [
       "<PIL.Image.Image image mode=RGB size=90x100 at 0x11E9427F0>"
      ]
     },
     "metadata": {},
     "output_type": "display_data"
    },
    {
     "name": "stdout",
     "output_type": "stream",
     "text": [
      "4452242\n"
     ]
    },
    {
     "data": {
      "image/png": "[encoded data removed]",
      "text/plain": [
       "<PIL.Image.Image image mode=RGB size=90x100 at 0x11E942C10>"
      ]
     },
     "metadata": {},
     "output_type": "display_data"
    },
    {
     "name": "stdout",
     "output_type": "stream",
     "text": [
      "4782277\n"
     ]
    },
    {
     "data": {
      "image/png": "[encoded data removed]",
      "text/plain": [
       "<PIL.Image.Image image mode=RGB size=90x100 at 0x11E972BB0>"
      ]
     },
     "metadata": {},
     "output_type": "display_data"
    },
    {
     "name": "stdout",
     "output_type": "stream",
     "text": [
      "6709321\n"
     ]
    },
    {
     "data": {
      "image/png": "[encoded data removed]",
      "text/plain": [
       "<PIL.Image.Image image mode=RGB size=90x100 at 0x11E942C10>"
      ]
     },
     "metadata": {},
     "output_type": "display_data"
    },
    {
     "name": "stdout",
     "output_type": "stream",
     "text": [
      "1701734\n"
     ]
    },
    {
     "data": {
      "image/png": "[encoded data removed]",
      "text/plain": [
       "<PIL.Image.Image image mode=RGB size=90x100 at 0x11D0A2400>"
      ]
     },
     "metadata": {},
     "output_type": "display_data"
    },
    {
     "name": "stdout",
     "output_type": "stream",
     "text": [
      "7752526\n"
     ]
    },
    {
     "data": {
      "image/png": "[encoded data removed]",
      "text/plain": [
       "<PIL.Image.Image image mode=RGB size=90x100 at 0x11D0A2040>"
      ]
     },
     "metadata": {},
     "output_type": "display_data"
    },
    {
     "name": "stdout",
     "output_type": "stream",
     "text": [
      "8154648\n"
     ]
    },
    {
     "data": {
      "image/png": "[encoded data removed]",
      "text/plain": [
       "<PIL.Image.Image image mode=RGB size=90x100 at 0x11E79ADC0>"
      ]
     },
     "metadata": {},
     "output_type": "display_data"
    },
    {
     "name": "stdout",
     "output_type": "stream",
     "text": [
      "8870664\n"
     ]
    },
    {
     "data": {
      "image/png": "[encoded data removed]",
      "text/plain": [
       "<PIL.Image.Image image mode=RGB size=90x100 at 0x11D0A2400>"
      ]
     },
     "metadata": {},
     "output_type": "display_data"
    },
    {
     "name": "stdout",
     "output_type": "stream",
     "text": [
      "7626005\n"
     ]
    },
    {
     "data": {
      "image/png": "[encoded data removed]",
      "text/plain": [
       "<PIL.Image.Image image mode=RGB size=90x100 at 0x11E942C10>"
      ]
     },
     "metadata": {},
     "output_type": "display_data"
    },
    {
     "name": "stdout",
     "output_type": "stream",
     "text": [
      "10168681\n"
     ]
    },
    {
     "data": {
      "image/png": "[encoded data removed]",
      "text/plain": [
       "<PIL.Image.Image image mode=RGB size=90x100 at 0x11D0A2040>"
      ]
     },
     "metadata": {},
     "output_type": "display_data"
    },
    {
     "name": "stdout",
     "output_type": "stream",
     "text": [
      "6726358\n"
     ]
    },
    {
     "data": {
      "image/png": "[encoded data removed]",
      "text/plain": [
       "<PIL.Image.Image image mode=RGB size=90x100 at 0x11E957B50>"
      ]
     },
     "metadata": {},
     "output_type": "display_data"
    },
    {
     "name": "stdout",
     "output_type": "stream",
     "text": [
      "11397171\n"
     ]
    },
    {
     "data": {
      "image/png": "[encoded data removed]",
      "text/plain": [
       "<PIL.Image.Image image mode=RGB size=90x100 at 0x11D0A2400>"
      ]
     },
     "metadata": {},
     "output_type": "display_data"
    },
    {
     "name": "stdout",
     "output_type": "stream",
     "text": [
      "9376214\n"
     ]
    },
    {
     "data": {
      "image/png": "[encoded data removed]",
      "text/plain": [
       "<PIL.Image.Image image mode=RGB size=90x100 at 0x11E79A130>"
      ]
     },
     "metadata": {},
     "output_type": "display_data"
    },
    {
     "name": "stdout",
     "output_type": "stream",
     "text": [
      "3019632\n"
     ]
    },
    {
     "data": {
      "image/png": "[encoded data removed]",
      "text/plain": [
       "<PIL.Image.Image image mode=RGB size=90x100 at 0x11CF8ADC0>"
      ]
     },
     "metadata": {},
     "output_type": "display_data"
    },
    {
     "name": "stdout",
     "output_type": "stream",
     "text": [
      "9914177\n"
     ]
    },
    {
     "data": {
      "image/png": "[encoded data removed]",
      "text/plain": [
       "<PIL.Image.Image image mode=RGB size=90x100 at 0x11E972BB0>"
      ]
     },
     "metadata": {},
     "output_type": "display_data"
    },
    {
     "name": "stdout",
     "output_type": "stream",
     "text": [
      "11095313\n"
     ]
    },
    {
     "data": {
      "image/png": "[encoded data removed]",
      "text/plain": [
       "<PIL.Image.Image image mode=RGB size=90x100 at 0x11E9427F0>"
      ]
     },
     "metadata": {},
     "output_type": "display_data"
    },
    {
     "name": "stdout",
     "output_type": "stream",
     "text": [
      "13701613\n"
     ]
    },
    {
     "data": {
      "image/png": "[encoded data removed]",
      "text/plain": [
       "<PIL.Image.Image image mode=RGB size=90x100 at 0x11E957B50>"
      ]
     },
     "metadata": {},
     "output_type": "display_data"
    },
    {
     "name": "stdout",
     "output_type": "stream",
     "text": [
      "11322728\n"
     ]
    },
    {
     "data": {
      "image/png": "[encoded data removed]",
      "text/plain": [
       "<PIL.Image.Image image mode=RGB size=90x100 at 0x11D0A2040>"
      ]
     },
     "metadata": {},
     "output_type": "display_data"
    },
    {
     "name": "stdout",
     "output_type": "stream",
     "text": [
      "9600318\n"
     ]
    },
    {
     "data": {
      "image/png": "[encoded data removed]",
      "text/plain": [
       "<PIL.Image.Image image mode=RGB size=90x100 at 0x11E972A60>"
      ]
     },
     "metadata": {},
     "output_type": "display_data"
    },
    {
     "name": "stdout",
     "output_type": "stream",
     "text": [
      "45638955\n"
     ]
    },
    {
     "data": {
      "image/png": "[encoded data removed]",
      "text/plain": [
       "<PIL.Image.Image image mode=RGB size=90x100 at 0x11E9427F0>"
      ]
     },
     "metadata": {},
     "output_type": "display_data"
    },
    {
     "name": "stdout",
     "output_type": "stream",
     "text": [
      "8036440\n"
     ]
    },
    {
     "data": {
      "image/png": "[encoded data removed]",
      "text/plain": [
       "<PIL.Image.Image image mode=RGB size=90x100 at 0x11E972BB0>"
      ]
     },
     "metadata": {},
     "output_type": "display_data"
    },
    {
     "name": "stdout",
     "output_type": "stream",
     "text": [
      "9125936\n"
     ]
    },
    {
     "data": {
      "image/png": "[encoded data removed]",
      "text/plain": [
       "<PIL.Image.Image image mode=RGB size=90x100 at 0x11E9427F0>"
      ]
     },
     "metadata": {},
     "output_type": "display_data"
    },
    {
     "name": "stdout",
     "output_type": "stream",
     "text": [
      "11854759\n"
     ]
    },
    {
     "data": {
      "image/png": "[encoded data removed]",
      "text/plain": [
       "<PIL.Image.Image image mode=RGB size=90x100 at 0x11D0A2880>"
      ]
     },
     "metadata": {},
     "output_type": "display_data"
    },
    {
     "name": "stdout",
     "output_type": "stream",
     "text": [
      "4116298\n"
     ]
    },
    {
     "data": {
      "image/png": "[encoded data removed]",
      "text/plain": [
       "<PIL.Image.Image image mode=RGB size=90x100 at 0x11D0A2B80>"
      ]
     },
     "metadata": {},
     "output_type": "display_data"
    },
    {
     "name": "stdout",
     "output_type": "stream",
     "text": [
      "1096937\n"
     ]
    },
    {
     "data": {
      "image/png": "[encoded data removed]",
      "text/plain": [
       "<PIL.Image.Image image mode=RGB size=90x100 at 0x11D0A2040>"
      ]
     },
     "metadata": {},
     "output_type": "display_data"
    },
    {
     "name": "stdout",
     "output_type": "stream",
     "text": [
      "67149773\n"
     ]
    },
    {
     "data": {
      "image/png": "[encoded data removed]",
      "text/plain": [
       "<PIL.Image.Image image mode=RGB size=90x100 at 0x11D0A2400>"
      ]
     },
     "metadata": {},
     "output_type": "display_data"
    },
    {
     "name": "stdout",
     "output_type": "stream",
     "text": [
      "11900873\n"
     ]
    },
    {
     "data": {
      "image/png": "[encoded data removed]",
      "text/plain": [
       "<PIL.Image.Image image mode=RGB size=90x100 at 0x11D0A2B80>"
      ]
     },
     "metadata": {},
     "output_type": "display_data"
    },
    {
     "name": "stdout",
     "output_type": "stream",
     "text": [
      "51620176\n"
     ]
    },
    {
     "data": {
      "image/png": "[encoded data removed]",
      "text/plain": [
       "<PIL.Image.Image image mode=RGB size=90x100 at 0x11CF8ADC0>"
      ]
     },
     "metadata": {},
     "output_type": "display_data"
    },
    {
     "name": "stdout",
     "output_type": "stream",
     "text": [
      "5721494\n"
     ]
    },
    {
     "data": {
      "image/png": "[encoded data removed]",
      "text/plain": [
       "<PIL.Image.Image image mode=RGB size=90x100 at 0x11D0A2880>"
      ]
     },
     "metadata": {},
     "output_type": "display_data"
    },
    {
     "name": "stdout",
     "output_type": "stream",
     "text": [
      "42285566\n"
     ]
    },
    {
     "data": {
      "image/png": "[encoded data removed]",
      "text/plain": [
       "<PIL.Image.Image image mode=RGB size=90x100 at 0x11CF8ADC0>"
      ]
     },
     "metadata": {},
     "output_type": "display_data"
    },
    {
     "name": "stdout",
     "output_type": "stream",
     "text": [
      "40710\n"
     ]
    },
    {
     "data": {
      "image/png": "[encoded data removed]",
      "text/plain": [
       "<PIL.Image.Image image mode=RGB size=90x100 at 0x11E9427F0>"
      ]
     },
     "metadata": {},
     "output_type": "display_data"
    },
    {
     "name": "stdout",
     "output_type": "stream",
     "text": [
      "10866948\n"
     ]
    },
    {
     "data": {
      "image/png": "[encoded data removed]",
      "text/plain": [
       "<PIL.Image.Image image mode=RGB size=90x100 at 0x11E79ADC0>"
      ]
     },
     "metadata": {},
     "output_type": "display_data"
    },
    {
     "name": "stdout",
     "output_type": "stream",
     "text": [
      "82842\n"
     ]
    },
    {
     "data": {
      "image/png": "[encoded data removed]",
      "text/plain": [
       "<PIL.Image.Image image mode=RGB size=90x100 at 0x11D0A2400>"
      ]
     },
     "metadata": {},
     "output_type": "display_data"
    },
    {
     "name": "stdout",
     "output_type": "stream",
     "text": [
      "78124194\n"
     ]
    },
    {
     "data": {
      "image/png": "[encoded data removed]",
      "text/plain": [
       "<PIL.Image.Image image mode=RGB size=90x100 at 0x11E972A60>"
      ]
     },
     "metadata": {},
     "output_type": "display_data"
    },
    {
     "name": "stdout",
     "output_type": "stream",
     "text": [
      "16960416\n"
     ]
    },
    {
     "data": {
      "image/png": "[encoded data removed]",
      "text/plain": [
       "<PIL.Image.Image image mode=RGB size=90x100 at 0x11E942C10>"
      ]
     },
     "metadata": {},
     "output_type": "display_data"
    },
    {
     "name": "stdout",
     "output_type": "stream",
     "text": [
      "61500899\n"
     ]
    },
    {
     "data": {
      "image/png": "[encoded data removed]",
      "text/plain": [
       "<PIL.Image.Image image mode=RGB size=90x100 at 0x11CF8ADC0>"
      ]
     },
     "metadata": {},
     "output_type": "display_data"
    },
    {
     "name": "stdout",
     "output_type": "stream",
     "text": [
      "3297011\n"
     ]
    },
    {
     "data": {
      "image/png": "[encoded data removed]",
      "text/plain": [
       "<PIL.Image.Image image mode=RGB size=90x100 at 0x11D095850>"
      ]
     },
     "metadata": {},
     "output_type": "display_data"
    },
    {
     "name": "stdout",
     "output_type": "stream",
     "text": [
      "5802933\n"
     ]
    },
    {
     "data": {
      "image/png": "[encoded data removed]",
      "text/plain": [
       "<PIL.Image.Image image mode=RGB size=90x100 at 0x11CF8ADC0>"
      ]
     },
     "metadata": {},
     "output_type": "display_data"
    },
    {
     "name": "stdout",
     "output_type": "stream",
     "text": [
      "936976\n"
     ]
    },
    {
     "data": {
      "image/png": "[encoded data removed]",
      "text/plain": [
       "<PIL.Image.Image image mode=RGB size=90x100 at 0x11E957B50>"
      ]
     },
     "metadata": {},
     "output_type": "display_data"
    },
    {
     "name": "stdout",
     "output_type": "stream",
     "text": [
      "12211191\n"
     ]
    },
    {
     "data": {
      "image/png": "[encoded data removed]",
      "text/plain": [
       "<PIL.Image.Image image mode=RGB size=90x100 at 0x11E972BB0>"
      ]
     },
     "metadata": {},
     "output_type": "display_data"
    },
    {
     "name": "stdout",
     "output_type": "stream",
     "text": [
      "13045957\n"
     ]
    },
    {
     "data": {
      "image/png": "[encoded data removed]",
      "text/plain": [
       "<PIL.Image.Image image mode=RGB size=90x100 at 0x11E972A60>"
      ]
     },
     "metadata": {},
     "output_type": "display_data"
    },
    {
     "name": "stdout",
     "output_type": "stream",
     "text": [
      "14171700\n"
     ]
    },
    {
     "data": {
      "image/png": "[encoded data removed]",
      "text/plain": [
       "<PIL.Image.Image image mode=RGB size=90x100 at 0x11E942C10>"
      ]
     },
     "metadata": {},
     "output_type": "display_data"
    },
    {
     "name": "stdout",
     "output_type": "stream",
     "text": [
      "8558783\n"
     ]
    },
    {
     "data": {
      "image/png": "[encoded data removed]",
      "text/plain": [
       "<PIL.Image.Image image mode=RGB size=90x100 at 0x11E972A60>"
      ]
     },
     "metadata": {},
     "output_type": "display_data"
    },
    {
     "name": "stdout",
     "output_type": "stream",
     "text": [
      "6502263\n"
     ]
    },
    {
     "data": {
      "image/png": "[encoded data removed]",
      "text/plain": [
       "<PIL.Image.Image image mode=RGB size=90x100 at 0x11CF8ADC0>"
      ]
     },
     "metadata": {},
     "output_type": "display_data"
    },
    {
     "name": "stdout",
     "output_type": "stream",
     "text": [
      "13193231\n"
     ]
    },
    {
     "data": {
      "image/png": "[encoded data removed]",
      "text/plain": [
       "<PIL.Image.Image image mode=RGB size=90x100 at 0x11EAEBD90>"
      ]
     },
     "metadata": {},
     "output_type": "display_data"
    },
    {
     "name": "stdout",
     "output_type": "stream",
     "text": [
      "7204678\n"
     ]
    },
    {
     "data": {
      "image/png": "[encoded data removed]",
      "text/plain": [
       "<PIL.Image.Image image mode=RGB size=90x100 at 0x11D0A2B80>"
      ]
     },
     "metadata": {},
     "output_type": "display_data"
    },
    {
     "name": "stdout",
     "output_type": "stream",
     "text": [
      "12246335\n"
     ]
    },
    {
     "data": {
      "image/png": "[encoded data removed]",
      "text/plain": [
       "<PIL.Image.Image image mode=RGB size=90x100 at 0x11E972A60>"
      ]
     },
     "metadata": {},
     "output_type": "display_data"
    },
    {
     "name": "stdout",
     "output_type": "stream",
     "text": [
      "12016513\n"
     ]
    },
    {
     "data": {
      "image/png": "[encoded data removed]",
      "text/plain": [
       "<PIL.Image.Image image mode=RGB size=90x100 at 0x11E9A64F0>"
      ]
     },
     "metadata": {},
     "output_type": "display_data"
    },
    {
     "name": "stdout",
     "output_type": "stream",
     "text": [
      "4929987\n"
     ]
    },
    {
     "data": {
      "image/png": "[encoded data removed]",
      "text/plain": [
       "<PIL.Image.Image image mode=RGB size=90x100 at 0x11E79ADC0>"
      ]
     },
     "metadata": {},
     "output_type": "display_data"
    },
    {
     "name": "stdout",
     "output_type": "stream",
     "text": [
      "5330075\n"
     ]
    },
    {
     "data": {
      "image/png": "[encoded data removed]",
      "text/plain": [
       "<PIL.Image.Image image mode=RGB size=90x100 at 0x11E9A64F0>"
      ]
     },
     "metadata": {},
     "output_type": "display_data"
    },
    {
     "name": "stdout",
     "output_type": "stream",
     "text": [
      "7997280\n"
     ]
    },
    {
     "data": {
      "image/png": "[encoded data removed]",
      "text/plain": [
       "<PIL.Image.Image image mode=RGB size=90x100 at 0x11E957B50>"
      ]
     },
     "metadata": {},
     "output_type": "display_data"
    },
    {
     "name": "stdout",
     "output_type": "stream",
     "text": [
      "7174265\n"
     ]
    },
    {
     "data": {
      "image/png": "[encoded data removed]",
      "text/plain": [
       "<PIL.Image.Image image mode=RGB size=90x100 at 0x11E79ADC0>"
      ]
     },
     "metadata": {},
     "output_type": "display_data"
    },
    {
     "name": "stdout",
     "output_type": "stream",
     "text": [
      "11982762\n"
     ]
    },
    {
     "data": {
      "image/png": "[encoded data removed]",
      "text/plain": [
       "<PIL.Image.Image image mode=RGB size=90x100 at 0x11E942C10>"
      ]
     },
     "metadata": {},
     "output_type": "display_data"
    },
    {
     "name": "stdout",
     "output_type": "stream",
     "text": [
      "9479986\n"
     ]
    },
    {
     "data": {
      "image/png": "[encoded data removed]",
      "text/plain": [
       "<PIL.Image.Image image mode=RGB size=90x100 at 0x11EAEBD90>"
      ]
     },
     "metadata": {},
     "output_type": "display_data"
    },
    {
     "name": "stdout",
     "output_type": "stream",
     "text": [
      "6951899\n"
     ]
    },
    {
     "data": {
      "image/png": "[encoded data removed]",
      "text/plain": [
       "<PIL.Image.Image image mode=RGB size=90x100 at 0x11E9A64F0>"
      ]
     },
     "metadata": {},
     "output_type": "display_data"
    },
    {
     "name": "stdout",
     "output_type": "stream",
     "text": [
      "83831079\n"
     ]
    },
    {
     "data": {
      "image/png": "[encoded data removed]",
      "text/plain": [
       "<PIL.Image.Image image mode=RGB size=90x100 at 0x11EAEB280>"
      ]
     },
     "metadata": {},
     "output_type": "display_data"
    },
    {
     "name": "stdout",
     "output_type": "stream",
     "text": [
      "13072501\n"
     ]
    },
    {
     "data": {
      "image/png": "[encoded data removed]",
      "text/plain": [
       "<PIL.Image.Image image mode=RGB size=90x100 at 0x11E9A64F0>"
      ]
     },
     "metadata": {},
     "output_type": "display_data"
    },
    {
     "name": "stdout",
     "output_type": "stream",
     "text": [
      "7057511\n"
     ]
    },
    {
     "data": {
      "image/png": "[encoded data removed]",
      "text/plain": [
       "<PIL.Image.Image image mode=RGB size=90x100 at 0x11CF100A0>"
      ]
     },
     "metadata": {},
     "output_type": "display_data"
    },
    {
     "name": "stdout",
     "output_type": "stream",
     "text": [
      "10887999\n"
     ]
    },
    {
     "data": {
      "image/png": "[encoded data removed]",
      "text/plain": [
       "<PIL.Image.Image image mode=RGB size=90x100 at 0x11E972BB0>"
      ]
     },
     "metadata": {},
     "output_type": "display_data"
    },
    {
     "name": "stdout",
     "output_type": "stream",
     "text": [
      "11138797\n"
     ]
    },
    {
     "data": {
      "image/png": "[encoded data removed]",
      "text/plain": [
       "<PIL.Image.Image image mode=RGB size=90x100 at 0x11CF8ADC0>"
      ]
     },
     "metadata": {},
     "output_type": "display_data"
    },
    {
     "name": "stdout",
     "output_type": "stream",
     "text": [
      "16101666\n"
     ]
    },
    {
     "data": {
      "image/png": "[encoded data removed]",
      "text/plain": [
       "<PIL.Image.Image image mode=RGB size=90x100 at 0x11E942C10>"
      ]
     },
     "metadata": {},
     "output_type": "display_data"
    },
    {
     "name": "stdout",
     "output_type": "stream",
     "text": [
      "6099376\n"
     ]
    },
    {
     "data": {
      "image/png": "[encoded data removed]",
      "text/plain": [
       "<PIL.Image.Image image mode=RGB size=90x100 at 0x11E79A130>"
      ]
     },
     "metadata": {},
     "output_type": "display_data"
    },
    {
     "name": "stdout",
     "output_type": "stream",
     "text": [
      "8969166\n"
     ]
    },
    {
     "data": {
      "image/png": "[encoded data removed]",
      "text/plain": [
       "<PIL.Image.Image image mode=RGB size=90x100 at 0x11D0A2B80>"
      ]
     },
     "metadata": {},
     "output_type": "display_data"
    },
    {
     "name": "stdout",
     "output_type": "stream",
     "text": [
      "71265617\n"
     ]
    },
    {
     "data": {
      "image/png": "[encoded data removed]",
      "text/plain": [
       "<PIL.Image.Image image mode=RGB size=90x100 at 0x11EAEB280>"
      ]
     },
     "metadata": {},
     "output_type": "display_data"
    },
    {
     "name": "stdout",
     "output_type": "stream",
     "text": [
      "5509291\n"
     ]
    },
    {
     "data": {
      "image/png": "[encoded data removed]",
      "text/plain": [
       "<PIL.Image.Image image mode=RGB size=90x100 at 0x11E972A60>"
      ]
     },
     "metadata": {},
     "output_type": "display_data"
    },
    {
     "name": "stdout",
     "output_type": "stream",
     "text": [
      "4478983\n"
     ]
    },
    {
     "data": {
      "image/png": "[encoded data removed]",
      "text/plain": [
       "<PIL.Image.Image image mode=RGB size=90x100 at 0x11D0A2400>"
      ]
     },
     "metadata": {},
     "output_type": "display_data"
    },
    {
     "name": "stdout",
     "output_type": "stream",
     "text": [
      "10212741\n"
     ]
    },
    {
     "data": {
      "image/png": "[encoded data removed]",
      "text/plain": [
       "<PIL.Image.Image image mode=RGB size=90x100 at 0x11E9427F0>"
      ]
     },
     "metadata": {},
     "output_type": "display_data"
    },
    {
     "name": "stdout",
     "output_type": "stream",
     "text": [
      "1446849\n"
     ]
    },
    {
     "data": {
      "image/png": "[encoded data removed]",
      "text/plain": [
       "<PIL.Image.Image image mode=RGB size=90x100 at 0x11E79A130>"
      ]
     },
     "metadata": {},
     "output_type": "display_data"
    },
    {
     "name": "stdout",
     "output_type": "stream",
     "text": [
      "9687842\n"
     ]
    },
    {
     "data": {
      "image/png": "[encoded data removed]",
      "text/plain": [
       "<PIL.Image.Image image mode=RGB size=90x100 at 0x11D0A2B80>"
      ]
     },
     "metadata": {},
     "output_type": "display_data"
    },
    {
     "name": "stdout",
     "output_type": "stream",
     "text": [
      "33402775\n"
     ]
    },
    {
     "data": {
      "image/png": "[encoded data removed]",
      "text/plain": [
       "<PIL.Image.Image image mode=RGB size=90x100 at 0x11E957B50>"
      ]
     },
     "metadata": {},
     "output_type": "display_data"
    },
    {
     "name": "stdout",
     "output_type": "stream",
     "text": [
      "10835098\n"
     ]
    },
    {
     "data": {
      "image/png": "[encoded data removed]",
      "text/plain": [
       "<PIL.Image.Image image mode=RGB size=90x100 at 0x11E79ADC0>"
      ]
     },
     "metadata": {},
     "output_type": "display_data"
    },
    {
     "name": "stdout",
     "output_type": "stream",
     "text": [
      "954601\n"
     ]
    },
    {
     "data": {
      "image/png": "[encoded data removed]",
      "text/plain": [
       "<PIL.Image.Image image mode=RGB size=90x100 at 0x11E972A60>"
      ]
     },
     "metadata": {},
     "output_type": "display_data"
    },
    {
     "name": "stdout",
     "output_type": "stream",
     "text": [
      "13982502\n"
     ]
    },
    {
     "data": {
      "image/png": "[encoded data removed]",
      "text/plain": [
       "<PIL.Image.Image image mode=RGB size=90x100 at 0x11D0A2B80>"
      ]
     },
     "metadata": {},
     "output_type": "display_data"
    },
    {
     "name": "stdout",
     "output_type": "stream",
     "text": [
      "8024647\n"
     ]
    },
    {
     "data": {
      "image/png": "[encoded data removed]",
      "text/plain": [
       "<PIL.Image.Image image mode=RGB size=90x100 at 0x11E79A130>"
      ]
     },
     "metadata": {},
     "output_type": "display_data"
    },
    {
     "name": "stdout",
     "output_type": "stream",
     "text": [
      "3806992\n"
     ]
    },
    {
     "data": {
      "image/png": "[encoded data removed]",
      "text/plain": [
       "<PIL.Image.Image image mode=RGB size=90x100 at 0x11E9A64F0>"
      ]
     },
     "metadata": {},
     "output_type": "display_data"
    },
    {
     "name": "stdout",
     "output_type": "stream",
     "text": [
      "1170170\n"
     ]
    },
    {
     "data": {
      "image/png": "[encoded data removed]",
      "text/plain": [
       "<PIL.Image.Image image mode=RGB size=90x100 at 0x11EAEB280>"
      ]
     },
     "metadata": {},
     "output_type": "display_data"
    },
    {
     "name": "stdout",
     "output_type": "stream",
     "text": [
      "3208380\n"
     ]
    },
    {
     "data": {
      "image/png": "[encoded data removed]",
      "text/plain": [
       "<PIL.Image.Image image mode=RGB size=90x100 at 0x11E79A130>"
      ]
     },
     "metadata": {},
     "output_type": "display_data"
    },
    {
     "name": "stdout",
     "output_type": "stream",
     "text": [
      "9108237\n"
     ]
    },
    {
     "data": {
      "image/png": "[encoded data removed]",
      "text/plain": [
       "<PIL.Image.Image image mode=RGB size=90x100 at 0x11E9A64F0>"
      ]
     },
     "metadata": {},
     "output_type": "display_data"
    },
    {
     "name": "stdout",
     "output_type": "stream",
     "text": [
      "5738802\n"
     ]
    },
    {
     "data": {
      "image/png": "[encoded data removed]",
      "text/plain": [
       "<PIL.Image.Image image mode=RGB size=90x100 at 0x11E972BB0>"
      ]
     },
     "metadata": {},
     "output_type": "display_data"
    },
    {
     "name": "stdout",
     "output_type": "stream",
     "text": [
      "9911178\n"
     ]
    },
    {
     "data": {
      "image/png": "[encoded data removed]",
      "text/plain": [
       "<PIL.Image.Image image mode=RGB size=90x100 at 0x11D0A2B80>"
      ]
     },
     "metadata": {},
     "output_type": "display_data"
    },
    {
     "name": "stdout",
     "output_type": "stream",
     "text": [
      "1423948\n"
     ]
    },
    {
     "data": {
      "image/png": "[encoded data removed]",
      "text/plain": [
       "<PIL.Image.Image image mode=RGB size=90x100 at 0x11E79A130>"
      ]
     },
     "metadata": {},
     "output_type": "display_data"
    },
    {
     "name": "stdout",
     "output_type": "stream",
     "text": [
      "6982910\n"
     ]
    },
    {
     "data": {
      "image/png": "[encoded data removed]",
      "text/plain": [
       "<PIL.Image.Image image mode=RGB size=90x100 at 0x11E9427F0>"
      ]
     },
     "metadata": {},
     "output_type": "display_data"
    },
    {
     "name": "stdout",
     "output_type": "stream",
     "text": [
      "12983705\n"
     ]
    },
    {
     "data": {
      "image/png": "[encoded data removed]",
      "text/plain": [
       "<PIL.Image.Image image mode=RGB size=90x100 at 0x11EAEB280>"
      ]
     },
     "metadata": {},
     "output_type": "display_data"
    },
    {
     "name": "stdout",
     "output_type": "stream",
     "text": [
      "10562306\n"
     ]
    },
    {
     "data": {
      "image/png": "[encoded data removed]",
      "text/plain": [
       "<PIL.Image.Image image mode=RGB size=90x100 at 0x11E972A60>"
      ]
     },
     "metadata": {},
     "output_type": "display_data"
    },
    {
     "name": "stdout",
     "output_type": "stream",
     "text": [
      "4794292\n"
     ]
    },
    {
     "data": {
      "image/png": "[encoded data removed]",
      "text/plain": [
       "<PIL.Image.Image image mode=RGB size=90x100 at 0x11EAEBD90>"
      ]
     },
     "metadata": {},
     "output_type": "display_data"
    },
    {
     "name": "stdout",
     "output_type": "stream",
     "text": [
      "11294172\n"
     ]
    },
    {
     "data": {
      "image/png": "[encoded data removed]",
      "text/plain": [
       "<PIL.Image.Image image mode=RGB size=90x100 at 0x11CF100A0>"
      ]
     },
     "metadata": {},
     "output_type": "display_data"
    },
    {
     "name": "stdout",
     "output_type": "stream",
     "text": [
      "1242361\n"
     ]
    },
    {
     "data": {
      "image/png": "[encoded data removed]",
      "text/plain": [
       "<PIL.Image.Image image mode=RGB size=90x100 at 0x11D0A2B80>"
      ]
     },
     "metadata": {},
     "output_type": "display_data"
    },
    {
     "name": "stdout",
     "output_type": "stream",
     "text": [
      "5370534\n"
     ]
    },
    {
     "data": {
      "image/png": "[encoded data removed]",
      "text/plain": [
       "<PIL.Image.Image image mode=RGB size=90x100 at 0x11EAEB280>"
      ]
     },
     "metadata": {},
     "output_type": "display_data"
    },
    {
     "name": "stdout",
     "output_type": "stream",
     "text": [
      "5362040\n"
     ]
    },
    {
     "data": {
      "image/png": "[encoded data removed]",
      "text/plain": [
       "<PIL.Image.Image image mode=RGB size=90x100 at 0x11D095970>"
      ]
     },
     "metadata": {},
     "output_type": "display_data"
    },
    {
     "name": "stdout",
     "output_type": "stream",
     "text": [
      "9316716\n"
     ]
    },
    {
     "data": {
      "image/png": "[encoded data removed]",
      "text/plain": [
       "<PIL.Image.Image image mode=RGB size=90x100 at 0x11EAEB280>"
      ]
     },
     "metadata": {},
     "output_type": "display_data"
    },
    {
     "name": "stdout",
     "output_type": "stream",
     "text": [
      "13461170\n"
     ]
    },
    {
     "data": {
      "image/png": "[encoded data removed]",
      "text/plain": [
       "<PIL.Image.Image image mode=RGB size=90x100 at 0x11E9A64F0>"
      ]
     },
     "metadata": {},
     "output_type": "display_data"
    },
    {
     "name": "stdout",
     "output_type": "stream",
     "text": [
      "12228734\n"
     ]
    },
    {
     "data": {
      "image/png": "[encoded data removed]",
      "text/plain": [
       "<PIL.Image.Image image mode=RGB size=90x100 at 0x11E972A60>"
      ]
     },
     "metadata": {},
     "output_type": "display_data"
    },
    {
     "name": "stdout",
     "output_type": "stream",
     "text": [
      "11923851\n"
     ]
    },
    {
     "data": {
      "image/png": "[encoded data removed]",
      "text/plain": [
       "<PIL.Image.Image image mode=RGB size=90x100 at 0x11E9A64F0>"
      ]
     },
     "metadata": {},
     "output_type": "display_data"
    },
    {
     "name": "stdout",
     "output_type": "stream",
     "text": [
      "14247185\n"
     ]
    },
    {
     "data": {
      "image/png": "[encoded data removed]",
      "text/plain": [
       "<PIL.Image.Image image mode=RGB size=90x100 at 0x11E972A60>"
      ]
     },
     "metadata": {},
     "output_type": "display_data"
    },
    {
     "name": "stdout",
     "output_type": "stream",
     "text": [
      "11904071\n"
     ]
    },
    {
     "data": {
      "image/png": "[encoded data removed]",
      "text/plain": [
       "<PIL.Image.Image image mode=RGB size=90x100 at 0x11CF100A0>"
      ]
     },
     "metadata": {},
     "output_type": "display_data"
    },
    {
     "name": "stdout",
     "output_type": "stream",
     "text": [
      "59910116\n"
     ]
    },
    {
     "data": {
      "image/png": "[encoded data removed]",
      "text/plain": [
       "<PIL.Image.Image image mode=RGB size=90x100 at 0x11E957B50>"
      ]
     },
     "metadata": {},
     "output_type": "display_data"
    },
    {
     "name": "stdout",
     "output_type": "stream",
     "text": [
      "75831958\n"
     ]
    },
    {
     "data": {
      "image/png": "[encoded data removed]",
      "text/plain": [
       "<PIL.Image.Image image mode=RGB size=90x100 at 0x11CF100A0>"
      ]
     },
     "metadata": {},
     "output_type": "display_data"
    },
    {
     "name": "stdout",
     "output_type": "stream",
     "text": [
      "4468091\n"
     ]
    },
    {
     "data": {
      "image/png": "[encoded data removed]",
      "text/plain": [
       "<PIL.Image.Image image mode=RGB size=90x100 at 0x11E957B50>"
      ]
     },
     "metadata": {},
     "output_type": "display_data"
    },
    {
     "name": "stdout",
     "output_type": "stream",
     "text": [
      "11174216\n"
     ]
    },
    {
     "data": {
      "image/png": "[encoded data removed]",
      "text/plain": [
       "<PIL.Image.Image image mode=RGB size=90x100 at 0x11D095970>"
      ]
     },
     "metadata": {},
     "output_type": "display_data"
    },
    {
     "name": "stdout",
     "output_type": "stream",
     "text": [
      "11383611\n"
     ]
    },
    {
     "data": {
      "image/png": "[encoded data removed]",
      "text/plain": [
       "<PIL.Image.Image image mode=RGB size=90x100 at 0x11D095580>"
      ]
     },
     "metadata": {},
     "output_type": "display_data"
    },
    {
     "name": "stdout",
     "output_type": "stream",
     "text": [
      "13379816\n"
     ]
    },
    {
     "data": {
      "image/png": "[encoded data removed]",
      "text/plain": [
       "<PIL.Image.Image image mode=RGB size=90x100 at 0x11E957B50>"
      ]
     },
     "metadata": {},
     "output_type": "display_data"
    },
    {
     "name": "stdout",
     "output_type": "stream",
     "text": [
      "8039250\n"
     ]
    },
    {
     "data": {
      "image/png": "[encoded data removed]",
      "text/plain": [
       "<PIL.Image.Image image mode=RGB size=90x100 at 0x11E942C10>"
      ]
     },
     "metadata": {},
     "output_type": "display_data"
    },
    {
     "name": "stdout",
     "output_type": "stream",
     "text": [
      "8120623\n"
     ]
    },
    {
     "data": {
      "image/png": "[encoded data removed]",
      "text/plain": [
       "<PIL.Image.Image image mode=RGB size=90x100 at 0x11D0A2400>"
      ]
     },
     "metadata": {},
     "output_type": "display_data"
    },
    {
     "name": "stdout",
     "output_type": "stream",
     "text": [
      "35272565\n"
     ]
    },
    {
     "data": {
      "image/png": "[encoded data removed]",
      "text/plain": [
       "<PIL.Image.Image image mode=RGB size=90x100 at 0x11E957B50>"
      ]
     },
     "metadata": {},
     "output_type": "display_data"
    },
    {
     "name": "stdout",
     "output_type": "stream",
     "text": [
      "11028759\n"
     ]
    },
    {
     "data": {
      "image/png": "[encoded data removed]",
      "text/plain": [
       "<PIL.Image.Image image mode=RGB size=90x100 at 0x11E972A60>"
      ]
     },
     "metadata": {},
     "output_type": "display_data"
    },
    {
     "name": "stdout",
     "output_type": "stream",
     "text": [
      "20084716\n"
     ]
    },
    {
     "data": {
      "image/png": "[encoded data removed]",
      "text/plain": [
       "<PIL.Image.Image image mode=RGB size=90x100 at 0x11EAEBD90>"
      ]
     },
     "metadata": {},
     "output_type": "display_data"
    },
    {
     "name": "stdout",
     "output_type": "stream",
     "text": [
      "13610985\n"
     ]
    },
    {
     "data": {
      "image/png": "[encoded data removed]",
      "text/plain": [
       "<PIL.Image.Image image mode=RGB size=90x100 at 0x11E972BB0>"
      ]
     },
     "metadata": {},
     "output_type": "display_data"
    },
    {
     "name": "stdout",
     "output_type": "stream",
     "text": [
      "8177304\n"
     ]
    },
    {
     "data": {
      "image/png": "[encoded data removed]",
      "text/plain": [
       "<PIL.Image.Image image mode=RGB size=90x100 at 0x11E942C10>"
      ]
     },
     "metadata": {},
     "output_type": "display_data"
    },
    {
     "name": "stdout",
     "output_type": "stream",
     "text": [
      "8194782\n"
     ]
    },
    {
     "data": {
      "image/png": "[encoded data removed]",
      "text/plain": [
       "<PIL.Image.Image image mode=RGB size=90x100 at 0x11D0A2400>"
      ]
     },
     "metadata": {},
     "output_type": "display_data"
    },
    {
     "name": "stdout",
     "output_type": "stream",
     "text": [
      "13496587\n"
     ]
    },
    {
     "data": {
      "image/png": "[encoded data removed]",
      "text/plain": [
       "<PIL.Image.Image image mode=RGB size=90x100 at 0x11CF8ADC0>"
      ]
     },
     "metadata": {},
     "output_type": "display_data"
    },
    {
     "name": "stdout",
     "output_type": "stream",
     "text": [
      "11632144\n"
     ]
    },
    {
     "data": {
      "image/png": "[encoded data removed]",
      "text/plain": [
       "<PIL.Image.Image image mode=RGB size=90x100 at 0x11EAEBD90>"
      ]
     },
     "metadata": {},
     "output_type": "display_data"
    },
    {
     "name": "stdout",
     "output_type": "stream",
     "text": [
      "6051714\n"
     ]
    },
    {
     "data": {
      "image/png": "[encoded data removed]",
      "text/plain": [
       "<PIL.Image.Image image mode=RGB size=90x100 at 0x11E942C10>"
      ]
     },
     "metadata": {},
     "output_type": "display_data"
    },
    {
     "name": "stdout",
     "output_type": "stream",
     "text": [
      "331955\n"
     ]
    },
    {
     "data": {
      "image/png": "[encoded data removed]",
      "text/plain": [
       "<PIL.Image.Image image mode=RGB size=90x100 at 0x11EAEB280>"
      ]
     },
     "metadata": {},
     "output_type": "display_data"
    },
    {
     "name": "stdout",
     "output_type": "stream",
     "text": [
      "8119725\n"
     ]
    },
    {
     "data": {
      "image/png": "[encoded data removed]",
      "text/plain": [
       "<PIL.Image.Image image mode=RGB size=90x100 at 0x11D095970>"
      ]
     },
     "metadata": {},
     "output_type": "display_data"
    },
    {
     "name": "stdout",
     "output_type": "stream",
     "text": [
      "8106956\n"
     ]
    },
    {
     "data": {
      "image/png": "[encoded data removed]",
      "text/plain": [
       "<PIL.Image.Image image mode=RGB size=90x100 at 0x11E79A130>"
      ]
     },
     "metadata": {},
     "output_type": "display_data"
    },
    {
     "name": "stdout",
     "output_type": "stream",
     "text": [
      "33314223\n"
     ]
    },
    {
     "data": {
      "image/png": "[encoded data removed]",
      "text/plain": [
       "<PIL.Image.Image image mode=RGB size=90x100 at 0x11D095970>"
      ]
     },
     "metadata": {},
     "output_type": "display_data"
    },
    {
     "name": "stdout",
     "output_type": "stream",
     "text": [
      "5260214\n"
     ]
    },
    {
     "data": {
      "image/png": "[encoded data removed]",
      "text/plain": [
       "<PIL.Image.Image image mode=RGB size=90x100 at 0x11E972A60>"
      ]
     },
     "metadata": {},
     "output_type": "display_data"
    },
    {
     "name": "stdout",
     "output_type": "stream",
     "text": [
      "8177247\n"
     ]
    },
    {
     "data": {
      "image/png": "[encoded data removed]",
      "text/plain": [
       "<PIL.Image.Image image mode=RGB size=90x100 at 0x11E9A64F0>"
      ]
     },
     "metadata": {},
     "output_type": "display_data"
    },
    {
     "name": "stdout",
     "output_type": "stream",
     "text": [
      "13930931\n"
     ]
    },
    {
     "data": {
      "image/png": "[encoded data removed]",
      "text/plain": [
       "<PIL.Image.Image image mode=RGB size=90x100 at 0x11E957B50>"
      ]
     },
     "metadata": {},
     "output_type": "display_data"
    },
    {
     "name": "stdout",
     "output_type": "stream",
     "text": [
      "9316398\n"
     ]
    },
    {
     "data": {
      "image/png": "[encoded data removed]",
      "text/plain": [
       "<PIL.Image.Image image mode=RGB size=90x100 at 0x11E9A64F0>"
      ]
     },
     "metadata": {},
     "output_type": "display_data"
    },
    {
     "name": "stdout",
     "output_type": "stream",
     "text": [
      "59807717\n"
     ]
    },
    {
     "data": {
      "image/png": "[encoded data removed]",
      "text/plain": [
       "<PIL.Image.Image image mode=RGB size=90x100 at 0x11E79ADC0>"
      ]
     },
     "metadata": {},
     "output_type": "display_data"
    },
    {
     "name": "stdout",
     "output_type": "stream",
     "text": [
      "72200483\n"
     ]
    },
    {
     "data": {
      "image/png": "[encoded data removed]",
      "text/plain": [
       "<PIL.Image.Image image mode=RGB size=90x100 at 0x11E957B50>"
      ]
     },
     "metadata": {},
     "output_type": "display_data"
    },
    {
     "name": "stdout",
     "output_type": "stream",
     "text": [
      "10060442\n"
     ]
    },
    {
     "data": {
      "image/png": "[encoded data removed]",
      "text/plain": [
       "<PIL.Image.Image image mode=RGB size=90x100 at 0x11E79A130>"
      ]
     },
     "metadata": {},
     "output_type": "display_data"
    },
    {
     "name": "stdout",
     "output_type": "stream",
     "text": [
      "3620526\n"
     ]
    },
    {
     "data": {
      "image/png": "[encoded data removed]",
      "text/plain": [
       "<PIL.Image.Image image mode=RGB size=90x100 at 0x11E957B50>"
      ]
     },
     "metadata": {},
     "output_type": "display_data"
    },
    {
     "name": "stdout",
     "output_type": "stream",
     "text": [
      "7228785\n"
     ]
    },
    {
     "data": {
      "image/png": "[encoded data removed]",
      "text/plain": [
       "<PIL.Image.Image image mode=RGB size=90x100 at 0x11D0A2400>"
      ]
     },
     "metadata": {},
     "output_type": "display_data"
    },
    {
     "name": "stdout",
     "output_type": "stream",
     "text": [
      "2389391\n"
     ]
    },
    {
     "data": {
      "image/png": "[encoded data removed]",
      "text/plain": [
       "<PIL.Image.Image image mode=RGB size=90x100 at 0x11EAEBD90>"
      ]
     },
     "metadata": {},
     "output_type": "display_data"
    },
    {
     "name": "stdout",
     "output_type": "stream",
     "text": [
      "46006200\n"
     ]
    },
    {
     "data": {
      "image/png": "[encoded data removed]",
      "text/plain": [
       "<PIL.Image.Image image mode=RGB size=90x100 at 0x11E972A60>"
      ]
     },
     "metadata": {},
     "output_type": "display_data"
    },
    {
     "name": "stdout",
     "output_type": "stream",
     "text": [
      "60485462\n"
     ]
    },
    {
     "data": {
      "image/png": "[encoded data removed]",
      "text/plain": [
       "<PIL.Image.Image image mode=RGB size=90x100 at 0x11E957B50>"
      ]
     },
     "metadata": {},
     "output_type": "display_data"
    },
    {
     "name": "stdout",
     "output_type": "stream",
     "text": [
      "1413064\n"
     ]
    },
    {
     "data": {
      "image/png": "[encoded data removed]",
      "text/plain": [
       "<PIL.Image.Image image mode=RGB size=90x100 at 0x11E79A130>"
      ]
     },
     "metadata": {},
     "output_type": "display_data"
    },
    {
     "name": "stdout",
     "output_type": "stream",
     "text": [
      "13587020\n"
     ]
    },
    {
     "data": {
      "image/png": "[encoded data removed]",
      "text/plain": [
       "<PIL.Image.Image image mode=RGB size=90x100 at 0x11D0A2B80>"
      ]
     },
     "metadata": {},
     "output_type": "display_data"
    },
    {
     "name": "stdout",
     "output_type": "stream",
     "text": [
      "9963428\n"
     ]
    },
    {
     "data": {
      "image/png": "[encoded data removed]",
      "text/plain": [
       "<PIL.Image.Image image mode=RGB size=90x100 at 0x11E9A64F0>"
      ]
     },
     "metadata": {},
     "output_type": "display_data"
    },
    {
     "name": "stdout",
     "output_type": "stream",
     "text": [
      "273393\n"
     ]
    },
    {
     "data": {
      "image/png": "[encoded data removed]",
      "text/plain": [
       "<PIL.Image.Image image mode=RGB size=90x100 at 0x11CF100A0>"
      ]
     },
     "metadata": {},
     "output_type": "display_data"
    },
    {
     "name": "stdout",
     "output_type": "stream",
     "text": [
      "8555742\n"
     ]
    },
    {
     "data": {
      "image/png": "[encoded data removed]",
      "text/plain": [
       "<PIL.Image.Image image mode=RGB size=90x100 at 0x11E9A64F0>"
      ]
     },
     "metadata": {},
     "output_type": "display_data"
    },
    {
     "name": "stdout",
     "output_type": "stream",
     "text": [
      "14249514\n"
     ]
    },
    {
     "data": {
      "image/png": "[encoded data removed]",
      "text/plain": [
       "<PIL.Image.Image image mode=RGB size=90x100 at 0x11D095970>"
      ]
     },
     "metadata": {},
     "output_type": "display_data"
    },
    {
     "name": "stdout",
     "output_type": "stream",
     "text": [
      "3600170\n"
     ]
    },
    {
     "data": {
      "image/png": "[encoded data removed]",
      "text/plain": [
       "<PIL.Image.Image image mode=RGB size=90x100 at 0x11D0A2400>"
      ]
     },
     "metadata": {},
     "output_type": "display_data"
    },
    {
     "name": "stdout",
     "output_type": "stream",
     "text": [
      "13778194\n"
     ]
    },
    {
     "data": {
      "image/png": "[encoded data removed]",
      "text/plain": [
       "<PIL.Image.Image image mode=RGB size=90x100 at 0x11CF8ADC0>"
      ]
     },
     "metadata": {},
     "output_type": "display_data"
    },
    {
     "name": "stdout",
     "output_type": "stream",
     "text": [
      "14040340\n"
     ]
    },
    {
     "data": {
      "image/png": "[encoded data removed]",
      "text/plain": [
       "<PIL.Image.Image image mode=RGB size=90x100 at 0x11E79ADC0>"
      ]
     },
     "metadata": {},
     "output_type": "display_data"
    },
    {
     "name": "stdout",
     "output_type": "stream",
     "text": [
      "72456672\n"
     ]
    },
    {
     "data": {
      "image/png": "[encoded data removed]",
      "text/plain": [
       "<PIL.Image.Image image mode=RGB size=90x100 at 0x11CF8ADC0>"
      ]
     },
     "metadata": {},
     "output_type": "display_data"
    },
    {
     "name": "stdout",
     "output_type": "stream",
     "text": [
      "40318997\n"
     ]
    },
    {
     "data": {
      "image/png": "[encoded data removed]",
      "text/plain": [
       "<PIL.Image.Image image mode=RGB size=90x100 at 0x11CF100A0>"
      ]
     },
     "metadata": {},
     "output_type": "display_data"
    },
    {
     "name": "stdout",
     "output_type": "stream",
     "text": [
      "7770902\n"
     ]
    },
    {
     "data": {
      "image/png": "[encoded data removed]",
      "text/plain": [
       "<PIL.Image.Image image mode=RGB size=90x100 at 0x11EAEB280>"
      ]
     },
     "metadata": {},
     "output_type": "display_data"
    },
    {
     "name": "stdout",
     "output_type": "stream",
     "text": [
      "12065493\n"
     ]
    },
    {
     "data": {
      "image/png": "[encoded data removed]",
      "text/plain": [
       "<PIL.Image.Image image mode=RGB size=90x100 at 0x11E972BB0>"
      ]
     },
     "metadata": {},
     "output_type": "display_data"
    },
    {
     "name": "stdout",
     "output_type": "stream",
     "text": [
      "3211822\n"
     ]
    },
    {
     "data": {
      "image/png": "[encoded data removed]",
      "text/plain": [
       "<PIL.Image.Image image mode=RGB size=90x100 at 0x11E972A60>"
      ]
     },
     "metadata": {},
     "output_type": "display_data"
    },
    {
     "name": "stdout",
     "output_type": "stream",
     "text": [
      "6422455\n"
     ]
    },
    {
     "data": {
      "image/png": "[encoded data removed]",
      "text/plain": [
       "<PIL.Image.Image image mode=RGB size=90x100 at 0x11CF8ADC0>"
      ]
     },
     "metadata": {},
     "output_type": "display_data"
    },
    {
     "name": "stdout",
     "output_type": "stream",
     "text": [
      "5548093\n"
     ]
    },
    {
     "data": {
      "image/png": "[encoded data removed]",
      "text/plain": [
       "<PIL.Image.Image image mode=RGB size=90x100 at 0x11E972BB0>"
      ]
     },
     "metadata": {},
     "output_type": "display_data"
    },
    {
     "name": "stdout",
     "output_type": "stream",
     "text": [
      "5806141\n"
     ]
    },
    {
     "data": {
      "image/png": "[encoded data removed]",
      "text/plain": [
       "<PIL.Image.Image image mode=RGB size=90x100 at 0x11CF8ADC0>"
      ]
     },
     "metadata": {},
     "output_type": "display_data"
    },
    {
     "name": "stdout",
     "output_type": "stream",
     "text": [
      "8112764\n"
     ]
    },
    {
     "data": {
      "image/png": "[encoded data removed]",
      "text/plain": [
       "<PIL.Image.Image image mode=RGB size=90x100 at 0x11E79A130>"
      ]
     },
     "metadata": {},
     "output_type": "display_data"
    },
    {
     "name": "stdout",
     "output_type": "stream",
     "text": [
      "6524507\n"
     ]
    },
    {
     "data": {
      "image/png": "[encoded data removed]",
      "text/plain": [
       "<PIL.Image.Image image mode=RGB size=90x100 at 0x11E9A64F0>"
      ]
     },
     "metadata": {},
     "output_type": "display_data"
    },
    {
     "name": "stdout",
     "output_type": "stream",
     "text": [
      "14004568\n"
     ]
    },
    {
     "data": {
      "image/png": "[encoded data removed]",
      "text/plain": [
       "<PIL.Image.Image image mode=RGB size=90x100 at 0x11E79ADC0>"
      ]
     },
     "metadata": {},
     "output_type": "display_data"
    },
    {
     "name": "stdout",
     "output_type": "stream",
     "text": [
      "9948004\n"
     ]
    },
    {
     "data": {
      "image/png": "[encoded data removed]",
      "text/plain": [
       "<PIL.Image.Image image mode=RGB size=90x100 at 0x11EAEBD90>"
      ]
     },
     "metadata": {},
     "output_type": "display_data"
    },
    {
     "name": "stdout",
     "output_type": "stream",
     "text": [
      "10966471\n"
     ]
    },
    {
     "data": {
      "image/png": "[encoded data removed]",
      "text/plain": [
       "<PIL.Image.Image image mode=RGB size=90x100 at 0x11CF100A0>"
      ]
     },
     "metadata": {},
     "output_type": "display_data"
    },
    {
     "name": "stdout",
     "output_type": "stream",
     "text": [
      "5705237\n"
     ]
    },
    {
     "data": {
      "image/png": "[encoded data removed]",
      "text/plain": [
       "<PIL.Image.Image image mode=RGB size=90x100 at 0x11E957B50>"
      ]
     },
     "metadata": {},
     "output_type": "display_data"
    },
    {
     "name": "stdout",
     "output_type": "stream",
     "text": [
      "2939497\n"
     ]
    },
    {
     "data": {
      "image/png": "[encoded data removed]",
      "text/plain": [
       "<PIL.Image.Image image mode=RGB size=90x100 at 0x11CF8ADC0>"
      ]
     },
     "metadata": {},
     "output_type": "display_data"
    },
    {
     "name": "stdout",
     "output_type": "stream",
     "text": [
      "9797658\n"
     ]
    },
    {
     "data": {
      "image/png": "[encoded data removed]",
      "text/plain": [
       "<PIL.Image.Image image mode=RGB size=90x100 at 0x11E957B50>"
      ]
     },
     "metadata": {},
     "output_type": "display_data"
    },
    {
     "name": "stdout",
     "output_type": "stream",
     "text": [
      "13048246\n"
     ]
    },
    {
     "data": {
      "image/png": "[encoded data removed]",
      "text/plain": [
       "<PIL.Image.Image image mode=RGB size=90x100 at 0x11CF8ADC0>"
      ]
     },
     "metadata": {},
     "output_type": "display_data"
    },
    {
     "name": "stdout",
     "output_type": "stream",
     "text": [
      "13947716\n"
     ]
    },
    {
     "data": {
      "image/png": "[encoded data removed]",
      "text/plain": [
       "<PIL.Image.Image image mode=RGB size=90x100 at 0x11D0A2B80>"
      ]
     },
     "metadata": {},
     "output_type": "display_data"
    },
    {
     "name": "stdout",
     "output_type": "stream",
     "text": [
      "12761042\n"
     ]
    },
    {
     "data": {
      "image/png": "[encoded data removed]",
      "text/plain": [
       "<PIL.Image.Image image mode=RGB size=90x100 at 0x11CF8ADC0>"
      ]
     },
     "metadata": {},
     "output_type": "display_data"
    },
    {
     "name": "stdout",
     "output_type": "stream",
     "text": [
      "7253911\n"
     ]
    },
    {
     "data": {
      "image/png": "[encoded data removed]",
      "text/plain": [
       "<PIL.Image.Image image mode=RGB size=90x100 at 0x11D0A2B80>"
      ]
     },
     "metadata": {},
     "output_type": "display_data"
    },
    {
     "name": "stdout",
     "output_type": "stream",
     "text": [
      "7994457\n"
     ]
    },
    {
     "data": {
      "image/png": "[encoded data removed]",
      "text/plain": [
       "<PIL.Image.Image image mode=RGB size=90x100 at 0x11CF100A0>"
      ]
     },
     "metadata": {},
     "output_type": "display_data"
    },
    {
     "name": "stdout",
     "output_type": "stream",
     "text": [
      "2445828\n"
     ]
    },
    {
     "data": {
      "image/png": "[encoded data removed]",
      "text/plain": [
       "<PIL.Image.Image image mode=RGB size=90x100 at 0x11CF8ADC0>"
      ]
     },
     "metadata": {},
     "output_type": "display_data"
    },
    {
     "name": "stdout",
     "output_type": "stream",
     "text": [
      "12227896\n"
     ]
    },
    {
     "data": {
      "image/png": "[encoded data removed]",
      "text/plain": [
       "<PIL.Image.Image image mode=RGB size=90x100 at 0x11CF100A0>"
      ]
     },
     "metadata": {},
     "output_type": "display_data"
    },
    {
     "name": "stdout",
     "output_type": "stream",
     "text": [
      "11314724\n"
     ]
    },
    {
     "data": {
      "image/png": "[encoded data removed]",
      "text/plain": [
       "<PIL.Image.Image image mode=RGB size=90x100 at 0x11CF8ADC0>"
      ]
     },
     "metadata": {},
     "output_type": "display_data"
    },
    {
     "name": "stdout",
     "output_type": "stream",
     "text": [
      "56148880\n"
     ]
    },
    {
     "data": {
      "image/png": "[encoded data removed]",
      "text/plain": [
       "<PIL.Image.Image image mode=RGB size=90x100 at 0x11CF100A0>"
      ]
     },
     "metadata": {},
     "output_type": "display_data"
    },
    {
     "name": "stdout",
     "output_type": "stream",
     "text": [
      "13981796\n"
     ]
    },
    {
     "data": {
      "image/png": "[encoded data removed]",
      "text/plain": [
       "<PIL.Image.Image image mode=RGB size=90x100 at 0x11E9A64F0>"
      ]
     },
     "metadata": {},
     "output_type": "display_data"
    }
   ],
   "source": [
    "for _ in range(200):\n",
    "    n = random.choice(undecided_index)\n",
    "    print(n)\n",
    "    #pptm(get_machine_i(DB_PATH,n))\n",
    "    img = tm_trace_to_image(get_machine_i(DB_PATH,n), origin=0.5, width=100, height=800, show_head_direction=True).resize((90,100), Image.NEAREST)\n",
    "    display(img)"
   ]
  },
  {
   "cell_type": "markdown",
   "id": "ce48d8ae-5c54-4e1c-a145-5ed0f81a5ca5",
   "metadata": {},
   "source": [
    "### Temporary machine under scrutiny"
   ]
  },
  {
   "cell_type": "code",
   "execution_count": 59,
   "id": "6c688b8c-c73b-41bb-8261-035f3b7dc539",
   "metadata": {},
   "outputs": [
    {
     "name": "stdout",
     "output_type": "stream",
     "text": [
      "7410754\n",
      "s    0    1\n",
      "---  ---  ---\n",
      "A    1RB  0LD\n",
      "B    1LC  1RC\n",
      "C    1LA  0RC\n",
      "D    ???  0LE\n",
      "E    0RB  1LD\n"
     ]
    },
    {
     "data": {
      "image/png": "[encoded data removed]",
      "text/plain": [
       "<PIL.Image.Image image mode=RGB size=900x1000 at 0x11CFAB520>"
      ]
     },
     "execution_count": 59,
     "metadata": {},
     "output_type": "execute_result"
    }
   ],
   "source": [
    "n = 7410754\n",
    "print(n)\n",
    "pptm(get_machine_i(DB_PATH,n))\n",
    "img = tm_trace_to_image(get_machine_i(DB_PATH,n), origin=0.5, width=300, height=10000, show_head_direction=True).resize((900,1000), Image.NEAREST)\n",
    "img"
   ]
  },
  {
   "cell_type": "markdown",
   "id": "2eb0f2df-5ded-4dd9-95fe-c5522c1ef8c8",
   "metadata": {
    "tags": []
   },
   "source": [
    "# Zoology"
   ]
  },
  {
   "cell_type": "markdown",
   "id": "9bd5a440-be3a-4f3f-badb-3c07a0addc9e",
   "metadata": {},
   "source": [
    "## Cyclers\n",
    "\n",
    "**Update 28/01/22**. 11 229 238 cyclers were decided (among machines that exceeded time limit) thanks to this decider: [https://github.com/bbchallenge/bbchallenge-deciders/tree/main/decider-cyclers](https://github.com/bbchallenge/bbchallenge-deciders/tree/main/decider-cyclers)."
   ]
  },
  {
   "cell_type": "code",
   "execution_count": 60,
   "id": "167ff8c0-6923-41cb-a184-553b752da879",
   "metadata": {},
   "outputs": [
    {
     "name": "stdout",
     "output_type": "stream",
     "text": [
      "279081\n",
      "s    0    1\n",
      "---  ---  ---\n",
      "A    1RB  ???\n",
      "B    0RC  0LE\n",
      "C    1LD  0LA\n",
      "D    1LB  1RB\n",
      "E    1LC  1RC\n"
     ]
    },
    {
     "data": {
      "image/png": "[encoded data removed]",
      "text/plain": [
       "<PIL.Image.Image image mode=RGB size=900x1000 at 0x11E78F7F0>"
      ]
     },
     "execution_count": 60,
     "metadata": {},
     "output_type": "execute_result"
    }
   ],
   "source": [
    "n_list = [11636047, 4231819, 279081]\n",
    "n = random.choice(n_list)\n",
    "print(n)\n",
    "pptm(get_machine_i(DB_PATH,n))\n",
    "img = tm_trace_to_image(get_machine_i(DB_PATH,n), origin=0.5, width=100, height=400, show_head_direction=False).resize((900,1000), Image.NEAREST)\n",
    "img"
   ]
  },
  {
   "cell_type": "markdown",
   "id": "732b42bd-79c7-4bf7-b4aa-ceefeaebe7dc",
   "metadata": {},
   "source": [
    "## Translated Cyclers\n",
    "\n",
    "**Update 29/01/22**. 73 857 622 translated-cyclers were decided (among machines that exceeded space limit) thanks to the translated-cyclers decider:\n",
    "[https://github.com/bbchallenge/bbchallenge-deciders/tree/main/decider-translated-cyclers](https://github.com/bbchallenge/bbchallenge-deciders/tree/main/decider-translated-cyclers)."
   ]
  },
  {
   "cell_type": "code",
   "execution_count": 62,
   "id": "ca1fd40d-48d9-434d-848c-3c72901a933d",
   "metadata": {},
   "outputs": [
    {
     "name": "stdout",
     "output_type": "stream",
     "text": [
      "45010518\n",
      "s    0    1\n",
      "---  ---  ---\n",
      "A    1RB  0RE\n",
      "B    1RC  1RB\n",
      "C    1LD  1LE\n",
      "D    ???  0LB\n",
      "E    0LB  1RA\n"
     ]
    },
    {
     "data": {
      "image/png": "[encoded data removed]",
      "text/plain": [
       "<PIL.Image.Image image mode=RGB size=900x1000 at 0x11E9427F0>"
      ]
     },
     "execution_count": 62,
     "metadata": {},
     "output_type": "execute_result"
    }
   ],
   "source": [
    "n_list = [32510779, 45010518, 14427007, 14643029, 15167997, 50491158, 59645887, 31141863, 28690248]\n",
    "n = random.choice(n_list)\n",
    "print(n)\n",
    "pptm(get_machine_i(DB_PATH,n))\n",
    "img = tm_trace_to_image(get_machine_i(DB_PATH,n), origin=0.5, width=100, height=400, show_head_direction=True).resize((900,1000), Image.NEAREST)\n",
    "img"
   ]
  },
  {
   "cell_type": "markdown",
   "id": "627808e6-5a17-4731-bfad-653b1a8b5f4e",
   "metadata": {},
   "source": [
    "## Complex translated cyclers\n",
    "\n",
    "They are translated cyclers but we discovered them later in a smaller 200k sample remaining of the 88M undecided machines. They were most probably missed by the translated-cyclers decider because they need bigger parameters to be recognised. We will re-run the decider with those higher parameters."
   ]
  },
  {
   "cell_type": "code",
   "execution_count": 63,
   "id": "083b2fec-46ec-46be-8a69-e196837601c6",
   "metadata": {},
   "outputs": [
    {
     "name": "stdout",
     "output_type": "stream",
     "text": [
      "59090563\n",
      "s    0    1\n",
      "---  ---  ---\n",
      "A    1RB  0LE\n",
      "B    1LC  0RD\n",
      "C    ???  1LD\n",
      "D    1RE  0LA\n",
      "E    1LA  0RE\n"
     ]
    },
    {
     "data": {
      "image/png": "[encoded data removed]",
      "text/plain": [
       "<PIL.Image.Image image mode=RGB size=900x1000 at 0x11D0BCA30>"
      ]
     },
     "execution_count": 63,
     "metadata": {},
     "output_type": "execute_result"
    }
   ],
   "source": [
    "complex_translated_cyclers = [46965866, 74980673, 88062418, 59090563, 76989562, 46546554, 36091834, 58966114]\n",
    "n = random.choice(complex_translated_cyclers)\n",
    "print(n)\n",
    "pptm(get_machine_i(DB_PATH,n))\n",
    "img = tm_trace_to_image(get_machine_i(DB_PATH,n), origin=0.5, width=500, height=10000, show_head_direction=True).resize((900,1000), Image.NEAREST)\n",
    "img"
   ]
  },
  {
   "cell_type": "markdown",
   "id": "0befb9bf-4e55-4a4a-a568-c5d5f352b376",
   "metadata": {
    "tags": []
   },
   "source": [
    "## Unilateral Pongs"
   ]
  },
  {
   "cell_type": "code",
   "execution_count": 69,
   "id": "ee1f2a1b-34a6-4e0e-b307-19bec43cd1d0",
   "metadata": {},
   "outputs": [
    {
     "name": "stdout",
     "output_type": "stream",
     "text": [
      "7704208\n",
      "s    0    1\n",
      "---  ---  ---\n",
      "A    1RB  0LE\n",
      "B    1RC  ???\n",
      "C    0LD  1RA\n",
      "D    0RB  0RE\n",
      "E    1LC  0LC\n"
     ]
    },
    {
     "data": {
      "image/png": "[encoded data removed]",
      "text/plain": [
       "<PIL.Image.Image image mode=RGB size=900x1000 at 0x11D24A8B0>"
      ]
     },
     "execution_count": 69,
     "metadata": {},
     "output_type": "execute_result"
    }
   ],
   "source": [
    "unilateral_pongs_list = [1897885, 524224, 9281450, 8512220, 872367, 13021228, 1288796, 376121, \n",
    "                         13781608, 13365152, 3740717, 2683159, 5357965, 12604461, 8541624, 9420847, \n",
    "                         7322529, 4830758, 9240606, 12483700, 6411252, 4685904, 1440807, 2107819, \n",
    "                         2953298, 11660591, 846128, 12315679, 7704208, 8100160, 3437121, 13410247, \n",
    "                         2957273, 11545063, 7865959, 1321388]\n",
    "n = random.choice(unilateral_pongs_list)\n",
    "print(n)\n",
    "pptm(get_machine_i(DB_PATH,n))\n",
    "img = tm_trace_to_image(get_machine_i(DB_PATH,n), origin=0.5, width=100, height=400, show_head_direction=True).resize((900,1000), Image.NEAREST)\n",
    "img"
   ]
  },
  {
   "cell_type": "markdown",
   "id": "cdb0ebef-98de-40ce-8fbf-82ae641ae1b4",
   "metadata": {},
   "source": [
    "## Translated Unilateral Pongs"
   ]
  },
  {
   "cell_type": "code",
   "execution_count": 70,
   "id": "afe8019d-3327-44b0-94c7-bfbc52676ed5",
   "metadata": {},
   "outputs": [
    {
     "name": "stdout",
     "output_type": "stream",
     "text": [
      "20076854\n",
      "s    0    1\n",
      "---  ---  ---\n",
      "A    1RB  ???\n",
      "B    0LC  1RB\n",
      "C    1LA  0LD\n",
      "D    0RE  0LE\n",
      "E    1LC  1LE\n"
     ]
    },
    {
     "data": {
      "image/png": "[encoded data removed]",
      "text/plain": [
       "<PIL.Image.Image image mode=RGB size=900x1000 at 0x11E7C3F10>"
      ]
     },
     "execution_count": 70,
     "metadata": {},
     "output_type": "execute_result"
    }
   ],
   "source": [
    "translated_unilateral_pongs_list = [42255, 83854998, 6164147, 11275965, 20076854, 11263544, 6092912, \n",
    "                                    12027627, 7728246]\n",
    "n = random.choice(translated_unilateral_pongs_list)\n",
    "print(n)\n",
    "pptm(get_machine_i(DB_PATH,n))\n",
    "img = tm_trace_to_image(get_machine_i(DB_PATH,n), origin=0.5, width=100, height=400, show_head_direction=True).resize((900,1000), Image.NEAREST)\n",
    "img"
   ]
  },
  {
   "cell_type": "markdown",
   "id": "0b3473a2-c84e-4e1f-bcb7-b0b37e45a9b4",
   "metadata": {},
   "source": [
    "## Bilateral Pongs"
   ]
  },
  {
   "cell_type": "code",
   "execution_count": 67,
   "id": "1239a7d7-eca4-4136-8da3-a0a172b355a9",
   "metadata": {},
   "outputs": [
    {
     "name": "stdout",
     "output_type": "stream",
     "text": [
      "6223673\n",
      "s    0    1\n",
      "---  ---  ---\n",
      "A    1RB  0LB\n",
      "B    1LC  0RA\n",
      "C    0LE  0RD\n",
      "D    ???  1LE\n",
      "E    0RA  1LC\n"
     ]
    },
    {
     "data": {
      "image/png": "[encoded data removed]",
      "text/plain": [
       "<PIL.Image.Image image mode=RGB size=900x1000 at 0x11E97B310>"
      ]
     },
     "execution_count": 67,
     "metadata": {},
     "output_type": "execute_result"
    }
   ],
   "source": [
    "bilateral_pongs_list = [12785688, 8929416, 76727755, 8179149, 8680193, 10955739, 58057, 10784014, \n",
    "                        10750857, 82820597, 9627910, 10788462, 2488210, 14155579, 2712075, 5531970, \n",
    "                        9099315, 11323181, 1550671, 8631993, 6686258, 3301037, 9357684, 7260722, \n",
    "                        12604461, 7083973, 11685160, 14076871, 10879705, 15439564, 167872, 12112369,\n",
    "                        2815026, 7762990, 9556263, 9660079, 1828616, 10278087, 2163518, 5747101, \n",
    "                        10436913, 400772, 626088, 6251627, 965550, 8759155, 11223826, 10753312, \n",
    "                        3467845, 4897489, 9003220, 8570030, 11270715, 27293997, 5699889, 9829009, \n",
    "                        59839853, 6170236, 11982212, 7164345, 8189825, 12875376, 12764993, 13199370, \n",
    "                        2272659, 4789124, 9105362, 12846440, 40562752, 3336092, 9124284, 6283269, \n",
    "                        71791981, 8813622, 11319132, 3405717, 7890444, 86152240, 9562099, 11185189, \n",
    "                        153481, 10667540, 69838082, 4139167, 11790195, 6283761, 6040629, 2963361, \n",
    "                        11341640, 3133305, 6223673, 9129536, 10884143, 35695274, 5253373, 12304289, \n",
    "                        3814868, 10866122, 298605, 6345422, 8192282, 4793378]\n",
    "n = random.choice(bilateral_pongs_list)\n",
    "print(n)\n",
    "pptm(get_machine_i(DB_PATH,n))\n",
    "img = tm_trace_to_image(get_machine_i(DB_PATH,n), origin=0.5, width=100, height=400, show_head_direction=True).resize((900,1000), Image.NEAREST)\n",
    "img"
   ]
  },
  {
   "cell_type": "markdown",
   "id": "e5344d1d-6f62-4ce9-8b80-81c41f8911d1",
   "metadata": {},
   "source": [
    "## Exponential Counters"
   ]
  },
  {
   "cell_type": "code",
   "execution_count": 71,
   "id": "0e141fc0-4542-47fc-8e7d-99c22b37ac87",
   "metadata": {},
   "outputs": [
    {
     "name": "stdout",
     "output_type": "stream",
     "text": [
      "6776164\n",
      "s    0    1\n",
      "---  ---  ---\n",
      "A    1RB  0LC\n",
      "B    1LA  1LD\n",
      "C    0RA  ???\n",
      "D    1RE  1LD\n",
      "E    0LB  0RE\n"
     ]
    },
    {
     "data": {
      "image/png": "[encoded data removed]",
      "text/plain": [
       "<PIL.Image.Image image mode=RGB size=900x1000 at 0x11D24A760>"
      ]
     },
     "execution_count": 71,
     "metadata": {},
     "output_type": "execute_result"
    }
   ],
   "source": [
    "smart_counters = [14244805, 8413822, 2351048, 903500, 2940201, 437775, 10126234, 12012425, \n",
    "                  14263231, 6245415, 6776164, 3266856, 2940930, 6486385]\n",
    "n = random.choice(smart_counters)\n",
    "print(n)\n",
    "pptm(get_machine_i(DB_PATH,n))\n",
    "img = tm_trace_to_image(get_machine_i(DB_PATH,n), origin=0.5, width=100, height=400, show_head_direction=True).resize((900,1000), Image.NEAREST)\n",
    "img"
   ]
  },
  {
   "cell_type": "markdown",
   "id": "bf1fd108-d715-4d1c-a4f7-3b6f5030807d",
   "metadata": {
    "tags": []
   },
   "source": [
    "## Potential Halters"
   ]
  },
  {
   "cell_type": "code",
   "execution_count": 72,
   "id": "39c75862-8bc5-4b09-9027-9e6914ef3437",
   "metadata": {},
   "outputs": [
    {
     "name": "stdout",
     "output_type": "stream",
     "text": [
      "58360621\n",
      "s    0    1\n",
      "---  ---  ---\n",
      "A    1RB  0LE\n",
      "B    1RC  1RB\n",
      "C    1LD  1RA\n",
      "D    1LB  1LD\n",
      "E    ???  0RB\n"
     ]
    },
    {
     "data": {
      "image/png": "[encoded data removed]",
      "text/plain": [
       "<PIL.Image.Image image mode=RGB size=900x1000 at 0x11CF100A0>"
      ]
     },
     "execution_count": 72,
     "metadata": {},
     "output_type": "execute_result"
    }
   ],
   "source": [
    "potential_halters_list = [73261028, 58360621, 8527536, 7911681, 28086713, 11059089, 2009846, 11670429, 7865218, 1973992]\n",
    "# ^ they are all looking a lot like BB5 apart from 13754164 that looks like 20739 steps, 7658575 as well\n",
    "n = random.choice(potential_halters_list)\n",
    "print(n)\n",
    "pptm(get_machine_i(DB_PATH,n))\n",
    "img = tm_trace_to_image(get_machine_i(DB_PATH,n), origin=0.5, width=200, height=9000, show_head_direction=True).resize((900,1000), Image.NEAREST)\n",
    "img"
   ]
  },
  {
   "cell_type": "markdown",
   "id": "48635690-e621-4e20-b19d-d6f14288820a",
   "metadata": {
    "tags": []
   },
   "source": [
    "## Not classed yet"
   ]
  },
  {
   "cell_type": "code",
   "execution_count": 73,
   "id": "5a72d288-0ee6-4931-a8a8-702867c200e6",
   "metadata": {},
   "outputs": [
    {
     "name": "stdout",
     "output_type": "stream",
     "text": [
      "2364441\n"
     ]
    },
    {
     "data": {
      "image/png": "[encoded data removed]",
      "text/plain": [
       "<PIL.Image.Image image mode=RGB size=900x1000 at 0x11E957B50>"
      ]
     },
     "execution_count": 73,
     "metadata": {},
     "output_type": "execute_result"
    }
   ],
   "source": [
    "n_list = [2693691, 6490892, 8161712, 4920918, 73261028, 2364441, 5612126, 11274026, 2713328, 2394179, 27879939, 9390305, 43374927, 7038828, 42736705, \n",
    "          7530230, 7410754, 35201357]\n",
    "n = random.choice(n_list)\n",
    "print(n)\n",
    "img = tm_trace_to_image(get_machine_i(DB_PATH,n), origin=0.5, width=200, height=400, show_head_direction=True).resize((900,1000), Image.NEAREST)\n",
    "img"
   ]
  },
  {
   "cell_type": "markdown",
   "id": "247d401a-aa5e-4ce6-8852-115e414d4fad",
   "metadata": {},
   "source": [
    "## Funny/unrelevant"
   ]
  },
  {
   "cell_type": "code",
   "execution_count": 74,
   "id": "e919ab8a-ab76-424b-9ca6-4d6d0b0d32ba",
   "metadata": {},
   "outputs": [],
   "source": [
    "n_xmas = [6093803, 13099871]\n",
    "bilateral_binary_counter = 3840180"
   ]
  },
  {
   "cell_type": "markdown",
   "id": "5092314a-5c2b-431c-b9a7-925e176d5470",
   "metadata": {},
   "source": [
    "## Backward Reasoning\n",
    "\n",
    "**Update 09/02/22**. 1 253 418 machines were decided thanks to the backward-reasoning decider:\n",
    "[https://github.com/bbchallenge/bbchallenge-deciders/tree/main/decider-backward-reasoning](https://github.com/bbchallenge/bbchallenge-deciders/tree/main/decider-backward-reasoning). As of this day there remains **2 323 786** undecided machines in the database.\n",
    "\n",
    "Independtly of the behavior of a machine you can sometimes tell that it doesnt halt by simulating it backwards from undefined transitions and realising that it always lead to a contradiction. Example:"
   ]
  },
  {
   "cell_type": "code",
   "execution_count": 75,
   "id": "f8665290-8a98-4d55-b3bd-042ffc3d43d3",
   "metadata": {},
   "outputs": [
    {
     "name": "stdout",
     "output_type": "stream",
     "text": [
      "2009846\n",
      "s    0    1\n",
      "---  ---  ---\n",
      "A    1RB  ???\n",
      "B    1RC  1RB\n",
      "C    1LD  0LE\n",
      "D    0RB  0LC\n",
      "E    1RE  1RD\n"
     ]
    },
    {
     "data": {
      "image/png": "[encoded data removed]",
      "text/plain": [
       "<PIL.Image.Image image mode=RGB size=900x1000 at 0x10370E160>"
      ]
     },
     "execution_count": 75,
     "metadata": {},
     "output_type": "execute_result"
    }
   ],
   "source": [
    "n_backward_reasoning_list = [4843748, 58360621, 2009846, 1973992, 11176971, 4147941, 12071224]\n",
    "n = random.choice(n_backward_reasoning_list)\n",
    "print(n)\n",
    "pptm(get_machine_i(DB_PATH,n))\n",
    "img = tm_trace_to_image(get_machine_i(DB_PATH,n), origin=0.5, width=100, height=2000, show_head_direction=True).resize((900,1000), Image.NEAREST)\n",
    "img"
   ]
  },
  {
   "cell_type": "code",
   "execution_count": null,
   "id": "e736a8fc-6e75-4a65-8f53-64caf9e79759",
   "metadata": {},
   "outputs": [],
   "source": []
  }
 ],
 "metadata": {
  "kernelspec": {
   "display_name": "Python 3 (ipykernel)",
   "language": "python",
   "name": "python3"
  },
  "language_info": {
   "codemirror_mode": {
    "name": "ipython",
    "version": 3
   },
   "file_extension": ".py",
   "mimetype": "text/x-python",
   "name": "python",
   "nbconvert_exporter": "python",
   "pygments_lexer": "ipython3",
   "version": "3.9.9"
  }
 },
 "nbformat": 4,
 "nbformat_minor": 5
}
