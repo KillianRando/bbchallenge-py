{
 "cells": [
  {
   "cell_type": "code",
   "execution_count": 1,
   "id": "2430d055-ebb5-43ab-aaa1-ae54c7d1919c",
   "metadata": {},
   "outputs": [],
   "source": [
    "import os\n",
    "import random\n",
    "from PIL import Image\n",
    "from tabulate import tabulate"
   ]
  },
  {
   "cell_type": "markdown",
   "id": "81becca6-9cab-4656-8723-781bb2948f92",
   "metadata": {},
   "source": [
    "# Reading the database\n",
    "\n",
    "You can download the database here:\n",
    "\n",
    "- [https://dna.hamilton.ie/tsterin/all_5_states_undecided_machines_with_global_header.zip](https://dna.hamilton.ie/tsterin/all_5_states_undecided_machines_with_global_header.zip)\n",
    "- [ipfs://QmPRjcK9mJz4UMwkzLNrVG3YtAUzdRHACuHbmpf1n1bfYr](ipfs://QmPRjcK9mJz4UMwkzLNrVG3YtAUzdRHACuHbmpf1n1bfYr)\n",
    "- [https://ipfs.prgm.dev/ipfs/QmPRjcK9mJz4UMwkzLNrVG3YtAUzdRHACuHbmpf1n1bfYr](https://ipfs.prgm.dev/ipfs/QmPRjcK9mJz4UMwkzLNrVG3YtAUzdRHACuHbmpf1n1bfYr)\n",
    "\n",
    "Shasum (.zip): `8ba107bf1dbd7864865260d3eb8f07580646cb8c` "
   ]
  },
  {
   "cell_type": "code",
   "execution_count": 2,
   "id": "0abf288f-c73e-476f-ab82-29f066518b16",
   "metadata": {},
   "outputs": [],
   "source": [
    "DB_PATH = \"all_5_states_undecided_machines_with_global_header\""
   ]
  },
  {
   "cell_type": "markdown",
   "id": "f19c102a-7e06-415f-962d-0f6b02705c14",
   "metadata": {},
   "source": [
    "## Database header\n",
    "The first 30 bytes of the database are reserved for a header which currently contains **three** 4-byte int: \n",
    "1. The number of machines that are undecided because they went beyond the time limit (`47,176,870` steps)\n",
    "2. The number of machines that are undecided because they went beyond the space limit (`12,289` memory cells)\n",
    "3. The total number of undecided machines (sum of above)"
   ]
  },
  {
   "cell_type": "code",
   "execution_count": 3,
   "id": "42bb2d13-a9a3-46d9-9109-17c0cd76067d",
   "metadata": {},
   "outputs": [],
   "source": [
    "def get_header(machine_db_path):\n",
    "    with open(machine_db_path, \"rb\") as f:\n",
    "        return f.read(30)"
   ]
  },
  {
   "cell_type": "code",
   "execution_count": 4,
   "id": "71908bc8-4813-492d-9acf-a1d5d3f66de6",
   "metadata": {},
   "outputs": [
    {
     "name": "stdout",
     "output_type": "stream",
     "text": [
      "14322029 74342035 88664064\n"
     ]
    }
   ],
   "source": [
    "header = get_header(DB_PATH)\n",
    "undecided_time, undecided_space, undecided_total = int.from_bytes(header[:4],byteorder='big'),int.from_bytes(header[4:8],byteorder='big'),int.from_bytes(header[8:12],byteorder='big')\n",
    "print(undecided_time, undecided_space, undecided_total)"
   ]
  },
  {
   "cell_type": "markdown",
   "id": "84613dfc-4439-43cb-b9ca-98953b0f35b2",
   "metadata": {},
   "source": [
    "## Database core\n",
    "\n",
    "The core of the database is `88,664,064` machines descriptions which are each written on 30 bytes."
   ]
  },
  {
   "cell_type": "code",
   "execution_count": 5,
   "id": "e6cc2d1f-cbec-403b-9139-004f577b7fcf",
   "metadata": {},
   "outputs": [
    {
     "name": "stdout",
     "output_type": "stream",
     "text": [
      "88664064.0\n"
     ]
    }
   ],
   "source": [
    "n = os.path.getsize(DB_PATH)\n",
    "print((n)/30-1)"
   ]
  },
  {
   "cell_type": "code",
   "execution_count": 6,
   "id": "ff77b3f0-d9fc-4fb6-9efc-b67ca5305244",
   "metadata": {},
   "outputs": [],
   "source": [
    "def get_machine_i(machine_db_path, i, db_has_header=True):\n",
    "    with open(machine_db_path, \"rb\") as f:\n",
    "        c = 1 if db_has_header else 0\n",
    "        f.seek(30*(i+c))\n",
    "        return f.read(30)"
   ]
  },
  {
   "cell_type": "code",
   "execution_count": 7,
   "id": "dc1905b7-b89c-4825-9f37-3b4560cdbd3a",
   "metadata": {},
   "outputs": [],
   "source": [
    "def ithl(i):\n",
    "    return chr(ord(\"A\")+i)\n",
    "\n",
    "def g(move):\n",
    "    if move == 0:\n",
    "        return \"R\"\n",
    "    return \"L\"\n",
    "\n",
    "def pptm(machine, return_repr=False):\n",
    "    headers = [\"s\",\"0\",\"1\"]\n",
    "    table = []\n",
    "    \n",
    "    for i in range(5):\n",
    "        row = [ithl(i)]\n",
    "        for j in range(2):\n",
    "            write = machine[6*i+3*j] \n",
    "            move = machine[6*i+3*j+1] \n",
    "            goto = machine[6*i+3*j+2]-1\n",
    "            \n",
    "            if goto == -1:\n",
    "                row.append(\"???\")\n",
    "                continue\n",
    "                \n",
    "            row.append(f\"{write}{g(move)}{ithl(goto)}\")\n",
    "        table.append(row)\n",
    "    \n",
    "    if not return_repr:\n",
    "        print(tabulate(table,headers=headers))\n",
    "    else:\n",
    "        return tabulate(table,headers=headers)"
   ]
  },
  {
   "cell_type": "code",
   "execution_count": 8,
   "id": "4a29e02f-34f1-4788-9320-d49ca9338cec",
   "metadata": {},
   "outputs": [
    {
     "name": "stdout",
     "output_type": "stream",
     "text": [
      "s    0    1\n",
      "---  ---  ---\n",
      "A    1RB  1LA\n",
      "B    0LA  1RC\n",
      "C    1RA  0RD\n",
      "D    ???  0LE\n",
      "E    1RA  ???\n"
     ]
    }
   ],
   "source": [
    "pptm(get_machine_i(DB_PATH,0,db_has_header=True))"
   ]
  },
  {
   "cell_type": "code",
   "execution_count": 9,
   "id": "a79ab6b2-d2b8-4b25-943c-bfc09a1a4b1f",
   "metadata": {},
   "outputs": [
    {
     "name": "stdout",
     "output_type": "stream",
     "text": [
      "s    0    1\n",
      "---  ---  ---\n",
      "A    1RB  1LA\n",
      "B    0LA  1LC\n",
      "C    0RD  0RB\n",
      "D    0RE  0RC\n",
      "E    0LD  ???\n"
     ]
    }
   ],
   "source": [
    "pptm(get_machine_i(DB_PATH,10,db_has_header=True))"
   ]
  },
  {
   "cell_type": "code",
   "execution_count": 10,
   "id": "7a0cffc9-3a12-4087-81fe-8ad5fc26f34c",
   "metadata": {},
   "outputs": [
    {
     "name": "stdout",
     "output_type": "stream",
     "text": [
      "s    0    1\n",
      "---  ---  ---\n",
      "A    1RB  0LC\n",
      "B    0RC  0LE\n",
      "C    1LD  0RD\n",
      "D    1LB  0RA\n",
      "E    1LC  ???\n"
     ]
    }
   ],
   "source": [
    "pptm(get_machine_i(DB_PATH,4888230,db_has_header=True))"
   ]
  },
  {
   "cell_type": "markdown",
   "id": "29943c94-2867-413f-9059-a0af80bdc4c9",
   "metadata": {},
   "source": [
    "# Simulating and visualising machines"
   ]
  },
  {
   "cell_type": "code",
   "execution_count": 11,
   "id": "bc26feef-66ca-4eb5-8988-96db0d94d3db",
   "metadata": {},
   "outputs": [],
   "source": [
    "def step(machine, curr_state, curr_pos, tape):\n",
    "    if not curr_pos in tape:\n",
    "        tape[curr_pos] = 0\n",
    "    \n",
    "    write = machine[curr_state*6 + 3*tape[curr_pos]] \n",
    "    move = machine[curr_state*6 + 3*tape[curr_pos] + 1] \n",
    "    goto = machine[curr_state*6 + 3*tape[curr_pos] + 2] - 1\n",
    "\n",
    "    if goto == -1:\n",
    "        return None, None\n",
    "    \n",
    "    tape[curr_pos] = write\n",
    "    next_pos = curr_pos  + (-1 if move else 1)\n",
    "    return goto, next_pos"
   ]
  },
  {
   "cell_type": "code",
   "execution_count": 12,
   "id": "d1ef7ec5-1e4e-4b0d-ad70-443b11ac17cb",
   "metadata": {},
   "outputs": [],
   "source": [
    "def simulate(machine, time_limit = 1000, mini =-10, maxi=-10):\n",
    "    curr_time = 0\n",
    "    curr_state = 0\n",
    "    curr_pos = 0\n",
    "    tape = {}\n",
    "    \n",
    "    while curr_state != None and curr_time < time_limit:\n",
    "        curr_state, curr_pos = step(machine, curr_state, curr_pos, tape)\n",
    "        if curr_state is not None:\n",
    "            pprinttape(tape, curr_state, curr_pos, mini=mini, maxi=maxi)\n",
    "        else:\n",
    "            print(\"HALT\")\n",
    "        curr_time += 1\n",
    "        "
   ]
  },
  {
   "cell_type": "code",
   "execution_count": 13,
   "id": "007ff708-b4e5-4a18-b716-a8df23a7f0a1",
   "metadata": {},
   "outputs": [],
   "source": [
    "def tm_trace_to_image(machine, width=900, height=1000, origin=0.5, show_head_direction=False):\n",
    "    img = Image.new('RGB', (width, height), color = 'black')\n",
    "    pixels = img.load()\n",
    "    \n",
    "    \n",
    "    tape = {}\n",
    "    curr_time = 0\n",
    "    curr_state = 0\n",
    "    curr_pos = 0\n",
    "    tape = {}\n",
    "    \n",
    "    \n",
    "    for row in range(1,height):\n",
    "        last_pos = curr_pos\n",
    "        curr_state, curr_pos = step(machine, curr_state, curr_pos, tape)\n",
    "        \n",
    "        if curr_state is None: #halt\n",
    "            return img\n",
    "        \n",
    "        for col in range(width):\n",
    "            pos = col-width*(origin)\n",
    "            \n",
    "            if pos in tape:\n",
    "                pixels[col,row] = (255,255,255) if tape[pos] == 1 else (0,0,0)\n",
    "                #pixels[col,row-1] = colors[curr_state-1]\n",
    "                \n",
    "            if pos == curr_pos and show_head_direction:\n",
    "                pixels[col,row] = (255,0,0) if curr_pos > last_pos else (0,255,0) \n",
    "                \n",
    "                \n",
    "    #img = zoom_at(img,*zoom)\n",
    "    return img"
   ]
  },
  {
   "cell_type": "code",
   "execution_count": 14,
   "id": "ca1006f6-afd3-461d-9e3d-51ee265cbf65",
   "metadata": {},
   "outputs": [],
   "source": [
    "def zoom_at(img, x, y, zoom):\n",
    "    w, h = img.size\n",
    "    zoom2 = zoom * 2\n",
    "    img = img.crop((x - w / zoom2, y - h / zoom2, \n",
    "                    x + w / zoom2, y + h / zoom2))\n",
    "    return img.resize((w, h), Image.LANCZOS)"
   ]
  },
  {
   "cell_type": "markdown",
   "id": "d14bc31f-0f5d-4d0f-8e9e-bf5d65f083ef",
   "metadata": {},
   "source": [
    "## BB(5) champion\n",
    "\n",
    "Described in [http://turbotm.de/~heiner/BB/mabu90.html](http://turbotm.de/~heiner/BB/mabu90.html)."
   ]
  },
  {
   "cell_type": "code",
   "execution_count": 15,
   "id": "22a3b5a3-d6e0-47cd-a36d-45fd02d7e5a5",
   "metadata": {},
   "outputs": [
    {
     "name": "stdout",
     "output_type": "stream",
     "text": [
      "s    0    1\n",
      "---  ---  ---\n",
      "A    1RB  1LC\n",
      "B    1RC  1RB\n",
      "C    1RD  0LE\n",
      "D    1LA  1LD\n",
      "E    1RF  0LA\n"
     ]
    }
   ],
   "source": [
    "def repr_to_bytes(rep):\n",
    "    to_rep = bytearray()\n",
    "    for a in rep:\n",
    "        to_rep.append(a)\n",
    "    return to_rep\n",
    "\n",
    "R, L = 0, 1\n",
    "bb5_champion_repr = [1, R, 2, 1, L, 3,\n",
    "\t\t1, R, 3, 1, R, 2,\n",
    "\t\t1, R, 4, 0, L, 5,\n",
    "\t\t1, L, 1, 1, L, 4,\n",
    "\t\t1, R, 6, 0, L, 1]\n",
    "bb5_champion = repr_to_bytes(bb5_champion_repr)\n",
    "pptm(bb5_champion)"
   ]
  },
  {
   "cell_type": "code",
   "execution_count": 16,
   "id": "25308ca3-4b24-441f-b311-94e30a52c69c",
   "metadata": {},
   "outputs": [
    {
     "data": {
      "image/png": "[encoded data removed]",
      "text/plain": [
       "<PIL.Image.Image image mode=RGB size=900x1000 at 0x105E2C700>"
      ]
     },
     "execution_count": 16,
     "metadata": {},
     "output_type": "execute_result"
    }
   ],
   "source": [
    "img = tm_trace_to_image(bb5_champion, origin=0.9, width=500, height=40000, show_head_direction=True).resize((900,1000), Image.NEAREST)\n",
    "img"
   ]
  },
  {
   "cell_type": "markdown",
   "id": "3c8c09a2-e007-470a-aa4c-d13d7f86a028",
   "metadata": {},
   "source": [
    "## Other Halting machines\n",
    "\n",
    "These were find while running [https://github.com/bbchallenge/bbchallenge-seed](https://github.com/bbchallenge/bbchallenge-seed)."
   ]
  },
  {
   "cell_type": "markdown",
   "id": "234b3a9e-b89f-4cfe-b197-0c9181e167ad",
   "metadata": {},
   "source": [
    "### 40899 steps"
   ]
  },
  {
   "cell_type": "code",
   "execution_count": 17,
   "id": "daf426ac-6839-4525-a5d0-eaf319068045",
   "metadata": {},
   "outputs": [
    {
     "name": "stdout",
     "output_type": "stream",
     "text": [
      "s    0    1\n",
      "---  ---  ---\n",
      "A    1RB  0LC\n",
      "B    0RC  ???\n",
      "C    1RD  0RE\n",
      "D    1LE  0RA\n",
      "E    0LA  0LE\n",
      "Halts after 40899 steps.\n"
     ]
    }
   ],
   "source": [
    "R, L = 0, 1\n",
    "A,B,C,D,E = 1,2,3,4,5\n",
    "m_rep = [1, R, B, 0, L, C,\n",
    "\t\t0, R, C, 0, 0, 0,\n",
    "\t\t1, R, D, 0, R, E,\n",
    "\t\t1, L, E, 0, R, A,\n",
    "\t\t0, L, A, 0, L, E]\n",
    "m = repr_to_bytes(m_rep)\n",
    "pptm(m_rep)\n",
    "print(\"Halts after 40899 steps.\")"
   ]
  },
  {
   "cell_type": "code",
   "execution_count": 18,
   "id": "2f0c58dd-ad30-45a5-9d93-fc06bc91f755",
   "metadata": {},
   "outputs": [
    {
     "data": {
      "image/png": "[encoded data removed]",
      "text/plain": [
       "<PIL.Image.Image image mode=RGB size=900x1000 at 0x105E21D30>"
      ]
     },
     "execution_count": 18,
     "metadata": {},
     "output_type": "execute_result"
    }
   ],
   "source": [
    "img = tm_trace_to_image(m, origin=0.9, width=500, height=40899).resize((900,1000), Image.NEAREST)\n",
    "img"
   ]
  },
  {
   "cell_type": "markdown",
   "id": "c9770c1b-f3f1-474a-ab13-c537e810918a",
   "metadata": {},
   "source": [
    "### 20739 Steps"
   ]
  },
  {
   "cell_type": "code",
   "execution_count": 19,
   "id": "ea96f4ad-48ef-4c1f-89a2-7c0768ed4bc5",
   "metadata": {},
   "outputs": [
    {
     "name": "stdout",
     "output_type": "stream",
     "text": [
      "s    0    1\n",
      "---  ---  ---\n",
      "A    1RB  0LA\n",
      "B    0RC  1RD\n",
      "C    1LC  1LA\n",
      "D    1RA  1RE\n",
      "E    ???  0RB\n",
      "Halts after 20739 steps.\n"
     ]
    }
   ],
   "source": [
    "R, L = 0, 1\n",
    "A,B,C,D,E = 1,2,3,4,5\n",
    "m_rep = [1, R, B, 0, L, A,\n",
    "\t\t0, R, C, 1, R, D,\n",
    "\t\t1, L, C, 1, L, A,\n",
    "\t\t1, R, A, 1, R, E,\n",
    "\t\t0, 0, 0, 0, R, B]\n",
    "m = repr_to_bytes(m_rep)\n",
    "pptm(m_rep)\n",
    "print(\"Halts after 20739 steps.\")"
   ]
  },
  {
   "cell_type": "code",
   "execution_count": 20,
   "id": "edb4cefa-1867-4830-8844-73c411c99561",
   "metadata": {},
   "outputs": [
    {
     "data": {
      "image/png": "[encoded data removed]",
      "text/plain": [
       "<PIL.Image.Image image mode=RGB size=900x1000 at 0x105EDBF40>"
      ]
     },
     "execution_count": 20,
     "metadata": {},
     "output_type": "execute_result"
    }
   ],
   "source": [
    "img = tm_trace_to_image(m, origin=0.8, width=300, height=20739).resize((900,1000), Image.NEAREST)\n",
    "img"
   ]
  },
  {
   "cell_type": "markdown",
   "id": "3a00265a-2bf0-4938-bd84-49280b9b8437",
   "metadata": {},
   "source": [
    "### 5309 Steps"
   ]
  },
  {
   "cell_type": "code",
   "execution_count": 21,
   "id": "ce7a11f4-ac8d-462b-b007-0a4e760701d7",
   "metadata": {},
   "outputs": [
    {
     "name": "stdout",
     "output_type": "stream",
     "text": [
      "s    0    1\n",
      "---  ---  ---\n",
      "A    1RB  1LD\n",
      "B    0RC  1LE\n",
      "C    1LB  1RD\n",
      "D    1RC  0LA\n",
      "E    ???  1LB\n",
      "Halts after 5309 steps.\n"
     ]
    }
   ],
   "source": [
    "R, L = 0, 1\n",
    "A,B,C,D,E = 1,2,3,4,5\n",
    "m_rep = [1, R, B, 1, L, D,\n",
    "\t\t0, R, C, 1, L, E,\n",
    "\t\t1, L, B, 1, R, D,\n",
    "\t\t1, R, C, 0, L, A,\n",
    "\t\t0, 0, 0, 1, L, B]\n",
    "m = repr_to_bytes(m_rep)\n",
    "pptm(m_rep)\n",
    "print(\"Halts after 5309 steps.\")"
   ]
  },
  {
   "cell_type": "code",
   "execution_count": 22,
   "id": "72a5d605-5dce-44b2-a050-7f328352b524",
   "metadata": {},
   "outputs": [
    {
     "data": {
      "image/png": "[encoded data removed]",
      "text/plain": [
       "<PIL.Image.Image image mode=RGB size=900x1000 at 0x105E21730>"
      ]
     },
     "execution_count": 22,
     "metadata": {},
     "output_type": "execute_result"
    }
   ],
   "source": [
    "img = tm_trace_to_image(m, origin=0.5, width=200, height=5309).resize((900,1000), Image.NEAREST)\n",
    "img"
   ]
  },
  {
   "cell_type": "markdown",
   "id": "b907a548-99cd-4ce6-9c81-ed392cd72943",
   "metadata": {},
   "source": [
    "### 6987 steps"
   ]
  },
  {
   "cell_type": "code",
   "execution_count": 23,
   "id": "9ae0dede-f5a3-4477-804b-776d14941dbe",
   "metadata": {},
   "outputs": [
    {
     "name": "stdout",
     "output_type": "stream",
     "text": [
      "s    0    1\n",
      "---  ---  ---\n",
      "A    1RB  1RD\n",
      "B    0RC  1RC\n",
      "C    1LA  0LA\n",
      "D    1LC  1LE\n",
      "E    ???  0LD\n",
      "Halts after 6987 steps.\n"
     ]
    }
   ],
   "source": [
    "R, L = 0, 1\n",
    "A,B,C,D,E = 1,2,3,4,5\n",
    "m_rep = [1, R, B, 1, R, D,\n",
    "\t\t0, R, C, 1, R, C,\n",
    "\t\t1, L, A, 0, L, A,\n",
    "\t\t1, L, C, A, L, E,\n",
    "\t\t0, 0, 0, 0, L, D]\n",
    "m = repr_to_bytes(m_rep)\n",
    "pptm(m_rep)\n",
    "print(\"Halts after 6987 steps.\")"
   ]
  },
  {
   "cell_type": "code",
   "execution_count": 24,
   "id": "2cb5026a-4f92-48b8-9db8-7af184f8a7c6",
   "metadata": {},
   "outputs": [
    {
     "data": {
      "image/png": "[encoded data removed]",
      "text/plain": [
       "<PIL.Image.Image image mode=RGB size=900x1000 at 0x105EDBCD0>"
      ]
     },
     "execution_count": 24,
     "metadata": {},
     "output_type": "execute_result"
    }
   ],
   "source": [
    "img = tm_trace_to_image(m, origin=0.5, width=200, height=6987).resize((900,1000), Image.NEAREST)\n",
    "img"
   ]
  },
  {
   "cell_type": "markdown",
   "id": "b4212ee9-fdc0-4199-8ae7-46f1cd844b73",
   "metadata": {},
   "source": [
    "### 22335 steps"
   ]
  },
  {
   "cell_type": "code",
   "execution_count": 25,
   "id": "896443e7-8f2f-4b2c-b608-fce51f7dc307",
   "metadata": {},
   "outputs": [
    {
     "name": "stdout",
     "output_type": "stream",
     "text": [
      "s    0    1\n",
      "---  ---  ---\n",
      "A    1RB  1LD\n",
      "B    0LB  1RC\n",
      "C    1LD  0LE\n",
      "D    1RE  1LC\n",
      "E    ???  0RA\n",
      "Halts after 22335 steps.\n"
     ]
    }
   ],
   "source": [
    "R, L = 0, 1\n",
    "A,B,C,D,E = 1,2,3,4,5\n",
    "m_rep = [1, R, B, 1, L, D,\n",
    "\t\t0, L, B, 1, R, C,\n",
    "\t\t1, L, D, 0, L, E,\n",
    "\t\t1, R, E, 1, L, C,\n",
    "\t\t0, 0, 0, 0, R, A]\n",
    "m = repr_to_bytes(m_rep)\n",
    "pptm(m_rep)\n",
    "print(\"Halts after 22335 steps.\")"
   ]
  },
  {
   "cell_type": "code",
   "execution_count": 26,
   "id": "96e66827-3dc9-4100-968f-e93d93bbf25b",
   "metadata": {},
   "outputs": [
    {
     "data": {
      "image/png": "[encoded data removed]",
      "text/plain": [
       "<PIL.Image.Image image mode=RGB size=900x1000 at 0x105EE6310>"
      ]
     },
     "execution_count": 26,
     "metadata": {},
     "output_type": "execute_result"
    }
   ],
   "source": [
    "img = tm_trace_to_image(m, origin=0.2, width=300, height=22335).resize((900,1000), Image.NEAREST)\n",
    "img"
   ]
  },
  {
   "cell_type": "markdown",
   "id": "8ac34f27-6048-4eeb-90c4-6a006fc57950",
   "metadata": {},
   "source": [
    "### 2133492 steps"
   ]
  },
  {
   "cell_type": "code",
   "execution_count": 27,
   "id": "f1a7ba79-eb57-4c90-b2bc-f18c87821dcc",
   "metadata": {},
   "outputs": [
    {
     "name": "stdout",
     "output_type": "stream",
     "text": [
      "s    0    1\n",
      "---  ---  ---\n",
      "A    1RB  1LC\n",
      "B    0LA  0LD\n",
      "C    1LA  ???\n",
      "D    1LB  1RE\n",
      "E    0RD  0RB\n",
      "Halts after 2133492 steps.\n"
     ]
    }
   ],
   "source": [
    "R, L = 0, 1\n",
    "A,B,C,D,E = 1,2,3,4,5\n",
    "m_rep = [1, R, B, 1, L, C,\n",
    "\t\t0, L, A, 0, L, D,\n",
    "\t\t1, L, A, 0, 0, 0,\n",
    "\t\t1, L, B, 1, R, E,\n",
    "\t\t0, R, D, 0, R, B]\n",
    "m = repr_to_bytes(m_rep)\n",
    "pptm(m_rep)\n",
    "print(\"Halts after 2133492 steps.\")"
   ]
  },
  {
   "cell_type": "code",
   "execution_count": 28,
   "id": "c7fcece9-cd5a-4c87-a530-f6273e90beaf",
   "metadata": {},
   "outputs": [
    {
     "data": {
      "image/png": "[encoded data removed]",
      "text/plain": [
       "<PIL.Image.Image image mode=RGB size=900x1000 at 0x105EE6940>"
      ]
     },
     "execution_count": 28,
     "metadata": {},
     "output_type": "execute_result"
    }
   ],
   "source": [
    "img = tm_trace_to_image(m, origin=0.9, width=500, height=22335).resize((900,1000), Image.NEAREST)\n",
    "img"
   ]
  },
  {
   "cell_type": "markdown",
   "id": "7130d858-5b2e-418f-a9c1-d6454b99c663",
   "metadata": {},
   "source": [
    "## \"Chaotic\" machine\n",
    "\n",
    "Described in [http://turbotm.de/~heiner/BB/mabu90.html](http://turbotm.de/~heiner/BB/mabu90.html)."
   ]
  },
  {
   "cell_type": "code",
   "execution_count": 29,
   "id": "d969331d-38eb-45a0-9ebe-4edaff7b9d7b",
   "metadata": {},
   "outputs": [
    {
     "name": "stdout",
     "output_type": "stream",
     "text": [
      "s    0    1\n",
      "---  ---  ---\n",
      "A    1LB  1RB\n",
      "B    1RC  0LE\n",
      "C    0RD  0LA\n",
      "D    1LA  0RD\n",
      "E    ???  0LC\n"
     ]
    }
   ],
   "source": [
    "R, L = 0, 1\n",
    "chaotic_machine_rep = [1, L, 2, 1, R, 2,\n",
    "\t\t1, R, 3, 0, L, 5,\n",
    "\t\t0, R, 4, 0, L, 1,\n",
    "\t\t1, L, 1, 0, R, 4,\n",
    "\t\t1, L, 0, 0, L, 3]\n",
    "chaotic_machine = repr_to_bytes(chaotic_machine_rep)\n",
    "pptm(chaotic_machine)"
   ]
  },
  {
   "cell_type": "code",
   "execution_count": 30,
   "id": "fcc816da-5a47-417f-b634-e918e75ba7df",
   "metadata": {},
   "outputs": [
    {
     "name": "stdout",
     "output_type": "stream",
     "text": [
      "s    0    1\n",
      "---  ---  ---\n",
      "A    1RB  1LB\n",
      "B    1LC  0RE\n",
      "C    0LD  0RA\n",
      "D    1RA  0LD\n",
      "E    ???  0RC\n",
      "This is machine n = 67279052\n"
     ]
    }
   ],
   "source": [
    "R, L = 1, 0\n",
    "sym_chaotic_machine_rep = [1, L, 2, 1, R, 2,\n",
    "\t\t1, R, 3, 0, L, 5,\n",
    "\t\t0, R, 4, 0, L, 1,\n",
    "\t\t1, L, 1, 0, R, 4,\n",
    "\t\t0, 0, 0, 0, L, 3]\n",
    "sym_chaotic_machine = repr_to_bytes(sym_chaotic_machine_rep)\n",
    "pptm(sym_chaotic_machine) \n",
    "print(\"This is machine n = 67279052\")"
   ]
  },
  {
   "cell_type": "code",
   "execution_count": 31,
   "id": "427ef61d-b36a-4d6d-b10c-f23bc87509fd",
   "metadata": {},
   "outputs": [
    {
     "data": {
      "image/png": "[encoded data removed]",
      "text/plain": [
       "<PIL.Image.Image image mode=RGB size=900x1000 at 0x105EE6730>"
      ]
     },
     "execution_count": 31,
     "metadata": {},
     "output_type": "execute_result"
    }
   ],
   "source": [
    "img = tm_trace_to_image(sym_chaotic_machine, origin=0.1, width=1000, height=100000, show_head_direction=False).resize((900,1000), Image.NEAREST)\n",
    "img"
   ]
  },
  {
   "cell_type": "markdown",
   "id": "f8eef51e-27c8-4baa-8bea-03d62f9b09ad",
   "metadata": {
    "tags": []
   },
   "source": [
    "## \"Complex counter\"\n",
    "\n",
    "Described in [http://turbotm.de/~heiner/BB/mabu90.html](http://turbotm.de/~heiner/BB/mabu90.html)."
   ]
  },
  {
   "cell_type": "code",
   "execution_count": 32,
   "id": "ca7351d0-c749-4383-82e3-ed28462d5bc3",
   "metadata": {},
   "outputs": [
    {
     "name": "stdout",
     "output_type": "stream",
     "text": [
      "s    0    1\n",
      "---  ---  ---\n",
      "A    1LB  1RA\n",
      "B    0RA  0LC\n",
      "C    0RC  1LD\n",
      "D    1LE  0RA\n",
      "E    0LB  ???\n"
     ]
    }
   ],
   "source": [
    "R, L = 0, 1\n",
    "complex_counter_rep = [1, L, 2, 1, R, 1,\n",
    "\t\t0, R, 1, 0, L, 3,\n",
    "\t\t0, R, 3, 1, L, 4,\n",
    "\t\t1, L, 5, 0, R, 1,\n",
    "\t\t0, L, 2, 1, L, 0]\n",
    "complex_counter = repr_to_bytes(complex_counter_rep)\n",
    "pptm(complex_counter)"
   ]
  },
  {
   "cell_type": "code",
   "execution_count": 33,
   "id": "f6df38b7-deb0-4ec0-8746-2130aaa99954",
   "metadata": {},
   "outputs": [
    {
     "data": {
      "image/png": "[encoded data removed]",
      "text/plain": [
       "<PIL.Image.Image image mode=RGB size=900x1000 at 0x105EE68B0>"
      ]
     },
     "execution_count": 33,
     "metadata": {},
     "output_type": "execute_result"
    }
   ],
   "source": [
    "img = tm_trace_to_image(complex_counter, origin=0.5, width=100, height=1000, show_head_direction=False).resize((900,1000), Image.NEAREST)\n",
    "img"
   ]
  },
  {
   "cell_type": "markdown",
   "id": "b85711f9-429d-4184-9f4b-903760dce209",
   "metadata": {
    "tags": []
   },
   "source": [
    "## Random machine"
   ]
  },
  {
   "cell_type": "code",
   "execution_count": 34,
   "id": "ec28b650-dc5f-4287-862f-9b88e48d0a72",
   "metadata": {},
   "outputs": [],
   "source": [
    "n_history = []"
   ]
  },
  {
   "cell_type": "code",
   "execution_count": 35,
   "id": "8cb3fb7b-b413-4e3a-9960-cb28a8886396",
   "metadata": {},
   "outputs": [
    {
     "name": "stdout",
     "output_type": "stream",
     "text": [
      "29828476\n",
      "s    0    1\n",
      "---  ---  ---\n",
      "A    1RB  0RD\n",
      "B    0RC  0RC\n",
      "C    1LB  1RD\n",
      "D    1LA  1RE\n",
      "E    0LB  ???\n"
     ]
    },
    {
     "data": {
      "image/png": "[encoded data removed]",
      "text/plain": [
       "<PIL.Image.Image image mode=RGB size=900x1000 at 0x105EE6880>"
      ]
     },
     "execution_count": 35,
     "metadata": {},
     "output_type": "execute_result"
    }
   ],
   "source": [
    "n = random.randint(0,undecided_total-1)\n",
    "n_history.append(n)\n",
    "\n",
    "print(n)\n",
    "pptm(get_machine_i(DB_PATH,n))\n",
    "img = tm_trace_to_image(get_machine_i(DB_PATH,n), origin=0.5, width=100, height=400, show_head_direction=True).resize((900,1000), Image.NEAREST)\n",
    "img"
   ]
  },
  {
   "cell_type": "markdown",
   "id": "f422988c-5c02-49bc-88e3-78deec1f23eb",
   "metadata": {},
   "source": [
    "# Undecided Index\n",
    "\n",
    "Available for download: [https://dna.hamilton.ie/tsterin/bb5_undecided_index](https://dna.hamilton.ie/tsterin/bb5_undecided_index)   \n",
    "Shasum: `4b503d26b3ff476423f6afbf55f5587c41db5cff`"
   ]
  },
  {
   "cell_type": "code",
   "execution_count": 36,
   "id": "13669c40-76ed-4364-994e-04727fea7ffc",
   "metadata": {},
   "outputs": [
    {
     "data": {
      "text/plain": [
       "14308816"
      ]
     },
     "execution_count": 36,
     "metadata": {},
     "output_type": "execute_result"
    }
   ],
   "source": [
    "UNDECIDED_INDEX_PATH= \"bb5_undecided_index\"\n",
    "UNDECIDED_FILE_SIZE = os.path.getsize(UNDECIDED_INDEX_PATH)\n",
    "UNDECIDED_FILE_SIZE"
   ]
  },
  {
   "cell_type": "code",
   "execution_count": 37,
   "id": "4fc67e8c-8b23-44da-8fc5-9366c4fd3038",
   "metadata": {},
   "outputs": [],
   "source": [
    "undecided_index = []\n",
    "with open(UNDECIDED_INDEX_PATH, \"rb\") as f:\n",
    "    for i in range(UNDECIDED_FILE_SIZE//4):\n",
    "        chunk = f.read(4)\n",
    "        undecided_index.append(int.from_bytes(chunk, byteorder=\"big\"))"
   ]
  },
  {
   "cell_type": "code",
   "execution_count": 38,
   "id": "4a4d87bf-822a-4365-b4dc-05a7968ef07b",
   "metadata": {},
   "outputs": [
    {
     "data": {
      "text/plain": [
       "3577204"
      ]
     },
     "execution_count": 38,
     "metadata": {},
     "output_type": "execute_result"
    }
   ],
   "source": [
    "len(undecided_index)"
   ]
  },
  {
   "cell_type": "code",
   "execution_count": 39,
   "id": "7937c4ad-aaa0-4f96-bdb2-6505ca22c214",
   "metadata": {},
   "outputs": [
    {
     "data": {
      "text/plain": [
       "14322029"
      ]
     },
     "execution_count": 39,
     "metadata": {},
     "output_type": "execute_result"
    }
   ],
   "source": [
    "undecided_time"
   ]
  },
  {
   "cell_type": "code",
   "execution_count": 40,
   "id": "43cf56a1-21c9-4568-bc42-b150e15a9f72",
   "metadata": {},
   "outputs": [
    {
     "name": "stdout",
     "output_type": "stream",
     "text": [
      "3092791 484413\n"
     ]
    }
   ],
   "source": [
    "undecided_time_index = []\n",
    "undecided_space_index = []\n",
    "for i in undecided_index:\n",
    "    if i < undecided_time:\n",
    "        undecided_time_index.append(i)\n",
    "    else:\n",
    "        undecided_space_index.append(i)\n",
    "print(len(undecided_time_index), len(undecided_space_index))"
   ]
  },
  {
   "cell_type": "code",
   "execution_count": 41,
   "id": "d3eb6174-7635-4bc0-8903-561c85636adc",
   "metadata": {},
   "outputs": [],
   "source": [
    "def is_sub_machine(m,m1):\n",
    "    \"\"\" m sub machine of m1\"\"\"\n",
    "    for i in range(len(m)//3):\n",
    "        if m[3*i+2] == 0:\n",
    "            continue\n",
    "        for j in range(3):\n",
    "            if m[3*i+j] != m1[3*i+j]:\n",
    "                return False\n",
    "    return True"
   ]
  },
  {
   "cell_type": "markdown",
   "id": "2fc6cedd-77e3-44b9-8feb-1042dad94395",
   "metadata": {},
   "source": [
    "# Looking for Chaotic machine"
   ]
  },
  {
   "cell_type": "code",
   "execution_count": 42,
   "id": "af8a1817-3eb6-46bd-afd0-37b12ea97478",
   "metadata": {},
   "outputs": [],
   "source": [
    "def getMachineID(m, indexToLookOutFrom, printSubMachines=False):\n",
    "    for i in indexToLookOutFrom:\n",
    "        m2 = get_machine_i(DB_PATH,i)\n",
    "        if m2 == m:\n",
    "            return i\n",
    "        if is_sub_machine(m2,m) and printSubMachines:\n",
    "            print(i)\n",
    "            pptm(m2)\n",
    "    print(\"Not found\")\n",
    "    return None"
   ]
  },
  {
   "cell_type": "code",
   "execution_count": 43,
   "id": "c0bc76d9-29be-427e-a6b3-bb39c25655b0",
   "metadata": {},
   "outputs": [
    {
     "name": "stdout",
     "output_type": "stream",
     "text": [
      "s    0    1\n",
      "---  ---  ---\n",
      "A    1RB  1LB\n",
      "B    1LC  0RE\n",
      "C    0LD  0RA\n",
      "D    1RA  0LD\n",
      "E    ???  0RC\n"
     ]
    }
   ],
   "source": [
    "pptm(sym_chaotic_machine)"
   ]
  },
  {
   "cell_type": "code",
   "execution_count": 44,
   "id": "67e8af63-da8d-44cc-b13f-2ddf725b6aac",
   "metadata": {},
   "outputs": [
    {
     "data": {
      "text/plain": [
       "67279052"
      ]
     },
     "execution_count": 44,
     "metadata": {},
     "output_type": "execute_result"
    }
   ],
   "source": [
    "getMachineID(sym_chaotic_machine,undecided_space_index)"
   ]
  },
  {
   "cell_type": "markdown",
   "id": "936a728d-a247-4690-9d82-554efa8fffa5",
   "metadata": {},
   "source": [
    "# Random Undecided Machine"
   ]
  },
  {
   "cell_type": "code",
   "execution_count": 45,
   "id": "bd0f8337-35a8-4671-9474-10e285b37824",
   "metadata": {},
   "outputs": [],
   "source": [
    "n_history = []"
   ]
  },
  {
   "cell_type": "code",
   "execution_count": 46,
   "id": "8f6ea736-dcac-495e-8c1a-b82657255dbe",
   "metadata": {},
   "outputs": [
    {
     "name": "stdout",
     "output_type": "stream",
     "text": [
      "7181153\n"
     ]
    },
    {
     "data": {
      "image/png": "[encoded data removed]",
      "text/plain": [
       "<PIL.Image.Image image mode=RGB size=900x1000 at 0x105A301C0>"
      ]
     },
     "execution_count": 46,
     "metadata": {},
     "output_type": "execute_result"
    }
   ],
   "source": [
    "n = random.choice(undecided_index)\n",
    "n_history.append(n)\n",
    "print(n)\n",
    "#pptm(get_machine_i(DB_PATH,n))\n",
    "img = tm_trace_to_image(get_machine_i(DB_PATH,n), origin=0.5, width=100, height=400, show_head_direction=True).resize((900,1000), Image.NEAREST)\n",
    "img"
   ]
  },
  {
   "cell_type": "markdown",
   "id": "218abcee-ebe4-4010-b172-99ea69a95dd9",
   "metadata": {},
   "source": [
    "## List of random undecided machines for speedy lookin"
   ]
  },
  {
   "cell_type": "code",
   "execution_count": 126,
   "id": "28439d43-c861-4319-97c6-8666d57325f7",
   "metadata": {
    "tags": []
   },
   "outputs": [
    {
     "name": "stdout",
     "output_type": "stream",
     "text": [
      "40868653\n"
     ]
    },
    {
     "data": {
      "image/png": "[encoded data removed]",
      "text/plain": [
       "<PIL.Image.Image image mode=RGB size=90x100 at 0x111521340>"
      ]
     },
     "metadata": {},
     "output_type": "display_data"
    },
    {
     "name": "stdout",
     "output_type": "stream",
     "text": [
      "12144022\n"
     ]
    },
    {
     "data": {
      "image/png": "[encoded data removed]",
      "text/plain": [
       "<PIL.Image.Image image mode=RGB size=90x100 at 0x1114FF4F0>"
      ]
     },
     "metadata": {},
     "output_type": "display_data"
    },
    {
     "name": "stdout",
     "output_type": "stream",
     "text": [
      "46418368\n"
     ]
    },
    {
     "data": {
      "image/png": "[encoded data removed]",
      "text/plain": [
       "<PIL.Image.Image image mode=RGB size=90x100 at 0x105E2C9D0>"
      ]
     },
     "metadata": {},
     "output_type": "display_data"
    },
    {
     "name": "stdout",
     "output_type": "stream",
     "text": [
      "12953668\n"
     ]
    },
    {
     "data": {
      "image/png": "[encoded data removed]",
      "text/plain": [
       "<PIL.Image.Image image mode=RGB size=90x100 at 0x1114EF3D0>"
      ]
     },
     "metadata": {},
     "output_type": "display_data"
    },
    {
     "name": "stdout",
     "output_type": "stream",
     "text": [
      "5139048\n"
     ]
    },
    {
     "data": {
      "image/png": "[encoded data removed]",
      "text/plain": [
       "<PIL.Image.Image image mode=RGB size=90x100 at 0x1114EF1F0>"
      ]
     },
     "metadata": {},
     "output_type": "display_data"
    },
    {
     "name": "stdout",
     "output_type": "stream",
     "text": [
      "7261122\n"
     ]
    },
    {
     "data": {
      "image/png": "[encoded data removed]",
      "text/plain": [
       "<PIL.Image.Image image mode=RGB size=90x100 at 0x1114FF4F0>"
      ]
     },
     "metadata": {},
     "output_type": "display_data"
    },
    {
     "name": "stdout",
     "output_type": "stream",
     "text": [
      "7587237\n"
     ]
    },
    {
     "data": {
      "image/png": "[encoded data removed]",
      "text/plain": [
       "<PIL.Image.Image image mode=RGB size=90x100 at 0x105E2C9D0>"
      ]
     },
     "metadata": {},
     "output_type": "display_data"
    },
    {
     "name": "stdout",
     "output_type": "stream",
     "text": [
      "10183522\n"
     ]
    },
    {
     "data": {
      "image/png": "[encoded data removed]",
      "text/plain": [
       "<PIL.Image.Image image mode=RGB size=90x100 at 0x1114EF3D0>"
      ]
     },
     "metadata": {},
     "output_type": "display_data"
    },
    {
     "name": "stdout",
     "output_type": "stream",
     "text": [
      "7500780\n"
     ]
    },
    {
     "data": {
      "image/png": "[encoded data removed]",
      "text/plain": [
       "<PIL.Image.Image image mode=RGB size=90x100 at 0x1114EF1F0>"
      ]
     },
     "metadata": {},
     "output_type": "display_data"
    },
    {
     "name": "stdout",
     "output_type": "stream",
     "text": [
      "6611242\n"
     ]
    },
    {
     "data": {
      "image/png": "[encoded data removed]",
      "text/plain": [
       "<PIL.Image.Image image mode=RGB size=90x100 at 0x111521340>"
      ]
     },
     "metadata": {},
     "output_type": "display_data"
    },
    {
     "name": "stdout",
     "output_type": "stream",
     "text": [
      "45450567\n"
     ]
    },
    {
     "data": {
      "image/png": "[encoded data removed]",
      "text/plain": [
       "<PIL.Image.Image image mode=RGB size=90x100 at 0x111521490>"
      ]
     },
     "metadata": {},
     "output_type": "display_data"
    },
    {
     "name": "stdout",
     "output_type": "stream",
     "text": [
      "11960674\n"
     ]
    },
    {
     "data": {
      "image/png": "[encoded data removed]",
      "text/plain": [
       "<PIL.Image.Image image mode=RGB size=90x100 at 0x1114FF4F0>"
      ]
     },
     "metadata": {},
     "output_type": "display_data"
    },
    {
     "name": "stdout",
     "output_type": "stream",
     "text": [
      "5928165\n"
     ]
    },
    {
     "data": {
      "image/png": "[encoded data removed]",
      "text/plain": [
       "<PIL.Image.Image image mode=RGB size=90x100 at 0x1114EF3D0>"
      ]
     },
     "metadata": {},
     "output_type": "display_data"
    },
    {
     "name": "stdout",
     "output_type": "stream",
     "text": [
      "13265749\n"
     ]
    },
    {
     "data": {
      "image/png": "[encoded data removed]",
      "text/plain": [
       "<PIL.Image.Image image mode=RGB size=90x100 at 0x111521340>"
      ]
     },
     "metadata": {},
     "output_type": "display_data"
    },
    {
     "name": "stdout",
     "output_type": "stream",
     "text": [
      "67181196\n"
     ]
    },
    {
     "data": {
      "image/png": "[encoded data removed]",
      "text/plain": [
       "<PIL.Image.Image image mode=RGB size=90x100 at 0x105E2C9D0>"
      ]
     },
     "metadata": {},
     "output_type": "display_data"
    },
    {
     "name": "stdout",
     "output_type": "stream",
     "text": [
      "12228072\n"
     ]
    },
    {
     "data": {
      "image/png": "[encoded data removed]",
      "text/plain": [
       "<PIL.Image.Image image mode=RGB size=90x100 at 0x111521340>"
      ]
     },
     "metadata": {},
     "output_type": "display_data"
    },
    {
     "name": "stdout",
     "output_type": "stream",
     "text": [
      "3734448\n"
     ]
    },
    {
     "data": {
      "image/png": "[encoded data removed]",
      "text/plain": [
       "<PIL.Image.Image image mode=RGB size=90x100 at 0x1114EF1F0>"
      ]
     },
     "metadata": {},
     "output_type": "display_data"
    },
    {
     "name": "stdout",
     "output_type": "stream",
     "text": [
      "7693378\n"
     ]
    },
    {
     "data": {
      "image/png": "[encoded data removed]",
      "text/plain": [
       "<PIL.Image.Image image mode=RGB size=90x100 at 0x1114FF4F0>"
      ]
     },
     "metadata": {},
     "output_type": "display_data"
    },
    {
     "name": "stdout",
     "output_type": "stream",
     "text": [
      "7963792\n"
     ]
    },
    {
     "data": {
      "image/png": "[encoded data removed]",
      "text/plain": [
       "<PIL.Image.Image image mode=RGB size=90x100 at 0x111521490>"
      ]
     },
     "metadata": {},
     "output_type": "display_data"
    },
    {
     "name": "stdout",
     "output_type": "stream",
     "text": [
      "2439149\n"
     ]
    },
    {
     "data": {
      "image/png": "[encoded data removed]",
      "text/plain": [
       "<PIL.Image.Image image mode=RGB size=90x100 at 0x105A4CF10>"
      ]
     },
     "metadata": {},
     "output_type": "display_data"
    },
    {
     "name": "stdout",
     "output_type": "stream",
     "text": [
      "12281826\n"
     ]
    },
    {
     "data": {
      "image/png": "[encoded data removed]",
      "text/plain": [
       "<PIL.Image.Image image mode=RGB size=90x100 at 0x111521340>"
      ]
     },
     "metadata": {},
     "output_type": "display_data"
    },
    {
     "name": "stdout",
     "output_type": "stream",
     "text": [
      "4940752\n"
     ]
    },
    {
     "data": {
      "image/png": "[encoded data removed]",
      "text/plain": [
       "<PIL.Image.Image image mode=RGB size=90x100 at 0x111521490>"
      ]
     },
     "metadata": {},
     "output_type": "display_data"
    },
    {
     "name": "stdout",
     "output_type": "stream",
     "text": [
      "14083791\n"
     ]
    },
    {
     "data": {
      "image/png": "[encoded data removed]",
      "text/plain": [
       "<PIL.Image.Image image mode=RGB size=90x100 at 0x105E2C9D0>"
      ]
     },
     "metadata": {},
     "output_type": "display_data"
    },
    {
     "name": "stdout",
     "output_type": "stream",
     "text": [
      "954859\n"
     ]
    },
    {
     "data": {
      "image/png": "[encoded data removed]",
      "text/plain": [
       "<PIL.Image.Image image mode=RGB size=90x100 at 0x1114EF3D0>"
      ]
     },
     "metadata": {},
     "output_type": "display_data"
    },
    {
     "name": "stdout",
     "output_type": "stream",
     "text": [
      "12033575\n"
     ]
    },
    {
     "data": {
      "image/png": "[encoded data removed]",
      "text/plain": [
       "<PIL.Image.Image image mode=RGB size=90x100 at 0x111521340>"
      ]
     },
     "metadata": {},
     "output_type": "display_data"
    },
    {
     "name": "stdout",
     "output_type": "stream",
     "text": [
      "9843391\n"
     ]
    },
    {
     "data": {
      "image/png": "[encoded data removed]",
      "text/plain": [
       "<PIL.Image.Image image mode=RGB size=90x100 at 0x1114FF4F0>"
      ]
     },
     "metadata": {},
     "output_type": "display_data"
    },
    {
     "name": "stdout",
     "output_type": "stream",
     "text": [
      "12242813\n"
     ]
    },
    {
     "data": {
      "image/png": "[encoded data removed]",
      "text/plain": [
       "<PIL.Image.Image image mode=RGB size=90x100 at 0x105E2C9D0>"
      ]
     },
     "metadata": {},
     "output_type": "display_data"
    },
    {
     "name": "stdout",
     "output_type": "stream",
     "text": [
      "83860441\n"
     ]
    },
    {
     "data": {
      "image/png": "[encoded data removed]",
      "text/plain": [
       "<PIL.Image.Image image mode=RGB size=90x100 at 0x1114EF3D0>"
      ]
     },
     "metadata": {},
     "output_type": "display_data"
    },
    {
     "name": "stdout",
     "output_type": "stream",
     "text": [
      "10769676\n"
     ]
    },
    {
     "data": {
      "image/png": "[encoded data removed]",
      "text/plain": [
       "<PIL.Image.Image image mode=RGB size=90x100 at 0x1114FF4F0>"
      ]
     },
     "metadata": {},
     "output_type": "display_data"
    },
    {
     "name": "stdout",
     "output_type": "stream",
     "text": [
      "9920487\n"
     ]
    },
    {
     "data": {
      "image/png": "[encoded data removed]",
      "text/plain": [
       "<PIL.Image.Image image mode=RGB size=90x100 at 0x1114EF3D0>"
      ]
     },
     "metadata": {},
     "output_type": "display_data"
    },
    {
     "name": "stdout",
     "output_type": "stream",
     "text": [
      "10141915\n"
     ]
    },
    {
     "data": {
      "image/png": "[encoded data removed]",
      "text/plain": [
       "<PIL.Image.Image image mode=RGB size=90x100 at 0x111521490>"
      ]
     },
     "metadata": {},
     "output_type": "display_data"
    },
    {
     "name": "stdout",
     "output_type": "stream",
     "text": [
      "55959576\n"
     ]
    },
    {
     "data": {
      "image/png": "[encoded data removed]",
      "text/plain": [
       "<PIL.Image.Image image mode=RGB size=90x100 at 0x111521340>"
      ]
     },
     "metadata": {},
     "output_type": "display_data"
    },
    {
     "name": "stdout",
     "output_type": "stream",
     "text": [
      "11856393\n"
     ]
    },
    {
     "data": {
      "image/png": "[encoded data removed]",
      "text/plain": [
       "<PIL.Image.Image image mode=RGB size=90x100 at 0x105E2C9D0>"
      ]
     },
     "metadata": {},
     "output_type": "display_data"
    },
    {
     "name": "stdout",
     "output_type": "stream",
     "text": [
      "6119265\n"
     ]
    },
    {
     "data": {
      "image/png": "[encoded data removed]",
      "text/plain": [
       "<PIL.Image.Image image mode=RGB size=90x100 at 0x111521490>"
      ]
     },
     "metadata": {},
     "output_type": "display_data"
    },
    {
     "name": "stdout",
     "output_type": "stream",
     "text": [
      "7407555\n"
     ]
    },
    {
     "data": {
      "image/png": "[encoded data removed]",
      "text/plain": [
       "<PIL.Image.Image image mode=RGB size=90x100 at 0x1114EF1F0>"
      ]
     },
     "metadata": {},
     "output_type": "display_data"
    },
    {
     "name": "stdout",
     "output_type": "stream",
     "text": [
      "8849214\n"
     ]
    },
    {
     "data": {
      "image/png": "[encoded data removed]",
      "text/plain": [
       "<PIL.Image.Image image mode=RGB size=90x100 at 0x111521490>"
      ]
     },
     "metadata": {},
     "output_type": "display_data"
    },
    {
     "name": "stdout",
     "output_type": "stream",
     "text": [
      "3118769\n"
     ]
    },
    {
     "data": {
      "image/png": "[encoded data removed]",
      "text/plain": [
       "<PIL.Image.Image image mode=RGB size=90x100 at 0x105E2C9D0>"
      ]
     },
     "metadata": {},
     "output_type": "display_data"
    },
    {
     "name": "stdout",
     "output_type": "stream",
     "text": [
      "6848135\n"
     ]
    },
    {
     "data": {
      "image/png": "[encoded data removed]",
      "text/plain": [
       "<PIL.Image.Image image mode=RGB size=90x100 at 0x105A4CFD0>"
      ]
     },
     "metadata": {},
     "output_type": "display_data"
    },
    {
     "name": "stdout",
     "output_type": "stream",
     "text": [
      "6827620\n"
     ]
    },
    {
     "data": {
      "image/png": "[encoded data removed]",
      "text/plain": [
       "<PIL.Image.Image image mode=RGB size=90x100 at 0x105A4CCD0>"
      ]
     },
     "metadata": {},
     "output_type": "display_data"
    },
    {
     "name": "stdout",
     "output_type": "stream",
     "text": [
      "9135452\n"
     ]
    },
    {
     "data": {
      "image/png": "[encoded data removed]",
      "text/plain": [
       "<PIL.Image.Image image mode=RGB size=90x100 at 0x105A4CC10>"
      ]
     },
     "metadata": {},
     "output_type": "display_data"
    },
    {
     "name": "stdout",
     "output_type": "stream",
     "text": [
      "3160775\n"
     ]
    },
    {
     "data": {
      "image/png": "[encoded data removed]",
      "text/plain": [
       "<PIL.Image.Image image mode=RGB size=90x100 at 0x105A4CD00>"
      ]
     },
     "metadata": {},
     "output_type": "display_data"
    },
    {
     "name": "stdout",
     "output_type": "stream",
     "text": [
      "12267981\n"
     ]
    },
    {
     "data": {
      "image/png": "[encoded data removed]",
      "text/plain": [
       "<PIL.Image.Image image mode=RGB size=90x100 at 0x1114EF1F0>"
      ]
     },
     "metadata": {},
     "output_type": "display_data"
    },
    {
     "name": "stdout",
     "output_type": "stream",
     "text": [
      "12154090\n"
     ]
    },
    {
     "data": {
      "image/png": "[encoded data removed]",
      "text/plain": [
       "<PIL.Image.Image image mode=RGB size=90x100 at 0x1114EF3D0>"
      ]
     },
     "metadata": {},
     "output_type": "display_data"
    },
    {
     "name": "stdout",
     "output_type": "stream",
     "text": [
      "14004079\n"
     ]
    },
    {
     "data": {
      "image/png": "[encoded data removed]",
      "text/plain": [
       "<PIL.Image.Image image mode=RGB size=90x100 at 0x111521490>"
      ]
     },
     "metadata": {},
     "output_type": "display_data"
    },
    {
     "name": "stdout",
     "output_type": "stream",
     "text": [
      "4369606\n"
     ]
    },
    {
     "data": {
      "image/png": "[encoded data removed]",
      "text/plain": [
       "<PIL.Image.Image image mode=RGB size=90x100 at 0x1114EF3D0>"
      ]
     },
     "metadata": {},
     "output_type": "display_data"
    },
    {
     "name": "stdout",
     "output_type": "stream",
     "text": [
      "4503822\n"
     ]
    },
    {
     "data": {
      "image/png": "[encoded data removed]",
      "text/plain": [
       "<PIL.Image.Image image mode=RGB size=90x100 at 0x111521490>"
      ]
     },
     "metadata": {},
     "output_type": "display_data"
    },
    {
     "name": "stdout",
     "output_type": "stream",
     "text": [
      "4588489\n"
     ]
    },
    {
     "data": {
      "image/png": "[encoded data removed]",
      "text/plain": [
       "<PIL.Image.Image image mode=RGB size=90x100 at 0x111521340>"
      ]
     },
     "metadata": {},
     "output_type": "display_data"
    },
    {
     "name": "stdout",
     "output_type": "stream",
     "text": [
      "11532388\n"
     ]
    },
    {
     "data": {
      "image/png": "[encoded data removed]",
      "text/plain": [
       "<PIL.Image.Image image mode=RGB size=90x100 at 0x1114FF4F0>"
      ]
     },
     "metadata": {},
     "output_type": "display_data"
    },
    {
     "name": "stdout",
     "output_type": "stream",
     "text": [
      "12184360\n"
     ]
    },
    {
     "data": {
      "image/png": "[encoded data removed]",
      "text/plain": [
       "<PIL.Image.Image image mode=RGB size=90x100 at 0x1114EF3D0>"
      ]
     },
     "metadata": {},
     "output_type": "display_data"
    },
    {
     "name": "stdout",
     "output_type": "stream",
     "text": [
      "6954901\n"
     ]
    },
    {
     "data": {
      "image/png": "[encoded data removed]",
      "text/plain": [
       "<PIL.Image.Image image mode=RGB size=90x100 at 0x111521340>"
      ]
     },
     "metadata": {},
     "output_type": "display_data"
    },
    {
     "name": "stdout",
     "output_type": "stream",
     "text": [
      "4150749\n"
     ]
    },
    {
     "data": {
      "image/png": "[encoded data removed]",
      "text/plain": [
       "<PIL.Image.Image image mode=RGB size=90x100 at 0x111521490>"
      ]
     },
     "metadata": {},
     "output_type": "display_data"
    },
    {
     "name": "stdout",
     "output_type": "stream",
     "text": [
      "13498742\n"
     ]
    },
    {
     "data": {
      "image/png": "[encoded data removed]",
      "text/plain": [
       "<PIL.Image.Image image mode=RGB size=90x100 at 0x1114EF1F0>"
      ]
     },
     "metadata": {},
     "output_type": "display_data"
    },
    {
     "name": "stdout",
     "output_type": "stream",
     "text": [
      "9240751\n"
     ]
    },
    {
     "data": {
      "image/png": "[encoded data removed]",
      "text/plain": [
       "<PIL.Image.Image image mode=RGB size=90x100 at 0x111521340>"
      ]
     },
     "metadata": {},
     "output_type": "display_data"
    },
    {
     "name": "stdout",
     "output_type": "stream",
     "text": [
      "8071369\n"
     ]
    },
    {
     "data": {
      "image/png": "[encoded data removed]",
      "text/plain": [
       "<PIL.Image.Image image mode=RGB size=90x100 at 0x105E2C9D0>"
      ]
     },
     "metadata": {},
     "output_type": "display_data"
    },
    {
     "name": "stdout",
     "output_type": "stream",
     "text": [
      "2640289\n"
     ]
    },
    {
     "data": {
      "image/png": "[encoded data removed]",
      "text/plain": [
       "<PIL.Image.Image image mode=RGB size=90x100 at 0x1114EF3D0>"
      ]
     },
     "metadata": {},
     "output_type": "display_data"
    },
    {
     "name": "stdout",
     "output_type": "stream",
     "text": [
      "9803094\n"
     ]
    },
    {
     "data": {
      "image/png": "[encoded data removed]",
      "text/plain": [
       "<PIL.Image.Image image mode=RGB size=90x100 at 0x105A4CA60>"
      ]
     },
     "metadata": {},
     "output_type": "display_data"
    },
    {
     "name": "stdout",
     "output_type": "stream",
     "text": [
      "13868501\n"
     ]
    },
    {
     "data": {
      "image/png": "[encoded data removed]",
      "text/plain": [
       "<PIL.Image.Image image mode=RGB size=90x100 at 0x1114EF1F0>"
      ]
     },
     "metadata": {},
     "output_type": "display_data"
    },
    {
     "name": "stdout",
     "output_type": "stream",
     "text": [
      "13301163\n"
     ]
    },
    {
     "data": {
      "image/png": "[encoded data removed]",
      "text/plain": [
       "<PIL.Image.Image image mode=RGB size=90x100 at 0x1114EF3D0>"
      ]
     },
     "metadata": {},
     "output_type": "display_data"
    },
    {
     "name": "stdout",
     "output_type": "stream",
     "text": [
      "7723787\n"
     ]
    },
    {
     "data": {
      "image/png": "[encoded data removed]",
      "text/plain": [
       "<PIL.Image.Image image mode=RGB size=90x100 at 0x105A4CB20>"
      ]
     },
     "metadata": {},
     "output_type": "display_data"
    },
    {
     "name": "stdout",
     "output_type": "stream",
     "text": [
      "7595944\n"
     ]
    },
    {
     "data": {
      "image/png": "[encoded data removed]",
      "text/plain": [
       "<PIL.Image.Image image mode=RGB size=90x100 at 0x111521490>"
      ]
     },
     "metadata": {},
     "output_type": "display_data"
    },
    {
     "name": "stdout",
     "output_type": "stream",
     "text": [
      "5075773\n"
     ]
    },
    {
     "data": {
      "image/png": "[encoded data removed]",
      "text/plain": [
       "<PIL.Image.Image image mode=RGB size=90x100 at 0x1114EF3D0>"
      ]
     },
     "metadata": {},
     "output_type": "display_data"
    },
    {
     "name": "stdout",
     "output_type": "stream",
     "text": [
      "1744285\n"
     ]
    },
    {
     "data": {
      "image/png": "[encoded data removed]",
      "text/plain": [
       "<PIL.Image.Image image mode=RGB size=90x100 at 0x105A4CD30>"
      ]
     },
     "metadata": {},
     "output_type": "display_data"
    },
    {
     "name": "stdout",
     "output_type": "stream",
     "text": [
      "6429420\n"
     ]
    },
    {
     "data": {
      "image/png": "[encoded data removed]",
      "text/plain": [
       "<PIL.Image.Image image mode=RGB size=90x100 at 0x111521340>"
      ]
     },
     "metadata": {},
     "output_type": "display_data"
    },
    {
     "name": "stdout",
     "output_type": "stream",
     "text": [
      "7669978\n"
     ]
    },
    {
     "data": {
      "image/png": "[encoded data removed]",
      "text/plain": [
       "<PIL.Image.Image image mode=RGB size=90x100 at 0x111521490>"
      ]
     },
     "metadata": {},
     "output_type": "display_data"
    },
    {
     "name": "stdout",
     "output_type": "stream",
     "text": [
      "10841438\n"
     ]
    },
    {
     "data": {
      "image/png": "[encoded data removed]",
      "text/plain": [
       "<PIL.Image.Image image mode=RGB size=90x100 at 0x1114EF3D0>"
      ]
     },
     "metadata": {},
     "output_type": "display_data"
    },
    {
     "name": "stdout",
     "output_type": "stream",
     "text": [
      "4453948\n"
     ]
    },
    {
     "data": {
      "image/png": "[encoded data removed]",
      "text/plain": [
       "<PIL.Image.Image image mode=RGB size=90x100 at 0x1114EF1F0>"
      ]
     },
     "metadata": {},
     "output_type": "display_data"
    },
    {
     "name": "stdout",
     "output_type": "stream",
     "text": [
      "76601615\n"
     ]
    },
    {
     "data": {
      "image/png": "[encoded data removed]",
      "text/plain": [
       "<PIL.Image.Image image mode=RGB size=90x100 at 0x105A4CCD0>"
      ]
     },
     "metadata": {},
     "output_type": "display_data"
    },
    {
     "name": "stdout",
     "output_type": "stream",
     "text": [
      "5506439\n"
     ]
    },
    {
     "data": {
      "image/png": "[encoded data removed]",
      "text/plain": [
       "<PIL.Image.Image image mode=RGB size=90x100 at 0x1114FF4F0>"
      ]
     },
     "metadata": {},
     "output_type": "display_data"
    },
    {
     "name": "stdout",
     "output_type": "stream",
     "text": [
      "1582027\n"
     ]
    },
    {
     "data": {
      "image/png": "[encoded data removed]",
      "text/plain": [
       "<PIL.Image.Image image mode=RGB size=90x100 at 0x105A4CFD0>"
      ]
     },
     "metadata": {},
     "output_type": "display_data"
    },
    {
     "name": "stdout",
     "output_type": "stream",
     "text": [
      "6900828\n"
     ]
    },
    {
     "data": {
      "image/png": "[encoded data removed]",
      "text/plain": [
       "<PIL.Image.Image image mode=RGB size=90x100 at 0x1114FF4F0>"
      ]
     },
     "metadata": {},
     "output_type": "display_data"
    },
    {
     "name": "stdout",
     "output_type": "stream",
     "text": [
      "77331732\n"
     ]
    },
    {
     "data": {
      "image/png": "[encoded data removed]",
      "text/plain": [
       "<PIL.Image.Image image mode=RGB size=90x100 at 0x1114EF1F0>"
      ]
     },
     "metadata": {},
     "output_type": "display_data"
    },
    {
     "name": "stdout",
     "output_type": "stream",
     "text": [
      "6586858\n"
     ]
    },
    {
     "data": {
      "image/png": "[encoded data removed]",
      "text/plain": [
       "<PIL.Image.Image image mode=RGB size=90x100 at 0x111521490>"
      ]
     },
     "metadata": {},
     "output_type": "display_data"
    },
    {
     "name": "stdout",
     "output_type": "stream",
     "text": [
      "8384163\n"
     ]
    },
    {
     "data": {
      "image/png": "[encoded data removed]",
      "text/plain": [
       "<PIL.Image.Image image mode=RGB size=90x100 at 0x1114EF3D0>"
      ]
     },
     "metadata": {},
     "output_type": "display_data"
    },
    {
     "name": "stdout",
     "output_type": "stream",
     "text": [
      "10776974\n"
     ]
    },
    {
     "data": {
      "image/png": "[encoded data removed]",
      "text/plain": [
       "<PIL.Image.Image image mode=RGB size=90x100 at 0x111521340>"
      ]
     },
     "metadata": {},
     "output_type": "display_data"
    },
    {
     "name": "stdout",
     "output_type": "stream",
     "text": [
      "7775781\n"
     ]
    },
    {
     "data": {
      "image/png": "[encoded data removed]",
      "text/plain": [
       "<PIL.Image.Image image mode=RGB size=90x100 at 0x1114EF1F0>"
      ]
     },
     "metadata": {},
     "output_type": "display_data"
    },
    {
     "name": "stdout",
     "output_type": "stream",
     "text": [
      "8673878\n"
     ]
    },
    {
     "data": {
      "image/png": "[encoded data removed]",
      "text/plain": [
       "<PIL.Image.Image image mode=RGB size=90x100 at 0x111521490>"
      ]
     },
     "metadata": {},
     "output_type": "display_data"
    },
    {
     "name": "stdout",
     "output_type": "stream",
     "text": [
      "8294728\n"
     ]
    },
    {
     "data": {
      "image/png": "[encoded data removed]",
      "text/plain": [
       "<PIL.Image.Image image mode=RGB size=90x100 at 0x1114EF3D0>"
      ]
     },
     "metadata": {},
     "output_type": "display_data"
    },
    {
     "name": "stdout",
     "output_type": "stream",
     "text": [
      "4740085\n"
     ]
    },
    {
     "data": {
      "image/png": "[encoded data removed]",
      "text/plain": [
       "<PIL.Image.Image image mode=RGB size=90x100 at 0x105A4CC10>"
      ]
     },
     "metadata": {},
     "output_type": "display_data"
    },
    {
     "name": "stdout",
     "output_type": "stream",
     "text": [
      "7486729\n"
     ]
    },
    {
     "data": {
      "image/png": "[encoded data removed]",
      "text/plain": [
       "<PIL.Image.Image image mode=RGB size=90x100 at 0x111521490>"
      ]
     },
     "metadata": {},
     "output_type": "display_data"
    },
    {
     "name": "stdout",
     "output_type": "stream",
     "text": [
      "26551436\n"
     ]
    },
    {
     "data": {
      "image/png": "[encoded data removed]",
      "text/plain": [
       "<PIL.Image.Image image mode=RGB size=90x100 at 0x1114EF3D0>"
      ]
     },
     "metadata": {},
     "output_type": "display_data"
    },
    {
     "name": "stdout",
     "output_type": "stream",
     "text": [
      "60419518\n"
     ]
    },
    {
     "data": {
      "image/png": "[encoded data removed]",
      "text/plain": [
       "<PIL.Image.Image image mode=RGB size=90x100 at 0x111521490>"
      ]
     },
     "metadata": {},
     "output_type": "display_data"
    },
    {
     "name": "stdout",
     "output_type": "stream",
     "text": [
      "8521969\n"
     ]
    },
    {
     "data": {
      "image/png": "[encoded data removed]",
      "text/plain": [
       "<PIL.Image.Image image mode=RGB size=90x100 at 0x105A4CB20>"
      ]
     },
     "metadata": {},
     "output_type": "display_data"
    },
    {
     "name": "stdout",
     "output_type": "stream",
     "text": [
      "1275423\n"
     ]
    },
    {
     "data": {
      "image/png": "[encoded data removed]",
      "text/plain": [
       "<PIL.Image.Image image mode=RGB size=90x100 at 0x1114FF4F0>"
      ]
     },
     "metadata": {},
     "output_type": "display_data"
    },
    {
     "name": "stdout",
     "output_type": "stream",
     "text": [
      "5566491\n"
     ]
    },
    {
     "data": {
      "image/png": "[encoded data removed]",
      "text/plain": [
       "<PIL.Image.Image image mode=RGB size=90x100 at 0x1114EF3D0>"
      ]
     },
     "metadata": {},
     "output_type": "display_data"
    },
    {
     "name": "stdout",
     "output_type": "stream",
     "text": [
      "12201843\n"
     ]
    },
    {
     "data": {
      "image/png": "[encoded data removed]",
      "text/plain": [
       "<PIL.Image.Image image mode=RGB size=90x100 at 0x111521340>"
      ]
     },
     "metadata": {},
     "output_type": "display_data"
    },
    {
     "name": "stdout",
     "output_type": "stream",
     "text": [
      "29194973\n"
     ]
    },
    {
     "data": {
      "image/png": "[encoded data removed]",
      "text/plain": [
       "<PIL.Image.Image image mode=RGB size=90x100 at 0x1114EF3D0>"
      ]
     },
     "metadata": {},
     "output_type": "display_data"
    },
    {
     "name": "stdout",
     "output_type": "stream",
     "text": [
      "13686586\n"
     ]
    },
    {
     "data": {
      "image/png": "[encoded data removed]",
      "text/plain": [
       "<PIL.Image.Image image mode=RGB size=90x100 at 0x111521490>"
      ]
     },
     "metadata": {},
     "output_type": "display_data"
    },
    {
     "name": "stdout",
     "output_type": "stream",
     "text": [
      "7825195\n"
     ]
    },
    {
     "data": {
      "image/png": "[encoded data removed]",
      "text/plain": [
       "<PIL.Image.Image image mode=RGB size=90x100 at 0x1114EF1F0>"
      ]
     },
     "metadata": {},
     "output_type": "display_data"
    },
    {
     "name": "stdout",
     "output_type": "stream",
     "text": [
      "13569288\n"
     ]
    },
    {
     "data": {
      "image/png": "[encoded data removed]",
      "text/plain": [
       "<PIL.Image.Image image mode=RGB size=90x100 at 0x111521340>"
      ]
     },
     "metadata": {},
     "output_type": "display_data"
    },
    {
     "name": "stdout",
     "output_type": "stream",
     "text": [
      "6270378\n"
     ]
    },
    {
     "data": {
      "image/png": "[encoded data removed]",
      "text/plain": [
       "<PIL.Image.Image image mode=RGB size=90x100 at 0x1114FF4F0>"
      ]
     },
     "metadata": {},
     "output_type": "display_data"
    },
    {
     "name": "stdout",
     "output_type": "stream",
     "text": [
      "40941747\n"
     ]
    },
    {
     "data": {
      "image/png": "[encoded data removed]",
      "text/plain": [
       "<PIL.Image.Image image mode=RGB size=90x100 at 0x1114EF1F0>"
      ]
     },
     "metadata": {},
     "output_type": "display_data"
    },
    {
     "name": "stdout",
     "output_type": "stream",
     "text": [
      "11910663\n"
     ]
    },
    {
     "data": {
      "image/png": "[encoded data removed]",
      "text/plain": [
       "<PIL.Image.Image image mode=RGB size=90x100 at 0x111521340>"
      ]
     },
     "metadata": {},
     "output_type": "display_data"
    },
    {
     "name": "stdout",
     "output_type": "stream",
     "text": [
      "11670043\n"
     ]
    },
    {
     "data": {
      "image/png": "[encoded data removed]",
      "text/plain": [
       "<PIL.Image.Image image mode=RGB size=90x100 at 0x1114EF1F0>"
      ]
     },
     "metadata": {},
     "output_type": "display_data"
    },
    {
     "name": "stdout",
     "output_type": "stream",
     "text": [
      "7602747\n"
     ]
    },
    {
     "data": {
      "image/png": "[encoded data removed]",
      "text/plain": [
       "<PIL.Image.Image image mode=RGB size=90x100 at 0x111521340>"
      ]
     },
     "metadata": {},
     "output_type": "display_data"
    },
    {
     "name": "stdout",
     "output_type": "stream",
     "text": [
      "12822981\n"
     ]
    },
    {
     "data": {
      "image/png": "[encoded data removed]",
      "text/plain": [
       "<PIL.Image.Image image mode=RGB size=90x100 at 0x1114EF1F0>"
      ]
     },
     "metadata": {},
     "output_type": "display_data"
    },
    {
     "name": "stdout",
     "output_type": "stream",
     "text": [
      "8592952\n"
     ]
    },
    {
     "data": {
      "image/png": "[encoded data removed]",
      "text/plain": [
       "<PIL.Image.Image image mode=RGB size=90x100 at 0x111521340>"
      ]
     },
     "metadata": {},
     "output_type": "display_data"
    },
    {
     "name": "stdout",
     "output_type": "stream",
     "text": [
      "56560795\n"
     ]
    },
    {
     "data": {
      "image/png": "[encoded data removed]",
      "text/plain": [
       "<PIL.Image.Image image mode=RGB size=90x100 at 0x1114EF1F0>"
      ]
     },
     "metadata": {},
     "output_type": "display_data"
    },
    {
     "name": "stdout",
     "output_type": "stream",
     "text": [
      "60393130\n"
     ]
    },
    {
     "data": {
      "image/png": "[encoded data removed]",
      "text/plain": [
       "<PIL.Image.Image image mode=RGB size=90x100 at 0x111521340>"
      ]
     },
     "metadata": {},
     "output_type": "display_data"
    },
    {
     "name": "stdout",
     "output_type": "stream",
     "text": [
      "12080248\n"
     ]
    },
    {
     "data": {
      "image/png": "[encoded data removed]",
      "text/plain": [
       "<PIL.Image.Image image mode=RGB size=90x100 at 0x1114EF1F0>"
      ]
     },
     "metadata": {},
     "output_type": "display_data"
    },
    {
     "name": "stdout",
     "output_type": "stream",
     "text": [
      "80018104\n"
     ]
    },
    {
     "data": {
      "image/png": "[encoded data removed]",
      "text/plain": [
       "<PIL.Image.Image image mode=RGB size=90x100 at 0x111521340>"
      ]
     },
     "metadata": {},
     "output_type": "display_data"
    },
    {
     "name": "stdout",
     "output_type": "stream",
     "text": [
      "8820053\n"
     ]
    },
    {
     "data": {
      "image/png": "[encoded data removed]",
      "text/plain": [
       "<PIL.Image.Image image mode=RGB size=90x100 at 0x1114EF1F0>"
      ]
     },
     "metadata": {},
     "output_type": "display_data"
    },
    {
     "name": "stdout",
     "output_type": "stream",
     "text": [
      "72554377\n"
     ]
    },
    {
     "data": {
      "image/png": "[encoded data removed]",
      "text/plain": [
       "<PIL.Image.Image image mode=RGB size=90x100 at 0x1114EF3D0>"
      ]
     },
     "metadata": {},
     "output_type": "display_data"
    },
    {
     "name": "stdout",
     "output_type": "stream",
     "text": [
      "5897606\n"
     ]
    },
    {
     "data": {
      "image/png": "[encoded data removed]",
      "text/plain": [
       "<PIL.Image.Image image mode=RGB size=90x100 at 0x111521340>"
      ]
     },
     "metadata": {},
     "output_type": "display_data"
    },
    {
     "name": "stdout",
     "output_type": "stream",
     "text": [
      "5113063\n"
     ]
    },
    {
     "data": {
      "image/png": "[encoded data removed]",
      "text/plain": [
       "<PIL.Image.Image image mode=RGB size=90x100 at 0x1114EF1F0>"
      ]
     },
     "metadata": {},
     "output_type": "display_data"
    },
    {
     "name": "stdout",
     "output_type": "stream",
     "text": [
      "45321538\n"
     ]
    },
    {
     "data": {
      "image/png": "[encoded data removed]",
      "text/plain": [
       "<PIL.Image.Image image mode=RGB size=90x100 at 0x105E2C9D0>"
      ]
     },
     "metadata": {},
     "output_type": "display_data"
    },
    {
     "name": "stdout",
     "output_type": "stream",
     "text": [
      "38690704\n"
     ]
    },
    {
     "data": {
      "image/png": "[encoded data removed]",
      "text/plain": [
       "<PIL.Image.Image image mode=RGB size=90x100 at 0x111521340>"
      ]
     },
     "metadata": {},
     "output_type": "display_data"
    },
    {
     "name": "stdout",
     "output_type": "stream",
     "text": [
      "12460562\n"
     ]
    },
    {
     "data": {
      "image/png": "[encoded data removed]",
      "text/plain": [
       "<PIL.Image.Image image mode=RGB size=90x100 at 0x1114EF1F0>"
      ]
     },
     "metadata": {},
     "output_type": "display_data"
    },
    {
     "name": "stdout",
     "output_type": "stream",
     "text": [
      "4102528\n"
     ]
    },
    {
     "data": {
      "image/png": "[encoded data removed]",
      "text/plain": [
       "<PIL.Image.Image image mode=RGB size=90x100 at 0x111521490>"
      ]
     },
     "metadata": {},
     "output_type": "display_data"
    },
    {
     "name": "stdout",
     "output_type": "stream",
     "text": [
      "11003303\n"
     ]
    },
    {
     "data": {
      "image/png": "[encoded data removed]",
      "text/plain": [
       "<PIL.Image.Image image mode=RGB size=90x100 at 0x105A4CA60>"
      ]
     },
     "metadata": {},
     "output_type": "display_data"
    },
    {
     "name": "stdout",
     "output_type": "stream",
     "text": [
      "2463938\n"
     ]
    },
    {
     "data": {
      "image/png": "[encoded data removed]",
      "text/plain": [
       "<PIL.Image.Image image mode=RGB size=90x100 at 0x1114EF1F0>"
      ]
     },
     "metadata": {},
     "output_type": "display_data"
    },
    {
     "name": "stdout",
     "output_type": "stream",
     "text": [
      "6612964\n"
     ]
    },
    {
     "data": {
      "image/png": "[encoded data removed]",
      "text/plain": [
       "<PIL.Image.Image image mode=RGB size=90x100 at 0x111521340>"
      ]
     },
     "metadata": {},
     "output_type": "display_data"
    },
    {
     "name": "stdout",
     "output_type": "stream",
     "text": [
      "8472382\n"
     ]
    },
    {
     "data": {
      "image/png": "[encoded data removed]",
      "text/plain": [
       "<PIL.Image.Image image mode=RGB size=90x100 at 0x1114EF3D0>"
      ]
     },
     "metadata": {},
     "output_type": "display_data"
    },
    {
     "name": "stdout",
     "output_type": "stream",
     "text": [
      "7446893\n"
     ]
    },
    {
     "data": {
      "image/png": "[encoded data removed]",
      "text/plain": [
       "<PIL.Image.Image image mode=RGB size=90x100 at 0x105A4CFD0>"
      ]
     },
     "metadata": {},
     "output_type": "display_data"
    },
    {
     "name": "stdout",
     "output_type": "stream",
     "text": [
      "62736096\n"
     ]
    },
    {
     "data": {
      "image/png": "[encoded data removed]",
      "text/plain": [
       "<PIL.Image.Image image mode=RGB size=90x100 at 0x1114EF1F0>"
      ]
     },
     "metadata": {},
     "output_type": "display_data"
    },
    {
     "name": "stdout",
     "output_type": "stream",
     "text": [
      "8337581\n"
     ]
    },
    {
     "data": {
      "image/png": "[encoded data removed]",
      "text/plain": [
       "<PIL.Image.Image image mode=RGB size=90x100 at 0x1114FF4F0>"
      ]
     },
     "metadata": {},
     "output_type": "display_data"
    },
    {
     "name": "stdout",
     "output_type": "stream",
     "text": [
      "5489756\n"
     ]
    },
    {
     "data": {
      "image/png": "[encoded data removed]",
      "text/plain": [
       "<PIL.Image.Image image mode=RGB size=90x100 at 0x111521490>"
      ]
     },
     "metadata": {},
     "output_type": "display_data"
    },
    {
     "name": "stdout",
     "output_type": "stream",
     "text": [
      "11285655\n"
     ]
    },
    {
     "data": {
      "image/png": "[encoded data removed]",
      "text/plain": [
       "<PIL.Image.Image image mode=RGB size=90x100 at 0x105E2C9D0>"
      ]
     },
     "metadata": {},
     "output_type": "display_data"
    },
    {
     "name": "stdout",
     "output_type": "stream",
     "text": [
      "12221066\n"
     ]
    },
    {
     "data": {
      "image/png": "[encoded data removed]",
      "text/plain": [
       "<PIL.Image.Image image mode=RGB size=90x100 at 0x1114FF4F0>"
      ]
     },
     "metadata": {},
     "output_type": "display_data"
    },
    {
     "name": "stdout",
     "output_type": "stream",
     "text": [
      "7403748\n"
     ]
    },
    {
     "data": {
      "image/png": "[encoded data removed]",
      "text/plain": [
       "<PIL.Image.Image image mode=RGB size=90x100 at 0x1114EF1F0>"
      ]
     },
     "metadata": {},
     "output_type": "display_data"
    },
    {
     "name": "stdout",
     "output_type": "stream",
     "text": [
      "80492995\n"
     ]
    },
    {
     "data": {
      "image/png": "[encoded data removed]",
      "text/plain": [
       "<PIL.Image.Image image mode=RGB size=90x100 at 0x1114EF3D0>"
      ]
     },
     "metadata": {},
     "output_type": "display_data"
    },
    {
     "name": "stdout",
     "output_type": "stream",
     "text": [
      "11859296\n"
     ]
    },
    {
     "data": {
      "image/png": "[encoded data removed]",
      "text/plain": [
       "<PIL.Image.Image image mode=RGB size=90x100 at 0x1114FF4F0>"
      ]
     },
     "metadata": {},
     "output_type": "display_data"
    },
    {
     "name": "stdout",
     "output_type": "stream",
     "text": [
      "11469784\n"
     ]
    },
    {
     "data": {
      "image/png": "[encoded data removed]",
      "text/plain": [
       "<PIL.Image.Image image mode=RGB size=90x100 at 0x1114EF3D0>"
      ]
     },
     "metadata": {},
     "output_type": "display_data"
    },
    {
     "name": "stdout",
     "output_type": "stream",
     "text": [
      "5624883\n"
     ]
    },
    {
     "data": {
      "image/png": "[encoded data removed]",
      "text/plain": [
       "<PIL.Image.Image image mode=RGB size=90x100 at 0x105E2C9D0>"
      ]
     },
     "metadata": {},
     "output_type": "display_data"
    },
    {
     "name": "stdout",
     "output_type": "stream",
     "text": [
      "7083937\n"
     ]
    },
    {
     "data": {
      "image/png": "[encoded data removed]",
      "text/plain": [
       "<PIL.Image.Image image mode=RGB size=90x100 at 0x1114EF1F0>"
      ]
     },
     "metadata": {},
     "output_type": "display_data"
    },
    {
     "name": "stdout",
     "output_type": "stream",
     "text": [
      "6161196\n"
     ]
    },
    {
     "data": {
      "image/png": "[encoded data removed]",
      "text/plain": [
       "<PIL.Image.Image image mode=RGB size=90x100 at 0x105A4CD60>"
      ]
     },
     "metadata": {},
     "output_type": "display_data"
    },
    {
     "name": "stdout",
     "output_type": "stream",
     "text": [
      "873607\n"
     ]
    },
    {
     "data": {
      "image/png": "[encoded data removed]",
      "text/plain": [
       "<PIL.Image.Image image mode=RGB size=90x100 at 0x111521340>"
      ]
     },
     "metadata": {},
     "output_type": "display_data"
    },
    {
     "name": "stdout",
     "output_type": "stream",
     "text": [
      "47881759\n"
     ]
    },
    {
     "data": {
      "image/png": "[encoded data removed]",
      "text/plain": [
       "<PIL.Image.Image image mode=RGB size=90x100 at 0x1114EF1F0>"
      ]
     },
     "metadata": {},
     "output_type": "display_data"
    },
    {
     "name": "stdout",
     "output_type": "stream",
     "text": [
      "55921581\n"
     ]
    },
    {
     "data": {
      "image/png": "[encoded data removed]",
      "text/plain": [
       "<PIL.Image.Image image mode=RGB size=90x100 at 0x111521340>"
      ]
     },
     "metadata": {},
     "output_type": "display_data"
    },
    {
     "name": "stdout",
     "output_type": "stream",
     "text": [
      "14061871\n"
     ]
    },
    {
     "data": {
      "image/png": "[encoded data removed]",
      "text/plain": [
       "<PIL.Image.Image image mode=RGB size=90x100 at 0x111521490>"
      ]
     },
     "metadata": {},
     "output_type": "display_data"
    },
    {
     "name": "stdout",
     "output_type": "stream",
     "text": [
      "174243\n"
     ]
    },
    {
     "data": {
      "image/png": "[encoded data removed]",
      "text/plain": [
       "<PIL.Image.Image image mode=RGB size=90x100 at 0x1114EF3D0>"
      ]
     },
     "metadata": {},
     "output_type": "display_data"
    },
    {
     "name": "stdout",
     "output_type": "stream",
     "text": [
      "8516506\n"
     ]
    },
    {
     "data": {
      "image/png": "[encoded data removed]",
      "text/plain": [
       "<PIL.Image.Image image mode=RGB size=90x100 at 0x111521490>"
      ]
     },
     "metadata": {},
     "output_type": "display_data"
    },
    {
     "name": "stdout",
     "output_type": "stream",
     "text": [
      "13428623\n"
     ]
    },
    {
     "data": {
      "image/png": "[encoded data removed]",
      "text/plain": [
       "<PIL.Image.Image image mode=RGB size=90x100 at 0x1114FF4F0>"
      ]
     },
     "metadata": {},
     "output_type": "display_data"
    },
    {
     "name": "stdout",
     "output_type": "stream",
     "text": [
      "4785211\n"
     ]
    },
    {
     "data": {
      "image/png": "[encoded data removed]",
      "text/plain": [
       "<PIL.Image.Image image mode=RGB size=90x100 at 0x105E2C9D0>"
      ]
     },
     "metadata": {},
     "output_type": "display_data"
    },
    {
     "name": "stdout",
     "output_type": "stream",
     "text": [
      "46720324\n"
     ]
    },
    {
     "data": {
      "image/png": "[encoded data removed]",
      "text/plain": [
       "<PIL.Image.Image image mode=RGB size=90x100 at 0x1114EF3D0>"
      ]
     },
     "metadata": {},
     "output_type": "display_data"
    },
    {
     "name": "stdout",
     "output_type": "stream",
     "text": [
      "13691747\n"
     ]
    },
    {
     "data": {
      "image/png": "[encoded data removed]",
      "text/plain": [
       "<PIL.Image.Image image mode=RGB size=90x100 at 0x111521340>"
      ]
     },
     "metadata": {},
     "output_type": "display_data"
    },
    {
     "name": "stdout",
     "output_type": "stream",
     "text": [
      "6171626\n"
     ]
    },
    {
     "data": {
      "image/png": "[encoded data removed]",
      "text/plain": [
       "<PIL.Image.Image image mode=RGB size=90x100 at 0x1114EF3D0>"
      ]
     },
     "metadata": {},
     "output_type": "display_data"
    },
    {
     "name": "stdout",
     "output_type": "stream",
     "text": [
      "13648653\n"
     ]
    },
    {
     "data": {
      "image/png": "[encoded data removed]",
      "text/plain": [
       "<PIL.Image.Image image mode=RGB size=90x100 at 0x1114FF4F0>"
      ]
     },
     "metadata": {},
     "output_type": "display_data"
    },
    {
     "name": "stdout",
     "output_type": "stream",
     "text": [
      "8127361\n"
     ]
    },
    {
     "data": {
      "image/png": "[encoded data removed]",
      "text/plain": [
       "<PIL.Image.Image image mode=RGB size=90x100 at 0x105E2C9D0>"
      ]
     },
     "metadata": {},
     "output_type": "display_data"
    },
    {
     "name": "stdout",
     "output_type": "stream",
     "text": [
      "4990674\n"
     ]
    },
    {
     "data": {
      "image/png": "[encoded data removed]",
      "text/plain": [
       "<PIL.Image.Image image mode=RGB size=90x100 at 0x1114EF3D0>"
      ]
     },
     "metadata": {},
     "output_type": "display_data"
    },
    {
     "name": "stdout",
     "output_type": "stream",
     "text": [
      "7044448\n"
     ]
    },
    {
     "data": {
      "image/png": "[encoded data removed]",
      "text/plain": [
       "<PIL.Image.Image image mode=RGB size=90x100 at 0x105A4CCD0>"
      ]
     },
     "metadata": {},
     "output_type": "display_data"
    },
    {
     "name": "stdout",
     "output_type": "stream",
     "text": [
      "2677104\n"
     ]
    },
    {
     "data": {
      "image/png": "[encoded data removed]",
      "text/plain": [
       "<PIL.Image.Image image mode=RGB size=90x100 at 0x111521340>"
      ]
     },
     "metadata": {},
     "output_type": "display_data"
    },
    {
     "name": "stdout",
     "output_type": "stream",
     "text": [
      "8165565\n"
     ]
    },
    {
     "data": {
      "image/png": "[encoded data removed]",
      "text/plain": [
       "<PIL.Image.Image image mode=RGB size=90x100 at 0x1114EF3D0>"
      ]
     },
     "metadata": {},
     "output_type": "display_data"
    },
    {
     "name": "stdout",
     "output_type": "stream",
     "text": [
      "11496882\n"
     ]
    },
    {
     "data": {
      "image/png": "[encoded data removed]",
      "text/plain": [
       "<PIL.Image.Image image mode=RGB size=90x100 at 0x1114FF4F0>"
      ]
     },
     "metadata": {},
     "output_type": "display_data"
    },
    {
     "name": "stdout",
     "output_type": "stream",
     "text": [
      "2799301\n"
     ]
    },
    {
     "data": {
      "image/png": "[encoded data removed]",
      "text/plain": [
       "<PIL.Image.Image image mode=RGB size=90x100 at 0x111521490>"
      ]
     },
     "metadata": {},
     "output_type": "display_data"
    },
    {
     "name": "stdout",
     "output_type": "stream",
     "text": [
      "3754560\n"
     ]
    },
    {
     "data": {
      "image/png": "[encoded data removed]",
      "text/plain": [
       "<PIL.Image.Image image mode=RGB size=90x100 at 0x1114EF3D0>"
      ]
     },
     "metadata": {},
     "output_type": "display_data"
    },
    {
     "name": "stdout",
     "output_type": "stream",
     "text": [
      "1814769\n"
     ]
    },
    {
     "data": {
      "image/png": "[encoded data removed]",
      "text/plain": [
       "<PIL.Image.Image image mode=RGB size=90x100 at 0x111521490>"
      ]
     },
     "metadata": {},
     "output_type": "display_data"
    },
    {
     "name": "stdout",
     "output_type": "stream",
     "text": [
      "1653477\n"
     ]
    },
    {
     "data": {
      "image/png": "[encoded data removed]",
      "text/plain": [
       "<PIL.Image.Image image mode=RGB size=90x100 at 0x1114EF3D0>"
      ]
     },
     "metadata": {},
     "output_type": "display_data"
    },
    {
     "name": "stdout",
     "output_type": "stream",
     "text": [
      "40688778\n"
     ]
    },
    {
     "data": {
      "image/png": "[encoded data removed]",
      "text/plain": [
       "<PIL.Image.Image image mode=RGB size=90x100 at 0x111521490>"
      ]
     },
     "metadata": {},
     "output_type": "display_data"
    },
    {
     "name": "stdout",
     "output_type": "stream",
     "text": [
      "75297871\n"
     ]
    },
    {
     "data": {
      "image/png": "[encoded data removed]",
      "text/plain": [
       "<PIL.Image.Image image mode=RGB size=90x100 at 0x1114EF3D0>"
      ]
     },
     "metadata": {},
     "output_type": "display_data"
    },
    {
     "name": "stdout",
     "output_type": "stream",
     "text": [
      "3265413\n"
     ]
    },
    {
     "data": {
      "image/png": "[encoded data removed]",
      "text/plain": [
       "<PIL.Image.Image image mode=RGB size=90x100 at 0x111521490>"
      ]
     },
     "metadata": {},
     "output_type": "display_data"
    },
    {
     "name": "stdout",
     "output_type": "stream",
     "text": [
      "8173562\n"
     ]
    },
    {
     "data": {
      "image/png": "[encoded data removed]",
      "text/plain": [
       "<PIL.Image.Image image mode=RGB size=90x100 at 0x1114EF3D0>"
      ]
     },
     "metadata": {},
     "output_type": "display_data"
    },
    {
     "name": "stdout",
     "output_type": "stream",
     "text": [
      "64991095\n"
     ]
    },
    {
     "data": {
      "image/png": "[encoded data removed]",
      "text/plain": [
       "<PIL.Image.Image image mode=RGB size=90x100 at 0x111521490>"
      ]
     },
     "metadata": {},
     "output_type": "display_data"
    },
    {
     "name": "stdout",
     "output_type": "stream",
     "text": [
      "13378845\n"
     ]
    },
    {
     "data": {
      "image/png": "[encoded data removed]",
      "text/plain": [
       "<PIL.Image.Image image mode=RGB size=90x100 at 0x1114EF3D0>"
      ]
     },
     "metadata": {},
     "output_type": "display_data"
    },
    {
     "name": "stdout",
     "output_type": "stream",
     "text": [
      "4828519\n"
     ]
    },
    {
     "data": {
      "image/png": "[encoded data removed]",
      "text/plain": [
       "<PIL.Image.Image image mode=RGB size=90x100 at 0x111521490>"
      ]
     },
     "metadata": {},
     "output_type": "display_data"
    },
    {
     "name": "stdout",
     "output_type": "stream",
     "text": [
      "12963053\n"
     ]
    },
    {
     "data": {
      "image/png": "[encoded data removed]",
      "text/plain": [
       "<PIL.Image.Image image mode=RGB size=90x100 at 0x105E2C9D0>"
      ]
     },
     "metadata": {},
     "output_type": "display_data"
    },
    {
     "name": "stdout",
     "output_type": "stream",
     "text": [
      "8685426\n"
     ]
    },
    {
     "data": {
      "image/png": "[encoded data removed]",
      "text/plain": [
       "<PIL.Image.Image image mode=RGB size=90x100 at 0x111521490>"
      ]
     },
     "metadata": {},
     "output_type": "display_data"
    },
    {
     "name": "stdout",
     "output_type": "stream",
     "text": [
      "12428021\n"
     ]
    },
    {
     "data": {
      "image/png": "[encoded data removed]",
      "text/plain": [
       "<PIL.Image.Image image mode=RGB size=90x100 at 0x1114EF1F0>"
      ]
     },
     "metadata": {},
     "output_type": "display_data"
    },
    {
     "name": "stdout",
     "output_type": "stream",
     "text": [
      "6416646\n"
     ]
    },
    {
     "data": {
      "image/png": "[encoded data removed]",
      "text/plain": [
       "<PIL.Image.Image image mode=RGB size=90x100 at 0x111521490>"
      ]
     },
     "metadata": {},
     "output_type": "display_data"
    },
    {
     "name": "stdout",
     "output_type": "stream",
     "text": [
      "13951580\n"
     ]
    },
    {
     "data": {
      "image/png": "[encoded data removed]",
      "text/plain": [
       "<PIL.Image.Image image mode=RGB size=90x100 at 0x1114EF1F0>"
      ]
     },
     "metadata": {},
     "output_type": "display_data"
    },
    {
     "name": "stdout",
     "output_type": "stream",
     "text": [
      "14111745\n"
     ]
    },
    {
     "data": {
      "image/png": "[encoded data removed]",
      "text/plain": [
       "<PIL.Image.Image image mode=RGB size=90x100 at 0x111521490>"
      ]
     },
     "metadata": {},
     "output_type": "display_data"
    },
    {
     "name": "stdout",
     "output_type": "stream",
     "text": [
      "14197826\n"
     ]
    },
    {
     "data": {
      "image/png": "[encoded data removed]",
      "text/plain": [
       "<PIL.Image.Image image mode=RGB size=90x100 at 0x1114EF1F0>"
      ]
     },
     "metadata": {},
     "output_type": "display_data"
    },
    {
     "name": "stdout",
     "output_type": "stream",
     "text": [
      "23555\n"
     ]
    },
    {
     "data": {
      "image/png": "[encoded data removed]",
      "text/plain": [
       "<PIL.Image.Image image mode=RGB size=90x100 at 0x111521340>"
      ]
     },
     "metadata": {},
     "output_type": "display_data"
    },
    {
     "name": "stdout",
     "output_type": "stream",
     "text": [
      "13800369\n"
     ]
    },
    {
     "data": {
      "image/png": "[encoded data removed]",
      "text/plain": [
       "<PIL.Image.Image image mode=RGB size=90x100 at 0x1114EF1F0>"
      ]
     },
     "metadata": {},
     "output_type": "display_data"
    },
    {
     "name": "stdout",
     "output_type": "stream",
     "text": [
      "74904587\n"
     ]
    },
    {
     "data": {
      "image/png": "[encoded data removed]",
      "text/plain": [
       "<PIL.Image.Image image mode=RGB size=90x100 at 0x111521490>"
      ]
     },
     "metadata": {},
     "output_type": "display_data"
    },
    {
     "name": "stdout",
     "output_type": "stream",
     "text": [
      "6230114\n"
     ]
    },
    {
     "data": {
      "image/png": "[encoded data removed]",
      "text/plain": [
       "<PIL.Image.Image image mode=RGB size=90x100 at 0x105A4CCD0>"
      ]
     },
     "metadata": {},
     "output_type": "display_data"
    },
    {
     "name": "stdout",
     "output_type": "stream",
     "text": [
      "10840767\n"
     ]
    },
    {
     "data": {
      "image/png": "[encoded data removed]",
      "text/plain": [
       "<PIL.Image.Image image mode=RGB size=90x100 at 0x111521490>"
      ]
     },
     "metadata": {},
     "output_type": "display_data"
    },
    {
     "name": "stdout",
     "output_type": "stream",
     "text": [
      "8799921\n"
     ]
    },
    {
     "data": {
      "image/png": "[encoded data removed]",
      "text/plain": [
       "<PIL.Image.Image image mode=RGB size=90x100 at 0x1114FF4F0>"
      ]
     },
     "metadata": {},
     "output_type": "display_data"
    },
    {
     "name": "stdout",
     "output_type": "stream",
     "text": [
      "12853310\n"
     ]
    },
    {
     "data": {
      "image/png": "[encoded data removed]",
      "text/plain": [
       "<PIL.Image.Image image mode=RGB size=90x100 at 0x111521340>"
      ]
     },
     "metadata": {},
     "output_type": "display_data"
    },
    {
     "name": "stdout",
     "output_type": "stream",
     "text": [
      "10794839\n"
     ]
    },
    {
     "data": {
      "image/png": "[encoded data removed]",
      "text/plain": [
       "<PIL.Image.Image image mode=RGB size=90x100 at 0x1114EF3D0>"
      ]
     },
     "metadata": {},
     "output_type": "display_data"
    },
    {
     "name": "stdout",
     "output_type": "stream",
     "text": [
      "7667279\n"
     ]
    },
    {
     "data": {
      "image/png": "[encoded data removed]",
      "text/plain": [
       "<PIL.Image.Image image mode=RGB size=90x100 at 0x111521340>"
      ]
     },
     "metadata": {},
     "output_type": "display_data"
    },
    {
     "name": "stdout",
     "output_type": "stream",
     "text": [
      "7706462\n"
     ]
    },
    {
     "data": {
      "image/png": "[encoded data removed]",
      "text/plain": [
       "<PIL.Image.Image image mode=RGB size=90x100 at 0x111521490>"
      ]
     },
     "metadata": {},
     "output_type": "display_data"
    },
    {
     "name": "stdout",
     "output_type": "stream",
     "text": [
      "9602319\n"
     ]
    },
    {
     "data": {
      "image/png": "[encoded data removed]",
      "text/plain": [
       "<PIL.Image.Image image mode=RGB size=90x100 at 0x1114EF3D0>"
      ]
     },
     "metadata": {},
     "output_type": "display_data"
    },
    {
     "name": "stdout",
     "output_type": "stream",
     "text": [
      "1024364\n"
     ]
    },
    {
     "data": {
      "image/png": "[encoded data removed]",
      "text/plain": [
       "<PIL.Image.Image image mode=RGB size=90x100 at 0x111521490>"
      ]
     },
     "metadata": {},
     "output_type": "display_data"
    },
    {
     "name": "stdout",
     "output_type": "stream",
     "text": [
      "32434406\n"
     ]
    },
    {
     "data": {
      "image/png": "[encoded data removed]",
      "text/plain": [
       "<PIL.Image.Image image mode=RGB size=90x100 at 0x1114EF3D0>"
      ]
     },
     "metadata": {},
     "output_type": "display_data"
    },
    {
     "name": "stdout",
     "output_type": "stream",
     "text": [
      "255694\n"
     ]
    },
    {
     "data": {
      "image/png": "[encoded data removed]",
      "text/plain": [
       "<PIL.Image.Image image mode=RGB size=90x100 at 0x105E2C9D0>"
      ]
     },
     "metadata": {},
     "output_type": "display_data"
    },
    {
     "name": "stdout",
     "output_type": "stream",
     "text": [
      "11842288\n"
     ]
    },
    {
     "data": {
      "image/png": "[encoded data removed]",
      "text/plain": [
       "<PIL.Image.Image image mode=RGB size=90x100 at 0x1114EF3D0>"
      ]
     },
     "metadata": {},
     "output_type": "display_data"
    },
    {
     "name": "stdout",
     "output_type": "stream",
     "text": [
      "12979689\n"
     ]
    },
    {
     "data": {
      "image/png": "[encoded data removed]",
      "text/plain": [
       "<PIL.Image.Image image mode=RGB size=90x100 at 0x111521340>"
      ]
     },
     "metadata": {},
     "output_type": "display_data"
    },
    {
     "name": "stdout",
     "output_type": "stream",
     "text": [
      "10348829\n"
     ]
    },
    {
     "data": {
      "image/png": "[encoded data removed]",
      "text/plain": [
       "<PIL.Image.Image image mode=RGB size=90x100 at 0x1114EF3D0>"
      ]
     },
     "metadata": {},
     "output_type": "display_data"
    },
    {
     "name": "stdout",
     "output_type": "stream",
     "text": [
      "5861569\n"
     ]
    },
    {
     "data": {
      "image/png": "[encoded data removed]",
      "text/plain": [
       "<PIL.Image.Image image mode=RGB size=90x100 at 0x111521340>"
      ]
     },
     "metadata": {},
     "output_type": "display_data"
    },
    {
     "name": "stdout",
     "output_type": "stream",
     "text": [
      "1902176\n"
     ]
    },
    {
     "data": {
      "image/png": "[encoded data removed]",
      "text/plain": [
       "<PIL.Image.Image image mode=RGB size=90x100 at 0x1114EF3D0>"
      ]
     },
     "metadata": {},
     "output_type": "display_data"
    },
    {
     "name": "stdout",
     "output_type": "stream",
     "text": [
      "364407\n"
     ]
    },
    {
     "data": {
      "image/png": "[encoded data removed]",
      "text/plain": [
       "<PIL.Image.Image image mode=RGB size=90x100 at 0x111521340>"
      ]
     },
     "metadata": {},
     "output_type": "display_data"
    },
    {
     "name": "stdout",
     "output_type": "stream",
     "text": [
      "7766551\n"
     ]
    },
    {
     "data": {
      "image/png": "[encoded data removed]",
      "text/plain": [
       "<PIL.Image.Image image mode=RGB size=90x100 at 0x1114EF3D0>"
      ]
     },
     "metadata": {},
     "output_type": "display_data"
    },
    {
     "name": "stdout",
     "output_type": "stream",
     "text": [
      "11903953\n"
     ]
    },
    {
     "data": {
      "image/png": "[encoded data removed]",
      "text/plain": [
       "<PIL.Image.Image image mode=RGB size=90x100 at 0x111521490>"
      ]
     },
     "metadata": {},
     "output_type": "display_data"
    },
    {
     "name": "stdout",
     "output_type": "stream",
     "text": [
      "13962708\n"
     ]
    },
    {
     "data": {
      "image/png": "[encoded data removed]",
      "text/plain": [
       "<PIL.Image.Image image mode=RGB size=90x100 at 0x1114EF1F0>"
      ]
     },
     "metadata": {},
     "output_type": "display_data"
    },
    {
     "name": "stdout",
     "output_type": "stream",
     "text": [
      "8222750\n"
     ]
    },
    {
     "data": {
      "image/png": "[encoded data removed]",
      "text/plain": [
       "<PIL.Image.Image image mode=RGB size=90x100 at 0x111521490>"
      ]
     },
     "metadata": {},
     "output_type": "display_data"
    },
    {
     "name": "stdout",
     "output_type": "stream",
     "text": [
      "5651112\n"
     ]
    },
    {
     "data": {
      "image/png": "[encoded data removed]",
      "text/plain": [
       "<PIL.Image.Image image mode=RGB size=90x100 at 0x105A4CC10>"
      ]
     },
     "metadata": {},
     "output_type": "display_data"
    },
    {
     "name": "stdout",
     "output_type": "stream",
     "text": [
      "6316847\n"
     ]
    },
    {
     "data": {
      "image/png": "[encoded data removed]",
      "text/plain": [
       "<PIL.Image.Image image mode=RGB size=90x100 at 0x105E2C9D0>"
      ]
     },
     "metadata": {},
     "output_type": "display_data"
    },
    {
     "name": "stdout",
     "output_type": "stream",
     "text": [
      "55572508\n"
     ]
    },
    {
     "data": {
      "image/png": "[encoded data removed]",
      "text/plain": [
       "<PIL.Image.Image image mode=RGB size=90x100 at 0x1114EF3D0>"
      ]
     },
     "metadata": {},
     "output_type": "display_data"
    },
    {
     "name": "stdout",
     "output_type": "stream",
     "text": [
      "6999530\n"
     ]
    },
    {
     "data": {
      "image/png": "[encoded data removed]",
      "text/plain": [
       "<PIL.Image.Image image mode=RGB size=90x100 at 0x111521490>"
      ]
     },
     "metadata": {},
     "output_type": "display_data"
    },
    {
     "name": "stdout",
     "output_type": "stream",
     "text": [
      "11518890\n"
     ]
    },
    {
     "data": {
      "image/png": "[encoded data removed]",
      "text/plain": [
       "<PIL.Image.Image image mode=RGB size=90x100 at 0x1114EF3D0>"
      ]
     },
     "metadata": {},
     "output_type": "display_data"
    },
    {
     "name": "stdout",
     "output_type": "stream",
     "text": [
      "12323695\n"
     ]
    },
    {
     "data": {
      "image/png": "[encoded data removed]",
      "text/plain": [
       "<PIL.Image.Image image mode=RGB size=90x100 at 0x111521340>"
      ]
     },
     "metadata": {},
     "output_type": "display_data"
    },
    {
     "name": "stdout",
     "output_type": "stream",
     "text": [
      "88072851\n"
     ]
    },
    {
     "data": {
      "image/png": "[encoded data removed]",
      "text/plain": [
       "<PIL.Image.Image image mode=RGB size=90x100 at 0x1114EF1F0>"
      ]
     },
     "metadata": {},
     "output_type": "display_data"
    },
    {
     "name": "stdout",
     "output_type": "stream",
     "text": [
      "3839750\n"
     ]
    },
    {
     "data": {
      "image/png": "[encoded data removed]",
      "text/plain": [
       "<PIL.Image.Image image mode=RGB size=90x100 at 0x1114FF4F0>"
      ]
     },
     "metadata": {},
     "output_type": "display_data"
    },
    {
     "name": "stdout",
     "output_type": "stream",
     "text": [
      "1522303\n"
     ]
    },
    {
     "data": {
      "image/png": "[encoded data removed]",
      "text/plain": [
       "<PIL.Image.Image image mode=RGB size=90x100 at 0x105E2C9D0>"
      ]
     },
     "metadata": {},
     "output_type": "display_data"
    },
    {
     "name": "stdout",
     "output_type": "stream",
     "text": [
      "14049500\n"
     ]
    },
    {
     "data": {
      "image/png": "[encoded data removed]",
      "text/plain": [
       "<PIL.Image.Image image mode=RGB size=90x100 at 0x111521340>"
      ]
     },
     "metadata": {},
     "output_type": "display_data"
    },
    {
     "name": "stdout",
     "output_type": "stream",
     "text": [
      "10106140\n"
     ]
    },
    {
     "data": {
      "image/png": "[encoded data removed]",
      "text/plain": [
       "<PIL.Image.Image image mode=RGB size=90x100 at 0x1114EF3D0>"
      ]
     },
     "metadata": {},
     "output_type": "display_data"
    },
    {
     "name": "stdout",
     "output_type": "stream",
     "text": [
      "12740038\n"
     ]
    },
    {
     "data": {
      "image/png": "[encoded data removed]",
      "text/plain": [
       "<PIL.Image.Image image mode=RGB size=90x100 at 0x111521490>"
      ]
     },
     "metadata": {},
     "output_type": "display_data"
    },
    {
     "name": "stdout",
     "output_type": "stream",
     "text": [
      "610588\n"
     ]
    },
    {
     "data": {
      "image/png": "[encoded data removed]",
      "text/plain": [
       "<PIL.Image.Image image mode=RGB size=90x100 at 0x1114FF4F0>"
      ]
     },
     "metadata": {},
     "output_type": "display_data"
    },
    {
     "name": "stdout",
     "output_type": "stream",
     "text": [
      "12889491\n"
     ]
    },
    {
     "data": {
      "image/png": "[encoded data removed]",
      "text/plain": [
       "<PIL.Image.Image image mode=RGB size=90x100 at 0x1114EF3D0>"
      ]
     },
     "metadata": {},
     "output_type": "display_data"
    },
    {
     "name": "stdout",
     "output_type": "stream",
     "text": [
      "12260949\n"
     ]
    },
    {
     "data": {
      "image/png": "[encoded data removed]",
      "text/plain": [
       "<PIL.Image.Image image mode=RGB size=90x100 at 0x105E2C9D0>"
      ]
     },
     "metadata": {},
     "output_type": "display_data"
    }
   ],
   "source": [
    "for _ in range(200):\n",
    "    n = random.choice(undecided_index)\n",
    "    print(n)\n",
    "    #pptm(get_machine_i(DB_PATH,n))\n",
    "    img = tm_trace_to_image(get_machine_i(DB_PATH,n), origin=0.5, width=100, height=800, show_head_direction=True).resize((90,100), Image.NEAREST)\n",
    "    display(img)"
   ]
  },
  {
   "cell_type": "markdown",
   "id": "ce48d8ae-5c54-4e1c-a145-5ed0f81a5ca5",
   "metadata": {},
   "source": [
    "### Temporary machine which was under scrutiny"
   ]
  },
  {
   "cell_type": "code",
   "execution_count": 122,
   "id": "6c688b8c-c73b-41bb-8261-035f3b7dc539",
   "metadata": {},
   "outputs": [
    {
     "name": "stdout",
     "output_type": "stream",
     "text": [
      "8742254\n",
      "s    0    1\n",
      "---  ---  ---\n",
      "A    1RB  1LC\n",
      "B    0LC  1RD\n",
      "C    1LA  0LC\n",
      "D    0RB  1RE\n",
      "E    0RB  ???\n"
     ]
    },
    {
     "data": {
      "image/png": "[encoded data removed]",
      "text/plain": [
       "<PIL.Image.Image image mode=RGB size=900x1000 at 0x111343DC0>"
      ]
     },
     "execution_count": 122,
     "metadata": {},
     "output_type": "execute_result"
    }
   ],
   "source": [
    "n = 8742254\n",
    "print(n)\n",
    "pptm(get_machine_i(DB_PATH,n))\n",
    "img = tm_trace_to_image(get_machine_i(DB_PATH,n), origin=0.5, width=100, height=2000, show_head_direction=True).resize((900,1000), Image.NEAREST)\n",
    "img"
   ]
  },
  {
   "cell_type": "markdown",
   "id": "2eb0f2df-5ded-4dd9-95fe-c5522c1ef8c8",
   "metadata": {
    "tags": []
   },
   "source": [
    "# Zoology"
   ]
  },
  {
   "cell_type": "markdown",
   "id": "9bd5a440-be3a-4f3f-badb-3c07a0addc9e",
   "metadata": {},
   "source": [
    "## Cyclers\n",
    "\n",
    "**Update 28/01/22**. 11 229 238 cyclers were decided (among machines that exceeded time limit) thanks to this argument: [https://github.com/bbchallenge/bbchallenge-arguments/tree/main/argument-cyclers](https://github.com/bbchallenge/bbchallenge-arguments/tree/main/argument-cyclers)."
   ]
  },
  {
   "cell_type": "code",
   "execution_count": 49,
   "id": "167ff8c0-6923-41cb-a184-553b752da879",
   "metadata": {},
   "outputs": [
    {
     "name": "stdout",
     "output_type": "stream",
     "text": [
      "13551915\n",
      "s    0    1\n",
      "---  ---  ---\n",
      "A    1RB  0RB\n",
      "B    1LC  1RC\n",
      "C    0LD  0LD\n",
      "D    1RE  1LA\n",
      "E    1RD  ???\n"
     ]
    },
    {
     "data": {
      "image/png": "[encoded data removed]",
      "text/plain": [
       "<PIL.Image.Image image mode=RGB size=900x1000 at 0x105EEE100>"
      ]
     },
     "execution_count": 49,
     "metadata": {},
     "output_type": "execute_result"
    }
   ],
   "source": [
    "n_list = [5164457,13551915,4888229]\n",
    "n = random.choice(n_list)\n",
    "print(n)\n",
    "pptm(get_machine_i(DB_PATH,n))\n",
    "img = tm_trace_to_image(get_machine_i(DB_PATH,n), origin=0.5, width=100, height=400, show_head_direction=False).resize((900,1000), Image.NEAREST)\n",
    "img"
   ]
  },
  {
   "cell_type": "markdown",
   "id": "732b42bd-79c7-4bf7-b4aa-ceefeaebe7dc",
   "metadata": {},
   "source": [
    "## Stairs / Translated Cyclers\n",
    "\n",
    "**Update 29/01/22**. 73 857 622 translated-cyclers were decided (among machines that exceeded space limit) thanks to the translated-cyclers argument:\n",
    "[https://github.com/bbchallenge/bbchallenge-arguments/tree/main/argument-translated-cyclers](https://github.com/bbchallenge/bbchallenge-arguments/tree/main/argument-translated-cyclers)."
   ]
  },
  {
   "cell_type": "code",
   "execution_count": 50,
   "id": "ae0cc4d1-640c-48fb-b235-530b3412582c",
   "metadata": {},
   "outputs": [
    {
     "name": "stdout",
     "output_type": "stream",
     "text": [
      "s    0    1\n",
      "---  ---  ---\n",
      "A    1RB  1LA\n",
      "B    0LA  1RC\n",
      "C    1RA  0RD\n",
      "D    1LE  0LE\n",
      "E    1LB  ???\n"
     ]
    }
   ],
   "source": [
    "pptm(get_machine_i(DB_PATH,188))"
   ]
  },
  {
   "cell_type": "code",
   "execution_count": 51,
   "id": "ca1fd40d-48d9-434d-848c-3c72901a933d",
   "metadata": {},
   "outputs": [
    {
     "name": "stdout",
     "output_type": "stream",
     "text": [
      "37799884\n"
     ]
    },
    {
     "data": {
      "image/png": "[encoded data removed]",
      "text/plain": [
       "<PIL.Image.Image image mode=RGB size=900x1000 at 0x105E2B8E0>"
      ]
     },
     "execution_count": 51,
     "metadata": {},
     "output_type": "execute_result"
    }
   ],
   "source": [
    "n_list = [78619822,52297459,37549149,37799884,33613794,65712201,73643020,73823886,87711504]\n",
    "n = random.choice(n_list)\n",
    "print(n)\n",
    "img = tm_trace_to_image(get_machine_i(DB_PATH,n), origin=0.5, width=100, height=400, show_head_direction=True).resize((900,1000), Image.NEAREST)\n",
    "img"
   ]
  },
  {
   "cell_type": "markdown",
   "id": "0befb9bf-4e55-4a4a-a568-c5d5f352b376",
   "metadata": {
    "tags": []
   },
   "source": [
    "## Unilateral Pongs"
   ]
  },
  {
   "cell_type": "code",
   "execution_count": 52,
   "id": "ee1f2a1b-34a6-4e0e-b307-19bec43cd1d0",
   "metadata": {},
   "outputs": [
    {
     "name": "stdout",
     "output_type": "stream",
     "text": [
      "12223654\n"
     ]
    },
    {
     "data": {
      "image/png": "[encoded data removed]",
      "text/plain": [
       "<PIL.Image.Image image mode=RGB size=900x1000 at 0x105E21EE0>"
      ]
     },
     "execution_count": 52,
     "metadata": {},
     "output_type": "execute_result"
    }
   ],
   "source": [
    "unilateral_pongs_list = [5643626, 3565349, 2108244, 13474013, 9755023, 8103390, 9225630, 3169967, \n",
    "                         10363739, 12223654, 13090023, 11225780, 11544059, 1507193, 13795582, 12244006, \n",
    "                         13930014, 11334525, 1028021, 1566023, 269038, 828479, 8497788, 6136947, 11635490, 6398375, \n",
    "                         9703986, 5203553, 6843551, 6964220, 11598427, 13576089, 11519070, 9913985, 11916339]\n",
    "n = random.choice(unilateral_pongs_list)\n",
    "print(n)\n",
    "img = tm_trace_to_image(get_machine_i(DB_PATH,n), origin=0.5, width=100, height=400, show_head_direction=True).resize((900,1000), Image.NEAREST)\n",
    "img"
   ]
  },
  {
   "cell_type": "markdown",
   "id": "cdb0ebef-98de-40ce-8fbf-82ae641ae1b4",
   "metadata": {},
   "source": [
    "## Translated Unilateral Pongs"
   ]
  },
  {
   "cell_type": "code",
   "execution_count": 97,
   "id": "afe8019d-3327-44b0-94c7-bfbc52676ed5",
   "metadata": {},
   "outputs": [
    {
     "name": "stdout",
     "output_type": "stream",
     "text": [
      "47437564\n"
     ]
    },
    {
     "data": {
      "image/png": "[encoded data removed]",
      "text/plain": [
       "<PIL.Image.Image image mode=RGB size=900x1000 at 0x111473520>"
      ]
     },
     "execution_count": 97,
     "metadata": {},
     "output_type": "execute_result"
    }
   ],
   "source": [
    "translated_unilateral_pongs_list = [4824149,47437564,7431789,10613000]\n",
    "n = random.choice(translated_unilateral_pongs_list)\n",
    "print(n)\n",
    "img = tm_trace_to_image(get_machine_i(DB_PATH,n), origin=0.5, width=100, height=400, show_head_direction=True).resize((900,1000), Image.NEAREST)\n",
    "img"
   ]
  },
  {
   "cell_type": "markdown",
   "id": "0b3473a2-c84e-4e1f-bcb7-b0b37e45a9b4",
   "metadata": {},
   "source": [
    "## Bilateral Pongs"
   ]
  },
  {
   "cell_type": "code",
   "execution_count": 54,
   "id": "1239a7d7-eca4-4136-8da3-a0a172b355a9",
   "metadata": {},
   "outputs": [
    {
     "name": "stdout",
     "output_type": "stream",
     "text": [
      "12223654\n"
     ]
    },
    {
     "data": {
      "image/png": "[encoded data removed]",
      "text/plain": [
       "<PIL.Image.Image image mode=RGB size=900x1000 at 0x105A4CE80>"
      ]
     },
     "execution_count": 54,
     "metadata": {},
     "output_type": "execute_result"
    }
   ],
   "source": [
    "bilateral_pongs_list = [14086216, 8439154, 87940465, 11089226, 4482180, 4284, 4468110, 12189145, \n",
    "                        12206912, 46840666, 8416617, 13440160, 2498135, 12285970, 14218336, 8634375, 1048062, \n",
    "                        13977714, 8457777, 4745553, 1153972, 13802273, 11388271, 5383040, 1507193, 9786806, 5702127, \n",
    "                        7883753, 4557119, 33672339, 3370060, 402959, 11515638, 6399980, 1960734, 8818662, 6300366, 8900440, \n",
    "                        6092203, 11980798, 9813712, 4058620, 3418516, 14044691, 9312210, 172282, 582211, 12199575, 12594284, \n",
    "                        2731122, 7716308, 12292720, 12549707, 26414953, 2479142, 6152467, 38111044, 662317, 526738, 5328524, \n",
    "                        13649989, 4208656, 13784545, 5928209, 5532891, 12876855, 937083, 4726380, 67780089, 13104130, 1015814, \n",
    "                        12215361, 76952003, 205766, 13394264, 13810851, 11746917, 24345867, 9551409, 5292000, 3648846, 13676337, 64805436, \n",
    "                        619693, 11069776, 12838991, 9115769, 12558695, 13301056, 12160685, 12301430, 1051485, 4023683, 33427945,11460162,6389200,8414269]\n",
    "n = random.choice(unilateral_pongs_list)\n",
    "print(n)\n",
    "img = tm_trace_to_image(get_machine_i(DB_PATH,n), origin=0.5, width=100, height=400, show_head_direction=True).resize((900,1000), Image.NEAREST)\n",
    "img"
   ]
  },
  {
   "cell_type": "markdown",
   "id": "e5344d1d-6f62-4ce9-8b80-81c41f8911d1",
   "metadata": {},
   "source": [
    "## Smart Counters"
   ]
  },
  {
   "cell_type": "code",
   "execution_count": 55,
   "id": "0e141fc0-4542-47fc-8e7d-99c22b37ac87",
   "metadata": {},
   "outputs": [
    {
     "name": "stdout",
     "output_type": "stream",
     "text": [
      "1236862\n"
     ]
    },
    {
     "data": {
      "image/png": "[encoded data removed]",
      "text/plain": [
       "<PIL.Image.Image image mode=RGB size=900x1000 at 0x105E2B970>"
      ]
     },
     "execution_count": 55,
     "metadata": {},
     "output_type": "execute_result"
    }
   ],
   "source": [
    "smart_counters = [11184382, 7931183, 7695094, 8594059, 9810751, 12877334, 4631164, \n",
    "                  4807678, 467941, 11776032, 12345394, 1236862, 14009904, 12418684, 10269203]\n",
    "n = random.choice(smart_counters)\n",
    "print(n)\n",
    "img = tm_trace_to_image(get_machine_i(DB_PATH,n), origin=0.5, width=100, height=400, show_head_direction=False).resize((900,1000), Image.NEAREST)\n",
    "img"
   ]
  },
  {
   "cell_type": "markdown",
   "id": "bf1fd108-d715-4d1c-a4f7-3b6f5030807d",
   "metadata": {
    "tags": []
   },
   "source": [
    "## Potential Halters"
   ]
  },
  {
   "cell_type": "code",
   "execution_count": 56,
   "id": "39c75862-8bc5-4b09-9027-9e6914ef3437",
   "metadata": {},
   "outputs": [
    {
     "name": "stdout",
     "output_type": "stream",
     "text": [
      "72903966\n",
      "s    0    1\n",
      "---  ---  ---\n",
      "A    1RB  ???\n",
      "B    1LC  0RA\n",
      "C    1RD  0LB\n",
      "D    0LE  1RC\n",
      "E    ???  0LC\n"
     ]
    },
    {
     "data": {
      "image/png": "[encoded data removed]",
      "text/plain": [
       "<PIL.Image.Image image mode=RGB size=900x1000 at 0x105A24310>"
      ]
     },
     "execution_count": 56,
     "metadata": {},
     "output_type": "execute_result"
    }
   ],
   "source": [
    "potential_halters_list = [40851850,54221304,11710205,11726152,72903966,10039500,7850055,4966400] + [13754164,7658575] \n",
    "# ^ they are all looking a lot like BB5 apart from 13754164 that looks like 20739 steps, 7658575 as well\n",
    "n = random.choice(potential_halters_list)\n",
    "print(n)\n",
    "pptm(get_machine_i(DB_PATH,n))\n",
    "img = tm_trace_to_image(get_machine_i(DB_PATH,n), origin=0.5, width=200, height=9000, show_head_direction=True).resize((900,1000), Image.NEAREST)\n",
    "img"
   ]
  },
  {
   "cell_type": "markdown",
   "id": "48635690-e621-4e20-b19d-d6f14288820a",
   "metadata": {
    "tags": []
   },
   "source": [
    "## Not classed yet"
   ]
  },
  {
   "cell_type": "code",
   "execution_count": 57,
   "id": "5a72d288-0ee6-4931-a8a8-702867c200e6",
   "metadata": {},
   "outputs": [
    {
     "name": "stdout",
     "output_type": "stream",
     "text": [
      "9241691\n"
     ]
    },
    {
     "data": {
      "image/png": "[encoded data removed]",
      "text/plain": [
       "<PIL.Image.Image image mode=RGB size=900x1000 at 0x105E2D9D0>"
      ]
     },
     "execution_count": 57,
     "metadata": {},
     "output_type": "execute_result"
    }
   ],
   "source": [
    "n_list = [12822179,9241691,8928979,4859453,4105843,11533877,3155816,40851850,6196993,7381867,11836695,12068115,6610221]\n",
    "n = random.choice(n_list)\n",
    "print(n)\n",
    "img = tm_trace_to_image(get_machine_i(DB_PATH,n), origin=0.5, width=200, height=400, show_head_direction=True).resize((900,1000), Image.NEAREST)\n",
    "img"
   ]
  },
  {
   "cell_type": "markdown",
   "id": "247d401a-aa5e-4ce6-8852-115e414d4fad",
   "metadata": {},
   "source": [
    "## Funny/unrelevant"
   ]
  },
  {
   "cell_type": "code",
   "execution_count": null,
   "id": "e919ab8a-ab76-424b-9ca6-4d6d0b0d32ba",
   "metadata": {},
   "outputs": [],
   "source": [
    "n_xmas = [5792740,5404086]"
   ]
  }
 ],
 "metadata": {
  "kernelspec": {
   "display_name": "Python 3 (ipykernel)",
   "language": "python",
   "name": "python3"
  },
  "language_info": {
   "codemirror_mode": {
    "name": "ipython",
    "version": 3
   },
   "file_extension": ".py",
   "mimetype": "text/x-python",
   "name": "python",
   "nbconvert_exporter": "python",
   "pygments_lexer": "ipython3",
   "version": "3.9.9"
  }
 },
 "nbformat": 4,
 "nbformat_minor": 5
}
