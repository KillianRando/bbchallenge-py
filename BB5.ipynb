{
 "cells": [
  {
   "cell_type": "code",
   "execution_count": 5,
   "id": "2430d055-ebb5-43ab-aaa1-ae54c7d1919c",
   "metadata": {},
   "outputs": [],
   "source": [
    "import os\n",
    "import random\n",
    "from PIL import Image\n",
    "from tabulate import tabulate"
   ]
  },
  {
   "cell_type": "markdown",
   "id": "81becca6-9cab-4656-8723-781bb2948f92",
   "metadata": {},
   "source": [
    "# Reading the database\n",
    "\n",
    "You can download the database here:\n",
    "\n",
    "- [https://dna.hamilton.ie/tsterin/all_5_states_undecided_machines_with_global_header.zip](https://dna.hamilton.ie/tsterin/all_5_states_undecided_machines_with_global_header.zip)\n",
    "- [ipfs://QmPRjcK9mJz4UMwkzLNrVG3YtAUzdRHACuHbmpf1n1bfYr](ipfs://QmPRjcK9mJz4UMwkzLNrVG3YtAUzdRHACuHbmpf1n1bfYr)\n",
    "- [https://ipfs.prgm.dev/ipfs/QmPRjcK9mJz4UMwkzLNrVG3YtAUzdRHACuHbmpf1n1bfYr](https://ipfs.prgm.dev/ipfs/QmPRjcK9mJz4UMwkzLNrVG3YtAUzdRHACuHbmpf1n1bfYr)"
   ]
  },
  {
   "cell_type": "code",
   "execution_count": 6,
   "id": "0abf288f-c73e-476f-ab82-29f066518b16",
   "metadata": {},
   "outputs": [],
   "source": [
    "DB_PATH = \"all_5_states_undecided_machines_with_global_header\""
   ]
  },
  {
   "cell_type": "markdown",
   "id": "f19c102a-7e06-415f-962d-0f6b02705c14",
   "metadata": {},
   "source": [
    "## Database header\n",
    "The first 30 bytes of the database are reserved for a header which currently contains **three** 4-byte int: \n",
    "1. The number of machines that are undecided because they went beyond the time limit (`47,176,870` steps)\n",
    "2. The number of machines that are undecided because they went beyond the space limit (`12,289` memory cells)\n",
    "3. The total number of undecided machines (sum of above)"
   ]
  },
  {
   "cell_type": "code",
   "execution_count": 7,
   "id": "42bb2d13-a9a3-46d9-9109-17c0cd76067d",
   "metadata": {},
   "outputs": [],
   "source": [
    "def get_header(machine_db_path):\n",
    "    with open(machine_db_path, \"rb\") as f:\n",
    "        return f.read(30)"
   ]
  },
  {
   "cell_type": "code",
   "execution_count": 8,
   "id": "71908bc8-4813-492d-9acf-a1d5d3f66de6",
   "metadata": {},
   "outputs": [
    {
     "name": "stdout",
     "output_type": "stream",
     "text": [
      "14322029 74342035 88664064\n"
     ]
    }
   ],
   "source": [
    "header = get_header(DB_PATH)\n",
    "undecided_time, undecided_space, undecided_total = int.from_bytes(header[:4],byteorder='big'),int.from_bytes(header[4:8],byteorder='big'),int.from_bytes(header[8:12],byteorder='big')\n",
    "print(undecided_time, undecided_space, undecided_total)"
   ]
  },
  {
   "cell_type": "markdown",
   "id": "84613dfc-4439-43cb-b9ca-98953b0f35b2",
   "metadata": {},
   "source": [
    "## Database core\n",
    "\n",
    "The core of the database is `88,664,064` machines descriptions which are each written on 30 bytes."
   ]
  },
  {
   "cell_type": "code",
   "execution_count": 9,
   "id": "e6cc2d1f-cbec-403b-9139-004f577b7fcf",
   "metadata": {},
   "outputs": [
    {
     "name": "stdout",
     "output_type": "stream",
     "text": [
      "88664064.0\n"
     ]
    }
   ],
   "source": [
    "n = os.path.getsize(DB_PATH)\n",
    "print((n)/30-1)"
   ]
  },
  {
   "cell_type": "code",
   "execution_count": 10,
   "id": "ff77b3f0-d9fc-4fb6-9efc-b67ca5305244",
   "metadata": {},
   "outputs": [],
   "source": [
    "def get_machine_i(machine_db_path, i, db_has_header=False):\n",
    "    with open(machine_db_path, \"rb\") as f:\n",
    "        c = 1 if db_has_header else 0\n",
    "        f.seek(30*(i+c))\n",
    "        return f.read(30)"
   ]
  },
  {
   "cell_type": "code",
   "execution_count": 11,
   "id": "dc1905b7-b89c-4825-9f37-3b4560cdbd3a",
   "metadata": {},
   "outputs": [],
   "source": [
    "def ithl(i):\n",
    "    return chr(ord(\"A\")+i)\n",
    "\n",
    "def g(move):\n",
    "    if move == 0:\n",
    "        return \"R\"\n",
    "    return \"L\"\n",
    "\n",
    "def pptm(machine):\n",
    "    headers = [\"s\",\"0\",\"1\"]\n",
    "    table = []\n",
    "    \n",
    "    for i in range(5):\n",
    "        row = [ithl(i)]\n",
    "        for j in range(2):\n",
    "            write = machine[6*i+3*j] \n",
    "            move = machine[6*i+3*j+1] \n",
    "            goto = machine[6*i+3*j+2]-1\n",
    "            \n",
    "            if goto == -1:\n",
    "                row.append(\"???\")\n",
    "                continue\n",
    "                \n",
    "            row.append(f\"{write}{g(move)}{ithl(goto)}\")\n",
    "        table.append(row)\n",
    "    \n",
    "    print(tabulate(table,headers=headers))"
   ]
  },
  {
   "cell_type": "code",
   "execution_count": 12,
   "id": "7a0cffc9-3a12-4087-81fe-8ad5fc26f34c",
   "metadata": {},
   "outputs": [
    {
     "name": "stdout",
     "output_type": "stream",
     "text": [
      "s    0    1\n",
      "---  ---  ---\n",
      "A    1RB  1LB\n",
      "B    0RC  1RE\n",
      "C    0LD  1RA\n",
      "D    0LA  ???\n",
      "E    ???  0RC\n"
     ]
    }
   ],
   "source": [
    "pptm(get_machine_i(DB_PATH,3930290,db_has_header=True))"
   ]
  },
  {
   "cell_type": "markdown",
   "id": "29943c94-2867-413f-9059-a0af80bdc4c9",
   "metadata": {},
   "source": [
    "# Simulating and visualising machines"
   ]
  },
  {
   "cell_type": "code",
   "execution_count": 13,
   "id": "bc26feef-66ca-4eb5-8988-96db0d94d3db",
   "metadata": {},
   "outputs": [],
   "source": [
    "def step(machine, curr_state, curr_pos, tape):\n",
    "    if not curr_pos in tape:\n",
    "        tape[curr_pos] = 0\n",
    "    \n",
    "    write = machine[curr_state*6 + 3*tape[curr_pos]] \n",
    "    move = machine[curr_state*6 + 3*tape[curr_pos] + 1] \n",
    "    goto = machine[curr_state*6 + 3*tape[curr_pos] + 2] - 1\n",
    "\n",
    "    if goto == -1:\n",
    "        return None, None\n",
    "    \n",
    "    tape[curr_pos] = write\n",
    "    next_pos = curr_pos  + (-1 if move else 1)\n",
    "    return goto, next_pos"
   ]
  },
  {
   "cell_type": "code",
   "execution_count": 14,
   "id": "d1ef7ec5-1e4e-4b0d-ad70-443b11ac17cb",
   "metadata": {},
   "outputs": [],
   "source": [
    "def simulate(machine, time_limit = 1000, mini =-10, maxi=-10):\n",
    "    curr_time = 0\n",
    "    curr_state = 0\n",
    "    curr_pos = 0\n",
    "    tape = {}\n",
    "    \n",
    "    while curr_state != None and curr_time < time_limit:\n",
    "        curr_state, curr_pos = step(machine, curr_state, curr_pos, tape)\n",
    "        if curr_state is not None:\n",
    "            pprinttape(tape, curr_state, curr_pos, mini=mini, maxi=maxi)\n",
    "        else:\n",
    "            print(\"HALT\")\n",
    "        curr_time += 1\n",
    "        "
   ]
  },
  {
   "cell_type": "code",
   "execution_count": 70,
   "id": "007ff708-b4e5-4a18-b716-a8df23a7f0a1",
   "metadata": {},
   "outputs": [],
   "source": [
    "def tm_trace_to_image(machine, width=900, height=1000, origin=0.5, show_head_direction=False):\n",
    "    img = Image.new('RGB', (width, height), color = 'black')\n",
    "    pixels = img.load()\n",
    "    \n",
    "    \n",
    "    tape = {}\n",
    "    curr_time = 0\n",
    "    curr_state = 0\n",
    "    curr_pos = 0\n",
    "    tape = {}\n",
    "    \n",
    "    \n",
    "    for row in range(1,height):\n",
    "        last_pos = curr_pos\n",
    "        curr_state, curr_pos = step(machine, curr_state, curr_pos, tape)\n",
    "        \n",
    "        if curr_state is None: #halt\n",
    "            return img\n",
    "        \n",
    "        for col in range(width):\n",
    "            pos = col-width*(origin)\n",
    "            \n",
    "            if pos in tape:\n",
    "                pixels[col,row] = (255,255,255) if tape[pos] == 1 else (0,0,0)\n",
    "                #pixels[col,row-1] = colors[curr_state-1]\n",
    "                \n",
    "            if pos == curr_pos and show_head_direction:\n",
    "                pixels[col,row] = (255,0,0) if curr_pos > last_pos else (0,255,0) \n",
    "                \n",
    "                \n",
    "    #img = zoom_at(img,*zoom)\n",
    "    return img"
   ]
  },
  {
   "cell_type": "code",
   "execution_count": 16,
   "id": "ca1006f6-afd3-461d-9e3d-51ee265cbf65",
   "metadata": {},
   "outputs": [],
   "source": [
    "def zoom_at(img, x, y, zoom):\n",
    "    w, h = img.size\n",
    "    zoom2 = zoom * 2\n",
    "    img = img.crop((x - w / zoom2, y - h / zoom2, \n",
    "                    x + w / zoom2, y + h / zoom2))\n",
    "    return img.resize((w, h), Image.LANCZOS)"
   ]
  },
  {
   "cell_type": "markdown",
   "id": "d14bc31f-0f5d-4d0f-8e9e-bf5d65f083ef",
   "metadata": {},
   "source": [
    "## BB(5) champion\n",
    "\n",
    "Described in [http://turbotm.de/~heiner/BB/mabu90.html](http://turbotm.de/~heiner/BB/mabu90.html)."
   ]
  },
  {
   "cell_type": "code",
   "execution_count": 17,
   "id": "22a3b5a3-d6e0-47cd-a36d-45fd02d7e5a5",
   "metadata": {},
   "outputs": [
    {
     "name": "stdout",
     "output_type": "stream",
     "text": [
      "s    0    1\n",
      "---  ---  ---\n",
      "A    1RB  1LC\n",
      "B    1RC  1RB\n",
      "C    1RD  0LE\n",
      "D    1LA  1LD\n",
      "E    1RF  0LA\n"
     ]
    }
   ],
   "source": [
    "def repr_to_bytes(rep):\n",
    "    to_rep = bytearray()\n",
    "    for a in rep:\n",
    "        to_rep.append(a)\n",
    "    return to_rep\n",
    "\n",
    "R, L = 0, 1\n",
    "bb5_champion_repr = [1, R, 2, 1, L, 3,\n",
    "\t\t1, R, 3, 1, R, 2,\n",
    "\t\t1, R, 4, 0, L, 5,\n",
    "\t\t1, L, 1, 1, L, 4,\n",
    "\t\t1, R, 6, 0, L, 1]\n",
    "bb5_champion = repr_to_bytes(bb5_champion_repr)\n",
    "pptm(bb5_champion)"
   ]
  },
  {
   "cell_type": "code",
   "execution_count": 102,
   "id": "25308ca3-4b24-441f-b311-94e30a52c69c",
   "metadata": {},
   "outputs": [
    {
     "data": {
      "image/png": "[encoded data removed]",
      "text/plain": [
       "<PIL.Image.Image image mode=RGB size=900x1000 at 0x1164F4C10>"
      ]
     },
     "execution_count": 102,
     "metadata": {},
     "output_type": "execute_result"
    }
   ],
   "source": [
    "img = tm_trace_to_image(bb5_champion, origin=0.9, width=500, height=40000, show_head_direction=True).resize((900,1000), Image.NEAREST)\n",
    "img"
   ]
  },
  {
   "cell_type": "markdown",
   "id": "3c8c09a2-e007-470a-aa4c-d13d7f86a028",
   "metadata": {},
   "source": [
    "## Other Halting machines\n",
    "\n",
    "These were find while running [https://github.com/bbchallenge/bbchallenge-seed](https://github.com/bbchallenge/bbchallenge-seed)."
   ]
  },
  {
   "cell_type": "markdown",
   "id": "234b3a9e-b89f-4cfe-b197-0c9181e167ad",
   "metadata": {},
   "source": [
    "### 40899 steps"
   ]
  },
  {
   "cell_type": "code",
   "execution_count": 64,
   "id": "daf426ac-6839-4525-a5d0-eaf319068045",
   "metadata": {},
   "outputs": [
    {
     "name": "stdout",
     "output_type": "stream",
     "text": [
      "s    0    1\n",
      "---  ---  ---\n",
      "A    1RB  0LC\n",
      "B    0RC  ???\n",
      "C    1RD  0RE\n",
      "D    1LE  0RA\n",
      "E    0LA  0LE\n",
      "Halts after 40899 steps\n"
     ]
    }
   ],
   "source": [
    "R, L = 0, 1\n",
    "A,B,C,D,E = 1,2,3,4,5\n",
    "m_rep = [1, R, B, 0, L, C,\n",
    "\t\t0, R, C, 0, 0, 0,\n",
    "\t\t1, R, D, 0, R, E,\n",
    "\t\t1, L, E, 0, R, A,\n",
    "\t\t0, L, A, 0, L, E]\n",
    "m = repr_to_bytes(m_rep)\n",
    "pptm(m_rep)\n",
    "print(\"Halts after 40899 steps.\")"
   ]
  },
  {
   "cell_type": "code",
   "execution_count": 79,
   "id": "2f0c58dd-ad30-45a5-9d93-fc06bc91f755",
   "metadata": {},
   "outputs": [
    {
     "data": {
      "image/png": "[encoded data removed]",
      "text/plain": [
       "<PIL.Image.Image image mode=RGB size=900x1000 at 0x1164F4A00>"
      ]
     },
     "execution_count": 79,
     "metadata": {},
     "output_type": "execute_result"
    }
   ],
   "source": [
    "img = tm_trace_to_image(m, origin=0.9, width=500, height=40899).resize((900,1000), Image.NEAREST)\n",
    "img"
   ]
  },
  {
   "cell_type": "markdown",
   "id": "c9770c1b-f3f1-474a-ab13-c537e810918a",
   "metadata": {},
   "source": [
    "### 20739 Steps"
   ]
  },
  {
   "cell_type": "code",
   "execution_count": 85,
   "id": "ea96f4ad-48ef-4c1f-89a2-7c0768ed4bc5",
   "metadata": {},
   "outputs": [
    {
     "name": "stdout",
     "output_type": "stream",
     "text": [
      "s    0    1\n",
      "---  ---  ---\n",
      "A    1RB  0LA\n",
      "B    0RC  1RD\n",
      "C    1LC  1LA\n",
      "D    1RA  1RE\n",
      "E    ???  0RB\n",
      "Halts after 20739 steps.\n"
     ]
    }
   ],
   "source": [
    "R, L = 0, 1\n",
    "A,B,C,D,E = 1,2,3,4,5\n",
    "m_rep = [1, R, B, 0, L, A,\n",
    "\t\t0, R, C, 1, R, D,\n",
    "\t\t1, L, C, 1, L, A,\n",
    "\t\t1, R, A, 1, R, E,\n",
    "\t\t0, 0, 0, 0, R, B]\n",
    "m = repr_to_bytes(m_rep)\n",
    "pptm(m_rep)\n",
    "print(\"Halts after 20739 steps.\")"
   ]
  },
  {
   "cell_type": "code",
   "execution_count": 87,
   "id": "edb4cefa-1867-4830-8844-73c411c99561",
   "metadata": {},
   "outputs": [
    {
     "data": {
      "image/png": "[encoded data removed]",
      "text/plain": [
       "<PIL.Image.Image image mode=RGB size=900x1000 at 0x1164C8E80>"
      ]
     },
     "execution_count": 87,
     "metadata": {},
     "output_type": "execute_result"
    }
   ],
   "source": [
    "img = tm_trace_to_image(m, origin=0.8, width=300, height=20739).resize((900,1000), Image.NEAREST)\n",
    "img"
   ]
  },
  {
   "cell_type": "markdown",
   "id": "3a00265a-2bf0-4938-bd84-49280b9b8437",
   "metadata": {},
   "source": [
    "### 5309 Steps"
   ]
  },
  {
   "cell_type": "code",
   "execution_count": 89,
   "id": "ce7a11f4-ac8d-462b-b007-0a4e760701d7",
   "metadata": {},
   "outputs": [
    {
     "name": "stdout",
     "output_type": "stream",
     "text": [
      "s    0    1\n",
      "---  ---  ---\n",
      "A    1RB  1LD\n",
      "B    0RC  1LE\n",
      "C    1LB  1RD\n",
      "D    1RC  0LA\n",
      "E    ???  1LB\n",
      "Halts after 5309 steps.\n"
     ]
    }
   ],
   "source": [
    "R, L = 0, 1\n",
    "A,B,C,D,E = 1,2,3,4,5\n",
    "m_rep = [1, R, B, 1, L, D,\n",
    "\t\t0, R, C, 1, L, E,\n",
    "\t\t1, L, B, 1, R, D,\n",
    "\t\t1, R, C, 0, L, A,\n",
    "\t\t0, 0, 0, 1, L, B]\n",
    "m = repr_to_bytes(m_rep)\n",
    "pptm(m_rep)\n",
    "print(\"Halts after 5309 steps.\")"
   ]
  },
  {
   "cell_type": "code",
   "execution_count": 90,
   "id": "72a5d605-5dce-44b2-a050-7f328352b524",
   "metadata": {},
   "outputs": [
    {
     "data": {
      "image/png": "[encoded data removed]",
      "text/plain": [
       "<PIL.Image.Image image mode=RGB size=900x1000 at 0x1160E7280>"
      ]
     },
     "execution_count": 90,
     "metadata": {},
     "output_type": "execute_result"
    }
   ],
   "source": [
    "img = tm_trace_to_image(m, origin=0.5, width=200, height=5309).resize((900,1000), Image.NEAREST)\n",
    "img"
   ]
  },
  {
   "cell_type": "markdown",
   "id": "b907a548-99cd-4ce6-9c81-ed392cd72943",
   "metadata": {},
   "source": [
    "### 6987 steps"
   ]
  },
  {
   "cell_type": "code",
   "execution_count": 91,
   "id": "9ae0dede-f5a3-4477-804b-776d14941dbe",
   "metadata": {},
   "outputs": [
    {
     "name": "stdout",
     "output_type": "stream",
     "text": [
      "s    0    1\n",
      "---  ---  ---\n",
      "A    1RB  1RD\n",
      "B    0RC  1RC\n",
      "C    1LA  0LA\n",
      "D    1LC  1LE\n",
      "E    ???  0LD\n",
      "Halts after 6987 steps.\n"
     ]
    }
   ],
   "source": [
    "R, L = 0, 1\n",
    "A,B,C,D,E = 1,2,3,4,5\n",
    "m_rep = [1, R, B, 1, R, D,\n",
    "\t\t0, R, C, 1, R, C,\n",
    "\t\t1, L, A, 0, L, A,\n",
    "\t\t1, L, C, A, L, E,\n",
    "\t\t0, 0, 0, 0, L, D]\n",
    "m = repr_to_bytes(m_rep)\n",
    "pptm(m_rep)\n",
    "print(\"Halts after 6987 steps.\")"
   ]
  },
  {
   "cell_type": "code",
   "execution_count": 93,
   "id": "2cb5026a-4f92-48b8-9db8-7af184f8a7c6",
   "metadata": {},
   "outputs": [
    {
     "data": {
      "image/png": "[encoded data removed]",
      "text/plain": [
       "<PIL.Image.Image image mode=RGB size=900x1000 at 0x107B570A0>"
      ]
     },
     "execution_count": 93,
     "metadata": {},
     "output_type": "execute_result"
    }
   ],
   "source": [
    "img = tm_trace_to_image(m, origin=0.5, width=200, height=6987).resize((900,1000), Image.NEAREST)\n",
    "img"
   ]
  },
  {
   "cell_type": "markdown",
   "id": "b4212ee9-fdc0-4199-8ae7-46f1cd844b73",
   "metadata": {},
   "source": [
    "### 22335 steps"
   ]
  },
  {
   "cell_type": "code",
   "execution_count": 105,
   "id": "896443e7-8f2f-4b2c-b608-fce51f7dc307",
   "metadata": {},
   "outputs": [
    {
     "name": "stdout",
     "output_type": "stream",
     "text": [
      "s    0    1\n",
      "---  ---  ---\n",
      "A    1RB  1LD\n",
      "B    0LB  1RC\n",
      "C    1LD  0LE\n",
      "D    1RE  1LC\n",
      "E    ???  0RA\n",
      "Halts after 22335 steps.\n"
     ]
    }
   ],
   "source": [
    "R, L = 0, 1\n",
    "A,B,C,D,E = 1,2,3,4,5\n",
    "m_rep = [1, R, B, 1, L, D,\n",
    "\t\t0, L, B, 1, R, C,\n",
    "\t\t1, L, D, 0, L, E,\n",
    "\t\t1, R, E, 1, L, C,\n",
    "\t\t0, 0, 0, 0, R, A]\n",
    "m = repr_to_bytes(m_rep)\n",
    "pptm(m_rep)\n",
    "print(\"Halts after 22335 steps.\")"
   ]
  },
  {
   "cell_type": "code",
   "execution_count": 106,
   "id": "96e66827-3dc9-4100-968f-e93d93bbf25b",
   "metadata": {},
   "outputs": [
    {
     "data": {
      "image/png": "[encoded data removed]",
      "text/plain": [
       "<PIL.Image.Image image mode=RGB size=900x1000 at 0x115DCE460>"
      ]
     },
     "execution_count": 106,
     "metadata": {},
     "output_type": "execute_result"
    }
   ],
   "source": [
    "img = tm_trace_to_image(m, origin=0.2, width=300, height=22335).resize((900,1000), Image.NEAREST)\n",
    "img"
   ]
  },
  {
   "cell_type": "markdown",
   "id": "8ac34f27-6048-4eeb-90c4-6a006fc57950",
   "metadata": {},
   "source": [
    "### 2133492 steps"
   ]
  },
  {
   "cell_type": "code",
   "execution_count": 96,
   "id": "f1a7ba79-eb57-4c90-b2bc-f18c87821dcc",
   "metadata": {},
   "outputs": [
    {
     "name": "stdout",
     "output_type": "stream",
     "text": [
      "s    0    1\n",
      "---  ---  ---\n",
      "A    1RB  1LC\n",
      "B    0LA  0LD\n",
      "C    1LA  ???\n",
      "D    1LB  1RE\n",
      "E    0RD  0RB\n",
      "Halts after 2133492 steps.\n"
     ]
    }
   ],
   "source": [
    "R, L = 0, 1\n",
    "A,B,C,D,E = 1,2,3,4,5\n",
    "m_rep = [1, R, B, 1, L, C,\n",
    "\t\t0, L, A, 0, L, D,\n",
    "\t\t1, L, A, 0, 0, 0,\n",
    "\t\t1, L, B, 1, R, E,\n",
    "\t\t0, R, D, 0, R, B]\n",
    "m = repr_to_bytes(m_rep)\n",
    "pptm(m_rep)\n",
    "print(\"Halts after 2133492 steps.\")"
   ]
  },
  {
   "cell_type": "code",
   "execution_count": 101,
   "id": "c7fcece9-cd5a-4c87-a530-f6273e90beaf",
   "metadata": {},
   "outputs": [
    {
     "data": {
      "image/png": "[encoded data removed]",
      "text/plain": [
       "<PIL.Image.Image image mode=RGB size=900x1000 at 0x1160E76D0>"
      ]
     },
     "execution_count": 101,
     "metadata": {},
     "output_type": "execute_result"
    }
   ],
   "source": [
    "img = tm_trace_to_image(m, origin=0.9, width=500, height=22335).resize((900,1000), Image.NEAREST)\n",
    "img"
   ]
  },
  {
   "cell_type": "markdown",
   "id": "7130d858-5b2e-418f-a9c1-d6454b99c663",
   "metadata": {},
   "source": [
    "## \"Chaotic\" machine\n",
    "\n",
    "Described in [http://turbotm.de/~heiner/BB/mabu90.html](http://turbotm.de/~heiner/BB/mabu90.html)."
   ]
  },
  {
   "cell_type": "code",
   "execution_count": 19,
   "id": "d969331d-38eb-45a0-9ebe-4edaff7b9d7b",
   "metadata": {},
   "outputs": [
    {
     "name": "stdout",
     "output_type": "stream",
     "text": [
      "s    0    1\n",
      "---  ---  ---\n",
      "A    1LB  1RB\n",
      "B    1RC  0LE\n",
      "C    0RD  0LA\n",
      "D    1LA  0RD\n",
      "E    ???  0LC\n"
     ]
    }
   ],
   "source": [
    "R, L = 0, 1\n",
    "chaotic_machine_rep = [1, L, 2, 1, R, 2,\n",
    "\t\t1, R, 3, 0, L, 5,\n",
    "\t\t0, R, 4, 0, L, 1,\n",
    "\t\t1, L, 1, 0, R, 4,\n",
    "\t\t1, L, 0, 0, L, 3]\n",
    "chaotic_machine = repr_to_bytes(chaotic_machine_rep)\n",
    "pptm(chaotic_machine)"
   ]
  },
  {
   "cell_type": "code",
   "execution_count": 20,
   "id": "427ef61d-b36a-4d6d-b10c-f23bc87509fd",
   "metadata": {},
   "outputs": [
    {
     "data": {
      "image/png": "[encoded data removed]",
      "text/plain": [
       "<PIL.Image.Image image mode=RGB size=900x1000 at 0x1038918B0>"
      ]
     },
     "execution_count": 20,
     "metadata": {},
     "output_type": "execute_result"
    }
   ],
   "source": [
    "img = tm_trace_to_image(chaotic_machine, origin=0.9, width=1000, height=100000, show_head_direction=False).resize((900,1000), Image.NEAREST)\n",
    "img"
   ]
  },
  {
   "cell_type": "markdown",
   "id": "f8eef51e-27c8-4baa-8bea-03d62f9b09ad",
   "metadata": {
    "tags": []
   },
   "source": [
    "## \"Complex counter\"\n",
    "\n",
    "Described in [http://turbotm.de/~heiner/BB/mabu90.html](http://turbotm.de/~heiner/BB/mabu90.html)."
   ]
  },
  {
   "cell_type": "code",
   "execution_count": 21,
   "id": "ca7351d0-c749-4383-82e3-ed28462d5bc3",
   "metadata": {},
   "outputs": [
    {
     "name": "stdout",
     "output_type": "stream",
     "text": [
      "s    0    1\n",
      "---  ---  ---\n",
      "A    1LB  1RA\n",
      "B    0RA  0LC\n",
      "C    0RC  1LD\n",
      "D    1LE  0RA\n",
      "E    0LB  ???\n"
     ]
    }
   ],
   "source": [
    "R, L = 0, 1\n",
    "complex_counter_rep = [1, L, 2, 1, R, 1,\n",
    "\t\t0, R, 1, 0, L, 3,\n",
    "\t\t0, R, 3, 1, L, 4,\n",
    "\t\t1, L, 5, 0, R, 1,\n",
    "\t\t0, L, 2, 1, L, 0]\n",
    "complex_counter = repr_to_bytes(complex_counter_rep)\n",
    "pptm(complex_counter)"
   ]
  },
  {
   "cell_type": "code",
   "execution_count": 22,
   "id": "f6df38b7-deb0-4ec0-8746-2130aaa99954",
   "metadata": {},
   "outputs": [
    {
     "data": {
      "image/png": "[encoded data removed]",
      "text/plain": [
       "<PIL.Image.Image image mode=RGB size=900x1000 at 0x1065CB880>"
      ]
     },
     "execution_count": 22,
     "metadata": {},
     "output_type": "execute_result"
    }
   ],
   "source": [
    "img = tm_trace_to_image(complex_counter, origin=0.5, width=100, height=1000, show_head_direction=False).resize((900,1000), Image.NEAREST)\n",
    "img"
   ]
  },
  {
   "cell_type": "markdown",
   "id": "b85711f9-429d-4184-9f4b-903760dce209",
   "metadata": {},
   "source": [
    "## Random machine"
   ]
  },
  {
   "cell_type": "code",
   "execution_count": 23,
   "id": "ec28b650-dc5f-4287-862f-9b88e48d0a72",
   "metadata": {},
   "outputs": [],
   "source": [
    "n_history = []"
   ]
  },
  {
   "cell_type": "code",
   "execution_count": 50,
   "id": "8cb3fb7b-b413-4e3a-9960-cb28a8886396",
   "metadata": {},
   "outputs": [
    {
     "name": "stdout",
     "output_type": "stream",
     "text": [
      "s    0    1\n",
      "---  ---  ---\n",
      "A    1RB  ???\n",
      "B    1LC  0LB\n",
      "C    1RD  1LB\n",
      "D    0LB  0RE\n",
      "E    1RC  0RB\n",
      "11727962\n"
     ]
    },
    {
     "data": {
      "image/png": "[encoded data removed]",
      "text/plain": [
       "<PIL.Image.Image image mode=RGB size=900x1000 at 0x107B42400>"
      ]
     },
     "execution_count": 50,
     "metadata": {},
     "output_type": "execute_result"
    }
   ],
   "source": [
    "n = random.randint(0,undecided_total-1)\n",
    "n_history.append(n)\n",
    "\n",
    "print(n)\n",
    "img = tm_trace_to_image(get_machine_i(DB_PATH,n), origin=0.5, width=100, height=400, show_head_direction=True).resize((900,1000), Image.NEAREST)\n",
    "img"
   ]
  },
  {
   "cell_type": "markdown",
   "id": "2eb0f2df-5ded-4dd9-95fe-c5522c1ef8c8",
   "metadata": {
    "tags": []
   },
   "source": [
    "# Zoology"
   ]
  },
  {
   "cell_type": "markdown",
   "id": "9bd5a440-be3a-4f3f-badb-3c07a0addc9e",
   "metadata": {},
   "source": [
    "## Cyclers"
   ]
  },
  {
   "cell_type": "code",
   "execution_count": 442,
   "id": "167ff8c0-6923-41cb-a184-553b752da879",
   "metadata": {},
   "outputs": [
    {
     "name": "stdout",
     "output_type": "stream",
     "text": [
      "13551916\n"
     ]
    },
    {
     "data": {
      "image/png": "[encoded data removed]",
      "text/plain": [
       "<PIL.Image.Image image mode=RGB size=900x1000 at 0x1370D5E50>"
      ]
     },
     "execution_count": 442,
     "metadata": {},
     "output_type": "execute_result"
    }
   ],
   "source": [
    "n_list = [5164458,13551916,4888230]\n",
    "n = random.choice(n_list)\n",
    "print(n)\n",
    "img = tm_trace_to_image(get_machine_i(DB_PATH,n), origin=0.5, width=100, height=400, show_head_direction=False).resize((900,1000), Image.NEAREST)\n",
    "img"
   ]
  },
  {
   "cell_type": "markdown",
   "id": "732b42bd-79c7-4bf7-b4aa-ceefeaebe7dc",
   "metadata": {},
   "source": [
    "## Stairs / Translated Cyclers"
   ]
  },
  {
   "cell_type": "code",
   "execution_count": 1071,
   "id": "ae0cc4d1-640c-48fb-b235-530b3412582c",
   "metadata": {},
   "outputs": [
    {
     "name": "stdout",
     "output_type": "stream",
     "text": [
      "s    0    1\n",
      "---  ---  ---\n",
      "A    1RB  0RE\n",
      "B    1RC  1RB\n",
      "C    1LD  1LE\n",
      "D    ???  0LB\n",
      "E    0LB  1RA\n"
     ]
    }
   ],
   "source": [
    "pptm(get_machine_i(DB_PATH,52297460))"
   ]
  },
  {
   "cell_type": "code",
   "execution_count": 1079,
   "id": "ca1fd40d-48d9-434d-848c-3c72901a933d",
   "metadata": {},
   "outputs": [
    {
     "name": "stdout",
     "output_type": "stream",
     "text": [
      "33613795\n"
     ]
    },
    {
     "data": {
      "image/png": "[encoded data removed]",
      "text/plain": [
       "<PIL.Image.Image image mode=RGB size=900x1000 at 0x13764BD60>"
      ]
     },
     "execution_count": 1079,
     "metadata": {},
     "output_type": "execute_result"
    }
   ],
   "source": [
    "n_list = [78619823,52297460,37549150,37799885,33613795,65712202,73643021,73823887,87711505]\n",
    "n = random.choice(n_list)\n",
    "print(n)\n",
    "img = tm_trace_to_image(get_machine_i(DB_PATH,n), origin=0.5, width=100, height=400, show_head_direction=True).resize((900,1000), Image.NEAREST)\n",
    "img"
   ]
  },
  {
   "cell_type": "markdown",
   "id": "cda8baf2-798a-4777-a7d3-2b197ef22bb7",
   "metadata": {},
   "source": [
    "## Wedding Cakes / Babylon Towers"
   ]
  },
  {
   "cell_type": "code",
   "execution_count": 1344,
   "id": "78307cd4-fc2e-4d4b-8613-16ac78096d79",
   "metadata": {},
   "outputs": [
    {
     "name": "stdout",
     "output_type": "stream",
     "text": [
      "8852035\n"
     ]
    },
    {
     "data": {
      "image/png": "[encoded data removed]",
      "text/plain": [
       "<PIL.Image.Image image mode=RGB size=900x1000 at 0x1377C0A00>"
      ]
     },
     "execution_count": 1344,
     "metadata": {},
     "output_type": "execute_result"
    }
   ],
   "source": [
    "n_list = [7888061,5351680,7199290,7177946,12930718,16322780,41540524,8852035,14203996,294146,13128061,12023842,3666258,56021279]\n",
    "n = random.choice(n_list)\n",
    "print(n)\n",
    "img = tm_trace_to_image(get_machine_i(DB_PATH,n), origin=0.5, width=100, height=400, show_head_direction=True).resize((900,1000), Image.NEAREST)\n",
    "img"
   ]
  },
  {
   "cell_type": "markdown",
   "id": "e5344d1d-6f62-4ce9-8b80-81c41f8911d1",
   "metadata": {},
   "source": [
    "## Binary Counters"
   ]
  },
  {
   "cell_type": "code",
   "execution_count": 1317,
   "id": "0e141fc0-4542-47fc-8e7d-99c22b37ac87",
   "metadata": {},
   "outputs": [
    {
     "name": "stdout",
     "output_type": "stream",
     "text": [
      "7695095\n"
     ]
    },
    {
     "data": {
      "image/png": "[encoded data removed]",
      "text/plain": [
       "<PIL.Image.Image image mode=RGB size=900x1000 at 0x1377E8070>"
      ]
     },
     "execution_count": 1317,
     "metadata": {},
     "output_type": "execute_result"
    }
   ],
   "source": [
    "n_list = [11184383,7931184, 7695095, 8594060]\n",
    "n = random.choice(n_list)\n",
    "print(n)\n",
    "img = tm_trace_to_image(get_machine_i(DB_PATH,n), origin=0.5, width=100, height=400, show_head_direction=False).resize((900,1000), Image.NEAREST)\n",
    "img"
   ]
  },
  {
   "cell_type": "markdown",
   "id": "48635690-e621-4e20-b19d-d6f14288820a",
   "metadata": {},
   "source": [
    "## Not classed yet"
   ]
  },
  {
   "cell_type": "code",
   "execution_count": 1386,
   "id": "5a72d288-0ee6-4931-a8a8-702867c200e6",
   "metadata": {},
   "outputs": [
    {
     "name": "stdout",
     "output_type": "stream",
     "text": [
      "3798341\n"
     ]
    },
    {
     "data": {
      "image/png": "[encoded data removed]",
      "text/plain": [
       "<PIL.Image.Image image mode=RGB size=900x1000 at 0x1377D5A00>"
      ]
     },
     "execution_count": 1386,
     "metadata": {},
     "output_type": "execute_result"
    }
   ],
   "source": [
    "n_list = [3329304,2293781,6830664,1323862,83975114, 82720961, 3001247, 3798341]\n",
    "n = random.choice(n_list)\n",
    "n = 3798341\n",
    "print(n)\n",
    "img = tm_trace_to_image(get_machine_i(DB_PATH,n), origin=0.5, width=200, height=4000, show_head_direction=True).resize((900,1000), Image.NEAREST)\n",
    "img"
   ]
  },
  {
   "cell_type": "code",
   "execution_count": null,
   "id": "2dce7c29-1c57-4b1a-9c52-acf4f913aa73",
   "metadata": {},
   "outputs": [],
   "source": []
  }
 ],
 "metadata": {
  "kernelspec": {
   "display_name": "Python 3",
   "language": "python",
   "name": "python3"
  },
  "language_info": {
   "codemirror_mode": {
    "name": "ipython",
    "version": 3
   },
   "file_extension": ".py",
   "mimetype": "text/x-python",
   "name": "python",
   "nbconvert_exporter": "python",
   "pygments_lexer": "ipython3",
   "version": "3.8.2"
  }
 },
 "nbformat": 4,
 "nbformat_minor": 5
}
