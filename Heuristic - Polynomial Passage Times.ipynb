{
 "cells": [
  {
   "cell_type": "code",
   "execution_count": 1,
   "id": "c9be65ff-8977-4203-8d17-5cc49f79a14d",
   "metadata": {},
   "outputs": [],
   "source": [
    "import os\n",
    "import random\n",
    "import matplotlib.pyplot as plt\n",
    "import tqdm\n",
    "\n",
    "from bbchallenge import *"
   ]
  },
  {
   "cell_type": "code",
   "execution_count": 2,
   "id": "ceffcc10-eec0-4668-8bd8-7f7fd60a0d5f",
   "metadata": {},
   "outputs": [],
   "source": [
    "DB_PATH = \"all_5_states_undecided_machines_with_global_header\""
   ]
  },
  {
   "cell_type": "code",
   "execution_count": 5,
   "id": "a3f8ecfa-caad-4ecf-9d45-071f70da6a42",
   "metadata": {},
   "outputs": [
    {
     "name": "stdout",
     "output_type": "stream",
     "text": [
      "14322029 74342035 88664064 1\n"
     ]
    }
   ],
   "source": [
    "header = get_header(DB_PATH)\n",
    "undecided_time, undecided_space, undecided_total, is_lex_sorted = int.from_bytes(header[:4],byteorder='big'),int.from_bytes(header[4:8],byteorder='big'),\\\n",
    "                                                                  int.from_bytes(header[8:12],byteorder='big'), header[12]\n",
    "print(undecided_time, undecided_space, undecided_total, is_lex_sorted)"
   ]
  },
  {
   "cell_type": "markdown",
   "id": "858b886d-8227-40d6-a441-aae43fc4ddb2",
   "metadata": {},
   "source": [
    "# Context\n",
    "\n",
    "We want a heuristic to determine if a machine has a \"ping-pong\" behavior such as these ones:"
   ]
  },
  {
   "cell_type": "markdown",
   "id": "d5b145e1-a4bd-4217-8dd3-a82ca5782e55",
   "metadata": {},
   "source": [
    "## Unilateral pongs"
   ]
  },
  {
   "cell_type": "code",
   "execution_count": 6,
   "id": "c4292cab-1e60-4cfa-a755-539ec1df8c49",
   "metadata": {},
   "outputs": [
    {
     "name": "stdout",
     "output_type": "stream",
     "text": [
      "5357965\n",
      "s    0    1\n",
      "---  ---  ---\n",
      "A    1RB  0RD\n",
      "B    1LC  1LE\n",
      "C    1LD  1LB\n",
      "D    0RA  1RD\n",
      "E    ???  0RC\n"
     ]
    },
    {
     "data": {
      "image/png": "[encoded data removed]",
      "text/plain": [
       "<PIL.Image.Image image mode=RGB size=500x600 at 0x10370E9A0>"
      ]
     },
     "execution_count": 6,
     "metadata": {},
     "output_type": "execute_result"
    }
   ],
   "source": [
    "n = random.choice(zoo.unilateral_pongs)\n",
    "print(n)\n",
    "pptm(get_machine_i(DB_PATH,n))\n",
    "img = tm_trace_to_image(get_machine_i(DB_PATH,n), origin=0.5, width=100, height=600, show_head_direction=True).resize((500,600), Image.NEAREST)\n",
    "img"
   ]
  },
  {
   "cell_type": "markdown",
   "id": "c0f17153-e888-4ce7-b0bf-e55e208486e5",
   "metadata": {},
   "source": [
    "## Bilateral pongs"
   ]
  },
  {
   "cell_type": "code",
   "execution_count": 7,
   "id": "dba582a2-8c21-40fa-8127-5745bbd6ca04",
   "metadata": {},
   "outputs": [
    {
     "name": "stdout",
     "output_type": "stream",
     "text": [
      "2488210\n",
      "s    0    1\n",
      "---  ---  ---\n",
      "A    1RB  ???\n",
      "B    1LB  0LC\n",
      "C    1RD  1RC\n",
      "D    0LE  1RE\n",
      "E    1RC  1LE\n"
     ]
    },
    {
     "data": {
      "image/png": "[encoded data removed]",
      "text/plain": [
       "<PIL.Image.Image image mode=RGB size=500x600 at 0x11437B2E0>"
      ]
     },
     "execution_count": 7,
     "metadata": {},
     "output_type": "execute_result"
    }
   ],
   "source": [
    "n = random.choice(zoo.bilateral_pongs)\n",
    "print(n)\n",
    "pptm(get_machine_i(DB_PATH,n))\n",
    "img = tm_trace_to_image(get_machine_i(DB_PATH,n), origin=0.5, width=100, height=400, show_head_direction=True).resize((500,600), Image.NEAREST)\n",
    "img"
   ]
  },
  {
   "cell_type": "markdown",
   "id": "3d575a86-3169-4ee6-a386-52f375f7170f",
   "metadata": {
    "tags": []
   },
   "source": [
    "# Polynomial Passage Times Heuristic\n",
    "\n",
    "We reason that the sequence of time steps at which the head is at cells that are relatively close to the origin must be polynomial. We care about relatively close cells to the origin because it means that the machine enters the polynomial behavior quickly. That constraint was found to be necessary for the heuristic to pass the tests on the examples and counter-examples we have.\n",
    "\n",
    "Recognising polynomial sequences is not hard: the nth sequence of differences is null."
   ]
  },
  {
   "cell_type": "code",
   "execution_count": 8,
   "id": "7a0400e3-c1ee-41c0-9c3e-52dd8b2b1b40",
   "metadata": {},
   "outputs": [],
   "source": [
    "def simulate_and_get_passage_times(machine, time_limit = 100000):\n",
    "    curr_time = 0\n",
    "    curr_state = 0\n",
    "    curr_pos = 0\n",
    "    tape = {}\n",
    "    passage_times = {}\n",
    "    \n",
    "    while curr_state != None and curr_time < time_limit:\n",
    "        if not curr_pos in passage_times:\n",
    "            passage_times[curr_pos] = []\n",
    "        passage_times[curr_pos].append(curr_time)\n",
    "        \n",
    "        curr_state, curr_pos = step(machine, curr_state, curr_pos, tape)\n",
    "        \n",
    "        # Halt!\n",
    "        if curr_state is None:\n",
    "            return passage_times\n",
    "        curr_time += 1\n",
    "    \n",
    "    return passage_times\n",
    "        "
   ]
  },
  {
   "cell_type": "code",
   "execution_count": 9,
   "id": "453562bf-34f7-42f6-aa87-88be51736e1b",
   "metadata": {},
   "outputs": [],
   "source": [
    "def diff_n(l,n=1):\n",
    "    lc = l[:]\n",
    "    def diff(l):\n",
    "        if len(l) < 2:\n",
    "            return []\n",
    "        to_ret = []\n",
    "        for i in range(1,len(l)):\n",
    "            to_ret.append(l[i]-l[i-1])\n",
    "        return to_ret\n",
    "    for i in range(n):\n",
    "        lc = diff(lc)\n",
    "    return lc"
   ]
  },
  {
   "cell_type": "markdown",
   "id": "a7d6a67a-4fc6-4075-a57e-37132c5a9a33",
   "metadata": {},
   "source": [
    "## Example n = 8541624"
   ]
  },
  {
   "cell_type": "code",
   "execution_count": 10,
   "id": "6e58cf23-6604-46a2-acd8-cd06cb6b716e",
   "metadata": {},
   "outputs": [
    {
     "name": "stdout",
     "output_type": "stream",
     "text": [
      "8541624\n",
      "s    0    1\n",
      "---  ---  ---\n",
      "A    1RB  1RB\n",
      "B    1LC  0LD\n",
      "C    ???  1LD\n",
      "D    0RA  1RE\n",
      "E    1RA  1LC\n"
     ]
    },
    {
     "data": {
      "image/png": "[encoded data removed]",
      "text/plain": [
       "<PIL.Image.Image image mode=RGB size=500x600 at 0x114BDD4C0>"
      ]
     },
     "execution_count": 10,
     "metadata": {},
     "output_type": "execute_result"
    }
   ],
   "source": [
    "n = 8541624\n",
    "print(n)\n",
    "pptm(get_machine_i(DB_PATH,n))\n",
    "img = tm_trace_to_image(get_machine_i(DB_PATH,n), origin=0.5, width=100, height=600, show_head_direction=True).resize((500,600), Image.NEAREST)\n",
    "img"
   ]
  },
  {
   "cell_type": "code",
   "execution_count": 11,
   "id": "73027ad9-fa98-43a8-ba08-4366550f3e1d",
   "metadata": {},
   "outputs": [],
   "source": [
    "passing_times = simulate_and_get_passage_times(get_machine_i(DB_PATH,n))"
   ]
  },
  {
   "cell_type": "code",
   "execution_count": 12,
   "id": "206936ba-31d5-4782-9443-46b7f18371c4",
   "metadata": {},
   "outputs": [
    {
     "data": {
      "image/png": "[encoded data removed]",
      "text/plain": [
       "<Figure size 504x288 with 1 Axes>"
      ]
     },
     "metadata": {
      "needs_background": "light"
     },
     "output_type": "display_data"
    }
   ],
   "source": [
    "plt.figure(figsize=(7,4))\n",
    "x=-1\n",
    "plt.plot(passing_times[x], 'o')\n",
    "plt.title(f\"Passing times at x={x} for machine n={n}\")\n",
    "plt.show()"
   ]
  },
  {
   "cell_type": "markdown",
   "id": "39e3a036-0460-4087-bfd7-f59a6a1855b5",
   "metadata": {},
   "source": [
    "### The third differentiation is null (quadratic polynomial)\n",
    "Except for small initial regime at the beginning. We require the 10 last entries to be 0."
   ]
  },
  {
   "cell_type": "code",
   "execution_count": 13,
   "id": "afcb5c6f-e8c7-4985-8d1b-16386a8efda8",
   "metadata": {},
   "outputs": [
    {
     "name": "stdout",
     "output_type": "stream",
     "text": [
      "[3, 17, 41, 75, 119, 173, 237, 311, 395, 489, 593, 707, 831, 965, 1109, 1263, 1427, 1601, 1785, 1979, 2183, 2397, 2621, 2855, 3099, 3353, 3617, 3891, 4175, 4469, 4773, 5087, 5411, 5745, 6089, 6443, 6807, 7181, 7565, 7959, 8363, 8777, 9201, 9635, 10079, 10533, 10997, 11471, 11955, 12449, 12953, 13467, 13991, 14525, 15069, 15623, 16187, 16761, 17345, 17939, 18543, 19157, 19781, 20415, 21059, 21713, 22377, 23051, 23735, 24429, 25133, 25847, 26571, 27305, 28049, 28803, 29567, 30341, 31125, 31919, 32723, 33537, 34361, 35195, 36039, 36893, 37757, 38631, 39515, 40409, 41313, 42227, 43151, 44085, 45029, 45983, 46947, 47921, 48905, 49899, 50903, 51917, 52941, 53975, 55019, 56073, 57137, 58211, 59295, 60389, 61493, 62607, 63731, 64865, 66009, 67163, 68327, 69501, 70685, 71879, 73083, 74297, 75521, 76755, 77999, 79253, 80517, 81791, 83075, 84369, 85673, 86987, 88311, 89645, 90989, 92343, 93707, 95081, 96465, 97859, 99263]\n"
     ]
    }
   ],
   "source": [
    "print(passing_times[-1])"
   ]
  },
  {
   "cell_type": "code",
   "execution_count": 14,
   "id": "5ab2f95e-23b3-4412-85ae-c4d5623331de",
   "metadata": {},
   "outputs": [
    {
     "name": "stdout",
     "output_type": "stream",
     "text": [
      "[3, 17, 41, 75, 119, 173, 237, 311, 395, 489, 593, 707, 831, 965, 1109, 1263, 1427, 1601, 1785, 1979, 2183, 2397, 2621, 2855, 3099, 3353, 3617, 3891, 4175, 4469, 4773, 5087, 5411, 5745, 6089, 6443, 6807, 7181, 7565, 7959, 8363, 8777, 9201, 9635, 10079, 10533, 10997, 11471, 11955, 12449, 12953, 13467, 13991, 14525, 15069, 15623, 16187, 16761, 17345, 17939, 18543, 19157, 19781, 20415, 21059, 21713, 22377, 23051, 23735, 24429, 25133, 25847, 26571, 27305, 28049, 28803, 29567, 30341, 31125, 31919, 32723, 33537, 34361, 35195, 36039, 36893, 37757, 38631, 39515, 40409, 41313, 42227, 43151, 44085, 45029, 45983, 46947, 47921, 48905, 49899, 50903, 51917, 52941, 53975, 55019, 56073, 57137, 58211, 59295, 60389, 61493, 62607, 63731, 64865, 66009, 67163, 68327, 69501, 70685, 71879, 73083, 74297, 75521, 76755, 77999, 79253, 80517, 81791, 83075, 84369, 85673, 86987, 88311, 89645, 90989, 92343, 93707, 95081, 96465, 97859, 99263]\n"
     ]
    }
   ],
   "source": [
    "print(diff_n(passing_times[x],0))"
   ]
  },
  {
   "cell_type": "code",
   "execution_count": 15,
   "id": "6cc33929-5a5d-4543-92a4-743e536fdf4f",
   "metadata": {},
   "outputs": [
    {
     "name": "stdout",
     "output_type": "stream",
     "text": [
      "[0, 0, 0, 0, 0, 0, 0, 0, 0, 0, 0, 0, 0, 0, 0, 0, 0, 0, 0, 0, 0, 0, 0, 0, 0, 0, 0, 0, 0, 0, 0, 0, 0, 0, 0, 0, 0, 0, 0, 0, 0, 0, 0, 0, 0, 0, 0, 0, 0, 0, 0, 0, 0, 0, 0, 0, 0, 0, 0, 0, 0, 0, 0, 0, 0, 0, 0, 0, 0, 0, 0, 0, 0, 0, 0, 0, 0, 0, 0, 0, 0, 0, 0, 0, 0, 0, 0, 0, 0, 0, 0, 0, 0, 0, 0, 0, 0, 0, 0, 0, 0, 0, 0, 0, 0, 0, 0, 0, 0, 0, 0, 0, 0, 0, 0, 0, 0, 0, 0, 0, 0, 0, 0, 0, 0, 0, 0, 0, 0, 0, 0, 0, 0, 0, 0, 0, 0, 0]\n"
     ]
    }
   ],
   "source": [
    "print(diff_n(passing_times[x],3))"
   ]
  },
  {
   "cell_type": "markdown",
   "id": "c071a203-a0a1-47e5-9b61-acb06f3c9bc6",
   "metadata": {},
   "source": [
    "## Example n = 3405717"
   ]
  },
  {
   "cell_type": "code",
   "execution_count": 21,
   "id": "17bc1006-8300-4522-ad6a-c478c9e525ba",
   "metadata": {},
   "outputs": [
    {
     "name": "stdout",
     "output_type": "stream",
     "text": [
      "3405717\n",
      "s    0    1\n",
      "---  ---  ---\n",
      "A    1RB  ???\n",
      "B    1LC  1RE\n",
      "C    0RB  1LD\n",
      "D    1LB  0RB\n",
      "E    1LB  0RD\n"
     ]
    },
    {
     "data": {
      "image/png": "[encoded data removed]",
      "text/plain": [
       "<PIL.Image.Image image mode=RGB size=500x600 at 0x1156BBBB0>"
      ]
     },
     "execution_count": 21,
     "metadata": {},
     "output_type": "execute_result"
    }
   ],
   "source": [
    "n = 3405717\n",
    "print(n)\n",
    "pptm(get_machine_i(DB_PATH,n))\n",
    "img = tm_trace_to_image(get_machine_i(DB_PATH,n), origin=0.5, width=100, height=4000, show_head_direction=True).resize((500,600), Image.NEAREST)\n",
    "img"
   ]
  },
  {
   "cell_type": "code",
   "execution_count": 22,
   "id": "59d925b3-300e-4766-9a80-9a1bc64457db",
   "metadata": {},
   "outputs": [],
   "source": [
    "passing_times = simulate_and_get_passage_times(get_machine_i(DB_PATH,n))"
   ]
  },
  {
   "cell_type": "code",
   "execution_count": 23,
   "id": "d25fddd7-a840-4ed8-b9c0-d72ce9017003",
   "metadata": {},
   "outputs": [
    {
     "data": {
      "image/png": "[encoded data removed]",
      "text/plain": [
       "<Figure size 504x288 with 1 Axes>"
      ]
     },
     "metadata": {
      "needs_background": "light"
     },
     "output_type": "display_data"
    }
   ],
   "source": [
    "plt.figure(figsize=(7,4))\n",
    "x=0\n",
    "plt.plot(passing_times[x], 'o')\n",
    "plt.title(f\"Passing times at x={x} for machine n={n}\")\n",
    "plt.show()"
   ]
  },
  {
   "cell_type": "code",
   "execution_count": 24,
   "id": "67f555fb-c56c-4677-bd50-1284c3d29d38",
   "metadata": {},
   "outputs": [
    {
     "name": "stdout",
     "output_type": "stream",
     "text": [
      "[-2, 0, -4, 8, -10, 12, -14, 16, -18, 20, -22, 24, -26, 28, -30, 32, -34, 36, -38, 40, -42, 44, -46, 48, -50, 52, -54, 56, -58, 60, -62, 64, -66, 68, -70, 72, -74, 76, -78, 80, -82, 84, -86, 88, -90, 92, -94, 96, -98, 100, -102, 104, -106, 108, -110, 112, -114, 116, -118, 120, -122, 124, -126, 128, -130, 132, -134, 136, -138, 140, -142, 144, -146, 148, -150, 152, -154, 156, -158, 160, -162, 164, -166, 168, -170, 172, -174, 176, -178, 180, -182, 184, -186, 188, -190, 192, -194, 196, -198, 200, -202, 204, -206, 208, -210, 212, -214, 216, -218, 220, -222, 224, -226, 228, -230, 232, -234, 236, -238, 240, -242, 244, -246, 248, -250, 252, -254, 256, -258, 260, -262, 264, -266, 268, -270, 272, -274, 276, -278, 280, -282, 284, -286, 288, -290, 292, -294, 296, -298, 300, -302, 304, -306, 308, -310, 312, -314, 316, -318, 320, -322, 324, -326, 328, -330, 332, -334, 336, -338, 340, -342, 344, -346, 348, -350, 352, -354, 356, -358, 360, -362, 364, -366, 368, -370, 372, -374, 376, -378, 380, -382, 384, -386, 388, -390, 392, -394, 396, -398, 400, -402, 404, -406, 408, -410, 412, -414, 416, -418, 420, -422, 424, -426, 428, -430, 432, -434, 436, -438, 440, -442, 444, -446, 448, -450, 452, -454, 456, -458, 460, -462, 464, -466, 468, -470, 472, -474, 476, -478, 480, -482, 484, -486, 488, -490, 492, -494, 496, -498, 500, -502, 504, -506, 508, -510, 512, -514, 516, -518, 520, -522, 524, -526, 528, -530, 532, -534, 536, -538, 540, -542, 544, -546, 548, -550, 552, -554, 556, -558, 560, -562, 564, -566, 568, -570, 572, -574, 576, -578, 580, -582, 584, -586, 588, -590, 592, -594, 596, -598, 600, -602, 604, -606, 608, -610, 612, -614, 616, -618, 620, -622, 624, -626, 628, -630, 632, -634, 636, -638, 640, -642, 644, -646, 648, -650, 652, -654, 656, -658, 660, -662, 664, -666, 668, -670, 672, -674, 676, -678, 680, -682, 684, -686, 688, -690, 692, -694, 696, -698, 700, -702, 704, -706, 708, -710, 712, -714, 716, -718, 720, -722]\n"
     ]
    }
   ],
   "source": [
    "print(diff_n(passing_times[x],3))"
   ]
  },
  {
   "cell_type": "markdown",
   "id": "552ce16e-9bf3-40c8-8f1a-1b26176d7ed3",
   "metadata": {},
   "source": [
    "## We sometimes have to consider subsequences\n",
    "\n",
    "In practice our tests tuned the heuristic such that testing subsequences of the form `passing_times[::k]` for `k < 40` was enough."
   ]
  },
  {
   "cell_type": "code",
   "execution_count": 25,
   "id": "3f470b4f-c7f9-4a7b-a8e9-26644f93890d",
   "metadata": {},
   "outputs": [
    {
     "name": "stdout",
     "output_type": "stream",
     "text": [
      "[-6, 2, 0, 0, 0, 0, 0, 0, 0, 0, 0, 0, 0, 0, 0, 0, 0, 0, 0, 0, 0, 0, 0, 0, 0, 0, 0, 0, 0, 0, 0, 0, 0, 0, 0, 0, 0, 0, 0, 0, 0, 0, 0, 0, 0, 0, 0, 0, 0, 0, 0, 0, 0, 0, 0, 0, 0, 0, 0, 0, 0, 0, 0, 0, 0, 0, 0, 0, 0, 0, 0, 0, 0, 0, 0, 0, 0, 0, 0, 0, 0, 0, 0, 0, 0, 0, 0, 0, 0, 0, 0, 0, 0, 0, 0, 0, 0, 0, 0, 0, 0, 0, 0, 0, 0, 0, 0, 0, 0, 0, 0, 0, 0, 0, 0, 0, 0, 0, 0, 0, 0, 0, 0, 0, 0, 0, 0, 0, 0, 0, 0, 0, 0, 0, 0, 0, 0, 0, 0, 0, 0, 0, 0, 0, 0, 0, 0, 0, 0, 0, 0, 0, 0, 0, 0, 0, 0, 0, 0, 0, 0, 0, 0, 0, 0, 0, 0, 0, 0, 0, 0, 0, 0, 0, 0, 0, 0, 0, 0]\n"
     ]
    }
   ],
   "source": [
    "print(diff_n(passing_times[x][::2],3))"
   ]
  },
  {
   "cell_type": "markdown",
   "id": "080336b6-1d5d-4804-afa1-a84d531c8715",
   "metadata": {},
   "source": [
    "## Heuristic Code"
   ]
  },
  {
   "cell_type": "code",
   "execution_count": 26,
   "id": "5e9d036d-09f9-43f8-a572-16b31756daff",
   "metadata": {},
   "outputs": [],
   "source": [
    "def all_zero(l):\n",
    "    for a in l:\n",
    "        if a != 0:\n",
    "            return False\n",
    "    return True"
   ]
  },
  {
   "cell_type": "code",
   "execution_count": 27,
   "id": "d670be42-2801-4c27-80f0-b5e5b5569f39",
   "metadata": {},
   "outputs": [],
   "source": [
    "def heuristic_polynomial_passage_times(machine, time_limit=1000000, \n",
    "                         nb_points_to_conclude = 10, \n",
    "                         max_time_begin_behavior=5, \n",
    "                         max_sampling_step = 40, debug=False):\n",
    "    \n",
    "    passage_times = simulate_and_get_passage_times(machine, time_limit=time_limit)\n",
    "\n",
    "    for i in passage_times:\n",
    "        for sampling_step in range(1,min(len(passage_times[i]),max_sampling_step)):\n",
    "            subseq = passage_times[i][::sampling_step]\n",
    "            third_derivative = diff_n(subseq,3)\n",
    "            \n",
    "            # enough points to conclude\n",
    "            if len(third_derivative) >= nb_points_to_conclude:\n",
    "                # the behavior started early enough\n",
    "                if min(subseq) < max_time_begin_behavior:\n",
    "                    # the last `nb_point_to_conclude` points of the third derivative are 0\n",
    "                    if all_zero(third_derivative[-nb_points_to_conclude:]):\n",
    "                        if debug:\n",
    "                            print(i, sampling_step, len(third_derivative))\n",
    "                        return True\n",
    "\n",
    "    return False"
   ]
  },
  {
   "cell_type": "markdown",
   "id": "95675fbf-874e-49e2-bd13-b958a9618ecc",
   "metadata": {},
   "source": [
    "# Testing the Heuristic"
   ]
  },
  {
   "cell_type": "code",
   "execution_count": 28,
   "id": "fdf13830-6eee-4c78-974c-a59feed7ac2b",
   "metadata": {},
   "outputs": [
    {
     "data": {
      "text/plain": [
       "True"
      ]
     },
     "execution_count": 28,
     "metadata": {},
     "output_type": "execute_result"
    }
   ],
   "source": [
    "heuristic_polynomial_passage_times(get_machine_i(DB_PATH,3405717))"
   ]
  },
  {
   "cell_type": "markdown",
   "id": "762bab65-eefd-40cf-8895-19edab48b468",
   "metadata": {},
   "source": [
    "## Heuristic should say True"
   ]
  },
  {
   "cell_type": "code",
   "execution_count": 29,
   "id": "ab3e864e-e43e-40e9-9cf2-d7d0f0aca3d2",
   "metadata": {},
   "outputs": [
    {
     "name": "stdout",
     "output_type": "stream",
     "text": [
      "Testing 134 machines\n"
     ]
    }
   ],
   "source": [
    "print(f\"Testing {len(zoo.unilateral_pongs + zoo.bilateral_pongs)} machines\")"
   ]
  },
  {
   "cell_type": "code",
   "execution_count": 30,
   "id": "a7a590d2-1588-4f65-9064-7f552572faaa",
   "metadata": {},
   "outputs": [
    {
     "name": "stderr",
     "output_type": "stream",
     "text": [
      "100%|██████████████████████████████████████████████████████████████████████████████████████████████████████████████████| 134/134 [01:11<00:00,  1.87it/s]\n"
     ]
    }
   ],
   "source": [
    "for n in tqdm.tqdm(zoo.unilateral_pongs + zoo.bilateral_pongs):\n",
    "    if not heuristic_polynomial_passage_times(get_machine_i(DB_PATH,n)):\n",
    "        print(\"Problem:\", n)"
   ]
  },
  {
   "cell_type": "markdown",
   "id": "c4110dc3-15cd-4373-8d9c-c9a7f9460668",
   "metadata": {},
   "source": [
    "## Heuristic should say False"
   ]
  },
  {
   "cell_type": "code",
   "execution_count": 32,
   "id": "d21d0c2f-a53b-44f3-9e53-a646b909cb39",
   "metadata": {},
   "outputs": [
    {
     "name": "stdout",
     "output_type": "stream",
     "text": [
      "Testing 35 machines\n"
     ]
    }
   ],
   "source": [
    "print(f\"Testing {len(zoo.translated_unilateral_pongs + zoo.exponential_counters + zoo.potential_halters + zoo.halters)} machines\")"
   ]
  },
  {
   "cell_type": "code",
   "execution_count": 34,
   "id": "e8fe87f8-b076-45ba-8f83-d2193cfaf780",
   "metadata": {},
   "outputs": [
    {
     "name": "stderr",
     "output_type": "stream",
     "text": [
      "100%|████████████████████████████████████████████████████████████████████████████████████████████████████████████████████| 28/28 [00:46<00:00,  1.67s/it]\n"
     ]
    }
   ],
   "source": [
    "for n in tqdm.tqdm(zoo.translated_unilateral_pongs + zoo.exponential_counters + zoo.potential_halters):\n",
    "    if heuristic_polynomial_passage_times(get_machine_i(DB_PATH,n)):\n",
    "        print(\"Problem:\", n)"
   ]
  },
  {
   "cell_type": "code",
   "execution_count": 35,
   "id": "1c640f80-20e9-476c-bab1-fee171d73abe",
   "metadata": {},
   "outputs": [
    {
     "name": "stderr",
     "output_type": "stream",
     "text": [
      "100%|██████████████████████████████████████████████████████████████████████████████████████████████████████████████████████| 7/7 [00:03<00:00,  1.99it/s]\n"
     ]
    }
   ],
   "source": [
    "for machine in tqdm.tqdm(zoo.halters):\n",
    "    if heuristic_polynomial_passage_times(machine):\n",
    "        print(\"Problem:\", n)"
   ]
  },
  {
   "cell_type": "markdown",
   "id": "8caa540e-54a8-46a3-8902-f146498e6d44",
   "metadata": {},
   "source": [
    "# Results\n",
    "\n",
    "On Feb 23rd 2022, `1,964,275` machines passed the heuristic (out of `2,322,122` remaining undecided machines)."
   ]
  },
  {
   "cell_type": "code",
   "execution_count": null,
   "id": "6d8b8004-1f79-4057-94cb-1311df27df4a",
   "metadata": {},
   "outputs": [],
   "source": []
  }
 ],
 "metadata": {
  "kernelspec": {
   "display_name": "Python 3 (ipykernel)",
   "language": "python",
   "name": "python3"
  },
  "language_info": {
   "codemirror_mode": {
    "name": "ipython",
    "version": 3
   },
   "file_extension": ".py",
   "mimetype": "text/x-python",
   "name": "python",
   "nbconvert_exporter": "python",
   "pygments_lexer": "ipython3",
   "version": "3.9.9"
  }
 },
 "nbformat": 4,
 "nbformat_minor": 5
}
