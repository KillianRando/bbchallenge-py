{
 "cells": [
  {
   "attachments": {},
   "cell_type": "markdown",
   "id": "575c21a0-2f30-4899-9d9b-949f840e242e",
   "metadata": {},
   "source": [
    "## Resources\n",
    "\n",
    "- savask's code: https://gist.github.com/savask/888aa5e058559c972413790c29d7ad72\n",
    "- Maya's code: https://github.com/meithecatte/busycoq/blob/master/beaver/src/decider/bouncers.rs"
   ]
  },
  {
   "cell_type": "code",
   "execution_count": 1,
   "id": "ade3a623-25b8-47aa-a6f2-8cca5d57b1e2",
   "metadata": {},
   "outputs": [],
   "source": [
    "from bbchallenge import *"
   ]
  },
  {
   "cell_type": "code",
   "execution_count": 2,
   "id": "e46ba4c0-1409-40dd-899d-77d7288f725c",
   "metadata": {},
   "outputs": [],
   "source": [
    "BOUNCER_ID = 4549643"
   ]
  },
  {
   "cell_type": "code",
   "execution_count": 3,
   "id": "73bd91f5-d9f6-40f0-9e7a-52cffeab5cbc",
   "metadata": {},
   "outputs": [],
   "source": [
    "m = get_machine_i(\"./all_5_states_undecided_machines_with_global_header\",BOUNCER_ID)"
   ]
  },
  {
   "cell_type": "code",
   "execution_count": 4,
   "id": "b6f01608-90ca-4bfd-9f2e-f24ba97e325b",
   "metadata": {},
   "outputs": [
    {
     "name": "stdout",
     "output_type": "stream",
     "text": [
      "s    0    1\n",
      "---  ---  ---\n",
      "A    1RB  0RC\n",
      "B    1RC  1RE\n",
      "C    0LD  0LA\n",
      "D    1RA  1LD\n",
      "E    ???  1LA\n"
     ]
    }
   ],
   "source": [
    "pptm(m)"
   ]
  },
  {
   "cell_type": "code",
   "execution_count": 1,
   "id": "f58f2c6b",
   "metadata": {},
   "outputs": [],
   "source": [
    "def tape_to_str(tape, pos, tape_head):\n",
    "    min_pos = min(tape.keys())\n",
    "    max_pos = max(tape.keys())\n",
    "    s = \"\"\n",
    "    for i in range(min_pos,max_pos+1):\n",
    "        if i == pos and tape_head == '>':\n",
    "            s += \">\"\n",
    "        s += \".\" if tape[i] == 0 else \"#\"\n",
    "        if i == pos and tape_head == '<':\n",
    "            s += \"<\"\n",
    "    return s"
   ]
  },
  {
   "cell_type": "code",
   "execution_count": 2,
   "id": "4b88fb50-cacd-4666-bf1e-23455d3e5542",
   "metadata": {},
   "outputs": [],
   "source": [
    "def TMConfiguration(object):\n",
    "    def __init__(self, pos, state, step, tape, tape_length, head_direction):\n",
    "        \"\"\"\n",
    "            Args:\n",
    "                pos: position of the head\n",
    "                state: current state\n",
    "                step: current step\n",
    "                tape: tape\n",
    "                tape_length: length of the tape\n",
    "                head_direction: direction of the head (`>`, or `<`)\n",
    "        \"\"\"\n",
    "        self.pos = pos\n",
    "        self.state = state\n",
    "        self.step = step\n",
    "        self.tape = tape\n",
    "        self.tape_length = tape_length\n",
    "        self.head_direction = head_direction\n",
    "\n",
    "    def __str__(self):\n",
    "        return f\"step={self.step}, pos={self.pos}, state={ithl(self.state)},\"+\\\n",
    "        f\" tape_len={self.tape_length} tape=`{tape_to_str(self.tape, self.pos, self.tape_head)}`\""
   ]
  },
  {
   "attachments": {},
   "cell_type": "markdown",
   "id": "fdc41b1a-948a-406e-b392-12530f8a6bc5",
   "metadata": {},
   "source": [
    "## Find records"
   ]
  },
  {
   "cell_type": "code",
   "execution_count": 3,
   "id": "87819a3f-cf7b-414d-b8ed-89d6932a064f",
   "metadata": {},
   "outputs": [],
   "source": [
    "step_limit = 100000"
   ]
  },
  {
   "cell_type": "code",
   "execution_count": 53,
   "id": "6191f583-306f-4a1b-a47b-35ff788a4a65",
   "metadata": {},
   "outputs": [],
   "source": [
    "def get_record_breaking_per_step_and_per_length(m, step_limit):\n",
    "    curr_pos: int = 0\n",
    "    curr_state: int = 0\n",
    "    curr_tape = {0:0}\n",
    "    curr_step = 0\n",
    "    \n",
    "    records_per_step = {0: TMConfiguration(0,0,0,curr_tape,1,'>')}\n",
    "    records_per_length = {0: TMConfiguration(0,0,0,curr_tape,1,'>')}\n",
    "    \n",
    "    min_pos = 0\n",
    "    max_pos = 0\n",
    "    \n",
    "    while curr_step < step_limit:\n",
    "        last_pos = curr_pos\n",
    "        curr_state, curr_pos = step(m, curr_state, curr_pos, curr_tape)\n",
    "        curr_step += 1\n",
    "        \n",
    "        if curr_pos < min_pos or curr_pos > max_pos:\n",
    "\n",
    "            tape_length = abs(max(curr_pos,max_pos)-min(curr_pos,min_pos))\n",
    "            \n",
    "            records_per_step[curr_step] = TMConfiguration(curr_pos,\n",
    "                                                        curr_state,\n",
    "                                                        curr_step,\n",
    "                                                        curr_tape,\n",
    "                                                        tape_length,'>' if curr_pos - last_pos > 0 else '<')\n",
    "            \n",
    "            records_per_length[tape_length] = TMConfiguration(curr_pos,\n",
    "                                                                    curr_state,\n",
    "                                                                    curr_step,\n",
    "                                                                    curr_tape,\n",
    "                                                                    tape_length, '>' if curr_pos - last_pos > 0 else '<')\n",
    "    \n",
    "        min_pos = min(curr_pos,min_pos)\n",
    "        max_pos = max(curr_pos,max_pos)\n",
    "\n",
    "    return records_per_step, records_per_length"
   ]
  },
  {
   "cell_type": "code",
   "execution_count": 54,
   "id": "282dfd09-a729-4d3c-915c-51277645373c",
   "metadata": {},
   "outputs": [],
   "source": [
    "records_per_step, records_per_length = get_record_breaking_per_step_and_per_length(m,step_limit)"
   ]
  },
  {
   "attachments": {},
   "cell_type": "markdown",
   "id": "9f0cd55e-52f1-4f85-bd60-ef6fc4f5c2b8",
   "metadata": {},
   "source": [
    "## Get records breaking triples\n",
    "\n",
    "We want any triple of record-breaking tapes such that their lengths are in an arithmetic progression and step counts are in a quadratic progression (we test that there's a 4th tape matching the quadratic progression)."
   ]
  },
  {
   "cell_type": "code",
   "execution_count": 59,
   "id": "c5e35ec5-03cd-4c4a-b169-042c53448ebe",
   "metadata": {},
   "outputs": [],
   "source": [
    "def yield_record_breaking_triples(records_per_step, records_per_length):\n",
    "    \"\"\" We want any triple of record-breaking tapes such that their lengths are in an \n",
    "    arithmetic progression and step counts are in a quadratic progression (we test that \n",
    "    there's a 4th tape matching the quadratic progression).\"\"\"\n",
    "    for len_r1 in records_per_length:\n",
    "        for len_r2 in records_per_length:\n",
    "            if len_r1 == len_r2:\n",
    "                continue\n",
    "                \n",
    "            r1 = records_per_length[len_r1]\n",
    "            r2 = records_per_length[len_r2]\n",
    "    \n",
    "            if r1.state != r2.state:\n",
    "                continue\n",
    "    \n",
    "            len_r3 = len_r2 + (len_r2-len_r1)\n",
    "            \n",
    "            if len_r3 not in records_per_length:\n",
    "                continue\n",
    "    \n",
    "            r3 = records_per_length[len_r3]\n",
    "    \n",
    "            if r3.state != r1.state:\n",
    "                continue\n",
    "\n",
    "            if !is_monotonic([r1.pos,r2.pos,r3.pos]):\n",
    "                continue\n",
    "    \n",
    "            a = r2.step - r1.step\n",
    "            b = r3.step - r2.step\n",
    "            \n",
    "            step_r4 = r3.step + 2*b - a\n",
    "    \n",
    "            if step_r4 not in records_per_step:\n",
    "                continue\n",
    "    \n",
    "            r4 = records_per_step[step_r4]\n",
    "\n",
    "            if r4.tape_length != len_r3 + (len_r2-len_r1):\n",
    "                continue\n",
    "\n",
    "            if !is_monotonic([r1.pos,r2.pos,r3.pos,r4.pos]):\n",
    "                continue\n",
    "    \n",
    "            if r4.state != r1.state:\n",
    "                continue\n",
    "    \n",
    "            yield (r1,r2,r3)"
   ]
  },
  {
   "cell_type": "code",
   "execution_count": 61,
   "id": "ea8e4efb-acca-4ca0-8fd0-cb26faeffff8",
   "metadata": {},
   "outputs": [
    {
     "name": "stdout",
     "output_type": "stream",
     "text": [
      "step=2, pos=2, state=C, tape_len=2 tape=`##`\n",
      "step=25, pos=3, state=C, tape_len=5 tape=`#####`\n",
      "step=76, pos=4, state=C, tape_len=8 tape=`########`\n",
      "\n",
      "step=2, pos=2, state=C, tape_len=2 tape=`##`\n",
      "step=76, pos=4, state=C, tape_len=8 tape=`########`\n",
      "step=262, pos=6, state=C, tape_len=14 tape=`##############`\n",
      "\n",
      "step=2, pos=2, state=C, tape_len=2 tape=`##`\n",
      "step=155, pos=5, state=C, tape_len=11 tape=`###########`\n",
      "step=560, pos=8, state=C, tape_len=20 tape=`####################`\n",
      "\n",
      "step=2, pos=2, state=C, tape_len=2 tape=`##`\n",
      "step=262, pos=6, state=C, tape_len=14 tape=`##############`\n",
      "step=970, pos=10, state=C, tape_len=26 tape=`##########################`\n",
      "\n"
     ]
    }
   ],
   "source": [
    "for i, (r1,r2,r3) in enumerate(yield_record_breaking_triples(records_per_step,records_per_length)):\n",
    "    print(r1)\n",
    "    print(r2)\n",
    "    print(r3)\n",
    "    print()\n",
    "    if i >= 3:\n",
    "        break"
   ]
  },
  {
   "cell_type": "code",
   "execution_count": null,
   "id": "640b0990-540a-467d-914d-e1edf8325dfe",
   "metadata": {},
   "outputs": [],
   "source": []
  },
  {
   "cell_type": "code",
   "execution_count": null,
   "id": "4ee48db6-f13f-4e53-ab7d-83a09f57b6f5",
   "metadata": {},
   "outputs": [],
   "source": []
  }
 ],
 "metadata": {
  "kernelspec": {
   "display_name": "Python 3 (ipykernel)",
   "language": "python",
   "name": "python3"
  },
  "language_info": {
   "codemirror_mode": {
    "name": "ipython",
    "version": 3
   },
   "file_extension": ".py",
   "mimetype": "text/x-python",
   "name": "python",
   "nbconvert_exporter": "python",
   "pygments_lexer": "ipython3",
   "version": "3.11.0rc1"
  }
 },
 "nbformat": 4,
 "nbformat_minor": 5
}
