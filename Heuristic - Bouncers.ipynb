{
 "cells": [
  {
   "cell_type": "code",
   "execution_count": 10,
   "id": "secret-tradition",
   "metadata": {},
   "outputs": [],
   "source": [
    "import os\n",
    "from collections import namedtuple\n",
    "from bbchallenge import *\n",
    "from typing import List\n",
    "import tqdm"
   ]
  },
  {
   "cell_type": "code",
   "execution_count": 11,
   "id": "manufactured-conducting",
   "metadata": {},
   "outputs": [],
   "source": [
    "DB_PATH = \"all_5_states_undecided_machines_with_global_header\""
   ]
  },
  {
   "cell_type": "markdown",
   "id": "specific-cloud",
   "metadata": {},
   "source": [
    "# A simple heuristic to detect bouncers"
   ]
  },
  {
   "cell_type": "code",
   "execution_count": 25,
   "id": "married-information",
   "metadata": {},
   "outputs": [],
   "source": [
    "TapeExtreme = namedtuple('TapeExtreme', ['time', 'side', 'pos'])\n",
    "\n",
    "def simulate_and_get_extremes(machine, time_limit = 10000):\n",
    "    \n",
    "    curr_time = 0\n",
    "    curr_state = 0\n",
    "    curr_pos = 0\n",
    "    tape = {}\n",
    "    \n",
    "    min_pos, max_pos = 0,0\n",
    "    tape_extremes: List[TapeExtreme] = []\n",
    "\n",
    "    while curr_state != None and curr_time < time_limit:\n",
    "        \n",
    "        if curr_time == 0 or curr_pos <= min_pos:\n",
    "            min_pos = curr_pos\n",
    "            tape_extremes.append(TapeExtreme(curr_time,\"left\",curr_pos))\n",
    "            \n",
    "        if curr_time == 0 or curr_pos >= max_pos:\n",
    "            max_pos = curr_pos\n",
    "            tape_extremes.append(TapeExtreme(curr_time,\"right\",curr_pos))\n",
    "        \n",
    "        curr_state, curr_pos = step(machine, curr_state, curr_pos, tape)\n",
    "       \n",
    "        curr_time += 1\n",
    "        \n",
    "    return tape_extremes"
   ]
  },
  {
   "cell_type": "code",
   "execution_count": 13,
   "id": "surprised-anniversary",
   "metadata": {},
   "outputs": [],
   "source": [
    "def get_local_extremes(extremes):\n",
    "    to_return = []\n",
    "    for i in range(len(extremes)):\n",
    "        \n",
    "        if i < len(extremes) - 1 and extremes[i].side == extremes[i+1].side:\n",
    "            continue\n",
    "        \n",
    "        to_return.append(extremes[i])\n",
    "    \n",
    "    return to_return"
   ]
  },
  {
   "cell_type": "code",
   "execution_count": 46,
   "id": "early-parcel",
   "metadata": {},
   "outputs": [],
   "source": [
    "def get_successive_tape_sizes(locally_extremes):\n",
    "    if len(locally_extremes) < 3:\n",
    "        return []\n",
    "    \n",
    "    to_return = []\n",
    "    for i in range(2,len(locally_extremes),2):\n",
    "        to_return.append(locally_extremes[i-1].pos - locally_extremes[i].pos+1)\n",
    "    \n",
    "    return to_return     "
   ]
  },
  {
   "cell_type": "code",
   "execution_count": 47,
   "id": "addressed-admission",
   "metadata": {},
   "outputs": [],
   "source": [
    "def discrete_differences(seq):\n",
    "    if len(seq) <= 1:\n",
    "        return []\n",
    "    to_ret = []\n",
    "    \n",
    "    for i in range(1,len(seq)):\n",
    "        to_ret.append(seq[i]-seq[i-1])\n",
    "        \n",
    "    return to_ret"
   ]
  },
  {
   "cell_type": "code",
   "execution_count": 48,
   "id": "convertible-naples",
   "metadata": {},
   "outputs": [],
   "source": [
    "def only_zeros(l: List[int]):\n",
    "    for e in l:\n",
    "        if e != 0:\n",
    "            return False\n",
    "    return True"
   ]
  },
  {
   "cell_type": "code",
   "execution_count": 49,
   "id": "radical-painting",
   "metadata": {},
   "outputs": [],
   "source": [
    "def heuristic_bouncers(machine, time_limit = 10000, number_of_points_to_conclude = 25):\n",
    "    extremes = simulate_and_get_extremes(machine)\n",
    "    local_extremes = get_local_extremes(extremes)\n",
    "    successive_tape_sizes = get_successive_tape_sizes(local_extremes)\n",
    "    second_difference = discrete_differences(discrete_differences(successive_tape_sizes))\n",
    "    print(successive_tape_sizes)\n",
    "    if len(second_difference) >= number_of_points_to_conclude and \\\n",
    "       only_zeros(second_difference[-1*number_of_points_to_conclude:]):\n",
    "        return True\n",
    "    \n",
    "    return False"
   ]
  },
  {
   "cell_type": "markdown",
   "id": "guided-netherlands",
   "metadata": {},
   "source": [
    "## Test on 1 machine"
   ]
  },
  {
   "cell_type": "code",
   "execution_count": 50,
   "id": "geological-booking",
   "metadata": {},
   "outputs": [
    {
     "name": "stdout",
     "output_type": "stream",
     "text": [
      "[5, 9, 13, 17, 21, 25, 29, 33, 37, 41, 45, 49, 53, 57, 61, 65, 69, 73, 77, 81, 85, 89, 93, 97, 101, 105, 109, 113, 117, 121, 125, 129, 133, 137, 141, 145, 149, 153, 157, 161, 165, 169, 173, 177, 181, 185, 189, 193, 197]\n"
     ]
    },
    {
     "data": {
      "text/plain": [
       "True"
      ]
     },
     "execution_count": 50,
     "metadata": {},
     "output_type": "execute_result"
    }
   ],
   "source": [
    "machine = get_machine_i(DB_PATH, 58329156)\n",
    "heuristic_bouncers(machine)"
   ]
  },
  {
   "cell_type": "markdown",
   "id": "pleasant-observer",
   "metadata": {},
   "source": [
    "## Running on all the index of undecided machines"
   ]
  },
  {
   "cell_type": "code",
   "execution_count": 66,
   "id": "lesbian-switch",
   "metadata": {},
   "outputs": [],
   "source": [
    "UNDECIDED_INDEX_PATH= \"bb5_undecided_index\"#_with_heuristics\"\n",
    "UNDECIDED_FILE_SIZE = os.path.getsize(UNDECIDED_INDEX_PATH)"
   ]
  },
  {
   "cell_type": "code",
   "execution_count": 67,
   "id": "paperback-bleeding",
   "metadata": {},
   "outputs": [],
   "source": [
    "undecided_index = []\n",
    "with open(UNDECIDED_INDEX_PATH, \"rb\") as f:\n",
    "    for i in range(UNDECIDED_FILE_SIZE//4):\n",
    "        chunk = f.read(4)\n",
    "        undecided_index.append(int.from_bytes(chunk, byteorder=\"big\"))"
   ]
  },
  {
   "cell_type": "code",
   "execution_count": 69,
   "id": "controversial-donna",
   "metadata": {},
   "outputs": [
    {
     "name": "stderr",
     "output_type": "stream",
     "text": [
      "<ipython-input-69-56af4b8cd32b>:3: TqdmDeprecationWarning: This function will be removed in tqdm==5.0.0\n",
      "Please use `tqdm.notebook.tqdm` instead of `tqdm.tqdm_notebook`\n",
      "  for machine_id in tqdm.tqdm_notebook(undecided_index):\n"
     ]
    },
    {
     "data": {
      "application/vnd.jupyter.widget-view+json": {
       "model_id": "4bb571f18f2f474e98b1b2fec4acc96e",
       "version_major": 2,
       "version_minor": 0
      },
      "text/plain": [
       "  0%|          | 0/1538612 [00:00<?, ?it/s]"
      ]
     },
     "metadata": {},
     "output_type": "display_data"
    },
    {
     "name": "stdout",
     "output_type": "stream",
     "text": [
      "10000 7236\n",
      "20000 14280\n",
      "30000 21334\n",
      "40000 28560\n",
      "50000 35738\n",
      "60000 42750\n",
      "70000 50162\n",
      "80000 57193\n",
      "90000 64365\n",
      "100000 71122\n",
      "110000 77667\n",
      "120000 84583\n",
      "130000 91593\n",
      "140000 98656\n",
      "150000 105337\n",
      "160000 111688\n",
      "170000 118026\n",
      "180000 124646\n",
      "190000 130513\n",
      "200000 137368\n"
     ]
    },
    {
     "ename": "KeyboardInterrupt",
     "evalue": "",
     "output_type": "error",
     "traceback": [
      "\u001b[0;31m---------------------------------------------------------------------------\u001b[0m",
      "\u001b[0;31mKeyboardInterrupt\u001b[0m                         Traceback (most recent call last)",
      "\u001b[0;32m<ipython-input-69-56af4b8cd32b>\u001b[0m in \u001b[0;36m<module>\u001b[0;34m\u001b[0m\n\u001b[1;32m      3\u001b[0m \u001b[0;32mfor\u001b[0m \u001b[0mmachine_id\u001b[0m \u001b[0;32min\u001b[0m \u001b[0mtqdm\u001b[0m\u001b[0;34m.\u001b[0m\u001b[0mtqdm_notebook\u001b[0m\u001b[0;34m(\u001b[0m\u001b[0mundecided_index\u001b[0m\u001b[0;34m)\u001b[0m\u001b[0;34m:\u001b[0m\u001b[0;34m\u001b[0m\u001b[0;34m\u001b[0m\u001b[0m\n\u001b[1;32m      4\u001b[0m     \u001b[0mmachine\u001b[0m \u001b[0;34m=\u001b[0m \u001b[0mget_machine_i\u001b[0m\u001b[0;34m(\u001b[0m\u001b[0mDB_PATH\u001b[0m\u001b[0;34m,\u001b[0m \u001b[0mmachine_id\u001b[0m\u001b[0;34m)\u001b[0m\u001b[0;34m\u001b[0m\u001b[0;34m\u001b[0m\u001b[0m\n\u001b[0;32m----> 5\u001b[0;31m     \u001b[0;32mif\u001b[0m \u001b[0mheuristic_bouncer\u001b[0m\u001b[0;34m(\u001b[0m\u001b[0mmachine\u001b[0m\u001b[0;34m)\u001b[0m\u001b[0;34m:\u001b[0m\u001b[0;34m\u001b[0m\u001b[0;34m\u001b[0m\u001b[0m\n\u001b[0m\u001b[1;32m      6\u001b[0m         \u001b[0mheuristically_decided_machines_id\u001b[0m\u001b[0;34m.\u001b[0m\u001b[0mappend\u001b[0m\u001b[0;34m(\u001b[0m\u001b[0mmachine_id\u001b[0m\u001b[0;34m)\u001b[0m\u001b[0;34m\u001b[0m\u001b[0;34m\u001b[0m\u001b[0m\n\u001b[1;32m      7\u001b[0m \u001b[0;34m\u001b[0m\u001b[0m\n",
      "\u001b[0;32m<ipython-input-61-6945f8d9ebf3>\u001b[0m in \u001b[0;36mheuristic_bouncer\u001b[0;34m(machine, time_limit, number_of_points_to_conclude)\u001b[0m\n\u001b[1;32m      1\u001b[0m \u001b[0;32mdef\u001b[0m \u001b[0mheuristic_bouncer\u001b[0m\u001b[0;34m(\u001b[0m\u001b[0mmachine\u001b[0m\u001b[0;34m,\u001b[0m \u001b[0mtime_limit\u001b[0m \u001b[0;34m=\u001b[0m \u001b[0;36m10000\u001b[0m\u001b[0;34m,\u001b[0m \u001b[0mnumber_of_points_to_conclude\u001b[0m \u001b[0;34m=\u001b[0m \u001b[0;36m25\u001b[0m\u001b[0;34m)\u001b[0m\u001b[0;34m:\u001b[0m\u001b[0;34m\u001b[0m\u001b[0;34m\u001b[0m\u001b[0m\n\u001b[0;32m----> 2\u001b[0;31m     \u001b[0mextremes\u001b[0m \u001b[0;34m=\u001b[0m \u001b[0msimulate_and_get_extremes\u001b[0m\u001b[0;34m(\u001b[0m\u001b[0mmachine\u001b[0m\u001b[0;34m)\u001b[0m\u001b[0;34m\u001b[0m\u001b[0;34m\u001b[0m\u001b[0m\n\u001b[0m\u001b[1;32m      3\u001b[0m     \u001b[0mlocal_extremes\u001b[0m \u001b[0;34m=\u001b[0m \u001b[0mget_local_extremes\u001b[0m\u001b[0;34m(\u001b[0m\u001b[0mextremes\u001b[0m\u001b[0;34m)\u001b[0m\u001b[0;34m\u001b[0m\u001b[0;34m\u001b[0m\u001b[0m\n\u001b[1;32m      4\u001b[0m     \u001b[0msuccessive_tape_sizes\u001b[0m \u001b[0;34m=\u001b[0m \u001b[0mget_successive_tape_sizes\u001b[0m\u001b[0;34m(\u001b[0m\u001b[0mlocal_extremes\u001b[0m\u001b[0;34m)\u001b[0m\u001b[0;34m\u001b[0m\u001b[0;34m\u001b[0m\u001b[0m\n\u001b[1;32m      5\u001b[0m \u001b[0;34m\u001b[0m\u001b[0m\n",
      "\u001b[0;32m<ipython-input-17-8d96a370e929>\u001b[0m in \u001b[0;36msimulate_and_get_extremes\u001b[0;34m(machine, time_limit)\u001b[0m\n\u001b[1;32m     23\u001b[0m             \u001b[0mtape_extremes\u001b[0m\u001b[0;34m.\u001b[0m\u001b[0mappend\u001b[0m\u001b[0;34m(\u001b[0m\u001b[0mTapeExtreme\u001b[0m\u001b[0;34m(\u001b[0m\u001b[0;34m\"right\"\u001b[0m\u001b[0;34m,\u001b[0m\u001b[0mcurr_time\u001b[0m\u001b[0;34m,\u001b[0m\u001b[0mcurr_pos\u001b[0m\u001b[0;34m)\u001b[0m\u001b[0;34m)\u001b[0m\u001b[0;34m\u001b[0m\u001b[0;34m\u001b[0m\u001b[0m\n\u001b[1;32m     24\u001b[0m \u001b[0;34m\u001b[0m\u001b[0m\n\u001b[0;32m---> 25\u001b[0;31m         \u001b[0mcurr_state\u001b[0m\u001b[0;34m,\u001b[0m \u001b[0mcurr_pos\u001b[0m \u001b[0;34m=\u001b[0m \u001b[0mstep\u001b[0m\u001b[0;34m(\u001b[0m\u001b[0mmachine\u001b[0m\u001b[0;34m,\u001b[0m \u001b[0mcurr_state\u001b[0m\u001b[0;34m,\u001b[0m \u001b[0mcurr_pos\u001b[0m\u001b[0;34m,\u001b[0m \u001b[0mtape\u001b[0m\u001b[0;34m)\u001b[0m\u001b[0;34m\u001b[0m\u001b[0;34m\u001b[0m\u001b[0m\n\u001b[0m\u001b[1;32m     26\u001b[0m \u001b[0;34m\u001b[0m\u001b[0m\n\u001b[1;32m     27\u001b[0m         \u001b[0mcurr_time\u001b[0m \u001b[0;34m+=\u001b[0m \u001b[0;36m1\u001b[0m\u001b[0;34m\u001b[0m\u001b[0;34m\u001b[0m\u001b[0m\n",
      "\u001b[0;32m~/Documents/projects/bbchallenge/bbchallenge-py/bbchallenge/tm_utils.py\u001b[0m in \u001b[0;36mstep\u001b[0;34m(machine, curr_state, curr_pos, tape)\u001b[0m\n\u001b[1;32m     36\u001b[0m \u001b[0;34m\u001b[0m\u001b[0m\n\u001b[1;32m     37\u001b[0m \u001b[0;32mdef\u001b[0m \u001b[0mstep\u001b[0m\u001b[0;34m(\u001b[0m\u001b[0mmachine\u001b[0m\u001b[0;34m,\u001b[0m \u001b[0mcurr_state\u001b[0m\u001b[0;34m,\u001b[0m \u001b[0mcurr_pos\u001b[0m\u001b[0;34m,\u001b[0m \u001b[0mtape\u001b[0m\u001b[0;34m)\u001b[0m\u001b[0;34m:\u001b[0m\u001b[0;34m\u001b[0m\u001b[0;34m\u001b[0m\u001b[0m\n\u001b[0;32m---> 38\u001b[0;31m     \u001b[0;32mif\u001b[0m \u001b[0;32mnot\u001b[0m \u001b[0mcurr_pos\u001b[0m \u001b[0;32min\u001b[0m \u001b[0mtape\u001b[0m\u001b[0;34m:\u001b[0m\u001b[0;34m\u001b[0m\u001b[0;34m\u001b[0m\u001b[0m\n\u001b[0m\u001b[1;32m     39\u001b[0m         \u001b[0mtape\u001b[0m\u001b[0;34m[\u001b[0m\u001b[0mcurr_pos\u001b[0m\u001b[0;34m]\u001b[0m \u001b[0;34m=\u001b[0m \u001b[0;36m0\u001b[0m\u001b[0;34m\u001b[0m\u001b[0;34m\u001b[0m\u001b[0m\n\u001b[1;32m     40\u001b[0m \u001b[0;34m\u001b[0m\u001b[0m\n",
      "\u001b[0;31mKeyboardInterrupt\u001b[0m: "
     ]
    }
   ],
   "source": [
    "heuristically_decided_machines_id = []\n",
    "i = 0\n",
    "for machine_id in tqdm.tqdm_notebook(undecided_index):\n",
    "    machine = get_machine_i(DB_PATH, machine_id)\n",
    "    if heuristic_bouncer(machine):\n",
    "        heuristically_decided_machines_id.append(machine_id)\n",
    "        \n",
    "    i += 1\n",
    "    \n",
    "    if i % 10000 == 0:\n",
    "        print(i, len(heuristically_decided_machines_id))"
   ]
  },
  {
   "cell_type": "code",
   "execution_count": null,
   "id": "freelance-laundry",
   "metadata": {},
   "outputs": [],
   "source": []
  }
 ],
 "metadata": {
  "kernelspec": {
   "display_name": "Python 3",
   "language": "python",
   "name": "python3"
  },
  "language_info": {
   "codemirror_mode": {
    "name": "ipython",
    "version": 3
   },
   "file_extension": ".py",
   "mimetype": "text/x-python",
   "name": "python",
   "nbconvert_exporter": "python",
   "pygments_lexer": "ipython3",
   "version": "3.8.10"
  }
 },
 "nbformat": 4,
 "nbformat_minor": 5
}
